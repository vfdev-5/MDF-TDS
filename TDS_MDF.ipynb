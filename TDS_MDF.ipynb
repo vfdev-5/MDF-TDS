{
 "cells": [
  {
   "cell_type": "markdown",
   "metadata": {},
   "source": [
    "<table style=\"border: 1;\" cellpadding=\"0\" cellspacing=\"0\">\n",
    "<tr style=\"border: 0;\">\n",
    "<td style=\"border: 0;\"><img src=\"files/TDS.png\"> </td>\n",
    "<td style=\"border: 0; text-align: center; font-size: 36px; padding: 0 50px\">Le Machine Learning par la pratique</td>\n",
    "<td style=\"border: 0;\"><img = src=\"files/MDF2.png\"></td>\n",
    "</tr>\n",
    "</table>\n",
    "\n",
    "\n"
   ]
  },
  {
   "cell_type": "code",
   "execution_count": 1,
   "metadata": {
    "collapsed": false
   },
   "outputs": [],
   "source": [
    "import pandas as pd\n",
    "import numpy as np\n",
    "from sklearn.preprocessing import LabelEncoder\n",
    "from sklearn.model_selection import KFold\n",
    "from sklearn.ensemble import ExtraTreesRegressor, RandomForestRegressor, GradientBoostingRegressor\n",
    "import sklearn.model_selection as ms\n",
    "import matplotlib.pyplot as plt\n",
    "import seaborn as sns\n",
    "import os\n",
    "import re\n",
    "import datetime\n",
    "import sys\n",
    "%matplotlib inline"
   ]
  },
  {
   "cell_type": "code",
   "execution_count": 2,
   "metadata": {
    "collapsed": true
   },
   "outputs": [],
   "source": [
    "ROOT_DIR = os.getcwd()\n",
    "DATA ='data_challenge'\n",
    "DATA_DIR = os.path.join(ROOT_DIR, DATA)\n",
    "TRAIN=\"train\"\n",
    "TEST=\"test\"\n",
    "SOURCE=\"source\"\n",
    "TARGET=\"prix\""
   ]
  },
  {
   "cell_type": "code",
   "execution_count": 3,
   "metadata": {
    "collapsed": true
   },
   "outputs": [],
   "source": [
    "def displayUniqueCount(series):\n",
    "    data = np.unique(series, return_counts=True)\n",
    "    df = pd.DataFrame(\n",
    "        data = {'Valeur':data[0], 'Nombre':data[1]},\n",
    "        columns = ['Valeur', 'Nombre'])\n",
    "    df.sort_values(by =\"Nombre\", ascending=False, inplace=True)\n",
    "    return df"
   ]
  },
  {
   "cell_type": "markdown",
   "metadata": {},
   "source": [
    "<table style=\"border: 1;\" cellpadding=\"0\" cellspacing=\"0\">\n",
    "<tr style=\"border: 0;\">\n",
    "<td style=\"border: 0;\"><img src=\"files/TDS.png\"> </td>\n",
    "<td style=\"border: 0; text-align: center; font-size: 36px; padding: 0 240px\">Les données</td>\n",
    "<td style=\"border: 0;\"><img = src=\"files/MDF2.png\"></td>\n",
    "</tr>\n",
    "</table>\n",
    "\n"
   ]
  },
  {
   "cell_type": "markdown",
   "metadata": {},
   "source": [
    "## Import des données\n"
   ]
  },
  {
   "cell_type": "code",
   "execution_count": 4,
   "metadata": {
    "collapsed": false
   },
   "outputs": [
    {
     "name": "stdout",
     "output_type": "stream",
     "text": [
      "TRAIN (8564, 42)\n",
      "TEST  (3671, 42)\n",
      "BIG  (12235, 43)\n"
     ]
    }
   ],
   "source": [
    "train = pd.read_csv(os.path.join(DATA_DIR, 'boites_medicaments_train.csv'),\n",
    "                    encoding='utf-8',\n",
    "                    sep=';')\n",
    "\n",
    "test = pd.read_csv(os.path.join(DATA_DIR, 'boites_medicaments_test.csv'),\n",
    "                   encoding='utf-8', \n",
    "                   sep=';')\n",
    "\n",
    "train[SOURCE] = TRAIN\n",
    "test[SOURCE] = TEST\n",
    "BIG = pd.concat([train, test], axis=0)\n",
    "\n",
    "print \"TRAIN\", train.shape\n",
    "print \"TEST \", test.shape\n",
    "print \"BIG \", BIG.shape"
   ]
  },
  {
   "cell_type": "markdown",
   "metadata": {},
   "source": [
    "## Affichage des données\n"
   ]
  },
  {
   "cell_type": "code",
   "execution_count": 5,
   "metadata": {
    "collapsed": false
   },
   "outputs": [
    {
     "data": {
      "text/html": [
       "<div>\n",
       "<table border=\"1\" class=\"dataframe\">\n",
       "  <thead>\n",
       "    <tr style=\"text-align: right;\">\n",
       "      <th></th>\n",
       "      <th>agrement col</th>\n",
       "      <th>date amm annee</th>\n",
       "      <th>date declar annee</th>\n",
       "      <th>etat commerc</th>\n",
       "      <th>forme pharma</th>\n",
       "      <th>id</th>\n",
       "      <th>libelle</th>\n",
       "      <th>libelle_ampoule</th>\n",
       "      <th>libelle_capsule</th>\n",
       "      <th>libelle_comprime</th>\n",
       "      <th>libelle_film</th>\n",
       "      <th>libelle_flacon</th>\n",
       "      <th>libelle_gelule</th>\n",
       "      <th>libelle_pilulier</th>\n",
       "      <th>libelle_plaquette</th>\n",
       "      <th>libelle_poche</th>\n",
       "      <th>libelle_sachet</th>\n",
       "      <th>libelle_seringue</th>\n",
       "      <th>libelle_stylo</th>\n",
       "      <th>libelle_tube</th>\n",
       "      <th>nb_ampoule</th>\n",
       "      <th>nb_capsule</th>\n",
       "      <th>nb_comprime</th>\n",
       "      <th>nb_film</th>\n",
       "      <th>nb_flacon</th>\n",
       "      <th>nb_gelule</th>\n",
       "      <th>nb_ml</th>\n",
       "      <th>nb_pilulier</th>\n",
       "      <th>nb_plaquette</th>\n",
       "      <th>nb_poche</th>\n",
       "      <th>nb_sachet</th>\n",
       "      <th>nb_seringue</th>\n",
       "      <th>nb_stylo</th>\n",
       "      <th>nb_tube</th>\n",
       "      <th>prix</th>\n",
       "      <th>source</th>\n",
       "      <th>statut</th>\n",
       "      <th>statut admin</th>\n",
       "      <th>substances</th>\n",
       "      <th>titulaires</th>\n",
       "      <th>tx rembours</th>\n",
       "      <th>type proc</th>\n",
       "      <th>voies admin</th>\n",
       "    </tr>\n",
       "  </thead>\n",
       "  <tbody>\n",
       "    <tr>\n",
       "      <th>0</th>\n",
       "      <td>oui</td>\n",
       "      <td>2014</td>\n",
       "      <td>2014</td>\n",
       "      <td>Déclaration de commercialisation</td>\n",
       "      <td>comprimé pelliculé</td>\n",
       "      <td>NaN</td>\n",
       "      <td>3 plaquette(s) thermoformée(s) PVC-Aluminium d...</td>\n",
       "      <td>0</td>\n",
       "      <td>0</td>\n",
       "      <td>1</td>\n",
       "      <td>0</td>\n",
       "      <td>0</td>\n",
       "      <td>0</td>\n",
       "      <td>0</td>\n",
       "      <td>1</td>\n",
       "      <td>0</td>\n",
       "      <td>0</td>\n",
       "      <td>0</td>\n",
       "      <td>0</td>\n",
       "      <td>0</td>\n",
       "      <td>0</td>\n",
       "      <td>0</td>\n",
       "      <td>28</td>\n",
       "      <td>0</td>\n",
       "      <td>0</td>\n",
       "      <td>0</td>\n",
       "      <td>0.0</td>\n",
       "      <td>0</td>\n",
       "      <td>3</td>\n",
       "      <td>0</td>\n",
       "      <td>0</td>\n",
       "      <td>0</td>\n",
       "      <td>0</td>\n",
       "      <td>0</td>\n",
       "      <td>2.83</td>\n",
       "      <td>train</td>\n",
       "      <td>Présentation active</td>\n",
       "      <td>Autorisation active</td>\n",
       "      <td>DÉSOGESTREL</td>\n",
       "      <td>MAJORELLE LUXEMBOURG SOPARFI (LUXEMBOURG)</td>\n",
       "      <td>65%</td>\n",
       "      <td>Procédure décentralisée</td>\n",
       "      <td>orale</td>\n",
       "    </tr>\n",
       "    <tr>\n",
       "      <th>1</th>\n",
       "      <td>oui</td>\n",
       "      <td>2009</td>\n",
       "      <td>2013</td>\n",
       "      <td>Déclaration de commercialisation</td>\n",
       "      <td>comprimé à croquer</td>\n",
       "      <td>NaN</td>\n",
       "      <td>plaquette(s) thermoformée(s) aluminium de 28 c...</td>\n",
       "      <td>0</td>\n",
       "      <td>0</td>\n",
       "      <td>1</td>\n",
       "      <td>0</td>\n",
       "      <td>0</td>\n",
       "      <td>0</td>\n",
       "      <td>0</td>\n",
       "      <td>1</td>\n",
       "      <td>0</td>\n",
       "      <td>0</td>\n",
       "      <td>0</td>\n",
       "      <td>0</td>\n",
       "      <td>0</td>\n",
       "      <td>0</td>\n",
       "      <td>0</td>\n",
       "      <td>28</td>\n",
       "      <td>0</td>\n",
       "      <td>0</td>\n",
       "      <td>0</td>\n",
       "      <td>0.0</td>\n",
       "      <td>0</td>\n",
       "      <td>0</td>\n",
       "      <td>0</td>\n",
       "      <td>0</td>\n",
       "      <td>0</td>\n",
       "      <td>0</td>\n",
       "      <td>0</td>\n",
       "      <td>14.30</td>\n",
       "      <td>train</td>\n",
       "      <td>Présentation active</td>\n",
       "      <td>Autorisation active</td>\n",
       "      <td>MONTÉLUKAST ACIDE, MONTÉLUKAST SODIQUE</td>\n",
       "      <td>TEVA SANTE</td>\n",
       "      <td>65%</td>\n",
       "      <td>Procédure de reconnaissance mutuelle</td>\n",
       "      <td>orale</td>\n",
       "    </tr>\n",
       "    <tr>\n",
       "      <th>2</th>\n",
       "      <td>oui</td>\n",
       "      <td>1996</td>\n",
       "      <td>2000</td>\n",
       "      <td>Déclaration de commercialisation</td>\n",
       "      <td>gélule à libération prolongée</td>\n",
       "      <td>NaN</td>\n",
       "      <td>plaquette(s) thermoformée(s) PVC-aluminium de ...</td>\n",
       "      <td>0</td>\n",
       "      <td>0</td>\n",
       "      <td>0</td>\n",
       "      <td>0</td>\n",
       "      <td>0</td>\n",
       "      <td>1</td>\n",
       "      <td>0</td>\n",
       "      <td>1</td>\n",
       "      <td>0</td>\n",
       "      <td>0</td>\n",
       "      <td>0</td>\n",
       "      <td>0</td>\n",
       "      <td>0</td>\n",
       "      <td>0</td>\n",
       "      <td>0</td>\n",
       "      <td>0</td>\n",
       "      <td>0</td>\n",
       "      <td>0</td>\n",
       "      <td>30</td>\n",
       "      <td>0.0</td>\n",
       "      <td>0</td>\n",
       "      <td>0</td>\n",
       "      <td>0</td>\n",
       "      <td>0</td>\n",
       "      <td>0</td>\n",
       "      <td>0</td>\n",
       "      <td>0</td>\n",
       "      <td>5.66</td>\n",
       "      <td>train</td>\n",
       "      <td>Présentation active</td>\n",
       "      <td>Autorisation active</td>\n",
       "      <td>CHLORHYDRATE DE DILTIAZEM</td>\n",
       "      <td>MYLAN SAS</td>\n",
       "      <td>65%</td>\n",
       "      <td>Procédure nationale</td>\n",
       "      <td>orale</td>\n",
       "    </tr>\n",
       "    <tr>\n",
       "      <th>3</th>\n",
       "      <td>oui</td>\n",
       "      <td>2004</td>\n",
       "      <td>2005</td>\n",
       "      <td>Déclaration de commercialisation</td>\n",
       "      <td>granulés à libération prolongée</td>\n",
       "      <td>NaN</td>\n",
       "      <td>30 sachet(s)-dose(s) papier aluminium complexe...</td>\n",
       "      <td>0</td>\n",
       "      <td>0</td>\n",
       "      <td>0</td>\n",
       "      <td>0</td>\n",
       "      <td>0</td>\n",
       "      <td>0</td>\n",
       "      <td>0</td>\n",
       "      <td>0</td>\n",
       "      <td>0</td>\n",
       "      <td>1</td>\n",
       "      <td>0</td>\n",
       "      <td>0</td>\n",
       "      <td>0</td>\n",
       "      <td>0</td>\n",
       "      <td>0</td>\n",
       "      <td>0</td>\n",
       "      <td>0</td>\n",
       "      <td>0</td>\n",
       "      <td>0</td>\n",
       "      <td>0.0</td>\n",
       "      <td>0</td>\n",
       "      <td>0</td>\n",
       "      <td>0</td>\n",
       "      <td>30</td>\n",
       "      <td>0</td>\n",
       "      <td>0</td>\n",
       "      <td>0</td>\n",
       "      <td>24.27</td>\n",
       "      <td>train</td>\n",
       "      <td>Présentation active</td>\n",
       "      <td>Autorisation active</td>\n",
       "      <td>ACIDE VALPROÏQUE, VALPROATE DE SODIUM</td>\n",
       "      <td>SANOFI AVENTIS FRANCE</td>\n",
       "      <td>65%</td>\n",
       "      <td>Procédure nationale</td>\n",
       "      <td>orale</td>\n",
       "    </tr>\n",
       "    <tr>\n",
       "      <th>4</th>\n",
       "      <td>non</td>\n",
       "      <td>2010</td>\n",
       "      <td>2015</td>\n",
       "      <td>Déclaration d'arrêt de commercialisation</td>\n",
       "      <td>comprimé pelliculé</td>\n",
       "      <td>NaN</td>\n",
       "      <td>plaquette(s) thermoformée(s) PVC-Aluminium de ...</td>\n",
       "      <td>0</td>\n",
       "      <td>0</td>\n",
       "      <td>1</td>\n",
       "      <td>0</td>\n",
       "      <td>0</td>\n",
       "      <td>0</td>\n",
       "      <td>0</td>\n",
       "      <td>1</td>\n",
       "      <td>0</td>\n",
       "      <td>0</td>\n",
       "      <td>0</td>\n",
       "      <td>0</td>\n",
       "      <td>0</td>\n",
       "      <td>0</td>\n",
       "      <td>0</td>\n",
       "      <td>30</td>\n",
       "      <td>0</td>\n",
       "      <td>0</td>\n",
       "      <td>0</td>\n",
       "      <td>0.0</td>\n",
       "      <td>0</td>\n",
       "      <td>0</td>\n",
       "      <td>0</td>\n",
       "      <td>0</td>\n",
       "      <td>0</td>\n",
       "      <td>0</td>\n",
       "      <td>0</td>\n",
       "      <td>59.94</td>\n",
       "      <td>train</td>\n",
       "      <td>Présentation active</td>\n",
       "      <td>Autorisation active</td>\n",
       "      <td>LÉTROZOLE</td>\n",
       "      <td>TEVA SANTE</td>\n",
       "      <td>100%</td>\n",
       "      <td>Procédure nationale</td>\n",
       "      <td>orale</td>\n",
       "    </tr>\n",
       "    <tr>\n",
       "      <th>5</th>\n",
       "      <td>oui</td>\n",
       "      <td>2000</td>\n",
       "      <td>2001</td>\n",
       "      <td>Déclaration de commercialisation</td>\n",
       "      <td>comprimé</td>\n",
       "      <td>NaN</td>\n",
       "      <td>plaquette(s) thermoformée(s) PVC-aluminium de ...</td>\n",
       "      <td>0</td>\n",
       "      <td>0</td>\n",
       "      <td>1</td>\n",
       "      <td>0</td>\n",
       "      <td>0</td>\n",
       "      <td>0</td>\n",
       "      <td>0</td>\n",
       "      <td>1</td>\n",
       "      <td>0</td>\n",
       "      <td>0</td>\n",
       "      <td>0</td>\n",
       "      <td>0</td>\n",
       "      <td>0</td>\n",
       "      <td>0</td>\n",
       "      <td>0</td>\n",
       "      <td>30</td>\n",
       "      <td>0</td>\n",
       "      <td>0</td>\n",
       "      <td>0</td>\n",
       "      <td>0.0</td>\n",
       "      <td>0</td>\n",
       "      <td>0</td>\n",
       "      <td>0</td>\n",
       "      <td>0</td>\n",
       "      <td>0</td>\n",
       "      <td>0</td>\n",
       "      <td>0</td>\n",
       "      <td>27.17</td>\n",
       "      <td>train</td>\n",
       "      <td>Présentation active</td>\n",
       "      <td>Autorisation active</td>\n",
       "      <td>FLUTAMIDE</td>\n",
       "      <td>EG LABO - LABORATOIRES EUROGENERICS</td>\n",
       "      <td>100%</td>\n",
       "      <td>Procédure nationale</td>\n",
       "      <td>orale</td>\n",
       "    </tr>\n",
       "    <tr>\n",
       "      <th>6</th>\n",
       "      <td>oui</td>\n",
       "      <td>2001</td>\n",
       "      <td>2015</td>\n",
       "      <td>Déclaration de commercialisation</td>\n",
       "      <td>capsule molle</td>\n",
       "      <td>NaN</td>\n",
       "      <td>flacon(s) polyéthylène haute densité (PEHD) de...</td>\n",
       "      <td>0</td>\n",
       "      <td>1</td>\n",
       "      <td>0</td>\n",
       "      <td>0</td>\n",
       "      <td>1</td>\n",
       "      <td>0</td>\n",
       "      <td>0</td>\n",
       "      <td>0</td>\n",
       "      <td>0</td>\n",
       "      <td>0</td>\n",
       "      <td>0</td>\n",
       "      <td>0</td>\n",
       "      <td>0</td>\n",
       "      <td>0</td>\n",
       "      <td>100</td>\n",
       "      <td>0</td>\n",
       "      <td>0</td>\n",
       "      <td>0</td>\n",
       "      <td>0</td>\n",
       "      <td>0.0</td>\n",
       "      <td>0</td>\n",
       "      <td>0</td>\n",
       "      <td>0</td>\n",
       "      <td>0</td>\n",
       "      <td>0</td>\n",
       "      <td>0</td>\n",
       "      <td>0</td>\n",
       "      <td>877.83</td>\n",
       "      <td>train</td>\n",
       "      <td>Présentation active</td>\n",
       "      <td>Autorisation active</td>\n",
       "      <td>BEXAROTÈNE</td>\n",
       "      <td>EISAI (ROYAUME-UNI)</td>\n",
       "      <td>100%</td>\n",
       "      <td>Procédure centralisée</td>\n",
       "      <td>orale</td>\n",
       "    </tr>\n",
       "    <tr>\n",
       "      <th>7</th>\n",
       "      <td>oui</td>\n",
       "      <td>2006</td>\n",
       "      <td>2006</td>\n",
       "      <td>Déclaration de commercialisation</td>\n",
       "      <td>comprimé</td>\n",
       "      <td>NaN</td>\n",
       "      <td>plaquette(s) thermoformée(s) PVC polyéthylène ...</td>\n",
       "      <td>0</td>\n",
       "      <td>0</td>\n",
       "      <td>1</td>\n",
       "      <td>0</td>\n",
       "      <td>0</td>\n",
       "      <td>0</td>\n",
       "      <td>0</td>\n",
       "      <td>1</td>\n",
       "      <td>0</td>\n",
       "      <td>0</td>\n",
       "      <td>0</td>\n",
       "      <td>0</td>\n",
       "      <td>0</td>\n",
       "      <td>0</td>\n",
       "      <td>0</td>\n",
       "      <td>30</td>\n",
       "      <td>0</td>\n",
       "      <td>0</td>\n",
       "      <td>0</td>\n",
       "      <td>0.0</td>\n",
       "      <td>0</td>\n",
       "      <td>0</td>\n",
       "      <td>0</td>\n",
       "      <td>0</td>\n",
       "      <td>0</td>\n",
       "      <td>0</td>\n",
       "      <td>0</td>\n",
       "      <td>6.58</td>\n",
       "      <td>train</td>\n",
       "      <td>Présentation active</td>\n",
       "      <td>Autorisation active</td>\n",
       "      <td>GLIMÉPIRIDE</td>\n",
       "      <td>SANDOZ</td>\n",
       "      <td>65%</td>\n",
       "      <td>Procédure de reconnaissance mutuelle</td>\n",
       "      <td>orale</td>\n",
       "    </tr>\n",
       "    <tr>\n",
       "      <th>8</th>\n",
       "      <td>oui</td>\n",
       "      <td>2002</td>\n",
       "      <td>2013</td>\n",
       "      <td>Déclaration d'arrêt de commercialisation</td>\n",
       "      <td>comprimé sécable</td>\n",
       "      <td>NaN</td>\n",
       "      <td>plaquette(s) thermoformée(s) PVC-Aluminium de ...</td>\n",
       "      <td>0</td>\n",
       "      <td>0</td>\n",
       "      <td>1</td>\n",
       "      <td>0</td>\n",
       "      <td>0</td>\n",
       "      <td>0</td>\n",
       "      <td>0</td>\n",
       "      <td>1</td>\n",
       "      <td>0</td>\n",
       "      <td>0</td>\n",
       "      <td>0</td>\n",
       "      <td>0</td>\n",
       "      <td>0</td>\n",
       "      <td>0</td>\n",
       "      <td>0</td>\n",
       "      <td>90</td>\n",
       "      <td>0</td>\n",
       "      <td>0</td>\n",
       "      <td>0</td>\n",
       "      <td>0.0</td>\n",
       "      <td>0</td>\n",
       "      <td>0</td>\n",
       "      <td>0</td>\n",
       "      <td>0</td>\n",
       "      <td>0</td>\n",
       "      <td>0</td>\n",
       "      <td>0</td>\n",
       "      <td>18.63</td>\n",
       "      <td>train</td>\n",
       "      <td>Présentation active</td>\n",
       "      <td>Autorisation active</td>\n",
       "      <td>MALÉATE D'ÉNALAPRIL</td>\n",
       "      <td>ARROW GENERIQUES</td>\n",
       "      <td>65%</td>\n",
       "      <td>Procédure nationale</td>\n",
       "      <td>orale</td>\n",
       "    </tr>\n",
       "    <tr>\n",
       "      <th>9</th>\n",
       "      <td>non</td>\n",
       "      <td>2012</td>\n",
       "      <td>2015</td>\n",
       "      <td>Déclaration de commercialisation</td>\n",
       "      <td>comprimé pelliculé</td>\n",
       "      <td>NaN</td>\n",
       "      <td>plaquette(s) polyamide aluminium PVC de 10 com...</td>\n",
       "      <td>0</td>\n",
       "      <td>0</td>\n",
       "      <td>1</td>\n",
       "      <td>0</td>\n",
       "      <td>0</td>\n",
       "      <td>0</td>\n",
       "      <td>0</td>\n",
       "      <td>1</td>\n",
       "      <td>0</td>\n",
       "      <td>0</td>\n",
       "      <td>0</td>\n",
       "      <td>0</td>\n",
       "      <td>0</td>\n",
       "      <td>0</td>\n",
       "      <td>0</td>\n",
       "      <td>10</td>\n",
       "      <td>0</td>\n",
       "      <td>0</td>\n",
       "      <td>0</td>\n",
       "      <td>0.0</td>\n",
       "      <td>0</td>\n",
       "      <td>0</td>\n",
       "      <td>0</td>\n",
       "      <td>0</td>\n",
       "      <td>0</td>\n",
       "      <td>0</td>\n",
       "      <td>0</td>\n",
       "      <td>6.13</td>\n",
       "      <td>train</td>\n",
       "      <td>Présentation active</td>\n",
       "      <td>Autorisation active</td>\n",
       "      <td>CEFPODOXIME PROXÉTIL, CEFPODOXIME</td>\n",
       "      <td>ARROW GENERIQUES</td>\n",
       "      <td>65%</td>\n",
       "      <td>Procédure nationale</td>\n",
       "      <td>orale</td>\n",
       "    </tr>\n",
       "  </tbody>\n",
       "</table>\n",
       "</div>"
      ],
      "text/plain": [
       "  agrement col  date amm annee  date declar annee  \\\n",
       "0          oui            2014               2014   \n",
       "1          oui            2009               2013   \n",
       "2          oui            1996               2000   \n",
       "3          oui            2004               2005   \n",
       "4          non            2010               2015   \n",
       "5          oui            2000               2001   \n",
       "6          oui            2001               2015   \n",
       "7          oui            2006               2006   \n",
       "8          oui            2002               2013   \n",
       "9          non            2012               2015   \n",
       "\n",
       "                               etat commerc                     forme pharma  \\\n",
       "0          Déclaration de commercialisation               comprimé pelliculé   \n",
       "1          Déclaration de commercialisation               comprimé à croquer   \n",
       "2          Déclaration de commercialisation    gélule à libération prolongée   \n",
       "3          Déclaration de commercialisation  granulés à libération prolongée   \n",
       "4  Déclaration d'arrêt de commercialisation               comprimé pelliculé   \n",
       "5          Déclaration de commercialisation                         comprimé   \n",
       "6          Déclaration de commercialisation                    capsule molle   \n",
       "7          Déclaration de commercialisation                         comprimé   \n",
       "8  Déclaration d'arrêt de commercialisation                 comprimé sécable   \n",
       "9          Déclaration de commercialisation               comprimé pelliculé   \n",
       "\n",
       "   id                                            libelle  libelle_ampoule  \\\n",
       "0 NaN  3 plaquette(s) thermoformée(s) PVC-Aluminium d...                0   \n",
       "1 NaN  plaquette(s) thermoformée(s) aluminium de 28 c...                0   \n",
       "2 NaN  plaquette(s) thermoformée(s) PVC-aluminium de ...                0   \n",
       "3 NaN  30 sachet(s)-dose(s) papier aluminium complexe...                0   \n",
       "4 NaN  plaquette(s) thermoformée(s) PVC-Aluminium de ...                0   \n",
       "5 NaN  plaquette(s) thermoformée(s) PVC-aluminium de ...                0   \n",
       "6 NaN  flacon(s) polyéthylène haute densité (PEHD) de...                0   \n",
       "7 NaN  plaquette(s) thermoformée(s) PVC polyéthylène ...                0   \n",
       "8 NaN  plaquette(s) thermoformée(s) PVC-Aluminium de ...                0   \n",
       "9 NaN  plaquette(s) polyamide aluminium PVC de 10 com...                0   \n",
       "\n",
       "   libelle_capsule  libelle_comprime  libelle_film  libelle_flacon  \\\n",
       "0                0                 1             0               0   \n",
       "1                0                 1             0               0   \n",
       "2                0                 0             0               0   \n",
       "3                0                 0             0               0   \n",
       "4                0                 1             0               0   \n",
       "5                0                 1             0               0   \n",
       "6                1                 0             0               1   \n",
       "7                0                 1             0               0   \n",
       "8                0                 1             0               0   \n",
       "9                0                 1             0               0   \n",
       "\n",
       "   libelle_gelule  libelle_pilulier  libelle_plaquette  libelle_poche  \\\n",
       "0               0                 0                  1              0   \n",
       "1               0                 0                  1              0   \n",
       "2               1                 0                  1              0   \n",
       "3               0                 0                  0              0   \n",
       "4               0                 0                  1              0   \n",
       "5               0                 0                  1              0   \n",
       "6               0                 0                  0              0   \n",
       "7               0                 0                  1              0   \n",
       "8               0                 0                  1              0   \n",
       "9               0                 0                  1              0   \n",
       "\n",
       "   libelle_sachet  libelle_seringue  libelle_stylo  libelle_tube  nb_ampoule  \\\n",
       "0               0                 0              0             0           0   \n",
       "1               0                 0              0             0           0   \n",
       "2               0                 0              0             0           0   \n",
       "3               1                 0              0             0           0   \n",
       "4               0                 0              0             0           0   \n",
       "5               0                 0              0             0           0   \n",
       "6               0                 0              0             0           0   \n",
       "7               0                 0              0             0           0   \n",
       "8               0                 0              0             0           0   \n",
       "9               0                 0              0             0           0   \n",
       "\n",
       "   nb_capsule  nb_comprime  nb_film  nb_flacon  nb_gelule  nb_ml  nb_pilulier  \\\n",
       "0           0           28        0          0          0    0.0            0   \n",
       "1           0           28        0          0          0    0.0            0   \n",
       "2           0            0        0          0         30    0.0            0   \n",
       "3           0            0        0          0          0    0.0            0   \n",
       "4           0           30        0          0          0    0.0            0   \n",
       "5           0           30        0          0          0    0.0            0   \n",
       "6         100            0        0          0          0    0.0            0   \n",
       "7           0           30        0          0          0    0.0            0   \n",
       "8           0           90        0          0          0    0.0            0   \n",
       "9           0           10        0          0          0    0.0            0   \n",
       "\n",
       "   nb_plaquette  nb_poche  nb_sachet  nb_seringue  nb_stylo  nb_tube    prix  \\\n",
       "0             3         0          0            0         0        0    2.83   \n",
       "1             0         0          0            0         0        0   14.30   \n",
       "2             0         0          0            0         0        0    5.66   \n",
       "3             0         0         30            0         0        0   24.27   \n",
       "4             0         0          0            0         0        0   59.94   \n",
       "5             0         0          0            0         0        0   27.17   \n",
       "6             0         0          0            0         0        0  877.83   \n",
       "7             0         0          0            0         0        0    6.58   \n",
       "8             0         0          0            0         0        0   18.63   \n",
       "9             0         0          0            0         0        0    6.13   \n",
       "\n",
       "  source               statut         statut admin  \\\n",
       "0  train  Présentation active  Autorisation active   \n",
       "1  train  Présentation active  Autorisation active   \n",
       "2  train  Présentation active  Autorisation active   \n",
       "3  train  Présentation active  Autorisation active   \n",
       "4  train  Présentation active  Autorisation active   \n",
       "5  train  Présentation active  Autorisation active   \n",
       "6  train  Présentation active  Autorisation active   \n",
       "7  train  Présentation active  Autorisation active   \n",
       "8  train  Présentation active  Autorisation active   \n",
       "9  train  Présentation active  Autorisation active   \n",
       "\n",
       "                               substances  \\\n",
       "0                             DÉSOGESTREL   \n",
       "1  MONTÉLUKAST ACIDE, MONTÉLUKAST SODIQUE   \n",
       "2               CHLORHYDRATE DE DILTIAZEM   \n",
       "3   ACIDE VALPROÏQUE, VALPROATE DE SODIUM   \n",
       "4                               LÉTROZOLE   \n",
       "5                               FLUTAMIDE   \n",
       "6                              BEXAROTÈNE   \n",
       "7                             GLIMÉPIRIDE   \n",
       "8                     MALÉATE D'ÉNALAPRIL   \n",
       "9       CEFPODOXIME PROXÉTIL, CEFPODOXIME   \n",
       "\n",
       "                                   titulaires tx rembours  \\\n",
       "0   MAJORELLE LUXEMBOURG SOPARFI (LUXEMBOURG)         65%   \n",
       "1                                  TEVA SANTE         65%   \n",
       "2                                   MYLAN SAS         65%   \n",
       "3                       SANOFI AVENTIS FRANCE         65%   \n",
       "4                                  TEVA SANTE        100%   \n",
       "5         EG LABO - LABORATOIRES EUROGENERICS        100%   \n",
       "6                         EISAI (ROYAUME-UNI)        100%   \n",
       "7                                      SANDOZ         65%   \n",
       "8                            ARROW GENERIQUES         65%   \n",
       "9                            ARROW GENERIQUES         65%   \n",
       "\n",
       "                              type proc voies admin  \n",
       "0               Procédure décentralisée       orale  \n",
       "1  Procédure de reconnaissance mutuelle       orale  \n",
       "2                   Procédure nationale       orale  \n",
       "3                   Procédure nationale       orale  \n",
       "4                   Procédure nationale       orale  \n",
       "5                   Procédure nationale       orale  \n",
       "6                 Procédure centralisée       orale  \n",
       "7  Procédure de reconnaissance mutuelle       orale  \n",
       "8                   Procédure nationale       orale  \n",
       "9                   Procédure nationale       orale  "
      ]
     },
     "execution_count": 5,
     "metadata": {},
     "output_type": "execute_result"
    }
   ],
   "source": [
    "pd.set_option(\"display.max_columns\", 43) # permet de voir toutes les colonnes\n",
    "BIG.head(10)"
   ]
  },
  {
   "cell_type": "markdown",
   "metadata": {},
   "source": [
    "<table style=\"border: 1;\" cellpadding=\"0\" cellspacing=\"0\">\n",
    "<tr style=\"border: 0;\">\n",
    "<td style=\"border: 0;\"><img src=\"files/TDS.png\"> </td>\n",
    "<td style=\"border: 0; text-align: center; font-size: 36px; padding: 0 150px\">Les données numériques</td>\n",
    "<td style=\"border: 0;\"><img = src=\"files/MDF2.png\"></td>\n",
    "</tr>\n",
    "</table>"
   ]
  },
  {
   "cell_type": "markdown",
   "metadata": {},
   "source": [
    "## Les libellés : description du contenu de la boite de médicaments\n"
   ]
  },
  {
   "cell_type": "code",
   "execution_count": 6,
   "metadata": {
    "collapsed": false
   },
   "outputs": [
    {
     "name": "stdout",
     "output_type": "stream",
     "text": [
      "3 plaquette(s) thermoformée(s) PVC-Aluminium de 28 comprimé(s)\n"
     ]
    }
   ],
   "source": [
    "print train['libelle'][0]"
   ]
  },
  {
   "cell_type": "markdown",
   "metadata": {},
   "source": [
    "Extraction des libéllés"
   ]
  },
  {
   "cell_type": "code",
   "execution_count": 7,
   "metadata": {
    "collapsed": false
   },
   "outputs": [
    {
     "data": {
      "text/html": [
       "<div>\n",
       "<table border=\"1\" class=\"dataframe\">\n",
       "  <thead>\n",
       "    <tr style=\"text-align: right;\">\n",
       "      <th></th>\n",
       "      <th>libelle</th>\n",
       "      <th>libelle_plaquette</th>\n",
       "      <th>libelle_ampoule</th>\n",
       "      <th>libelle_flacon</th>\n",
       "      <th>libelle_tube</th>\n",
       "      <th>libelle_stylo</th>\n",
       "      <th>libelle_seringue</th>\n",
       "      <th>libelle_pilulier</th>\n",
       "      <th>libelle_sachet</th>\n",
       "      <th>libelle_comprime</th>\n",
       "      <th>libelle_gelule</th>\n",
       "      <th>libelle_film</th>\n",
       "      <th>libelle_poche</th>\n",
       "      <th>libelle_capsule</th>\n",
       "    </tr>\n",
       "  </thead>\n",
       "  <tbody>\n",
       "    <tr>\n",
       "      <th>0</th>\n",
       "      <td>3 plaquette(s) thermoformée(s) PVC-Aluminium d...</td>\n",
       "      <td>1</td>\n",
       "      <td>0</td>\n",
       "      <td>0</td>\n",
       "      <td>0</td>\n",
       "      <td>0</td>\n",
       "      <td>0</td>\n",
       "      <td>0</td>\n",
       "      <td>0</td>\n",
       "      <td>1</td>\n",
       "      <td>0</td>\n",
       "      <td>0</td>\n",
       "      <td>0</td>\n",
       "      <td>0</td>\n",
       "    </tr>\n",
       "  </tbody>\n",
       "</table>\n",
       "</div>"
      ],
      "text/plain": [
       "                                             libelle  libelle_plaquette  \\\n",
       "0  3 plaquette(s) thermoformée(s) PVC-Aluminium d...                  1   \n",
       "\n",
       "   libelle_ampoule  libelle_flacon  libelle_tube  libelle_stylo  \\\n",
       "0                0               0             0              0   \n",
       "\n",
       "   libelle_seringue  libelle_pilulier  libelle_sachet  libelle_comprime  \\\n",
       "0                 0                 0               0                 1   \n",
       "\n",
       "   libelle_gelule  libelle_film  libelle_poche  libelle_capsule  \n",
       "0               0             0              0                0  "
      ]
     },
     "execution_count": 7,
     "metadata": {},
     "output_type": "execute_result"
    }
   ],
   "source": [
    "train[['libelle','libelle_plaquette','libelle_ampoule','libelle_flacon','libelle_tube',\n",
    "       'libelle_stylo','libelle_seringue','libelle_pilulier','libelle_sachet',\n",
    "       'libelle_comprime','libelle_gelule','libelle_film','libelle_poche','libelle_capsule']].head(1)"
   ]
  },
  {
   "cell_type": "markdown",
   "metadata": {},
   "source": [
    "Extraction du nombre"
   ]
  },
  {
   "cell_type": "code",
   "execution_count": 9,
   "metadata": {
    "collapsed": false
   },
   "outputs": [
    {
     "data": {
      "text/html": [
       "<div>\n",
       "<table border=\"1\" class=\"dataframe\">\n",
       "  <thead>\n",
       "    <tr style=\"text-align: right;\">\n",
       "      <th></th>\n",
       "      <th>nb_plaquette</th>\n",
       "      <th>nb_ampoule</th>\n",
       "      <th>nb_flacon</th>\n",
       "      <th>nb_tube</th>\n",
       "      <th>nb_stylo</th>\n",
       "      <th>nb_seringue</th>\n",
       "      <th>nb_pilulier</th>\n",
       "      <th>nb_sachet</th>\n",
       "      <th>nb_comprime</th>\n",
       "      <th>nb_gelule</th>\n",
       "      <th>nb_film</th>\n",
       "      <th>nb_poche</th>\n",
       "      <th>nb_capsule</th>\n",
       "      <th>nb_ml</th>\n",
       "    </tr>\n",
       "  </thead>\n",
       "  <tbody>\n",
       "    <tr>\n",
       "      <th>0</th>\n",
       "      <td>3</td>\n",
       "      <td>0</td>\n",
       "      <td>0</td>\n",
       "      <td>0</td>\n",
       "      <td>0</td>\n",
       "      <td>0</td>\n",
       "      <td>0</td>\n",
       "      <td>0</td>\n",
       "      <td>28</td>\n",
       "      <td>0</td>\n",
       "      <td>0</td>\n",
       "      <td>0</td>\n",
       "      <td>0</td>\n",
       "      <td>0.0</td>\n",
       "    </tr>\n",
       "  </tbody>\n",
       "</table>\n",
       "</div>"
      ],
      "text/plain": [
       "   nb_plaquette  nb_ampoule  nb_flacon  nb_tube  nb_stylo  nb_seringue  \\\n",
       "0             3           0          0        0         0            0   \n",
       "\n",
       "   nb_pilulier  nb_sachet  nb_comprime  nb_gelule  nb_film  nb_poche  \\\n",
       "0            0          0           28          0        0         0   \n",
       "\n",
       "   nb_capsule  nb_ml  \n",
       "0           0    0.0  "
      ]
     },
     "execution_count": 9,
     "metadata": {},
     "output_type": "execute_result"
    }
   ],
   "source": [
    "train[['nb_plaquette','nb_ampoule','nb_flacon','nb_tube','nb_stylo','nb_seringue','nb_pilulier','nb_sachet',\n",
    "       'nb_comprime','nb_gelule','nb_film','nb_poche','nb_capsule','nb_ml']].head(1)"
   ]
  },
  {
   "cell_type": "markdown",
   "metadata": {},
   "source": [
    "## Année de la déclaration de commercialisation de la boîte de médicament"
   ]
  },
  {
   "cell_type": "code",
   "execution_count": 10,
   "metadata": {
    "collapsed": false
   },
   "outputs": [
    {
     "data": {
      "text/plain": [
       "<matplotlib.axes._subplots.AxesSubplot at 0x7f0b6c13b6d0>"
      ]
     },
     "execution_count": 10,
     "metadata": {},
     "output_type": "execute_result"
    },
    {
     "data": {
      "image/png": "[encoded data removed]",
      "text/plain": [
       "<matplotlib.figure.Figure at 0x7f0b6c13b650>"
      ]
     },
     "metadata": {},
     "output_type": "display_data"
    }
   ],
   "source": [
    "plt.figure(figsize=(18, 6))\n",
    "sns.distplot(BIG['date declar annee'], color='green', kde=False) #kde = Kernel Density"
   ]
  },
  {
   "cell_type": "markdown",
   "metadata": {},
   "source": [
    "## Année d’Autorisation de Mise sur le Marché du médicament "
   ]
  },
  {
   "cell_type": "code",
   "execution_count": 11,
   "metadata": {
    "collapsed": false
   },
   "outputs": [
    {
     "data": {
      "text/plain": [
       "<matplotlib.axes._subplots.AxesSubplot at 0x7f0b6c13b4d0>"
      ]
     },
     "execution_count": 11,
     "metadata": {},
     "output_type": "execute_result"
    },
    {
     "data": {
      "image/png": "[encoded data removed]",
      "text/plain": [
       "<matplotlib.figure.Figure at 0x7f0b6c13ba10>"
      ]
     },
     "metadata": {},
     "output_type": "display_data"
    }
   ],
   "source": [
    "plt.figure(figsize=(18, 6))\n",
    "sns.distplot(BIG['date amm annee'], color='green', kde=False)"
   ]
  },
  {
   "cell_type": "markdown",
   "metadata": {},
   "source": [
    "<table style=\"border: 1;\" cellpadding=\"0\" cellspacing=\"0\">\n",
    "<tr style=\"border: 0;\">\n",
    "<td style=\"border: 0;\"><img src=\"files/TDS.png\"> </td>\n",
    "<td style=\"border: 0; text-align: center; font-size: 36px; padding: 0 130px\">Les données catégorielles</td>\n",
    "<td style=\"border: 0;\"><img = src=\"files/MDF2.png\"></td>\n",
    "</tr>\n",
    "</table>\n",
    "\n",
    "\n"
   ]
  },
  {
   "cell_type": "markdown",
   "metadata": {},
   "source": [
    "## Statut administratif de la boite de médicament"
   ]
  },
  {
   "cell_type": "code",
   "execution_count": 12,
   "metadata": {
    "collapsed": false
   },
   "outputs": [
    {
     "data": {
      "text/html": [
       "<div>\n",
       "<table border=\"1\" class=\"dataframe\">\n",
       "  <thead>\n",
       "    <tr style=\"text-align: right;\">\n",
       "      <th></th>\n",
       "      <th>Valeur</th>\n",
       "      <th>Nombre</th>\n",
       "    </tr>\n",
       "  </thead>\n",
       "  <tbody>\n",
       "    <tr>\n",
       "      <th>1</th>\n",
       "      <td>Autorisation active</td>\n",
       "      <td>11673</td>\n",
       "    </tr>\n",
       "    <tr>\n",
       "      <th>0</th>\n",
       "      <td>Autorisation abrogée</td>\n",
       "      <td>440</td>\n",
       "    </tr>\n",
       "    <tr>\n",
       "      <th>2</th>\n",
       "      <td>Autorisation archivée</td>\n",
       "      <td>110</td>\n",
       "    </tr>\n",
       "    <tr>\n",
       "      <th>3</th>\n",
       "      <td>Autorisation retirée</td>\n",
       "      <td>11</td>\n",
       "    </tr>\n",
       "    <tr>\n",
       "      <th>4</th>\n",
       "      <td>Autorisation suspendue</td>\n",
       "      <td>1</td>\n",
       "    </tr>\n",
       "  </tbody>\n",
       "</table>\n",
       "</div>"
      ],
      "text/plain": [
       "                   Valeur  Nombre\n",
       "1     Autorisation active   11673\n",
       "0    Autorisation abrogée     440\n",
       "2   Autorisation archivée     110\n",
       "3    Autorisation retirée      11\n",
       "4  Autorisation suspendue       1"
      ]
     },
     "execution_count": 12,
     "metadata": {},
     "output_type": "execute_result"
    }
   ],
   "source": [
    "displayUniqueCount(BIG['statut admin'])"
   ]
  },
  {
   "cell_type": "markdown",
   "metadata": {},
   "source": [
    "## Etat de commercialisation de la boîte de médicament tel que déclaré par le titulaire de l'AMM"
   ]
  },
  {
   "cell_type": "code",
   "execution_count": 13,
   "metadata": {
    "collapsed": false
   },
   "outputs": [
    {
     "data": {
      "text/html": [
       "<div>\n",
       "<table border=\"1\" class=\"dataframe\">\n",
       "  <thead>\n",
       "    <tr style=\"text-align: right;\">\n",
       "      <th></th>\n",
       "      <th>Valeur</th>\n",
       "      <th>Nombre</th>\n",
       "    </tr>\n",
       "  </thead>\n",
       "  <tbody>\n",
       "    <tr>\n",
       "      <th>2</th>\n",
       "      <td>Déclaration de commercialisation</td>\n",
       "      <td>10395</td>\n",
       "    </tr>\n",
       "    <tr>\n",
       "      <th>1</th>\n",
       "      <td>Déclaration d'arrêt de commercialisation</td>\n",
       "      <td>1770</td>\n",
       "    </tr>\n",
       "    <tr>\n",
       "      <th>0</th>\n",
       "      <td>Arrêt de commercialisation (le médicament n'a plus d'autorisation)</td>\n",
       "      <td>69</td>\n",
       "    </tr>\n",
       "    <tr>\n",
       "      <th>3</th>\n",
       "      <td>Déclaration de suspension de commercialisation</td>\n",
       "      <td>1</td>\n",
       "    </tr>\n",
       "  </tbody>\n",
       "</table>\n",
       "</div>"
      ],
      "text/plain": [
       "                                                               Valeur  Nombre\n",
       "2                                    Déclaration de commercialisation   10395\n",
       "1                            Déclaration d'arrêt de commercialisation    1770\n",
       "0  Arrêt de commercialisation (le médicament n'a plus d'autorisation)      69\n",
       "3                      Déclaration de suspension de commercialisation       1"
      ]
     },
     "execution_count": 13,
     "metadata": {},
     "output_type": "execute_result"
    }
   ],
   "source": [
    "pd.set_option(\"display.max_colwidth\", 100)\n",
    "displayUniqueCount(BIG['etat commerc'])"
   ]
  },
  {
   "cell_type": "markdown",
   "metadata": {},
   "source": [
    "## Agrément aux collectivités"
   ]
  },
  {
   "cell_type": "code",
   "execution_count": null,
   "metadata": {
    "collapsed": false
   },
   "outputs": [],
   "source": [
    "displayUniqueCount(BIG['agrement col'])"
   ]
  },
  {
   "cell_type": "markdown",
   "metadata": {},
   "source": [
    "## Statut administratif de l’autorisation de mise sur le marché (AMM)"
   ]
  },
  {
   "cell_type": "code",
   "execution_count": null,
   "metadata": {
    "collapsed": false
   },
   "outputs": [],
   "source": [
    "displayUniqueCount(BIG['statut admin'])"
   ]
  },
  {
   "cell_type": "markdown",
   "metadata": {},
   "source": [
    "## Type de procédure d'autorisation de mise sur le marché (AMM) (Nationale, décentralisée, reconnaissance mutuelle, ...)"
   ]
  },
  {
   "cell_type": "code",
   "execution_count": null,
   "metadata": {
    "collapsed": false
   },
   "outputs": [],
   "source": [
    "displayUniqueCount(BIG['type proc'])"
   ]
  },
  {
   "cell_type": "markdown",
   "metadata": {},
   "source": [
    "## Taux de remboursement"
   ]
  },
  {
   "cell_type": "code",
   "execution_count": null,
   "metadata": {
    "collapsed": false
   },
   "outputs": [],
   "source": [
    "displayUniqueCount(BIG['tx rembours'])"
   ]
  },
  {
   "cell_type": "markdown",
   "metadata": {},
   "source": [
    "<table style=\"border: 1;\" cellpadding=\"0\" cellspacing=\"0\">\n",
    "<tr style=\"border: 0;\">\n",
    "<td style=\"border: 0;\"><img src=\"files/TDS.png\"> </td>\n",
    "<td style=\"border: 0; text-align: center; font-size: 36px; padding: 0 170px\">Les données textuelles</td>\n",
    "<td style=\"border: 0;\"><img = src=\"files/MDF2.png\"></td>\n",
    "</tr>\n",
    "</table>"
   ]
  },
  {
   "cell_type": "markdown",
   "metadata": {},
   "source": [
    "## Forme pharmaceutique"
   ]
  },
  {
   "cell_type": "code",
   "execution_count": null,
   "metadata": {
    "collapsed": false,
    "scrolled": true
   },
   "outputs": [],
   "source": [
    "displayUniqueCount(BIG['forme pharma']).head(10)"
   ]
  },
  {
   "cell_type": "markdown",
   "metadata": {},
   "source": [
    "## Laboratoire titulaire du médicament.\n",
    "S'il y a plusieurs titulaires, ils sont séparés par des « , »"
   ]
  },
  {
   "cell_type": "code",
   "execution_count": 15,
   "metadata": {
    "collapsed": false
   },
   "outputs": [
    {
     "data": {
      "text/html": [
       "<div>\n",
       "<table border=\"1\" class=\"dataframe\">\n",
       "  <thead>\n",
       "    <tr style=\"text-align: right;\">\n",
       "      <th></th>\n",
       "      <th>Valeur</th>\n",
       "      <th>Nombre</th>\n",
       "    </tr>\n",
       "  </thead>\n",
       "  <tbody>\n",
       "    <tr>\n",
       "      <th>333</th>\n",
       "      <td>TEVA SANTE</td>\n",
       "      <td>1086</td>\n",
       "    </tr>\n",
       "    <tr>\n",
       "      <th>296</th>\n",
       "      <td>SANOFI AVENTIS FRANCE</td>\n",
       "      <td>831</td>\n",
       "    </tr>\n",
       "    <tr>\n",
       "      <th>235</th>\n",
       "      <td>MYLAN SAS</td>\n",
       "      <td>818</td>\n",
       "    </tr>\n",
       "    <tr>\n",
       "      <th>56</th>\n",
       "      <td>BIOGARAN</td>\n",
       "      <td>717</td>\n",
       "    </tr>\n",
       "    <tr>\n",
       "      <th>34</th>\n",
       "      <td>ARROW GENERIQUES</td>\n",
       "      <td>655</td>\n",
       "    </tr>\n",
       "    <tr>\n",
       "      <th>293</th>\n",
       "      <td>SANDOZ</td>\n",
       "      <td>630</td>\n",
       "    </tr>\n",
       "    <tr>\n",
       "      <th>98</th>\n",
       "      <td>EG LABO - LABORATOIRES EUROGENERICS</td>\n",
       "      <td>608</td>\n",
       "    </tr>\n",
       "    <tr>\n",
       "      <th>280</th>\n",
       "      <td>RANBAXY PHARMACIE GENERIQUES</td>\n",
       "      <td>383</td>\n",
       "    </tr>\n",
       "    <tr>\n",
       "      <th>352</th>\n",
       "      <td>ZYDUS FRANCE</td>\n",
       "      <td>375</td>\n",
       "    </tr>\n",
       "    <tr>\n",
       "      <th>85</th>\n",
       "      <td>CRISTERS</td>\n",
       "      <td>304</td>\n",
       "    </tr>\n",
       "    <tr>\n",
       "      <th>281</th>\n",
       "      <td>RATIOPHARM (ALLEMAGNE)</td>\n",
       "      <td>288</td>\n",
       "    </tr>\n",
       "    <tr>\n",
       "      <th>259</th>\n",
       "      <td>PFIZER HOLDING FRANCE</td>\n",
       "      <td>257</td>\n",
       "    </tr>\n",
       "    <tr>\n",
       "      <th>111</th>\n",
       "      <td>EVOLUPHARM</td>\n",
       "      <td>198</td>\n",
       "    </tr>\n",
       "    <tr>\n",
       "      <th>9</th>\n",
       "      <td>ACTAVIS GROUP PTC (ISLANDE)</td>\n",
       "      <td>194</td>\n",
       "    </tr>\n",
       "    <tr>\n",
       "      <th>167</th>\n",
       "      <td>KRKA (SLOVENIE)</td>\n",
       "      <td>160</td>\n",
       "    </tr>\n",
       "  </tbody>\n",
       "</table>\n",
       "</div>"
      ],
      "text/plain": [
       "                                   Valeur  Nombre\n",
       "333                            TEVA SANTE    1086\n",
       "296                 SANOFI AVENTIS FRANCE     831\n",
       "235                             MYLAN SAS     818\n",
       "56                               BIOGARAN     717\n",
       "34                       ARROW GENERIQUES     655\n",
       "293                                SANDOZ     630\n",
       "98    EG LABO - LABORATOIRES EUROGENERICS     608\n",
       "280          RANBAXY PHARMACIE GENERIQUES     383\n",
       "352                          ZYDUS FRANCE     375\n",
       "85                               CRISTERS     304\n",
       "281                RATIOPHARM (ALLEMAGNE)     288\n",
       "259                 PFIZER HOLDING FRANCE     257\n",
       "111                            EVOLUPHARM     198\n",
       "9             ACTAVIS GROUP PTC (ISLANDE)     194\n",
       "167                       KRKA (SLOVENIE)     160"
      ]
     },
     "execution_count": 15,
     "metadata": {},
     "output_type": "execute_result"
    }
   ],
   "source": [
    "displayUniqueCount(BIG['titulaires']).head(15)"
   ]
  },
  {
   "cell_type": "markdown",
   "metadata": {},
   "source": [
    "## Substances présentes dans le médicament.\n",
    "S'il y en a plusieurs, elles sont séparées par des « , » "
   ]
  },
  {
   "cell_type": "code",
   "execution_count": 14,
   "metadata": {
    "collapsed": false
   },
   "outputs": [
    {
     "data": {
      "text/html": [
       "<div>\n",
       "<table border=\"1\" class=\"dataframe\">\n",
       "  <thead>\n",
       "    <tr style=\"text-align: right;\">\n",
       "      <th></th>\n",
       "      <th>Valeur</th>\n",
       "      <th>Nombre</th>\n",
       "    </tr>\n",
       "  </thead>\n",
       "  <tbody>\n",
       "    <tr>\n",
       "      <th>962</th>\n",
       "      <td>GLICLAZIDE</td>\n",
       "      <td>82</td>\n",
       "    </tr>\n",
       "    <tr>\n",
       "      <th>609</th>\n",
       "      <td>CLARITHROMYCINE</td>\n",
       "      <td>73</td>\n",
       "    </tr>\n",
       "    <tr>\n",
       "      <th>1023</th>\n",
       "      <td>HYDROCHLOROTHIAZIDE, VALSARTAN</td>\n",
       "      <td>72</td>\n",
       "    </tr>\n",
       "    <tr>\n",
       "      <th>549</th>\n",
       "      <td>CHLORHYDRATE DE TRAMADOL</td>\n",
       "      <td>72</td>\n",
       "    </tr>\n",
       "    <tr>\n",
       "      <th>1747</th>\n",
       "      <td>SPIRONOLACTONE</td>\n",
       "      <td>71</td>\n",
       "    </tr>\n",
       "  </tbody>\n",
       "</table>\n",
       "</div>"
      ],
      "text/plain": [
       "                              Valeur  Nombre\n",
       "962                       GLICLAZIDE      82\n",
       "609                  CLARITHROMYCINE      73\n",
       "1023  HYDROCHLOROTHIAZIDE, VALSARTAN      72\n",
       "549         CHLORHYDRATE DE TRAMADOL      72\n",
       "1747                  SPIRONOLACTONE      71"
      ]
     },
     "execution_count": 14,
     "metadata": {},
     "output_type": "execute_result"
    }
   ],
   "source": [
    "displayUniqueCount(BIG['substances'])[15:20]"
   ]
  },
  {
   "cell_type": "markdown",
   "metadata": {},
   "source": [
    "## Voies d'administration\n",
    "(avec un séparateur « , » entre chaque valeur quand il y en a plusieurs : orale, ophtalmique, intramusculaire, ...)"
   ]
  },
  {
   "cell_type": "code",
   "execution_count": 16,
   "metadata": {
    "collapsed": false
   },
   "outputs": [
    {
     "data": {
      "text/html": [
       "<div>\n",
       "<table border=\"1\" class=\"dataframe\">\n",
       "  <thead>\n",
       "    <tr style=\"text-align: right;\">\n",
       "      <th></th>\n",
       "      <th>Valeur</th>\n",
       "      <th>Nombre</th>\n",
       "    </tr>\n",
       "  </thead>\n",
       "  <tbody>\n",
       "    <tr>\n",
       "      <th>66</th>\n",
       "      <td>orale</td>\n",
       "      <td>9926</td>\n",
       "    </tr>\n",
       "    <tr>\n",
       "      <th>58</th>\n",
       "      <td>intraveineuse</td>\n",
       "      <td>325</td>\n",
       "    </tr>\n",
       "    <tr>\n",
       "      <th>3</th>\n",
       "      <td>cutanée</td>\n",
       "      <td>308</td>\n",
       "    </tr>\n",
       "    <tr>\n",
       "      <th>65</th>\n",
       "      <td>ophtalmique</td>\n",
       "      <td>242</td>\n",
       "    </tr>\n",
       "    <tr>\n",
       "      <th>70</th>\n",
       "      <td>sous-cutanée</td>\n",
       "      <td>239</td>\n",
       "    </tr>\n",
       "    <tr>\n",
       "      <th>24</th>\n",
       "      <td>inhalée</td>\n",
       "      <td>136</td>\n",
       "    </tr>\n",
       "    <tr>\n",
       "      <th>60</th>\n",
       "      <td>intraveineuse,sous-cutanée</td>\n",
       "      <td>129</td>\n",
       "    </tr>\n",
       "    <tr>\n",
       "      <th>73</th>\n",
       "      <td>transdermique</td>\n",
       "      <td>125</td>\n",
       "    </tr>\n",
       "  </tbody>\n",
       "</table>\n",
       "</div>"
      ],
      "text/plain": [
       "                        Valeur  Nombre\n",
       "66                       orale    9926\n",
       "58               intraveineuse     325\n",
       "3                      cutanée     308\n",
       "65                 ophtalmique     242\n",
       "70                sous-cutanée     239\n",
       "24                     inhalée     136\n",
       "60  intraveineuse,sous-cutanée     129\n",
       "73               transdermique     125"
      ]
     },
     "execution_count": 16,
     "metadata": {},
     "output_type": "execute_result"
    }
   ],
   "source": [
    "displayUniqueCount(BIG['voies admin']).head(8)"
   ]
  },
  {
   "cell_type": "markdown",
   "metadata": {},
   "source": [
    "<table style=\"border: 1;\" cellpadding=\"0\" cellspacing=\"0\">\n",
    "<tr style=\"border: 0;\">\n",
    "<td style=\"border: 0;\"><img src=\"files/TDS.png\"> </td>\n",
    "<td style=\"border: 0; text-align: center; font-size: 36px; padding: 0 15px\">Le Data Cleaning et le Feature Engineering</td>\n",
    "<td style=\"border: 0;\"><img = src=\"files/MDF2.png\"></td>\n",
    "</tr>\n",
    "</table>"
   ]
  },
  {
   "cell_type": "markdown",
   "metadata": {},
   "source": [
    "## Exemple DUMMY & ENCODE"
   ]
  },
  {
   "cell_type": "code",
   "execution_count": 6,
   "metadata": {
    "collapsed": false
   },
   "outputs": [
    {
     "data": {
      "text/html": [
       "<div>\n",
       "<table border=\"1\" class=\"dataframe\">\n",
       "  <thead>\n",
       "    <tr style=\"text-align: right;\">\n",
       "      <th></th>\n",
       "      <th>JOUEUR</th>\n",
       "      <th>NUMERO</th>\n",
       "    </tr>\n",
       "  </thead>\n",
       "  <tbody>\n",
       "    <tr>\n",
       "      <th>0</th>\n",
       "      <td>Tony PARKER</td>\n",
       "      <td>9</td>\n",
       "    </tr>\n",
       "    <tr>\n",
       "      <th>1</th>\n",
       "      <td>Michael JORDAN</td>\n",
       "      <td>23</td>\n",
       "    </tr>\n",
       "    <tr>\n",
       "      <th>2</th>\n",
       "      <td>Kobe BRYANT</td>\n",
       "      <td>8</td>\n",
       "    </tr>\n",
       "    <tr>\n",
       "      <th>3</th>\n",
       "      <td>Michael JORDAN</td>\n",
       "      <td>45</td>\n",
       "    </tr>\n",
       "  </tbody>\n",
       "</table>\n",
       "</div>"
      ],
      "text/plain": [
       "           JOUEUR NUMERO\n",
       "0     Tony PARKER      9\n",
       "1  Michael JORDAN     23\n",
       "2     Kobe BRYANT      8\n",
       "3  Michael JORDAN     45"
      ]
     },
     "execution_count": 6,
     "metadata": {},
     "output_type": "execute_result"
    }
   ],
   "source": [
    "BASKET_DF = pd.DataFrame(\n",
    "    data = {'JOUEUR':[\"Tony PARKER\",\"Michael JORDAN\",\"Kobe BRYANT\", \"Michael JORDAN\"],\n",
    "            'NUMERO':[\"9\",\"23\",\"8\",\"45\"]},\n",
    "    columns=['JOUEUR', 'NUMERO'])\n",
    "\n",
    "BASKET_DF\n",
    "\n",
    "BASKET_DF"
   ]
  },
  {
   "cell_type": "markdown",
   "metadata": {},
   "source": [
    "## Encodage des features catégorielles\n",
    "\n",
    "Les algorithmes de machine learning s'attendent à avoir en entrée des nombres, et non pas des chaînes de caractères. C'est pourquoi nous transformons les features catégorielles en nombres, à l'aide de LabelEncoder()"
   ]
  },
  {
   "cell_type": "code",
   "execution_count": 8,
   "metadata": {
    "collapsed": false
   },
   "outputs": [
    {
     "name": "stdout",
     "output_type": "stream",
     "text": [
      "ENCODAGE de la variable JOUEUR\n"
     ]
    },
    {
     "data": {
      "text/html": [
       "<div>\n",
       "<table border=\"1\" class=\"dataframe\">\n",
       "  <thead>\n",
       "    <tr style=\"text-align: right;\">\n",
       "      <th></th>\n",
       "      <th>JOUEUR</th>\n",
       "      <th>NUMERO</th>\n",
       "      <th>JOUEUR ENCODED</th>\n",
       "    </tr>\n",
       "  </thead>\n",
       "  <tbody>\n",
       "    <tr>\n",
       "      <th>0</th>\n",
       "      <td>Tony PARKER</td>\n",
       "      <td>9</td>\n",
       "      <td>2</td>\n",
       "    </tr>\n",
       "    <tr>\n",
       "      <th>1</th>\n",
       "      <td>Michael JORDAN</td>\n",
       "      <td>23</td>\n",
       "      <td>1</td>\n",
       "    </tr>\n",
       "    <tr>\n",
       "      <th>2</th>\n",
       "      <td>Kobe BRYANT</td>\n",
       "      <td>8</td>\n",
       "      <td>0</td>\n",
       "    </tr>\n",
       "    <tr>\n",
       "      <th>3</th>\n",
       "      <td>Michael JORDAN</td>\n",
       "      <td>45</td>\n",
       "      <td>1</td>\n",
       "    </tr>\n",
       "  </tbody>\n",
       "</table>\n",
       "</div>"
      ],
      "text/plain": [
       "           JOUEUR NUMERO  JOUEUR ENCODED\n",
       "0     Tony PARKER      9               2\n",
       "1  Michael JORDAN     23               1\n",
       "2     Kobe BRYANT      8               0\n",
       "3  Michael JORDAN     45               1"
      ]
     },
     "execution_count": 8,
     "metadata": {},
     "output_type": "execute_result"
    }
   ],
   "source": [
    "#Feature to encode\n",
    "encodeToCat =\"JOUEUR\"\n",
    "\n",
    "print \"ENCODAGE de la variable \" + encodeToCat\n",
    "\n",
    "le = LabelEncoder()\n",
    "\n",
    "le.fit(BASKET_DF[encodeToCat])\n",
    "\n",
    "BASKET_DF.loc[:,encodeToCat+\" ENCODED\"] = le.transform(BASKET_DF[encodeToCat])\n",
    "\n",
    "BASKET_DF"
   ]
  },
  {
   "cell_type": "markdown",
   "metadata": {},
   "source": [
    "## Dummification des features catégorielles"
   ]
  },
  {
   "cell_type": "code",
   "execution_count": 9,
   "metadata": {
    "collapsed": false
   },
   "outputs": [
    {
     "name": "stdout",
     "output_type": "stream",
     "text": [
      "DUMMIFICATION de la variable JOUEUR\n"
     ]
    },
    {
     "data": {
      "text/html": [
       "<div>\n",
       "<table border=\"1\" class=\"dataframe\">\n",
       "  <thead>\n",
       "    <tr style=\"text-align: right;\">\n",
       "      <th></th>\n",
       "      <th>JOUEUR</th>\n",
       "      <th>NUMERO</th>\n",
       "      <th>JOUEUR ENCODED</th>\n",
       "      <th>Kobe BRYANT</th>\n",
       "      <th>Michael JORDAN</th>\n",
       "      <th>Tony PARKER</th>\n",
       "    </tr>\n",
       "  </thead>\n",
       "  <tbody>\n",
       "    <tr>\n",
       "      <th>0</th>\n",
       "      <td>Tony PARKER</td>\n",
       "      <td>9</td>\n",
       "      <td>2</td>\n",
       "      <td>0</td>\n",
       "      <td>0</td>\n",
       "      <td>1</td>\n",
       "    </tr>\n",
       "    <tr>\n",
       "      <th>1</th>\n",
       "      <td>Michael JORDAN</td>\n",
       "      <td>23</td>\n",
       "      <td>1</td>\n",
       "      <td>0</td>\n",
       "      <td>1</td>\n",
       "      <td>0</td>\n",
       "    </tr>\n",
       "    <tr>\n",
       "      <th>2</th>\n",
       "      <td>Kobe BRYANT</td>\n",
       "      <td>8</td>\n",
       "      <td>0</td>\n",
       "      <td>1</td>\n",
       "      <td>0</td>\n",
       "      <td>0</td>\n",
       "    </tr>\n",
       "    <tr>\n",
       "      <th>3</th>\n",
       "      <td>Michael JORDAN</td>\n",
       "      <td>45</td>\n",
       "      <td>1</td>\n",
       "      <td>0</td>\n",
       "      <td>1</td>\n",
       "      <td>0</td>\n",
       "    </tr>\n",
       "  </tbody>\n",
       "</table>\n",
       "</div>"
      ],
      "text/plain": [
       "           JOUEUR NUMERO  JOUEUR ENCODED  Kobe BRYANT  Michael JORDAN  \\\n",
       "0     Tony PARKER      9               2            0               0   \n",
       "1  Michael JORDAN     23               1            0               1   \n",
       "2     Kobe BRYANT      8               0            1               0   \n",
       "3  Michael JORDAN     45               1            0               1   \n",
       "\n",
       "   Tony PARKER  \n",
       "0            1  \n",
       "1            0  \n",
       "2            0  \n",
       "3            0  "
      ]
     },
     "execution_count": 9,
     "metadata": {},
     "output_type": "execute_result"
    }
   ],
   "source": [
    "#Feature to dummy\n",
    "\n",
    "featToDummy = \"JOUEUR\"\n",
    "\n",
    "print \"DUMMIFICATION de la variable \" + encodeToCat\n",
    "\n",
    "dums = pd.get_dummies(BASKET_DF[featToDummy]).astype(int)\n",
    "\n",
    "BASKET_DF = pd.concat([BASKET_DF, dums], axis=1)\n",
    "\n",
    "BASKET_DF"
   ]
  },
  {
   "cell_type": "markdown",
   "metadata": {},
   "source": [
    "## Data Transformation : Prix"
   ]
  },
  {
   "cell_type": "code",
   "execution_count": null,
   "metadata": {
    "collapsed": false
   },
   "outputs": [],
   "source": [
    "plt.figure(figsize=(18, 6))\n",
    "sns.distplot(train['prix'], color='green', kde=False) #kde = kernel denisty"
   ]
  },
  {
   "cell_type": "code",
   "execution_count": 17,
   "metadata": {
    "collapsed": false
   },
   "outputs": [
    {
     "data": {
      "text/plain": [
       "<matplotlib.axes._subplots.AxesSubplot at 0x7f0b6bc59b50>"
      ]
     },
     "execution_count": 17,
     "metadata": {},
     "output_type": "execute_result"
    },
    {
     "data": {
      "image/png": "[encoded data removed]",
      "text/plain": [
       "<matplotlib.figure.Figure at 0x7f0b6bc59c90>"
      ]
     },
     "metadata": {},
     "output_type": "display_data"
    }
   ],
   "source": [
    "# On prend le log des prix car sa distribution est plus proche d'une gaussienne\n",
    "plt.figure(figsize=(18, 6))\n",
    "train['logprix'] = train['prix'].apply(np.log)\n",
    "sns.distplot(train['logprix'], color='green', kde=False)"
   ]
  },
  {
   "cell_type": "markdown",
   "metadata": {},
   "source": [
    "## Data Transformation : Taux remboursement"
   ]
  },
  {
   "cell_type": "code",
   "execution_count": null,
   "metadata": {
    "collapsed": false
   },
   "outputs": [],
   "source": [
    "# Influence sur les prix de la feature \"tx rembours\"\n",
    "sns.violinplot(y=\"logprix\", x=\"tx rembours\", data=train)"
   ]
  },
  {
   "cell_type": "code",
   "execution_count": null,
   "metadata": {
    "collapsed": false
   },
   "outputs": [],
   "source": [
    "txrembours = [int(x.replace(\"%\", \"\")) for x in BIG[\"tx rembours\"]]\n",
    "    \n",
    "SAMPLE = pd.DataFrame({\"tx rembours\":BIG[\"tx rembours\"], \"tx rembours transform\":txrembours})\n",
    "\n",
    "SAMPLE[37:43]"
   ]
  },
  {
   "cell_type": "markdown",
   "metadata": {},
   "source": [
    "## Data Transformation : Voies Admin\n",
    "Les valeurs sont séparées par des \",\""
   ]
  },
  {
   "cell_type": "code",
   "execution_count": null,
   "metadata": {
    "collapsed": false
   },
   "outputs": [],
   "source": [
    "BASKET_DF = pd.DataFrame(\n",
    "    data = {'JOUEUR':[\"Tony PARKER\",\"Michael JORDAN\",\"Kobe BRYANT\"],\n",
    "            'CLUB':[\"INSEP, PSG, SAN ANTONIO SPURS\",\"CHICAGO BULLS, WASHINGTON WIZARDS\",\"LOS ANGELES LAKERS\"]},\n",
    "    columns=['JOUEUR', 'CLUB'])\n",
    "\n",
    "BASKET_DF"
   ]
  },
  {
   "cell_type": "code",
   "execution_count": null,
   "metadata": {
    "collapsed": false
   },
   "outputs": [],
   "source": [
    "\n",
    "distinctCategs = (BASKET_DF['CLUB']\n",
    "                  .apply(lambda col_value : col_value.split(','))\n",
    "                  .apply(pd.Series)\n",
    "                  .unstack()\n",
    "                  .dropna()\n",
    "                  .unique())\n",
    "\n",
    "for distinctCateg in distinctCategs:\n",
    "    BASKET_DF[distinctCateg] = BASKET_DF['CLUB'].apply(lambda x : 1 if distinctCateg in x else 0)\n",
    "    \n",
    "BASKET_DF"
   ]
  },
  {
   "cell_type": "markdown",
   "metadata": {},
   "source": [
    "<table style=\"border: 1;\" cellpadding=\"0\" cellspacing=\"0\">\n",
    "<tr style=\"border: 0;\">\n",
    "<td style=\"border: 0;\"><img src=\"files/TDS.png\"> </td>\n",
    "<td style=\"border: 0; text-align: center; font-size: 36px; padding: 0 15px\">Tout commence ici !!! Ready ???</td>\n",
    "<td style=\"border: 0;\"><img = src=\"files/MDF2.png\"></td>\n",
    "</tr>\n",
    "</table>"
   ]
  },
  {
   "cell_type": "markdown",
   "metadata": {},
   "source": [
    "## Types de features"
   ]
  },
  {
   "cell_type": "code",
   "execution_count": null,
   "metadata": {
    "collapsed": true
   },
   "outputs": [],
   "source": [
    "# features numériques\n",
    "feat_num = ['libelle_plaquette', 'libelle_ampoule', 'libelle_flacon', \n",
    "            'libelle_tube', 'libelle_stylo', 'libelle_seringue',\n",
    "            'libelle_pilulier', 'libelle_sachet', 'libelle_comprime', \n",
    "            'libelle_gelule', 'libelle_film', 'libelle_poche',\n",
    "            'libelle_capsule'] + ['nb_plaquette', 'nb_ampoule', \n",
    "            'nb_flacon', 'nb_tube', 'nb_stylo', 'nb_seringue',\n",
    "            'nb_pilulier', 'nb_sachet', 'nb_comprime', 'nb_gelule', \n",
    "            'nb_film', 'nb_poche', 'nb_capsule', 'nb_ml']\n",
    "\n",
    "# features date\n",
    "feat_dates = ['date declar annee', 'date amm annee']\n",
    "\n",
    "# features catégorielles\n",
    "feat_cat = ['statut', 'etat commerc', 'agrement col', 'tx rembours',\n",
    "          'voies admin', 'statut admin', 'type proc']\n",
    "\n",
    "# features texte\n",
    "feat_text = ['libelle', 'titulaires', 'substances', 'forme pharma']"
   ]
  },
  {
   "cell_type": "markdown",
   "metadata": {},
   "source": [
    "## Configuration des variables à transformer, encoder, dummifier, supprimer"
   ]
  },
  {
   "cell_type": "code",
   "execution_count": null,
   "metadata": {
    "collapsed": false
   },
   "outputs": [],
   "source": [
    "featToDel = ['libelle', 'id']\n",
    "featToDummy = []\n",
    "featToDummy.extend(feat_cat)\n",
    "featToDummy.extend(feat_text)\n",
    "featToDummy.remove('tx rembours')\n",
    "featToDummy.remove(\"voies admin\")\n",
    "featToDummy.remove(\"libelle\")\n",
    "featToEncode = []\n",
    "featToTransform = [\"convertTx\", \"log\", \"convertVoiesAdmin\"]\n",
    "\n",
    "config = {\"featToDel\":featToDel,\n",
    "          \"featToDummy\":featToDummy,\n",
    "          \"featToEncode\":featToEncode,\n",
    "          \"featToTransform\":featToTransform}\n",
    "\n",
    "print \"DELETE    :  \", featToDel\n",
    "print \"DUMMY     :  \", featToDummy\n",
    "print \"ENCODE    :  \", featToEncode\n",
    "print \"TRANSFORM :  \", featToTransform"
   ]
  },
  {
   "cell_type": "markdown",
   "metadata": {},
   "source": [
    "## La méthode Parse"
   ]
  },
  {
   "cell_type": "code",
   "execution_count": null,
   "metadata": {
    "collapsed": true
   },
   "outputs": [],
   "source": [
    "def parse(X, config, silent=False) :\n",
    "    start = datetime.datetime.today().now()\n",
    "    if not silent:\n",
    "        print '__________________________________________ PARSE __________________________________________'\n",
    "        print '--> ', start.strftime('%d-%m-%Y : %H:%M')\n",
    "        print 'BEFORE : ', X.shape\n",
    "\n",
    "    # Data Transformation\n",
    "    if \"convertVoiesAdmin\" in config[\"featToTransform\"]:\n",
    "        distinctCategs = (X['voies admin']\n",
    "                  .apply(lambda col_value : col_value.split(','))\n",
    "                  .apply(pd.Series)\n",
    "                  .unstack()\n",
    "                  .dropna()\n",
    "                  .unique())\n",
    "\n",
    "        for distinctCateg in distinctCategs:\n",
    "            X[distinctCateg] = X['voies admin'].apply(lambda x : 1 if distinctCateg in x else 0)\n",
    "        \n",
    "        X.drop(\"voies admin\", axis =1, inplace=True)\n",
    "        \n",
    "    if \"convertTx\" in config[\"featToTransform\"]:\n",
    "        print \"convert tx rembours\"\n",
    "        X[\"tx rembours\"] = [int(x.replace(\"%\", \"\")) for x in X[\"tx rembours\"]]\n",
    "    \n",
    "    # Remove target\n",
    "    y_train = X.loc[X.source == 'train',TARGET]\n",
    "    \n",
    "    if \"log\" in config[\"featToTransform\"]:\n",
    "        y_train = y_train.apply(np.log)\n",
    "    \n",
    "    del X[TARGET]\n",
    "    \n",
    "    print \"---Feature to encode \"\n",
    "    #Feature to encode\n",
    "    featToEncode = config[\"featToEncode\"]\n",
    "    for encodeToCat in featToEncode:\n",
    "        print \"encode \" + encodeToCat\n",
    "        le = LabelEncoder()\n",
    "        le.fit(X[encodeToCat])\n",
    "        X.loc[:,encodeToCat] = le.transform(X[encodeToCat])\n",
    "    \n",
    "    print \"---Feature to dummy \"\n",
    "    #Feature to dummy\n",
    "    featToDummy = config[\"featToDummy\"]\n",
    "    if featToDummy:\n",
    "        dums = pd.get_dummies(X[featToDummy]).astype(int)\n",
    "        X = pd.concat([X, dums], axis=1)\n",
    "        X.drop(featToDummy, axis =1, inplace=True)\n",
    "    \n",
    "    print \"---Feature to delete \"\n",
    "    #Feature to delete\n",
    "    featToDel = config[\"featToDel\"]\n",
    "    X.drop(featToDel, axis =1, inplace=True)\n",
    "     \n",
    "    X_train = X[X[SOURCE] == TRAIN]\n",
    "    X_test = X[X[SOURCE] == TEST]    \n",
    "    del X_test[SOURCE]\n",
    "    del X_train[SOURCE]\n",
    "    \n",
    "    \n",
    "    if not silent:\n",
    "        print '%s Elapsed time :%d s' % (datetime.datetime.today().now().strftime('--> %d-%m-%Y : %H:%M'), \n",
    "        (datetime.datetime.today().now().now() - start).total_seconds())\n",
    "        print 'AFTER TRAIN :', X_train.shape\n",
    "        print 'AFTER TEST :', X_test.shape\n",
    "        sys.stdout.flush()\n",
    "    \n",
    "    return X_train, X_test, y_train"
   ]
  },
  {
   "cell_type": "code",
   "execution_count": null,
   "metadata": {
    "collapsed": false
   },
   "outputs": [],
   "source": [
    "X_train, X_test, y_train = parse(BIG.copy(), config)"
   ]
  },
  {
   "cell_type": "markdown",
   "metadata": {},
   "source": [
    "<table style=\"border: 1;\" cellpadding=\"0\" cellspacing=\"0\">\n",
    "<tr style=\"border: 0;\">\n",
    "<td style=\"border: 0;\"><img src=\"files/TDS.png\"> </td>\n",
    "<td style=\"border: 0; text-align: center; font-size: 36px; padding: 0 120px\">Cross Validation & Modèles</td>\n",
    "<td style=\"border: 0;\"><img = src=\"files/MDF2.png\"></td>\n",
    "</tr>\n",
    "</table>"
   ]
  },
  {
   "cell_type": "markdown",
   "metadata": {},
   "source": [
    "## Métrique MAPE\n",
    "\n",
    "La métrique MAPE n'étant pas disponible dans scikit-learn, nous la codons"
   ]
  },
  {
   "cell_type": "code",
   "execution_count": null,
   "metadata": {
    "collapsed": true
   },
   "outputs": [],
   "source": [
    "# Mean Absolute Percentage Error\n",
    "def mape_error(y_true, y_pred): \n",
    "    return np.mean(np.abs((y_true - y_pred) / y_true)) * 100"
   ]
  },
  {
   "cell_type": "markdown",
   "metadata": {},
   "source": [
    "## Cross Validation"
   ]
  },
  {
   "cell_type": "code",
   "execution_count": null,
   "metadata": {
    "collapsed": true
   },
   "outputs": [],
   "source": [
    "def crossVal (X, y, clf, scorer, n_splits=5, random_state =0, shuffle = False) :\n",
    "    \n",
    "    folds= ms.KFold(n_splits=n_splits, shuffle= shuffle)\n",
    "    \n",
    "    # When shuffle=True, pseudo-random number generator state used for shuffling.\n",
    "    # If None, use default numpy RNG for shuffling\n",
    "    \n",
    "    scoreList = []\n",
    "    i = 0\n",
    "    for trainIdx, testIdx in folds.split(X):\n",
    "        i +=1 \n",
    "        XTrainFolds = None; XTestFolds = None; yTrainFolds= None; yTestFolds= None\n",
    "        yPred = []\n",
    "        XTrainFolds, XTestFolds = X.iloc[trainIdx], X.iloc[testIdx]\n",
    "        yTrainFolds, yTestFolds = y.iloc[trainIdx], y.iloc[testIdx]\n",
    "        clf = clf.fit(XTrainFolds, yTrainFolds)\n",
    "        res = clf.predict(XTestFolds)\n",
    "        \n",
    "        if \"log\" in config[\"featToTransform\"]:\n",
    "            score = scorer(np.exp(yTestFolds), np.exp(res))\n",
    "        else:\n",
    "            score = scorer(yTestFolds, res)\n",
    "        \n",
    "        scoreList.append(score)\n",
    "        print \"*** MAPE Error : \" + str(i) + \" - \" + str(score)\n",
    "        sys.stdout.flush()\n",
    "        \n",
    "    print \"----------------\"\n",
    "    print \"  - Mean :\" + str(np.mean(scoreList))\n",
    "    print \"  - Ecart Max-Min :\" + str(np.max(scoreList) - np.min(scoreList))"
   ]
  },
  {
   "cell_type": "code",
   "execution_count": null,
   "metadata": {
    "collapsed": false
   },
   "outputs": [],
   "source": [
    "clf = ExtraTreesRegressor(n_estimators=11, max_features= 'auto', criterion=\"mse\", max_depth=None, min_samples_split=5, n_jobs=-1)\n",
    "\n",
    "#clf = RandomForestRegressor(n_estimators = 50, n_jobs = -1, verbose = 0)\n",
    "\n",
    "#clf = GradientBoostingRegressor(verbose = 1, max_features='auto')"
   ]
  },
  {
   "cell_type": "code",
   "execution_count": null,
   "metadata": {
    "collapsed": false
   },
   "outputs": [],
   "source": [
    "crossVal(X_train, y_train, clf, mape_error)"
   ]
  },
  {
   "cell_type": "markdown",
   "metadata": {},
   "source": [
    "<table style=\"border: 1;\" cellpadding=\"0\" cellspacing=\"0\">\n",
    "<tr style=\"border: 0;\">\n",
    "<td style=\"border: 0;\"><img src=\"files/TDS.png\"> </td>\n",
    "<td style=\"border: 0; text-align: center; font-size: 36px; padding: 0 110px\">Résultats finaux & Soumission</td>\n",
    "<td style=\"border: 0;\"><img = src=\"files/MDF2.png\"></td>\n",
    "</tr>\n",
    "</table>\n"
   ]
  },
  {
   "cell_type": "code",
   "execution_count": null,
   "metadata": {
    "collapsed": false
   },
   "outputs": [],
   "source": [
    "# On entraine de nouveau le modèle, cette fois sur l'intégralité des données\n",
    "clf.fit(X_train, y_train)\n",
    "\n",
    "predictions = clf.predict(X_test)\n",
    "if \"log\" in config[\"featToTransform\"]:\n",
    "    predictions = np.exp(predictions)"
   ]
  },
  {
   "cell_type": "code",
   "execution_count": null,
   "metadata": {
    "collapsed": true
   },
   "outputs": [],
   "source": [
    "pd.DataFrame(predictions, index=test['id']).to_csv('soumission.csv',  \n",
    "                          header=['prix'],\n",
    "                          sep = ';')"
   ]
  }
 ],
 "metadata": {
  "kernelspec": {
   "display_name": "Python 2",
   "language": "python",
   "name": "python2"
  },
  "language_info": {
   "codemirror_mode": {
    "name": "ipython",
    "version": 2
   },
   "file_extension": ".py",
   "mimetype": "text/x-python",
   "name": "python",
   "nbconvert_exporter": "python",
   "pygments_lexer": "ipython2",
   "version": "2.7.12"
  }
 },
 "nbformat": 4,
 "nbformat_minor": 0
}
