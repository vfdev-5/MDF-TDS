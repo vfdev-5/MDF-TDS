{
 "cells": [
  {
   "cell_type": "markdown",
   "metadata": {},
   "source": [
    "# MDF Single model learning by substances and quantities"
   ]
  },
  {
   "cell_type": "code",
   "execution_count": 1,
   "metadata": {
    "collapsed": false
   },
   "outputs": [
    {
     "name": "stderr",
     "output_type": "stream",
     "text": [
      "/usr/local/lib/python2.7/site-packages/matplotlib/font_manager.py:273: UserWarning: Matplotlib is building the font cache using fc-list. This may take a moment.\n",
      "  warnings.warn('Matplotlib is building the font cache using fc-list. This may take a moment.')\n"
     ]
    }
   ],
   "source": [
    "import pandas as pd\n",
    "import numpy as np\n",
    "from sklearn.model_selection import train_test_split\n",
    "from sklearn.preprocessing import StandardScaler\n",
    "from sklearn.model_selection import cross_val_score\n",
    "from sklearn.metrics import make_scorer\n",
    "from sklearn.ensemble import ExtraTreesRegressor, RandomForestRegressor, GradientBoostingRegressor\n",
    "from sklearn.svm import SVR\n",
    "%matplotlib inline"
   ]
  },
  {
   "cell_type": "code",
   "execution_count": 2,
   "metadata": {
    "collapsed": false
   },
   "outputs": [
    {
     "name": "stdout",
     "output_type": "stream",
     "text": [
      "-- get_unique_noconst --\n",
      "- Number of found duplicated rows :  1389\n",
      "- Remove constant columns :  (10846, 41) -> (10846, 41)\n",
      "- Dropped const columns :  \n"
     ]
    }
   ],
   "source": [
    "from prepare_data import PROCESSED_BIG, PROCESSED_SUBSTANCES, PROCESSED_VOIE_ADMIN, TARGET_COLUMNS, TRAIN, TEST, SOURCE"
   ]
  },
  {
   "cell_type": "code",
   "execution_count": 3,
   "metadata": {
    "collapsed": true
   },
   "outputs": [],
   "source": [
    "PROCESSED_TRAIN = PROCESSED_BIG[PROCESSED_BIG[SOURCE] == TRAIN].drop(SOURCE, axis=1)\n",
    "PROCESSED_TRAIN_SUBS = PROCESSED_SUBSTANCES[PROCESSED_SUBSTANCES[SOURCE] == TRAIN].drop(SOURCE, axis=1)\n",
    "PROCESSED_TRAIN_VOIE_ADMIN = PROCESSED_VOIE_ADMIN[PROCESSED_VOIE_ADMIN[SOURCE] == TRAIN].drop(SOURCE, axis=1)"
   ]
  },
  {
   "cell_type": "code",
   "execution_count": 4,
   "metadata": {
    "collapsed": false
   },
   "outputs": [
    {
     "name": "stdout",
     "output_type": "stream",
     "text": [
      "(7400, 39) (7400, 1767) (7400, 45)\n"
     ]
    }
   ],
   "source": [
    "print PROCESSED_TRAIN.shape, PROCESSED_TRAIN_SUBS.shape, PROCESSED_TRAIN_VOIE_ADMIN.shape"
   ]
  },
  {
   "cell_type": "code",
   "execution_count": 5,
   "metadata": {
    "collapsed": true
   },
   "outputs": [
    {
     "data": {
      "text/plain": [
       "array([u'agrement col', u'date amm annee', u'date declar annee',\n",
       "       u'etat commerc', u'forme pharma', u'libelle_ampoule',\n",
       "       u'libelle_capsule', u'libelle_comprime', u'libelle_film',\n",
       "       u'libelle_flacon', u'libelle_gelule', u'libelle_pilulier',\n",
       "       u'libelle_plaquette', u'libelle_poche', u'libelle_sachet',\n",
       "       u'libelle_seringue', u'libelle_stylo', u'libelle_tube',\n",
       "       u'nb_ampoule', u'nb_capsule', u'nb_comprime', u'nb_film',\n",
       "       u'nb_flacon', u'nb_gelule', u'nb_ml', u'nb_pilulier',\n",
       "       u'nb_plaquette', u'nb_poche', u'nb_sachet', u'nb_seringue',\n",
       "       u'nb_stylo', u'nb_tube', u'prix', u'statut', u'statut admin',\n",
       "       u'titulaires', u'tx rembours', u'type proc', 'logprix'], dtype=object)"
      ]
     },
     "execution_count": 5,
     "metadata": {},
     "output_type": "execute_result"
    }
   ],
   "source": [
    "PROCESSED_TRAIN.columns.values"
   ]
  },
  {
   "cell_type": "code",
   "execution_count": 6,
   "metadata": {
    "collapsed": true
   },
   "outputs": [
    {
     "data": {
      "text/plain": [
       "array([u'auriculaire', u'buccogingivale', u'cutan\\xe9e', u'dentaire',\n",
       "       u'endocanalaire', u'endosinusale', u'endotrach\\xe9obronchique',\n",
       "       u'gastrique', u'gastro-ent\\xe9rale', u'gingivale', u'infiltration',\n",
       "       u'inhal\\xe9e', u'intra cholangio-pancr\\xe9atique',\n",
       "       u'intra-articulaire', u'intra-art\\xe9rielle', u'intra-murale',\n",
       "       u'intra-ut\\xe9rine', u'intracaverneuse', u'intradermique',\n",
       "       u'intradurale', u'intral\\xe9sionnelle', u'intramusculaire',\n",
       "       u'intrap\\xe9riton\\xe9ale', u'intras\\xe9reuse', u'intrath\\xe9cale',\n",
       "       u'intraveineuse', u'intraventriculaire c\\xe9r\\xe9brale',\n",
       "       u'intravitr\\xe9enne', u'intrav\\xe9sicale', u'nasale',\n",
       "       u'ophtalmique', u'orale', u'p\\xe9riarticulaire', u'p\\xe9ridurale',\n",
       "       u'p\\xe9rineurale', u'p\\xe9rioculaire', u'rectale',\n",
       "       u'sous-cutan\\xe9e', u'sublinguale', u'transdermique',\n",
       "       u'ur\\xe9trale', u'vaginale', u'voie buccale autre',\n",
       "       u'voie extracorporelle autre', u'voie parent\\xe9rale autre',\n",
       "       'source'], dtype=object)"
      ]
     },
     "execution_count": 6,
     "metadata": {},
     "output_type": "execute_result"
    }
   ],
   "source": [
    "PROCESSED_VOIE_ADMIN.columns.values"
   ]
  },
  {
   "cell_type": "code",
   "execution_count": 7,
   "metadata": {
    "collapsed": true
   },
   "outputs": [
    {
     "data": {
      "text/plain": [
       "array([ u' - A/CALIFORNIA/7/2009 A/CALIFORNIA/7/2009 ANALOGUE ANTIGENES GRIPPE H1N1PDM09 SOUCHE SOUCHE SURFACE VIRUS X-181',\n",
       "       u' - A/CALIFORNIA/7/2009 A/CALIFORNIA/7/2009 ANALOGUE FRAGMENTE GRIPPE H1N1PDM09 INACTIVE NYMC SOUCHE SOUCHE VIRUS X-179A',\n",
       "       u' - A/CALIFORNIA/7/2009 A/CHRISTCHURCH/16/2010 ANALOGUE FRAGMENTE GRIPPE H1N1 INACTIVE NIB-74XP PDM09 SOUCHE SOUCHE VIRUS',\n",
       "       ..., u'ZUCLOPENTHIXOLCANOATE', '_ENCODED_', 'source'], dtype=object)"
      ]
     },
     "execution_count": 7,
     "metadata": {},
     "output_type": "execute_result"
    }
   ],
   "source": [
    "PROCESSED_SUBSTANCES.columns.values"
   ]
  },
  {
   "cell_type": "markdown",
   "metadata": {},
   "source": [
    "## Metric MAPE"
   ]
  },
  {
   "cell_type": "code",
   "execution_count": 8,
   "metadata": {
    "collapsed": true
   },
   "outputs": [],
   "source": [
    "# Mean Absolute Percentage Error\n",
    "def mape_error(y_true, y_pred, **kwards): \n",
    "    return np.mean(np.abs((y_true - y_pred) / y_true)) * 100"
   ]
  },
  {
   "cell_type": "markdown",
   "metadata": {
    "collapsed": true
   },
   "source": [
    "## Learn by medecin types, substances and its quantities"
   ]
  },
  {
   "cell_type": "code",
   "execution_count": 88,
   "metadata": {
    "collapsed": false
   },
   "outputs": [],
   "source": [
    "types = [u'nb_capsule', u'nb_comprime',  u'nb_gelule', u'nb_ml', u'nb_sachet', u'nb_flacon']\n",
    "packages = [u'nb_ampoule', u'nb_film', u'nb_flacon', u'nb_pilulier', u'nb_plaquette', u'nb_poche', u'nb_seringue', u'nb_stylo', u'nb_tube']\n",
    "types_and_packages = list(types)\n",
    "types_and_packages.extend(packages)"
   ]
  },
  {
   "cell_type": "code",
   "execution_count": 9,
   "metadata": {
    "collapsed": false
   },
   "outputs": [],
   "source": [
    "df = PROCESSED_TRAIN\n",
    "df_subs = PROCESSED_TRAIN_SUBS.drop(['_ENCODED_'], axis=1)"
   ]
  },
  {
   "cell_type": "code",
   "execution_count": 10,
   "metadata": {
    "collapsed": false
   },
   "outputs": [],
   "source": [
    "from common.preprocessing_helper import drop_const_cols\n",
    "\n",
    "def create_df_subs_quants(df_subs, series_quants):\n",
    "    cols = df_subs.columns\n",
    "    df_subs_quants = pd.DataFrame(columns=cols)\n",
    "    for c in cols:\n",
    "        df_subs_quants[c] = df_subs[c] * series_quants\n",
    "    return df_subs_quants"
   ]
  },
  {
   "cell_type": "markdown",
   "metadata": {},
   "source": [
    "### Learn by type : 'capsule'"
   ]
  },
  {
   "cell_type": "code",
   "execution_count": 11,
   "metadata": {
    "collapsed": false
   },
   "outputs": [
    {
     "name": "stdout",
     "output_type": "stream",
     "text": [
      "Select type only :  nb_capsule\n",
      "Found lines (med has the type):  46\n",
      "Found lines (med has the type only) :  46\n"
     ]
    }
   ],
   "source": [
    "index = 0\n",
    "print \"Select type only : \", types[index]\n",
    "mask = df[types[index]] > 0\n",
    "print \"Found lines (med has the type): \", len(df[mask])\n",
    "indices = range(len(types))\n",
    "indices.remove(index)\n",
    "for i in indices:\n",
    "    mask &= df[types[i]] < 1\n",
    "    \n",
    "print \"Found lines (med has the type only) : \", len(df[mask])\n",
    "df_prices = df[mask]['logprix']"
   ]
  },
  {
   "cell_type": "code",
   "execution_count": 13,
   "metadata": {
    "collapsed": false
   },
   "outputs": [
    {
     "data": {
      "text/plain": [
       "<matplotlib.axes._subplots.AxesSubplot at 0x10f087610>"
      ]
     },
     "execution_count": 13,
     "metadata": {},
     "output_type": "execute_result"
    },
    {
     "data": {
      "image/png": "[encoded data removed]",
      "text/plain": [
       "<matplotlib.figure.Figure at 0x110160a10>"
      ]
     },
     "metadata": {},
     "output_type": "display_data"
    }
   ],
   "source": [
    "df_prices.hist(bins=100)"
   ]
  },
  {
   "cell_type": "code",
   "execution_count": 14,
   "metadata": {
    "collapsed": false
   },
   "outputs": [
    {
     "name": "stdout",
     "output_type": "stream",
     "text": [
      "(46, 1766)\n"
     ]
    }
   ],
   "source": [
    "df_subs_quants = create_df_subs_quants(df_subs[mask], df[mask][types[index]])\n",
    "print df_subs_quants.shape"
   ]
  },
  {
   "cell_type": "markdown",
   "metadata": {},
   "source": [
    "#### Add packages"
   ]
  },
  {
   "cell_type": "code",
   "execution_count": 15,
   "metadata": {
    "collapsed": false
   },
   "outputs": [
    {
     "name": "stdout",
     "output_type": "stream",
     "text": [
      "(46, 1776)\n"
     ]
    }
   ],
   "source": [
    "df_subs_quants_packs = pd.concat([df_subs_quants, df[mask][packages]], axis=1)\n",
    "print df_subs_quants_packs.shape"
   ]
  },
  {
   "cell_type": "markdown",
   "metadata": {},
   "source": [
    "#### Add other features "
   ]
  },
  {
   "cell_type": "code",
   "execution_count": 16,
   "metadata": {
    "collapsed": false
   },
   "outputs": [
    {
     "name": "stdout",
     "output_type": "stream",
     "text": [
      "(46, 1786)\n"
     ]
    }
   ],
   "source": [
    "cols_to_drop = list(types); cols_to_drop.extend(packages); cols_to_drop.extend(TARGET_COLUMNS)\n",
    "cols_to_drop.extend([u'libelle_ampoule', u'libelle_capsule', u'libelle_comprime', u'libelle_film', u'libelle_flacon', u'libelle_gelule', u'libelle_pilulier', u'libelle_plaquette', u'libelle_poche', u'libelle_sachet', u'libelle_seringue', u'libelle_stylo', u'libelle_tube'])\n",
    "other_features = df.drop(cols_to_drop, axis=1)\n",
    "df_subs_quants_others = pd.concat([df_subs_quants_packs, other_features[mask]], axis=1)\n",
    "print df_subs_quants_others.shape"
   ]
  },
  {
   "cell_type": "markdown",
   "metadata": {},
   "source": [
    "#### Add voie admin"
   ]
  },
  {
   "cell_type": "code",
   "execution_count": 17,
   "metadata": {
    "collapsed": false
   },
   "outputs": [
    {
     "name": "stdout",
     "output_type": "stream",
     "text": [
      "(46, 1821)\n"
     ]
    }
   ],
   "source": [
    "df_subs_quants_packs_va = pd.concat([df_subs_quants_packs, PROCESSED_TRAIN_VOIE_ADMIN[mask]], axis=1)\n",
    "print df_subs_quants_packs_va.shape"
   ]
  },
  {
   "cell_type": "markdown",
   "metadata": {},
   "source": [
    "#### Remove all zero columns"
   ]
  },
  {
   "cell_type": "code",
   "execution_count": 18,
   "metadata": {
    "collapsed": false
   },
   "outputs": [
    {
     "name": "stdout",
     "output_type": "stream",
     "text": [
      "df_subs_quants ->  (46, 22)\n",
      "df_subs_quants_packs ->  (46, 25)\n",
      "df_subs_quants_others ->  (46, 34)\n",
      "df_subs_quants_packs_va ->  (46, 27)\n"
     ]
    }
   ],
   "source": [
    "df_subs_quants = drop_const_cols(df_subs_quants)\n",
    "df_subs_quants_packs = drop_const_cols(df_subs_quants_packs)\n",
    "df_subs_quants_others = drop_const_cols(df_subs_quants_others)\n",
    "df_subs_quants_packs_va = drop_const_cols(df_subs_quants_packs_va)\n",
    "\n",
    "print \"df_subs_quants -> \", df_subs_quants.shape\n",
    "print \"df_subs_quants_packs -> \", df_subs_quants_packs.shape\n",
    "print \"df_subs_quants_others -> \", df_subs_quants_others.shape\n",
    "print \"df_subs_quants_packs_va -> \", df_subs_quants_packs_va.shape\n",
    "# print \"- Remove constant columns : \", df_subs_quants_others.shape, '->', res.shape\n",
    "# print \"- Dropped const columns : \", \n",
    "# if len(df_subs_quants_others.columns) > len(res.columns):\n",
    "#     print df_subs_quants_others.columns.difference(res.columns).values\n",
    "# print \"\"\n",
    "# df_subs_quants_others = res\n",
    "# del res"
   ]
  },
  {
   "cell_type": "markdown",
   "metadata": {},
   "source": [
    "#### Split and learn"
   ]
  },
  {
   "cell_type": "code",
   "execution_count": 20,
   "metadata": {
    "collapsed": false
   },
   "outputs": [],
   "source": [
    "y = df_prices\n",
    "X = StandardScaler().fit_transform(df_subs_quants)\n",
    "XX = StandardScaler().fit_transform(df_subs_quants_packs_va)\n",
    "\n",
    "X_train, X_test, XX_train, XX_test, y_train, y_test = train_test_split(X, XX, y, train_size=0.75)"
   ]
  },
  {
   "cell_type": "code",
   "execution_count": 21,
   "metadata": {
    "collapsed": false
   },
   "outputs": [],
   "source": [
    "rf = RandomForestRegressor(n_estimators = 35, n_jobs = -1, verbose = 0)"
   ]
  },
  {
   "cell_type": "code",
   "execution_count": 22,
   "metadata": {
    "collapsed": false
   },
   "outputs": [
    {
     "name": "stdout",
     "output_type": "stream",
     "text": [
      "0.845274547088\n",
      "19.3195297181\n",
      "42.6397809023\n",
      "0.8559892565\n",
      "20.71265451\n",
      "44.3137529296\n",
      "[ 1.1817625   1.61630301  1.1817625   2.4523484   2.76003835  2.81336815\n",
      "  2.76003835  1.61630301  1.80585173  1.80585173]\n",
      "[ 1.19114698  1.91967433  1.19114698  2.29401976  2.8482254   2.72067537\n",
      "  2.72867668  1.61241544  1.9392601   1.9392601 ]\n",
      "[ 0.93216408  1.49514877  2.02683159  1.65441128  2.48490665  1.95444505\n",
      "  2.59450816  1.37876609  2.30058309  6.77745295]\n"
     ]
    }
   ],
   "source": [
    "rf.fit(X_train, y_train)\n",
    "score = rf.score(X_train, y_train)\n",
    "print score\n",
    "res0 = rf.predict(X_train)\n",
    "res1 = rf.predict(X_test)\n",
    "print mape_error(y_train, res0)\n",
    "print mape_error(y_test, res1)\n",
    "\n",
    "rf.fit(XX_train, y_train)\n",
    "score = rf.score(XX_train, y_train)\n",
    "print score\n",
    "res01 = rf.predict(XX_train)\n",
    "res11 = rf.predict(XX_test)\n",
    "print mape_error(y_train, res01)\n",
    "print mape_error(y_test, res11)\n",
    "\n",
    "\n",
    "print res1[:10]\n",
    "print res11[:10]\n",
    "print y_test.values[:10]"
   ]
  },
  {
   "cell_type": "code",
   "execution_count": 23,
   "metadata": {
    "collapsed": true
   },
   "outputs": [],
   "source": [
    "X0 = df_subs_quants_packs_va\n",
    "y = df_prices\n",
    "\n",
    "X = StandardScaler().fit_transform(X0)\n",
    "X_train, X_test, y_train, y_test = train_test_split(X, y, train_size=0.75)"
   ]
  },
  {
   "cell_type": "code",
   "execution_count": 24,
   "metadata": {
    "collapsed": false
   },
   "outputs": [],
   "source": [
    "rf = RandomForestRegressor(n_estimators = 35, n_jobs = -1, verbose = 0)"
   ]
  },
  {
   "cell_type": "code",
   "execution_count": 25,
   "metadata": {
    "collapsed": false
   },
   "outputs": [
    {
     "name": "stdout",
     "output_type": "stream",
     "text": [
      "0.859592892678\n",
      "18.3542238593\n",
      "53.9691290195\n",
      "[ 1.44695951  2.49752719  1.52140662  2.38257469  1.76418749  1.76418749\n",
      "  1.44695951  1.74946681  1.52140662  1.76418749]\n",
      "[ 1.47247206  2.59450816  2.48490665  2.48490665  0.63657683  0.47623418\n",
      "  1.19088756  3.10279135  1.49514877  4.49880917]\n"
     ]
    }
   ],
   "source": [
    "rf.fit(X_train, y_train)\n",
    "score = rf.score(X_train, y_train)\n",
    "print score\n",
    "res0 = rf.predict(X_train)\n",
    "res1 = rf.predict(X_test)\n",
    "print mape_error(y_train, res0)\n",
    "print mape_error(y_test, res1)\n",
    "print res1[:10]\n",
    "print y_test.values[:10]"
   ]
  },
  {
   "cell_type": "code",
   "execution_count": 26,
   "metadata": {
    "collapsed": false
   },
   "outputs": [
    {
     "name": "stdout",
     "output_type": "stream",
     "text": [
      "0.889259448188\n",
      "14.6858954783\n",
      "30.4590834935\n"
     ]
    }
   ],
   "source": [
    "svr = SVR(kernel='linear', C=3)\n",
    "svr.fit(X_train, y_train)\n",
    "score = svr.score(X_train, y_train)\n",
    "print score\n",
    "res0 = svr.predict(X_train)\n",
    "res1 = svr.predict(X_test)\n",
    "print mape_error(y_train, res0)\n",
    "print mape_error(y_test, res1)"
   ]
  },
  {
   "cell_type": "code",
   "execution_count": 27,
   "metadata": {
    "collapsed": false
   },
   "outputs": [
    {
     "name": "stdout",
     "output_type": "stream",
     "text": [
      "0.966090118035\n",
      "10.4642191587\n",
      "76.1851664247\n"
     ]
    }
   ],
   "source": [
    "gbr = GradientBoostingRegressor(verbose = 0, max_features='auto')\n",
    "gbr.fit(X_train, y_train)\n",
    "score = gbr.score(X_train, y_train)\n",
    "print score\n",
    "res0 = gbr.predict(X_train)\n",
    "res1 = gbr.predict(X_test)\n",
    "print mape_error(y_train, res0)\n",
    "print mape_error(y_test, res1)"
   ]
  },
  {
   "cell_type": "markdown",
   "metadata": {},
   "source": [
    "#### Cross validation scoring"
   ]
  },
  {
   "cell_type": "code",
   "execution_count": 28,
   "metadata": {
    "collapsed": true
   },
   "outputs": [],
   "source": [
    "def run_cv(data, targets, clf, cv=10):\n",
    "    X0 = data\n",
    "    y = targets\n",
    "    X = StandardScaler().fit_transform(X0)\n",
    "    scores = cross_val_score(clf, X, y, cv=cv, scoring=make_scorer(mape_error))\n",
    "    print scores      \n",
    "    print scores.mean(), scores.std()"
   ]
  },
  {
   "cell_type": "code",
   "execution_count": 29,
   "metadata": {
    "collapsed": false
   },
   "outputs": [
    {
     "name": "stdout",
     "output_type": "stream",
     "text": [
      "[ 38.6539566   16.43761625  21.29502332  27.06044148  44.6463449\n",
      "  74.44724667  16.51937676  49.62048107  23.43287163  60.10163998]\n",
      "37.221499866 18.7822942659\n",
      "[ 37.26146064  15.03939301  44.63602324  28.08358968  44.83856298\n",
      "  72.99287711  17.82553427  54.18574444  20.76572037  55.45924826]\n",
      "39.1088153982 17.8882998714\n",
      "[ 23.69439358  27.03640641  62.15180567  23.09291177  24.65542317\n",
      "  67.08645463  14.79748898  62.46772277  30.18632047  56.8177618 ]\n",
      "39.1986689252 19.2153609909\n",
      "[ 35.70873983  16.70420413  41.40209696  25.04383973  44.02093674\n",
      "  82.22346409  13.76534602  55.72795203  18.46937725  68.96608593]\n",
      "40.2032042712 21.9626158541\n"
     ]
    }
   ],
   "source": [
    "run_cv(df_subs_quants, df_prices, rf)\n",
    "run_cv(df_subs_quants_packs, df_prices, rf)\n",
    "run_cv(df_subs_quants_others, df_prices, rf)\n",
    "run_cv(df_subs_quants_packs_va, df_prices, rf)"
   ]
  },
  {
   "cell_type": "code",
   "execution_count": 30,
   "metadata": {
    "collapsed": false
   },
   "outputs": [
    {
     "name": "stdout",
     "output_type": "stream",
     "text": [
      "[ 40.31172445  26.20863574  17.44950576  39.32853395  43.75747788\n",
      "  65.00670025  23.5785269   44.45078557  20.70684904  60.22317809]\n",
      "38.1021917651 15.4058053031\n",
      "[ 41.26666762  23.76788611  30.8080135   39.33532982  44.77836295\n",
      "  65.00623599  20.40450997  44.45204049  16.57446131  60.23004168]\n",
      "38.6623549429 15.3038765088\n",
      "[ 19.58778835  29.62359858  31.70621632  49.2868564   20.64653203\n",
      "  60.92017443  25.75331389  48.23583442  48.44239325  58.65277129]\n",
      "39.2855478961 14.752842293\n",
      "[ 45.94031642  21.8653949   25.33490746  33.84845059  45.81990098\n",
      "  56.07133287  19.56743934  37.4528097   16.44230933  87.73520639]\n",
      "39.0078067998 20.3886358237\n"
     ]
    }
   ],
   "source": [
    "run_cv(df_subs_quants, df_prices, svr)\n",
    "run_cv(df_subs_quants_packs, df_prices, svr)\n",
    "run_cv(df_subs_quants_others, df_prices, svr)\n",
    "run_cv(df_subs_quants_packs_va, df_prices, svr)"
   ]
  },
  {
   "cell_type": "code",
   "execution_count": 31,
   "metadata": {
    "collapsed": false
   },
   "outputs": [
    {
     "name": "stdout",
     "output_type": "stream",
     "text": [
      "[ 35.28044582  20.36041236  37.03209974  45.40510218  43.87191871\n",
      "  95.04584153  15.69540141  78.14119427  27.81635906  78.31620278]\n",
      "47.696497786 25.6139093335\n",
      "[ 35.49855605  19.28414731  74.46743548  45.40510218  44.76833845\n",
      "  94.96380945  14.3228962   80.28056092  28.3243635   81.45403404]\n",
      "51.8769243597 27.2697039613\n",
      "[ 17.37250994  32.97768886  63.46166003  38.59849     38.0189014\n",
      "  78.0019171   20.04668944  71.73549335  42.84854461  58.17071933]\n",
      "46.1232614065 19.8252929915\n",
      "[  31.90374038   18.24627488   51.75486931   31.55694861   36.59229511\n",
      "  106.06882197   15.53573496   85.49026693   23.10435506   86.75574656]\n",
      "48.7009053792 30.8339220588\n"
     ]
    }
   ],
   "source": [
    "run_cv(df_subs_quants, df_prices, gbr)\n",
    "run_cv(df_subs_quants_packs, df_prices, gbr)\n",
    "run_cv(df_subs_quants_others, df_prices, gbr)\n",
    "run_cv(df_subs_quants_packs_va, df_prices, gbr)"
   ]
  },
  {
   "cell_type": "markdown",
   "metadata": {},
   "source": [
    "### Learn by type : 'gelule'"
   ]
  },
  {
   "cell_type": "code",
   "execution_count": 32,
   "metadata": {
    "collapsed": false
   },
   "outputs": [
    {
     "name": "stdout",
     "output_type": "stream",
     "text": [
      "Select type only :  nb_gelule\n",
      "Found lines (med has the type):  914\n",
      "Found lines (med has the type only) :  914\n"
     ]
    }
   ],
   "source": [
    "index = 2\n",
    "print \"Select type only : \", types[index]\n",
    "mask = df[types[index]] > 0\n",
    "print \"Found lines (med has the type): \", len(df[mask])\n",
    "indices = range(len(types))\n",
    "indices.remove(index)\n",
    "for i in indices:\n",
    "    mask &= df[types[i]] < 1\n",
    "    \n",
    "print \"Found lines (med has the type only) : \", len(df[mask])\n",
    "df_logprices = df[mask]['logprix']"
   ]
  },
  {
   "cell_type": "code",
   "execution_count": 33,
   "metadata": {
    "collapsed": false
   },
   "outputs": [
    {
     "name": "stdout",
     "output_type": "stream",
     "text": [
      "(914, 1766)\n"
     ]
    }
   ],
   "source": [
    "df_subs_quants = create_df_subs_quants(df_subs[mask], df[mask][types[index]])\n",
    "print df_subs_quants.shape"
   ]
  },
  {
   "cell_type": "markdown",
   "metadata": {},
   "source": [
    "#### Add packages"
   ]
  },
  {
   "cell_type": "code",
   "execution_count": 34,
   "metadata": {
    "collapsed": false
   },
   "outputs": [
    {
     "name": "stdout",
     "output_type": "stream",
     "text": [
      "(914, 1776)\n"
     ]
    }
   ],
   "source": [
    "df_subs_quants_packs = pd.concat([df_subs_quants, df[mask][packages]], axis=1)\n",
    "print df_subs_quants_packs.shape"
   ]
  },
  {
   "cell_type": "markdown",
   "metadata": {},
   "source": [
    "#### Add other features "
   ]
  },
  {
   "cell_type": "code",
   "execution_count": 35,
   "metadata": {
    "collapsed": false
   },
   "outputs": [
    {
     "name": "stdout",
     "output_type": "stream",
     "text": [
      "(914, 1786)\n"
     ]
    }
   ],
   "source": [
    "cols_to_drop = list(types); cols_to_drop.extend(packages); cols_to_drop.extend(TARGET_COLUMNS)\n",
    "cols_to_drop.extend([u'libelle_ampoule', u'libelle_capsule', u'libelle_comprime', u'libelle_film', u'libelle_flacon', u'libelle_gelule', u'libelle_pilulier', u'libelle_plaquette', u'libelle_poche', u'libelle_sachet', u'libelle_seringue', u'libelle_stylo', u'libelle_tube'])\n",
    "other_features = df.drop(cols_to_drop, axis=1)\n",
    "df_subs_quants_others = pd.concat([df_subs_quants_packs, other_features[mask]], axis=1)\n",
    "print df_subs_quants_others.shape"
   ]
  },
  {
   "cell_type": "markdown",
   "metadata": {},
   "source": [
    "#### Add voie admin"
   ]
  },
  {
   "cell_type": "code",
   "execution_count": 36,
   "metadata": {
    "collapsed": false
   },
   "outputs": [
    {
     "name": "stdout",
     "output_type": "stream",
     "text": [
      "(914, 1821)\n"
     ]
    }
   ],
   "source": [
    "df_subs_quants_packs_va = pd.concat([df_subs_quants_packs, PROCESSED_TRAIN_VOIE_ADMIN[mask]], axis=1)\n",
    "print df_subs_quants_packs_va.shape"
   ]
  },
  {
   "cell_type": "markdown",
   "metadata": {},
   "source": [
    "#### Remove all zero columns"
   ]
  },
  {
   "cell_type": "code",
   "execution_count": 37,
   "metadata": {
    "collapsed": false
   },
   "outputs": [
    {
     "name": "stdout",
     "output_type": "stream",
     "text": [
      "df_subs_quants ->  (914, 210)\n",
      "df_subs_quants_packs ->  (914, 212)\n",
      "df_subs_quants_others ->  (914, 221)\n",
      "df_subs_quants_packs_va ->  (914, 215)\n"
     ]
    }
   ],
   "source": [
    "df_subs_quants = drop_const_cols(df_subs_quants)\n",
    "df_subs_quants_packs = drop_const_cols(df_subs_quants_packs)\n",
    "df_subs_quants_others = drop_const_cols(df_subs_quants_others)\n",
    "df_subs_quants_packs_va = drop_const_cols(df_subs_quants_packs_va)\n",
    "\n",
    "print \"df_subs_quants -> \", df_subs_quants.shape\n",
    "print \"df_subs_quants_packs -> \", df_subs_quants_packs.shape\n",
    "print \"df_subs_quants_others -> \", df_subs_quants_others.shape\n",
    "print \"df_subs_quants_packs_va -> \", df_subs_quants_packs_va.shape"
   ]
  },
  {
   "cell_type": "markdown",
   "metadata": {},
   "source": [
    "#### Split and learn"
   ]
  },
  {
   "cell_type": "code",
   "execution_count": 38,
   "metadata": {
    "collapsed": true
   },
   "outputs": [],
   "source": [
    "X0 = df_subs_quants_packs_va\n",
    "ylog = df_logprices\n",
    "\n",
    "X = StandardScaler().fit_transform(X0)\n",
    "X_train, X_test, ylog_train, ylog_test = train_test_split(X, ylog, train_size=0.80)"
   ]
  },
  {
   "cell_type": "code",
   "execution_count": 39,
   "metadata": {
    "collapsed": false
   },
   "outputs": [],
   "source": [
    "rf = RandomForestRegressor(n_estimators = 50, n_jobs = -1, verbose = 0)"
   ]
  },
  {
   "cell_type": "code",
   "execution_count": 40,
   "metadata": {
    "collapsed": false
   },
   "outputs": [
    {
     "name": "stdout",
     "output_type": "stream",
     "text": [
      "0.921189062392\n",
      "12.7474964438\n",
      "18.5461692228\n"
     ]
    }
   ],
   "source": [
    "rf.fit(X_train, ylog_train)\n",
    "score = rf.score(X_train, ylog_train)\n",
    "print score\n",
    "res0 = rf.predict(X_train)\n",
    "res1 = rf.predict(X_test)\n",
    "print mape_error(ylog_train, res0)\n",
    "print mape_error(ylog_test, res1)"
   ]
  },
  {
   "cell_type": "code",
   "execution_count": 41,
   "metadata": {
    "collapsed": false
   },
   "outputs": [
    {
     "name": "stdout",
     "output_type": "stream",
     "text": [
      "0.835995567074\n",
      "21.6439387828\n",
      "28.1169872988\n"
     ]
    }
   ],
   "source": [
    "svr = SVR(kernel='linear', C=1)\n",
    "svr.fit(X_train, ylog_train)\n",
    "score = svr.score(X_train, ylog_train)\n",
    "print score\n",
    "res0 = svr.predict(X_train)\n",
    "res1 = svr.predict(X_test)\n",
    "print mape_error(ylog_train, res0)\n",
    "print mape_error(ylog_test, res1)"
   ]
  },
  {
   "cell_type": "code",
   "execution_count": 42,
   "metadata": {
    "collapsed": false
   },
   "outputs": [
    {
     "name": "stdout",
     "output_type": "stream",
     "text": [
      "0.684771538956\n",
      "53.4773691843\n",
      "54.8759914867\n"
     ]
    }
   ],
   "source": [
    "gbr = GradientBoostingRegressor(verbose = 0, max_features='auto')\n",
    "gbr.fit(X_train, ylog_train)\n",
    "score = gbr.score(X_train, ylog_train)\n",
    "print score\n",
    "res0 = gbr.predict(X_train)\n",
    "res1 = gbr.predict(X_test)\n",
    "print mape_error(ylog_train, res0)\n",
    "print mape_error(ylog_test, res1)"
   ]
  },
  {
   "cell_type": "markdown",
   "metadata": {},
   "source": [
    "#### Cross validation scoring"
   ]
  },
  {
   "cell_type": "code",
   "execution_count": 43,
   "metadata": {
    "collapsed": true
   },
   "outputs": [],
   "source": [
    "def run_cv(data, targets, clf, cv=10):\n",
    "    X0 = data\n",
    "    ylog = targets\n",
    "    X = StandardScaler().fit_transform(X0)\n",
    "    scores = cross_val_score(clf, X, ylog, cv=cv, scoring=make_scorer(mape_error))\n",
    "    print scores      \n",
    "    print scores.mean(), scores.std()"
   ]
  },
  {
   "cell_type": "code",
   "execution_count": 44,
   "metadata": {
    "collapsed": false
   },
   "outputs": [
    {
     "name": "stdout",
     "output_type": "stream",
     "text": [
      "[ 15.09454395  19.14960995  19.21588718  19.20299058  20.11976443\n",
      "  19.75442461  39.06989099  17.48013229  14.53908731  16.52855447]\n",
      "20.0154885774 6.61809601113\n",
      "[ 22.398357    19.14948806  19.15520174  18.29846817  19.79997032\n",
      "  20.09232311  39.64940287  17.98341237  13.13094521  17.07478961]\n",
      "20.6732358462 6.71942616643\n",
      "[ 17.18412181  15.4670884   22.88832667  21.45521175  19.6639411\n",
      "  20.37452478  43.25830295  19.902727    16.36190149  17.47010859]\n",
      "21.4026254544 7.61649776499\n",
      "[ 21.58330703  18.63504491  18.64372712  18.5949822   19.30912467\n",
      "  20.00268265  40.09595632  18.53141712  13.74213339  17.38515021]\n",
      "20.6523525629 6.75579545284\n"
     ]
    }
   ],
   "source": [
    "run_cv(df_subs_quants, ylog, rf)\n",
    "run_cv(df_subs_quants_packs, ylog, rf)\n",
    "run_cv(df_subs_quants_others, ylog, rf)\n",
    "run_cv(df_subs_quants_packs_va, ylog, rf)"
   ]
  },
  {
   "cell_type": "code",
   "execution_count": 45,
   "metadata": {
    "collapsed": false,
    "scrolled": true
   },
   "outputs": [
    {
     "name": "stdout",
     "output_type": "stream",
     "text": [
      "[ 28.64346838  27.7085012   28.41081883  31.5556663   25.66205787\n",
      "  29.05280042  44.01797872  24.95934422  31.81949553  27.36131098]\n",
      "29.9191442445 5.1368421559\n",
      "[ 28.85210342  27.178233    27.93869947  32.11744714  26.71187001\n",
      "  27.96184892  43.17785544  25.56534056  31.15438433  27.34548902]\n",
      "29.8003271308 4.84025674993\n",
      "[ 25.09907603  28.41641543  26.57142711  30.68089314  25.88680316\n",
      "  27.25083559  37.89695407  24.02825541  25.42270978  26.65932334]\n",
      "27.791269307 3.80226547054\n",
      "[ 28.85460276  27.23887357  27.90092124  32.12547614  26.78047683\n",
      "  28.06189457  44.55234032  25.43965838  31.39143502  27.43230279]\n",
      "29.9777981621 5.2256355818\n"
     ]
    }
   ],
   "source": [
    "run_cv(df_subs_quants, ylog, svr)\n",
    "run_cv(df_subs_quants_packs, ylog, svr)\n",
    "run_cv(df_subs_quants_others, ylog, svr)\n",
    "run_cv(df_subs_quants_packs_va, ylog, svr)"
   ]
  },
  {
   "cell_type": "code",
   "execution_count": 46,
   "metadata": {
    "collapsed": false,
    "scrolled": false
   },
   "outputs": [
    {
     "name": "stdout",
     "output_type": "stream",
     "text": [
      "[ 43.70920401  67.89937465  50.81909644  47.52554874  64.59929876\n",
      "  53.73597136  92.09906051  48.41747377  72.54632581  52.16609344]\n",
      "59.3517447488 14.167446193\n",
      "[ 44.5155889   63.95881162  48.86241243  46.08994632  62.23619347\n",
      "  52.77364673  90.69217316  48.72020391  72.3552735   50.24484585]\n",
      "58.0449095885 13.8167676873\n",
      "[ 37.46155283  53.83368436  42.1873981   40.85500196  51.01971289\n",
      "  45.15394919  78.53965181  41.83944596  59.57858693  41.76339461]\n",
      "49.2232378624 11.7293022935\n",
      "[ 44.5155889   63.9657285   48.85409881  46.08994632  62.23619347\n",
      "  52.77364673  90.70254598  48.72020391  72.3552735   50.24460239]\n",
      "58.0457828506 13.8200813601\n"
     ]
    }
   ],
   "source": [
    "run_cv(df_subs_quants, ylog, gbr)\n",
    "run_cv(df_subs_quants_packs, ylog, gbr)\n",
    "run_cv(df_subs_quants_others, ylog, gbr)\n",
    "run_cv(df_subs_quants_packs_va, ylog, gbr)"
   ]
  },
  {
   "cell_type": "code",
   "execution_count": null,
   "metadata": {
    "collapsed": true
   },
   "outputs": [],
   "source": []
  },
  {
   "cell_type": "code",
   "execution_count": null,
   "metadata": {
    "collapsed": true
   },
   "outputs": [],
   "source": []
  },
  {
   "cell_type": "markdown",
   "metadata": {},
   "source": [
    "### Learn by type : 'comprime' et 'gelule'"
   ]
  },
  {
   "cell_type": "code",
   "execution_count": 47,
   "metadata": {
    "collapsed": false
   },
   "outputs": [
    {
     "name": "stdout",
     "output_type": "stream",
     "text": [
      "Select types :  nb_capsule nb_gelule\n",
      "Found lines (med has the type):  960\n"
     ]
    }
   ],
   "source": [
    "index1 = 0\n",
    "index2 = 2\n",
    "print \"Select types : \", types[index1], types[index2]\n",
    "mask = (df[types[index1]] > 0) | (df[types[index2]] > 0)\n",
    "print \"Found lines (med has the type): \", len(df[mask])\n",
    "df_logprices = df[mask]['logprix']"
   ]
  },
  {
   "cell_type": "code",
   "execution_count": 48,
   "metadata": {
    "collapsed": false
   },
   "outputs": [
    {
     "name": "stdout",
     "output_type": "stream",
     "text": [
      "(960, 1766)\n"
     ]
    }
   ],
   "source": [
    "df_subs_quants = create_df_subs_quants(df_subs[mask], df[mask][types[index]])\n",
    "print df_subs_quants.shape"
   ]
  },
  {
   "cell_type": "markdown",
   "metadata": {},
   "source": [
    "#### Add packages"
   ]
  },
  {
   "cell_type": "code",
   "execution_count": 49,
   "metadata": {
    "collapsed": false
   },
   "outputs": [
    {
     "name": "stdout",
     "output_type": "stream",
     "text": [
      "(960, 1776)\n"
     ]
    }
   ],
   "source": [
    "df_subs_quants_packs = pd.concat([df_subs_quants, df[mask][packages]], axis=1)\n",
    "print df_subs_quants_packs.shape"
   ]
  },
  {
   "cell_type": "markdown",
   "metadata": {},
   "source": [
    "#### Add other features "
   ]
  },
  {
   "cell_type": "code",
   "execution_count": 50,
   "metadata": {
    "collapsed": false
   },
   "outputs": [
    {
     "name": "stdout",
     "output_type": "stream",
     "text": [
      "(960, 1786)\n"
     ]
    }
   ],
   "source": [
    "cols_to_drop = list(types); cols_to_drop.extend(packages); cols_to_drop.extend(TARGET_COLUMNS)\n",
    "cols_to_drop.extend([u'libelle_ampoule', u'libelle_capsule', u'libelle_comprime', u'libelle_film', u'libelle_flacon', u'libelle_gelule', u'libelle_pilulier', u'libelle_plaquette', u'libelle_poche', u'libelle_sachet', u'libelle_seringue', u'libelle_stylo', u'libelle_tube'])\n",
    "other_features = df.drop(cols_to_drop, axis=1)\n",
    "df_subs_quants_others = pd.concat([df_subs_quants_packs, other_features[mask]], axis=1)\n",
    "print df_subs_quants_others.shape"
   ]
  },
  {
   "cell_type": "markdown",
   "metadata": {},
   "source": [
    "#### Add voie admin"
   ]
  },
  {
   "cell_type": "code",
   "execution_count": 51,
   "metadata": {
    "collapsed": false
   },
   "outputs": [
    {
     "name": "stdout",
     "output_type": "stream",
     "text": [
      "(960, 1821)\n"
     ]
    }
   ],
   "source": [
    "df_subs_quants_packs_va = pd.concat([df_subs_quants_packs, PROCESSED_TRAIN_VOIE_ADMIN[mask]], axis=1)\n",
    "print df_subs_quants_packs_va.shape"
   ]
  },
  {
   "cell_type": "markdown",
   "metadata": {},
   "source": [
    "#### Remove all zero columns"
   ]
  },
  {
   "cell_type": "code",
   "execution_count": 52,
   "metadata": {
    "collapsed": false
   },
   "outputs": [
    {
     "name": "stdout",
     "output_type": "stream",
     "text": [
      "df_subs_quants ->  (960, 210)\n",
      "df_subs_quants_packs ->  (960, 213)\n",
      "df_subs_quants_others ->  (960, 222)\n",
      "df_subs_quants_packs_va ->  (960, 216)\n"
     ]
    }
   ],
   "source": [
    "df_subs_quants = drop_const_cols(df_subs_quants)\n",
    "df_subs_quants_packs = drop_const_cols(df_subs_quants_packs)\n",
    "df_subs_quants_others = drop_const_cols(df_subs_quants_others)\n",
    "df_subs_quants_packs_va = drop_const_cols(df_subs_quants_packs_va)\n",
    "\n",
    "print \"df_subs_quants -> \", df_subs_quants.shape\n",
    "print \"df_subs_quants_packs -> \", df_subs_quants_packs.shape\n",
    "print \"df_subs_quants_others -> \", df_subs_quants_others.shape\n",
    "print \"df_subs_quants_packs_va -> \", df_subs_quants_packs_va.shape"
   ]
  },
  {
   "cell_type": "markdown",
   "metadata": {},
   "source": [
    "#### Split and learn"
   ]
  },
  {
   "cell_type": "code",
   "execution_count": 53,
   "metadata": {
    "collapsed": true
   },
   "outputs": [],
   "source": [
    "X0 = df_subs_quants_packs_va\n",
    "ylog = df_logprices\n",
    "\n",
    "X = StandardScaler().fit_transform(X0)\n",
    "X_train, X_test, ylog_train, ylog_test = train_test_split(X, ylog, train_size=0.80)"
   ]
  },
  {
   "cell_type": "code",
   "execution_count": 54,
   "metadata": {
    "collapsed": false
   },
   "outputs": [],
   "source": [
    "rf = RandomForestRegressor(n_estimators = 50, n_jobs = -1, verbose = 0)"
   ]
  },
  {
   "cell_type": "code",
   "execution_count": 55,
   "metadata": {
    "collapsed": false
   },
   "outputs": [
    {
     "name": "stdout",
     "output_type": "stream",
     "text": [
      "0.874882126144\n",
      "14.7919241178\n",
      "24.4015365783\n"
     ]
    }
   ],
   "source": [
    "rf.fit(X_train, ylog_train)\n",
    "score = rf.score(X_train, ylog_train)\n",
    "print score\n",
    "res0 = rf.predict(X_train)\n",
    "res1 = rf.predict(X_test)\n",
    "print mape_error(ylog_train, res0)\n",
    "print mape_error(ylog_test, res1)"
   ]
  },
  {
   "cell_type": "code",
   "execution_count": 56,
   "metadata": {
    "collapsed": false
   },
   "outputs": [
    {
     "name": "stdout",
     "output_type": "stream",
     "text": [
      "0.724918257967\n",
      "22.4838970562\n",
      "35.4379393153\n"
     ]
    }
   ],
   "source": [
    "svr = SVR(kernel='linear', C=1)\n",
    "svr.fit(X_train, ylog_train)\n",
    "score = svr.score(X_train, ylog_train)\n",
    "print score\n",
    "res0 = svr.predict(X_train)\n",
    "res1 = svr.predict(X_test)\n",
    "print mape_error(ylog_train, res0)\n",
    "print mape_error(ylog_test, res1)"
   ]
  },
  {
   "cell_type": "code",
   "execution_count": 57,
   "metadata": {
    "collapsed": false
   },
   "outputs": [
    {
     "name": "stdout",
     "output_type": "stream",
     "text": [
      "0.625105419476\n",
      "53.1465897785\n",
      "52.7546444879\n"
     ]
    }
   ],
   "source": [
    "gbr = GradientBoostingRegressor(verbose = 0, max_features='auto')\n",
    "gbr.fit(X_train, ylog_train)\n",
    "score = gbr.score(X_train, ylog_train)\n",
    "print score\n",
    "res0 = gbr.predict(X_train)\n",
    "res1 = gbr.predict(X_test)\n",
    "print mape_error(ylog_train, res0)\n",
    "print mape_error(ylog_test, res1)"
   ]
  },
  {
   "cell_type": "markdown",
   "metadata": {},
   "source": [
    "#### Cross validation scoring"
   ]
  },
  {
   "cell_type": "code",
   "execution_count": 58,
   "metadata": {
    "collapsed": true
   },
   "outputs": [],
   "source": [
    "def run_cv(data, targets, clf, cv=10):\n",
    "    X0 = data\n",
    "    ylog = targets\n",
    "    X = StandardScaler().fit_transform(X0)\n",
    "    scores = cross_val_score(clf, X, ylog, cv=cv, scoring=make_scorer(mape_error))\n",
    "    print scores      \n",
    "    print scores.mean(), scores.std()"
   ]
  },
  {
   "cell_type": "code",
   "execution_count": 62,
   "metadata": {
    "collapsed": false
   },
   "outputs": [
    {
     "name": "stdout",
     "output_type": "stream",
     "text": [
      "[ 14.97363243  19.52531112  23.84103848  19.055152    27.4527759\n",
      "  27.10729545  19.93372126  27.26044992  22.90290201  25.83501002]\n",
      "22.7887288589 4.05729162721\n",
      "[ 21.07098999  19.82722335  26.2749726   21.82010602  26.44490599\n",
      "  28.21509804  19.7290997   28.52178933  22.2363028   27.19723087]\n",
      "24.1337718667 3.3392267303\n",
      "[ 17.41680978  16.24680846  24.50096821  21.86591258  19.22497694\n",
      "  19.80770733  21.29789899  21.21953788  17.03341143  20.77601917]\n",
      "19.9390050758 2.4015570857\n",
      "[ 21.64251047  20.02704077  26.56760347  22.44788029  29.91714806\n",
      "  29.16044398  21.3731098   31.74647184  23.08174405  29.14308598]\n",
      "25.510703872 4.04187199236\n"
     ]
    }
   ],
   "source": [
    "run_cv(df_subs_quants, ylog, rf)\n",
    "run_cv(df_subs_quants_packs, ylog, rf)\n",
    "run_cv(df_subs_quants_others, ylog, rf)\n",
    "run_cv(df_subs_quants_packs_va, ylog, rf)"
   ]
  },
  {
   "cell_type": "code",
   "execution_count": 60,
   "metadata": {
    "collapsed": false,
    "scrolled": true
   },
   "outputs": [
    {
     "name": "stdout",
     "output_type": "stream",
     "text": [
      "[ 30.01898126  30.77534364  30.15723827  32.86467597  29.12310125\n",
      "  33.2780592   46.82536473  29.21937713  33.87461123  28.78845908]\n",
      "32.492521175 5.0833387609\n",
      "[ 30.52844404  30.14524689  29.39279021  33.07539167  28.94976395\n",
      "  31.30409721  45.94714728  29.78580795  33.22163888  29.08511107]\n",
      "32.1435439145 4.82240926273\n",
      "[ 23.80274331  28.20576929  29.49536201  30.10092851  25.42700626\n",
      "  26.74917825  36.96554814  28.69663461  29.38705897  29.15946363]\n",
      "28.7989692979 3.32032057082\n",
      "[ 30.18509906  29.66152531  28.9927224   32.48252875  28.06584969\n",
      "  30.08585807  46.87159263  28.67946648  32.62610269  28.47394045]\n",
      "31.6124685524 5.29805496721\n"
     ]
    }
   ],
   "source": [
    "run_cv(df_subs_quants, ylog, svr)\n",
    "run_cv(df_subs_quants_packs, ylog, svr)\n",
    "run_cv(df_subs_quants_others, ylog, svr)\n",
    "run_cv(df_subs_quants_packs_va, ylog, svr)"
   ]
  },
  {
   "cell_type": "code",
   "execution_count": 61,
   "metadata": {
    "collapsed": false,
    "scrolled": false
   },
   "outputs": [
    {
     "name": "stdout",
     "output_type": "stream",
     "text": [
      "[ 42.25160882  68.52079652  52.53487129  46.02822429  63.21592972\n",
      "  54.72599842  72.10630385  50.04320046  75.17777148  54.06798977]\n",
      "57.8672694629 10.6886569283\n",
      "[ 43.97853559  65.81059258  50.42476722  45.57227888  60.97196542\n",
      "  53.27254071  71.10330641  50.52293892  73.21424113  53.44260335]\n",
      "56.8313770215 9.83264947159\n",
      "[ 34.82707159  53.22465993  44.83544015  40.96395423  48.28825518\n",
      "  43.75766705  57.00547351  43.99474597  59.13199869  43.66509494]\n",
      "46.9694361243 7.12500360681\n",
      "[ 43.98294114  65.81580645  50.60721817  45.57227888  60.97196542\n",
      "  53.27254071  71.42882872  50.52372409  73.21424113  53.44260335]\n",
      "56.8832148072 9.86836735584\n"
     ]
    }
   ],
   "source": [
    "run_cv(df_subs_quants, ylog, gbr)\n",
    "run_cv(df_subs_quants_packs, ylog, gbr)\n",
    "run_cv(df_subs_quants_others, ylog, gbr)\n",
    "run_cv(df_subs_quants_packs_va, ylog, gbr)"
   ]
  },
  {
   "cell_type": "code",
   "execution_count": null,
   "metadata": {
    "collapsed": true
   },
   "outputs": [],
   "source": []
  },
  {
   "cell_type": "markdown",
   "metadata": {},
   "source": [
    "### Learn by type : 'ml'"
   ]
  },
  {
   "cell_type": "code",
   "execution_count": 131,
   "metadata": {
    "collapsed": false
   },
   "outputs": [
    {
     "name": "stdout",
     "output_type": "stream",
     "text": [
      "Select type only :  nb_ml\n",
      "Found lines (med has the type):  1199\n",
      "Found lines (med has the type only) :  1199\n"
     ]
    }
   ],
   "source": [
    "index = 3\n",
    "print \"Select type only : \", types[index]\n",
    "mask = df[types[index]] > 0\n",
    "print \"Found lines (med has the type): \", len(df[mask])\n",
    "indices = range(len(types))\n",
    "indices.remove(index)\n",
    "for i in indices:\n",
    "    mask &= df[types[i]] < 1\n",
    "    \n",
    "print \"Found lines (med has the type only) : \", len(df[mask])\n",
    "df_logprices = df[mask]['logprix']"
   ]
  },
  {
   "cell_type": "code",
   "execution_count": 132,
   "metadata": {
    "collapsed": false
   },
   "outputs": [
    {
     "name": "stdout",
     "output_type": "stream",
     "text": [
      "(1199, 1766)\n"
     ]
    }
   ],
   "source": [
    "df_subs_quants = create_df_subs_quants(df_subs[mask], df[mask][types[index]])\n",
    "print df_subs_quants.shape"
   ]
  },
  {
   "cell_type": "markdown",
   "metadata": {},
   "source": [
    "#### Add packages"
   ]
  },
  {
   "cell_type": "code",
   "execution_count": 133,
   "metadata": {
    "collapsed": false
   },
   "outputs": [
    {
     "name": "stdout",
     "output_type": "stream",
     "text": [
      "(1199, 1776)\n"
     ]
    }
   ],
   "source": [
    "df_subs_quants_packs = pd.concat([df_subs_quants, df[mask][packages]], axis=1)\n",
    "print df_subs_quants_packs.shape"
   ]
  },
  {
   "cell_type": "markdown",
   "metadata": {},
   "source": [
    "#### Add other features "
   ]
  },
  {
   "cell_type": "code",
   "execution_count": 134,
   "metadata": {
    "collapsed": false
   },
   "outputs": [
    {
     "name": "stdout",
     "output_type": "stream",
     "text": [
      "(1199, 1786)\n"
     ]
    }
   ],
   "source": [
    "cols_to_drop = list(types); cols_to_drop.extend(packages); cols_to_drop.extend(TARGET_COLUMNS)\n",
    "cols_to_drop.extend([u'libelle_ampoule', u'libelle_capsule', u'libelle_comprime', u'libelle_film', u'libelle_flacon', u'libelle_gelule', u'libelle_pilulier', u'libelle_plaquette', u'libelle_poche', u'libelle_sachet', u'libelle_seringue', u'libelle_stylo', u'libelle_tube'])\n",
    "other_features = df.drop(cols_to_drop, axis=1)\n",
    "df_subs_quants_others = pd.concat([df_subs_quants_packs, other_features[mask]], axis=1)\n",
    "print df_subs_quants_others.shape"
   ]
  },
  {
   "cell_type": "markdown",
   "metadata": {},
   "source": [
    "#### Add voie admin"
   ]
  },
  {
   "cell_type": "code",
   "execution_count": 135,
   "metadata": {
    "collapsed": false
   },
   "outputs": [
    {
     "name": "stdout",
     "output_type": "stream",
     "text": [
      "(1199, 1821)\n"
     ]
    }
   ],
   "source": [
    "df_subs_quants_packs_va = pd.concat([df_subs_quants_packs, PROCESSED_TRAIN_VOIE_ADMIN[mask]], axis=1)\n",
    "print df_subs_quants_packs_va.shape"
   ]
  },
  {
   "cell_type": "markdown",
   "metadata": {},
   "source": [
    "#### Remove all zero columns"
   ]
  },
  {
   "cell_type": "code",
   "execution_count": 136,
   "metadata": {
    "collapsed": false
   },
   "outputs": [
    {
     "name": "stdout",
     "output_type": "stream",
     "text": [
      "df_subs_quants ->  (1199, 673)\n",
      "df_subs_quants_packs ->  (1199, 680)\n",
      "df_subs_quants_others ->  (1199, 690)\n",
      "df_subs_quants_packs_va ->  (1199, 718)\n"
     ]
    }
   ],
   "source": [
    "df_subs_quants = drop_const_cols(df_subs_quants)\n",
    "df_subs_quants_packs = drop_const_cols(df_subs_quants_packs)\n",
    "df_subs_quants_others = drop_const_cols(df_subs_quants_others)\n",
    "df_subs_quants_packs_va = drop_const_cols(df_subs_quants_packs_va)\n",
    "\n",
    "print \"df_subs_quants -> \", df_subs_quants.shape\n",
    "print \"df_subs_quants_packs -> \", df_subs_quants_packs.shape\n",
    "print \"df_subs_quants_others -> \", df_subs_quants_others.shape\n",
    "print \"df_subs_quants_packs_va -> \", df_subs_quants_packs_va.shape"
   ]
  },
  {
   "cell_type": "markdown",
   "metadata": {},
   "source": [
    "#### Split and learn"
   ]
  },
  {
   "cell_type": "code",
   "execution_count": 137,
   "metadata": {
    "collapsed": true
   },
   "outputs": [],
   "source": [
    "X0 = df_subs_quants_packs_va\n",
    "ylog = df_logprices\n",
    "\n",
    "X = StandardScaler().fit_transform(X0)\n",
    "X_train, X_test, ylog_train, ylog_test = train_test_split(X, ylog, train_size=0.80)"
   ]
  },
  {
   "cell_type": "code",
   "execution_count": 138,
   "metadata": {
    "collapsed": false
   },
   "outputs": [],
   "source": [
    "rf = RandomForestRegressor(n_estimators = 50, n_jobs = -1, verbose = 0)"
   ]
  },
  {
   "cell_type": "code",
   "execution_count": 139,
   "metadata": {
    "collapsed": false
   },
   "outputs": [
    {
     "name": "stdout",
     "output_type": "stream",
     "text": [
      "0.942072360224\n",
      "17.3655238236\n",
      "41.7114435398\n"
     ]
    }
   ],
   "source": [
    "rf.fit(X_train, ylog_train)\n",
    "score = rf.score(X_train, ylog_train)\n",
    "print score\n",
    "res0 = rf.predict(X_train)\n",
    "res1 = rf.predict(X_test)\n",
    "print mape_error(ylog_train, res0)\n",
    "print mape_error(ylog_test, res1)"
   ]
  },
  {
   "cell_type": "code",
   "execution_count": 140,
   "metadata": {
    "collapsed": false
   },
   "outputs": [
    {
     "name": "stdout",
     "output_type": "stream",
     "text": [
      "0.908202114974\n",
      "24.2475791733\n",
      "121.286789766\n"
     ]
    }
   ],
   "source": [
    "svr = SVR(kernel='linear', C=3)\n",
    "svr.fit(X_train, ylog_train)\n",
    "score = svr.score(X_train, ylog_train)\n",
    "print score\n",
    "res0 = svr.predict(X_train)\n",
    "res1 = svr.predict(X_test)\n",
    "print mape_error(ylog_train, res0)\n",
    "print mape_error(ylog_test, res1)"
   ]
  },
  {
   "cell_type": "markdown",
   "metadata": {},
   "source": [
    "#### Cross validation scoring"
   ]
  },
  {
   "cell_type": "code",
   "execution_count": 141,
   "metadata": {
    "collapsed": true
   },
   "outputs": [],
   "source": [
    "def run_cv(data, targets, clf, cv=10):\n",
    "    X0 = data\n",
    "    ylog = targets\n",
    "    X = StandardScaler().fit_transform(X0)\n",
    "    scores = cross_val_score(clf, X, ylog, cv=cv, scoring=make_scorer(mape_error))\n",
    "    print scores      \n",
    "    print scores.mean(), scores.std()"
   ]
  },
  {
   "cell_type": "code",
   "execution_count": 142,
   "metadata": {
    "collapsed": false,
    "scrolled": true
   },
   "outputs": [
    {
     "name": "stdout",
     "output_type": "stream",
     "text": [
      "[ 94.86952046  43.22315526  67.14238655  58.72756498  41.60611318\n",
      "  31.45924302  26.75118415]\n",
      "51.968452512 21.8985717226\n",
      "[ 106.18536685   41.02230305   64.60589034   57.8050602    37.37746304\n",
      "   31.74642638   25.56723015]\n",
      "52.044248572 25.5563088495\n",
      "[ 160.60426227   43.7634811    62.66017391   64.36081015   38.98050468\n",
      "   31.61987356   32.69195534]\n",
      "62.0972944304 42.0427076716\n",
      "[ 73.84457094  40.19792843  68.06131819  56.43848595  37.96110813\n",
      "  29.39366841  24.33014159]\n",
      "47.175317378 17.748058697\n"
     ]
    }
   ],
   "source": [
    "run_cv(df_subs_quants, ylog, rf, cv=7)\n",
    "run_cv(df_subs_quants_packs, ylog, rf, cv=7)\n",
    "run_cv(df_subs_quants_others, ylog, rf, cv=7)\n",
    "run_cv(df_subs_quants_packs_va, ylog, rf, cv=7)"
   ]
  },
  {
   "cell_type": "code",
   "execution_count": 144,
   "metadata": {
    "collapsed": false
   },
   "outputs": [],
   "source": [
    "# run_cv(df_subs_quants, ylog, svr, cv=7)\n",
    "# run_cv(df_subs_quants_packs, ylog, svr, cv=7)\n",
    "# run_cv(df_subs_quants_others, ylog, svr, cv=7)\n",
    "# run_cv(df_subs_quants_packs_va, ylog, svr, cv=7)"
   ]
  },
  {
   "cell_type": "code",
   "execution_count": null,
   "metadata": {
    "collapsed": true
   },
   "outputs": [],
   "source": []
  },
  {
   "cell_type": "markdown",
   "metadata": {},
   "source": [
    "### Learn by type : 'comprime'"
   ]
  },
  {
   "cell_type": "code",
   "execution_count": 145,
   "metadata": {
    "collapsed": false
   },
   "outputs": [
    {
     "name": "stdout",
     "output_type": "stream",
     "text": [
      "Select type only :  nb_comprime\n",
      "Found lines (med has the type):  4626\n",
      "Found lines (med has the type only) :  4626\n"
     ]
    }
   ],
   "source": [
    "index = 1\n",
    "print \"Select type only : \", types[index]\n",
    "mask = df[types[index]] > 0\n",
    "print \"Found lines (med has the type): \", len(df[mask])\n",
    "indices = range(len(types))\n",
    "indices.remove(index)\n",
    "for i in indices:\n",
    "    mask &= df[types[i]] < 1\n",
    "    \n",
    "print \"Found lines (med has the type only) : \", len(df[mask])\n",
    "df_logprices = df[mask]['logprix']"
   ]
  },
  {
   "cell_type": "code",
   "execution_count": 146,
   "metadata": {
    "collapsed": false
   },
   "outputs": [
    {
     "name": "stdout",
     "output_type": "stream",
     "text": [
      "(4626, 1766)\n"
     ]
    }
   ],
   "source": [
    "df_subs_quants = create_df_subs_quants(df_subs[mask], df[mask][types[index]])\n",
    "print df_subs_quants.shape"
   ]
  },
  {
   "cell_type": "markdown",
   "metadata": {},
   "source": [
    "#### Add packages"
   ]
  },
  {
   "cell_type": "code",
   "execution_count": 147,
   "metadata": {
    "collapsed": false
   },
   "outputs": [
    {
     "name": "stdout",
     "output_type": "stream",
     "text": [
      "(4626, 1776)\n"
     ]
    }
   ],
   "source": [
    "df_subs_quants_packs = pd.concat([df_subs_quants, df[mask][packages]], axis=1)\n",
    "print df_subs_quants_packs.shape"
   ]
  },
  {
   "cell_type": "markdown",
   "metadata": {},
   "source": [
    "#### Add other features "
   ]
  },
  {
   "cell_type": "code",
   "execution_count": 148,
   "metadata": {
    "collapsed": false
   },
   "outputs": [
    {
     "name": "stdout",
     "output_type": "stream",
     "text": [
      "(4626, 1786)\n"
     ]
    }
   ],
   "source": [
    "cols_to_drop = list(types); cols_to_drop.extend(packages); cols_to_drop.extend(TARGET_COLUMNS)\n",
    "cols_to_drop.extend([u'libelle_ampoule', u'libelle_capsule', u'libelle_comprime', u'libelle_film', u'libelle_flacon', u'libelle_gelule', u'libelle_pilulier', u'libelle_plaquette', u'libelle_poche', u'libelle_sachet', u'libelle_seringue', u'libelle_stylo', u'libelle_tube'])\n",
    "other_features = df.drop(cols_to_drop, axis=1)\n",
    "df_subs_quants_others = pd.concat([df_subs_quants_packs, other_features[mask]], axis=1)\n",
    "print df_subs_quants_others.shape"
   ]
  },
  {
   "cell_type": "markdown",
   "metadata": {},
   "source": [
    "#### Add voie admin"
   ]
  },
  {
   "cell_type": "code",
   "execution_count": 149,
   "metadata": {
    "collapsed": false
   },
   "outputs": [
    {
     "name": "stdout",
     "output_type": "stream",
     "text": [
      "(4626, 1821)\n"
     ]
    }
   ],
   "source": [
    "df_subs_quants_packs_va = pd.concat([df_subs_quants_packs, PROCESSED_TRAIN_VOIE_ADMIN[mask]], axis=1)\n",
    "print df_subs_quants_packs_va.shape"
   ]
  },
  {
   "cell_type": "markdown",
   "metadata": {},
   "source": [
    "#### Remove all zero columns"
   ]
  },
  {
   "cell_type": "code",
   "execution_count": 150,
   "metadata": {
    "collapsed": false
   },
   "outputs": [
    {
     "name": "stdout",
     "output_type": "stream",
     "text": [
      "df_subs_quants ->  (4626, 761)\n",
      "df_subs_quants_packs ->  (4626, 766)\n",
      "df_subs_quants_others ->  (4626, 776)\n",
      "df_subs_quants_packs_va ->  (4626, 772)\n"
     ]
    }
   ],
   "source": [
    "df_subs_quants = drop_const_cols(df_subs_quants)\n",
    "df_subs_quants_packs = drop_const_cols(df_subs_quants_packs)\n",
    "df_subs_quants_others = drop_const_cols(df_subs_quants_others)\n",
    "df_subs_quants_packs_va = drop_const_cols(df_subs_quants_packs_va)\n",
    "\n",
    "print \"df_subs_quants -> \", df_subs_quants.shape\n",
    "print \"df_subs_quants_packs -> \", df_subs_quants_packs.shape\n",
    "print \"df_subs_quants_others -> \", df_subs_quants_others.shape\n",
    "print \"df_subs_quants_packs_va -> \", df_subs_quants_packs_va.shape"
   ]
  },
  {
   "cell_type": "markdown",
   "metadata": {},
   "source": [
    "#### Split and learn"
   ]
  },
  {
   "cell_type": "code",
   "execution_count": 151,
   "metadata": {
    "collapsed": true
   },
   "outputs": [],
   "source": [
    "X0 = df_subs_quants_packs_va\n",
    "ylog = df_logprices\n",
    "\n",
    "X = StandardScaler().fit_transform(X0)\n",
    "X_train, X_test, ylog_train, ylog_test = train_test_split(X, ylog, train_size=0.80)"
   ]
  },
  {
   "cell_type": "code",
   "execution_count": 152,
   "metadata": {
    "collapsed": false
   },
   "outputs": [],
   "source": [
    "rf = RandomForestRegressor(n_estimators = 50, n_jobs = -1, verbose = 0)"
   ]
  },
  {
   "cell_type": "code",
   "execution_count": 153,
   "metadata": {
    "collapsed": false
   },
   "outputs": [
    {
     "name": "stdout",
     "output_type": "stream",
     "text": [
      "0.932035926472\n",
      "13.4392035208\n",
      "24.6039827228\n"
     ]
    }
   ],
   "source": [
    "rf.fit(X_train, ylog_train)\n",
    "score = rf.score(X_train, ylog_train)\n",
    "print score\n",
    "res0 = rf.predict(X_train)\n",
    "res1 = rf.predict(X_test)\n",
    "print mape_error(ylog_train, res0)\n",
    "print mape_error(ylog_test, res1)"
   ]
  },
  {
   "cell_type": "code",
   "execution_count": 154,
   "metadata": {
    "collapsed": false
   },
   "outputs": [
    {
     "name": "stdout",
     "output_type": "stream",
     "text": [
      "0.834960840086\n",
      "28.2416501109\n",
      "36.8112215735\n"
     ]
    }
   ],
   "source": [
    "svr = SVR(kernel='linear', C=3)\n",
    "svr.fit(X_train, ylog_train)\n",
    "score = svr.score(X_train, ylog_train)\n",
    "print score\n",
    "res0 = svr.predict(X_train)\n",
    "res1 = svr.predict(X_test)\n",
    "print mape_error(ylog_train, res0)\n",
    "print mape_error(ylog_test, res1)"
   ]
  },
  {
   "cell_type": "markdown",
   "metadata": {},
   "source": [
    "#### Cross validation scoring"
   ]
  },
  {
   "cell_type": "code",
   "execution_count": 155,
   "metadata": {
    "collapsed": true
   },
   "outputs": [],
   "source": [
    "def run_cv(data, targets, clf, cv=10):\n",
    "    X0 = data\n",
    "    ylog = targets\n",
    "    X = StandardScaler().fit_transform(X0)\n",
    "    scores = cross_val_score(clf, X, ylog, cv=cv, scoring=make_scorer(mape_error))\n",
    "    print scores      \n",
    "    print scores.mean(), scores.std()"
   ]
  },
  {
   "cell_type": "code",
   "execution_count": 156,
   "metadata": {
    "collapsed": false,
    "scrolled": true
   },
   "outputs": [
    {
     "name": "stdout",
     "output_type": "stream",
     "text": [
      "[ 24.64669103  21.02139622  25.61395546  18.41282473  22.60143702]\n",
      "22.4592608915 2.57675233526\n",
      "[ 24.25376455  19.84213633  25.07687876  17.1858631   21.02716185]\n",
      "21.4771609172 2.89684441581\n",
      "[ 35.71147646  28.84464981  33.58820139  25.88180725  27.20050356]\n",
      "30.245327692 3.77694983167\n",
      "[ 24.95401988  19.66343652  23.81639664  17.02089966  21.25796491]\n",
      "21.3425435211 2.85187202578\n"
     ]
    }
   ],
   "source": [
    "run_cv(df_subs_quants, ylog, rf, cv=5)\n",
    "run_cv(df_subs_quants_packs, ylog, rf, cv=5)\n",
    "run_cv(df_subs_quants_others, ylog, rf, cv=5)\n",
    "run_cv(df_subs_quants_packs_va, ylog, rf, cv=5)"
   ]
  },
  {
   "cell_type": "code",
   "execution_count": null,
   "metadata": {
    "collapsed": false,
    "scrolled": true
   },
   "outputs": [],
   "source": [
    "# run_cv(df_subs_quants, ylog, svr, cv=5)\n",
    "# run_cv(df_subs_quants_packs, ylog, svr, cv=5)\n",
    "# run_cv(df_subs_quants_others, ylog, svr, cv=5)\n",
    "# run_cv(df_subs_quants_packs_va, ylog, svr, cv=5)"
   ]
  },
  {
   "cell_type": "code",
   "execution_count": null,
   "metadata": {
    "collapsed": true
   },
   "outputs": [],
   "source": []
  },
  {
   "cell_type": "code",
   "execution_count": null,
   "metadata": {
    "collapsed": true
   },
   "outputs": [],
   "source": []
  },
  {
   "cell_type": "code",
   "execution_count": null,
   "metadata": {
    "collapsed": true
   },
   "outputs": [],
   "source": []
  },
  {
   "cell_type": "markdown",
   "metadata": {},
   "source": [
    "### Learn all types"
   ]
  },
  {
   "cell_type": "code",
   "execution_count": 66,
   "metadata": {
    "collapsed": false
   },
   "outputs": [
    {
     "data": {
      "text/plain": [
       "(7400, 39)"
      ]
     },
     "execution_count": 66,
     "metadata": {},
     "output_type": "execute_result"
    }
   ],
   "source": [
    "df.shape"
   ]
  },
  {
   "cell_type": "code",
   "execution_count": 100,
   "metadata": {
    "collapsed": false
   },
   "outputs": [
    {
     "name": "stdout",
     "output_type": "stream",
     "text": [
      "Found lines :  440\n"
     ]
    }
   ],
   "source": [
    "mask = df[types[0]] == 0\n",
    "indices = range(len(types))\n",
    "indices.remove(0)\n",
    "for i in indices:\n",
    "    mask &= df[types[i]] == 0\n",
    "    \n",
    "print \"Found lines : \", len(df[mask])"
   ]
  },
  {
   "cell_type": "code",
   "execution_count": 90,
   "metadata": {
    "collapsed": false
   },
   "outputs": [
    {
     "name": "stdout",
     "output_type": "stream",
     "text": [
      "Found lines :  6960\n"
     ]
    }
   ],
   "source": [
    "mask = df[types[0]] > 0\n",
    "indices = range(len(types))\n",
    "indices.remove(0)\n",
    "for i in indices:\n",
    "    mask |= df[types[i]] > 0\n",
    "    \n",
    "print \"Found lines : \", len(df[mask])"
   ]
  },
  {
   "cell_type": "code",
   "execution_count": 113,
   "metadata": {
    "collapsed": true
   },
   "outputs": [],
   "source": [
    "mask = df['nb_plaquette'] > 0"
   ]
  },
  {
   "cell_type": "code",
   "execution_count": 114,
   "metadata": {
    "collapsed": false,
    "scrolled": false
   },
   "outputs": [
    {
     "data": {
      "text/html": [
       "<div>\n",
       "<table border=\"1\" class=\"dataframe\">\n",
       "  <thead>\n",
       "    <tr style=\"text-align: right;\">\n",
       "      <th></th>\n",
       "      <th>agrement col</th>\n",
       "      <th>date amm annee</th>\n",
       "      <th>date declar annee</th>\n",
       "      <th>etat commerc</th>\n",
       "      <th>forme pharma</th>\n",
       "      <th>libelle_ampoule</th>\n",
       "      <th>libelle_capsule</th>\n",
       "      <th>libelle_comprime</th>\n",
       "      <th>libelle_film</th>\n",
       "      <th>libelle_flacon</th>\n",
       "      <th>libelle_gelule</th>\n",
       "      <th>libelle_pilulier</th>\n",
       "      <th>libelle_plaquette</th>\n",
       "      <th>libelle_poche</th>\n",
       "      <th>libelle_sachet</th>\n",
       "      <th>libelle_seringue</th>\n",
       "      <th>libelle_stylo</th>\n",
       "      <th>libelle_tube</th>\n",
       "      <th>nb_ampoule</th>\n",
       "      <th>nb_capsule</th>\n",
       "      <th>nb_comprime</th>\n",
       "      <th>nb_film</th>\n",
       "      <th>nb_flacon</th>\n",
       "      <th>nb_gelule</th>\n",
       "      <th>nb_ml</th>\n",
       "      <th>nb_pilulier</th>\n",
       "      <th>nb_plaquette</th>\n",
       "      <th>nb_poche</th>\n",
       "      <th>nb_sachet</th>\n",
       "      <th>nb_seringue</th>\n",
       "      <th>nb_stylo</th>\n",
       "      <th>nb_tube</th>\n",
       "      <th>prix</th>\n",
       "      <th>statut</th>\n",
       "      <th>statut admin</th>\n",
       "      <th>titulaires</th>\n",
       "      <th>tx rembours</th>\n",
       "      <th>type proc</th>\n",
       "      <th>logprix</th>\n",
       "    </tr>\n",
       "  </thead>\n",
       "  <tbody>\n",
       "    <tr>\n",
       "      <th>0</th>\n",
       "      <td>1</td>\n",
       "      <td>2014</td>\n",
       "      <td>2014</td>\n",
       "      <td>2</td>\n",
       "      <td>36</td>\n",
       "      <td>0</td>\n",
       "      <td>0</td>\n",
       "      <td>1</td>\n",
       "      <td>0</td>\n",
       "      <td>0</td>\n",
       "      <td>0</td>\n",
       "      <td>0</td>\n",
       "      <td>1</td>\n",
       "      <td>0</td>\n",
       "      <td>0</td>\n",
       "      <td>0</td>\n",
       "      <td>0</td>\n",
       "      <td>0</td>\n",
       "      <td>0</td>\n",
       "      <td>0</td>\n",
       "      <td>28</td>\n",
       "      <td>0</td>\n",
       "      <td>0</td>\n",
       "      <td>0</td>\n",
       "      <td>0.0</td>\n",
       "      <td>0</td>\n",
       "      <td>3</td>\n",
       "      <td>0</td>\n",
       "      <td>0</td>\n",
       "      <td>0</td>\n",
       "      <td>0</td>\n",
       "      <td>0</td>\n",
       "      <td>2.83</td>\n",
       "      <td>1</td>\n",
       "      <td>1</td>\n",
       "      <td>211</td>\n",
       "      <td>4</td>\n",
       "      <td>3</td>\n",
       "      <td>1.040277</td>\n",
       "    </tr>\n",
       "    <tr>\n",
       "      <th>14</th>\n",
       "      <td>1</td>\n",
       "      <td>1998</td>\n",
       "      <td>2008</td>\n",
       "      <td>2</td>\n",
       "      <td>8</td>\n",
       "      <td>0</td>\n",
       "      <td>0</td>\n",
       "      <td>1</td>\n",
       "      <td>0</td>\n",
       "      <td>0</td>\n",
       "      <td>0</td>\n",
       "      <td>0</td>\n",
       "      <td>1</td>\n",
       "      <td>0</td>\n",
       "      <td>0</td>\n",
       "      <td>0</td>\n",
       "      <td>0</td>\n",
       "      <td>0</td>\n",
       "      <td>0</td>\n",
       "      <td>0</td>\n",
       "      <td>10</td>\n",
       "      <td>0</td>\n",
       "      <td>0</td>\n",
       "      <td>0</td>\n",
       "      <td>0.0</td>\n",
       "      <td>0</td>\n",
       "      <td>3</td>\n",
       "      <td>0</td>\n",
       "      <td>0</td>\n",
       "      <td>0</td>\n",
       "      <td>0</td>\n",
       "      <td>0</td>\n",
       "      <td>9.62</td>\n",
       "      <td>1</td>\n",
       "      <td>1</td>\n",
       "      <td>48</td>\n",
       "      <td>4</td>\n",
       "      <td>1</td>\n",
       "      <td>2.263844</td>\n",
       "    </tr>\n",
       "    <tr>\n",
       "      <th>81</th>\n",
       "      <td>1</td>\n",
       "      <td>2011</td>\n",
       "      <td>2011</td>\n",
       "      <td>2</td>\n",
       "      <td>36</td>\n",
       "      <td>0</td>\n",
       "      <td>0</td>\n",
       "      <td>1</td>\n",
       "      <td>0</td>\n",
       "      <td>0</td>\n",
       "      <td>0</td>\n",
       "      <td>0</td>\n",
       "      <td>1</td>\n",
       "      <td>0</td>\n",
       "      <td>0</td>\n",
       "      <td>0</td>\n",
       "      <td>0</td>\n",
       "      <td>0</td>\n",
       "      <td>0</td>\n",
       "      <td>0</td>\n",
       "      <td>28</td>\n",
       "      <td>0</td>\n",
       "      <td>0</td>\n",
       "      <td>0</td>\n",
       "      <td>0.0</td>\n",
       "      <td>0</td>\n",
       "      <td>1</td>\n",
       "      <td>0</td>\n",
       "      <td>0</td>\n",
       "      <td>0</td>\n",
       "      <td>0</td>\n",
       "      <td>0</td>\n",
       "      <td>8.48</td>\n",
       "      <td>1</td>\n",
       "      <td>1</td>\n",
       "      <td>222</td>\n",
       "      <td>4</td>\n",
       "      <td>0</td>\n",
       "      <td>2.137710</td>\n",
       "    </tr>\n",
       "    <tr>\n",
       "      <th>99</th>\n",
       "      <td>1</td>\n",
       "      <td>1994</td>\n",
       "      <td>1998</td>\n",
       "      <td>2</td>\n",
       "      <td>50</td>\n",
       "      <td>0</td>\n",
       "      <td>0</td>\n",
       "      <td>1</td>\n",
       "      <td>0</td>\n",
       "      <td>0</td>\n",
       "      <td>0</td>\n",
       "      <td>0</td>\n",
       "      <td>1</td>\n",
       "      <td>0</td>\n",
       "      <td>0</td>\n",
       "      <td>0</td>\n",
       "      <td>0</td>\n",
       "      <td>0</td>\n",
       "      <td>0</td>\n",
       "      <td>0</td>\n",
       "      <td>10</td>\n",
       "      <td>0</td>\n",
       "      <td>0</td>\n",
       "      <td>0</td>\n",
       "      <td>0.0</td>\n",
       "      <td>0</td>\n",
       "      <td>3</td>\n",
       "      <td>0</td>\n",
       "      <td>0</td>\n",
       "      <td>0</td>\n",
       "      <td>0</td>\n",
       "      <td>0</td>\n",
       "      <td>6.28</td>\n",
       "      <td>1</td>\n",
       "      <td>1</td>\n",
       "      <td>39</td>\n",
       "      <td>4</td>\n",
       "      <td>4</td>\n",
       "      <td>1.837370</td>\n",
       "    </tr>\n",
       "    <tr>\n",
       "      <th>142</th>\n",
       "      <td>1</td>\n",
       "      <td>2011</td>\n",
       "      <td>2012</td>\n",
       "      <td>2</td>\n",
       "      <td>50</td>\n",
       "      <td>0</td>\n",
       "      <td>0</td>\n",
       "      <td>1</td>\n",
       "      <td>0</td>\n",
       "      <td>0</td>\n",
       "      <td>0</td>\n",
       "      <td>0</td>\n",
       "      <td>1</td>\n",
       "      <td>0</td>\n",
       "      <td>0</td>\n",
       "      <td>0</td>\n",
       "      <td>0</td>\n",
       "      <td>0</td>\n",
       "      <td>0</td>\n",
       "      <td>0</td>\n",
       "      <td>10</td>\n",
       "      <td>0</td>\n",
       "      <td>0</td>\n",
       "      <td>0</td>\n",
       "      <td>0.0</td>\n",
       "      <td>0</td>\n",
       "      <td>10</td>\n",
       "      <td>0</td>\n",
       "      <td>0</td>\n",
       "      <td>0</td>\n",
       "      <td>0</td>\n",
       "      <td>0</td>\n",
       "      <td>70.96</td>\n",
       "      <td>1</td>\n",
       "      <td>1</td>\n",
       "      <td>3</td>\n",
       "      <td>4</td>\n",
       "      <td>1</td>\n",
       "      <td>4.262116</td>\n",
       "    </tr>\n",
       "  </tbody>\n",
       "</table>\n",
       "</div>"
      ],
      "text/plain": [
       "     agrement col  date amm annee  date declar annee  etat commerc  forme pharma  libelle_ampoule  libelle_capsule  libelle_comprime  libelle_film  libelle_flacon  libelle_gelule  libelle_pilulier  libelle_plaquette  libelle_poche  libelle_sachet  libelle_seringue  libelle_stylo  libelle_tube  nb_ampoule  nb_capsule  nb_comprime  nb_film  nb_flacon  nb_gelule  nb_ml  nb_pilulier  nb_plaquette  nb_poche  nb_sachet  nb_seringue  nb_stylo  nb_tube   prix  statut  statut admin  titulaires  tx rembours  type proc   logprix\n",
       "0               1            2014               2014             2            36                0                0                 1             0               0               0                 0                  1              0               0                 0              0             0           0           0           28        0          0          0    0.0            0             3         0          0            0         0        0   2.83       1             1         211            4          3  1.040277\n",
       "14              1            1998               2008             2             8                0                0                 1             0               0               0                 0                  1              0               0                 0              0             0           0           0           10        0          0          0    0.0            0             3         0          0            0         0        0   9.62       1             1          48            4          1  2.263844\n",
       "81              1            2011               2011             2            36                0                0                 1             0               0               0                 0                  1              0               0                 0              0             0           0           0           28        0          0          0    0.0            0             1         0          0            0         0        0   8.48       1             1         222            4          0  2.137710\n",
       "99              1            1994               1998             2            50                0                0                 1             0               0               0                 0                  1              0               0                 0              0             0           0           0           10        0          0          0    0.0            0             3         0          0            0         0        0   6.28       1             1          39            4          4  1.837370\n",
       "142             1            2011               2012             2            50                0                0                 1             0               0               0                 0                  1              0               0                 0              0             0           0           0           10        0          0          0    0.0            0            10         0          0            0         0        0  70.96       1             1           3            4          1  4.262116"
      ]
     },
     "execution_count": 114,
     "metadata": {},
     "output_type": "execute_result"
    }
   ],
   "source": [
    "df[mask].head()"
   ]
  },
  {
   "cell_type": "code",
   "execution_count": 97,
   "metadata": {
    "collapsed": false
   },
   "outputs": [],
   "source": [
    "from prepare_data import BIG"
   ]
  },
  {
   "cell_type": "code",
   "execution_count": 115,
   "metadata": {
    "collapsed": false
   },
   "outputs": [
    {
     "data": {
      "text/plain": [
       "agrement col                                                       oui\n",
       "date amm annee                                                    2011\n",
       "date declar annee                                                 2011\n",
       "etat commerc                          Déclaration de commercialisation\n",
       "forme pharma                                        comprimé pelliculé\n",
       "id                                                                 NaN\n",
       "libelle              1 plaquette(s) thermoformée(s) PVC-Aluminium P...\n",
       "libelle_ampoule                                                      0\n",
       "libelle_capsule                                                      0\n",
       "libelle_comprime                                                     1\n",
       "libelle_film                                                         0\n",
       "libelle_flacon                                                       0\n",
       "libelle_gelule                                                       0\n",
       "libelle_pilulier                                                     0\n",
       "libelle_plaquette                                                    1\n",
       "libelle_poche                                                        0\n",
       "libelle_sachet                                                       0\n",
       "libelle_seringue                                                     0\n",
       "libelle_stylo                                                        0\n",
       "libelle_tube                                                         0\n",
       "nb_ampoule                                                           0\n",
       "nb_capsule                                                           0\n",
       "nb_comprime                                                         28\n",
       "nb_film                                                              0\n",
       "nb_flacon                                                            0\n",
       "nb_gelule                                                            0\n",
       "nb_ml                                                                0\n",
       "nb_pilulier                                                          0\n",
       "nb_plaquette                                                         1\n",
       "nb_poche                                                             0\n",
       "nb_sachet                                                            0\n",
       "nb_seringue                                                          0\n",
       "nb_stylo                                                             0\n",
       "nb_tube                                                              0\n",
       "prix                                                              8.48\n",
       "source                                                           train\n",
       "statut                                             Présentation active\n",
       "statut admin                                       Autorisation active\n",
       "substances                    LOSARTAN POTASSIQUE, HYDROCHLOROTHIAZIDE\n",
       "titulaires                                                     MEDIWIN\n",
       "tx rembours                                                        65%\n",
       "type proc                         Autorisation d'importation parallèle\n",
       "voies admin                                                      orale\n",
       "Name: 81, dtype: object"
      ]
     },
     "execution_count": 115,
     "metadata": {},
     "output_type": "execute_result"
    }
   ],
   "source": [
    "BIG.ix[81]"
   ]
  },
  {
   "cell_type": "code",
   "execution_count": null,
   "metadata": {
    "collapsed": true
   },
   "outputs": [],
   "source": []
  },
  {
   "cell_type": "code",
   "execution_count": 63,
   "metadata": {
    "collapsed": false
   },
   "outputs": [
    {
     "name": "stdout",
     "output_type": "stream",
     "text": [
      "Found lines :  6785\n"
     ]
    }
   ],
   "source": [
    "mask = df[types[0]] > 0\n",
    "indices = range(len(types))\n",
    "indices.remove(0)\n",
    "for i in indices:\n",
    "    mask |= df[types[i]] > 0\n",
    "    \n",
    "print \"Found lines : \", len(df[mask])\n",
    "df_logprices = df[mask]['logprix']"
   ]
  },
  {
   "cell_type": "code",
   "execution_count": 146,
   "metadata": {
    "collapsed": false
   },
   "outputs": [
    {
     "name": "stdout",
     "output_type": "stream",
     "text": [
      "(4626, 1766)\n"
     ]
    }
   ],
   "source": [
    "df_subs_quants = create_df_subs_quants(df_subs[mask], df[mask][types[index]])\n",
    "print df_subs_quants.shape"
   ]
  },
  {
   "cell_type": "code",
   "execution_count": 63,
   "metadata": {
    "collapsed": false
   },
   "outputs": [
    {
     "name": "stdout",
     "output_type": "stream",
     "text": [
      "Found lines :  6785\n"
     ]
    }
   ],
   "source": [
    "mask = df[types[0]] > 0\n",
    "indices = range(len(types))\n",
    "indices.remove(0)\n",
    "for i in indices:\n",
    "    mask |= df[types[i]] > 0\n",
    "    \n",
    "print \"Found lines : \", len(df[mask])\n",
    "df_logprices = df[mask]['logprix']"
   ]
  },
  {
   "cell_type": "markdown",
   "metadata": {},
   "source": [
    "#### Add packages"
   ]
  },
  {
   "cell_type": "code",
   "execution_count": 147,
   "metadata": {
    "collapsed": false
   },
   "outputs": [
    {
     "name": "stdout",
     "output_type": "stream",
     "text": [
      "(4626, 1776)\n"
     ]
    }
   ],
   "source": [
    "df_subs_quants_packs = pd.concat([df_subs_quants, df[mask][packages]], axis=1)\n",
    "print df_subs_quants_packs.shape"
   ]
  },
  {
   "cell_type": "markdown",
   "metadata": {},
   "source": [
    "#### Add other features "
   ]
  },
  {
   "cell_type": "code",
   "execution_count": 148,
   "metadata": {
    "collapsed": false
   },
   "outputs": [
    {
     "name": "stdout",
     "output_type": "stream",
     "text": [
      "(4626, 1786)\n"
     ]
    }
   ],
   "source": [
    "cols_to_drop = list(types); cols_to_drop.extend(packages); cols_to_drop.extend(TARGET_COLUMNS)\n",
    "cols_to_drop.extend([u'libelle_ampoule', u'libelle_capsule', u'libelle_comprime', u'libelle_film', u'libelle_flacon', u'libelle_gelule', u'libelle_pilulier', u'libelle_plaquette', u'libelle_poche', u'libelle_sachet', u'libelle_seringue', u'libelle_stylo', u'libelle_tube'])\n",
    "other_features = df.drop(cols_to_drop, axis=1)\n",
    "df_subs_quants_others = pd.concat([df_subs_quants_packs, other_features[mask]], axis=1)\n",
    "print df_subs_quants_others.shape"
   ]
  },
  {
   "cell_type": "markdown",
   "metadata": {},
   "source": [
    "#### Add voie admin"
   ]
  },
  {
   "cell_type": "code",
   "execution_count": 149,
   "metadata": {
    "collapsed": false
   },
   "outputs": [
    {
     "name": "stdout",
     "output_type": "stream",
     "text": [
      "(4626, 1821)\n"
     ]
    }
   ],
   "source": [
    "df_subs_quants_packs_va = pd.concat([df_subs_quants_packs, PROCESSED_TRAIN_VOIE_ADMIN[mask]], axis=1)\n",
    "print df_subs_quants_packs_va.shape"
   ]
  },
  {
   "cell_type": "markdown",
   "metadata": {},
   "source": [
    "#### Remove all zero columns"
   ]
  },
  {
   "cell_type": "code",
   "execution_count": 150,
   "metadata": {
    "collapsed": false
   },
   "outputs": [
    {
     "name": "stdout",
     "output_type": "stream",
     "text": [
      "df_subs_quants ->  (4626, 761)\n",
      "df_subs_quants_packs ->  (4626, 766)\n",
      "df_subs_quants_others ->  (4626, 776)\n",
      "df_subs_quants_packs_va ->  (4626, 772)\n"
     ]
    }
   ],
   "source": [
    "df_subs_quants = drop_const_cols(df_subs_quants)\n",
    "df_subs_quants_packs = drop_const_cols(df_subs_quants_packs)\n",
    "df_subs_quants_others = drop_const_cols(df_subs_quants_others)\n",
    "df_subs_quants_packs_va = drop_const_cols(df_subs_quants_packs_va)\n",
    "\n",
    "print \"df_subs_quants -> \", df_subs_quants.shape\n",
    "print \"df_subs_quants_packs -> \", df_subs_quants_packs.shape\n",
    "print \"df_subs_quants_others -> \", df_subs_quants_others.shape\n",
    "print \"df_subs_quants_packs_va -> \", df_subs_quants_packs_va.shape"
   ]
  },
  {
   "cell_type": "markdown",
   "metadata": {},
   "source": [
    "#### Split and learn"
   ]
  },
  {
   "cell_type": "code",
   "execution_count": 151,
   "metadata": {
    "collapsed": true
   },
   "outputs": [],
   "source": [
    "X0 = df_subs_quants_packs_va\n",
    "ylog = df_logprices\n",
    "\n",
    "X = StandardScaler().fit_transform(X0)\n",
    "X_train, X_test, ylog_train, ylog_test = train_test_split(X, ylog, train_size=0.80)"
   ]
  },
  {
   "cell_type": "code",
   "execution_count": 152,
   "metadata": {
    "collapsed": false
   },
   "outputs": [],
   "source": [
    "rf = RandomForestRegressor(n_estimators = 50, n_jobs = -1, verbose = 0)"
   ]
  },
  {
   "cell_type": "code",
   "execution_count": 153,
   "metadata": {
    "collapsed": false
   },
   "outputs": [
    {
     "name": "stdout",
     "output_type": "stream",
     "text": [
      "0.932035926472\n",
      "13.4392035208\n",
      "24.6039827228\n"
     ]
    }
   ],
   "source": [
    "rf.fit(X_train, ylog_train)\n",
    "score = rf.score(X_train, ylog_train)\n",
    "print score\n",
    "res0 = rf.predict(X_train)\n",
    "res1 = rf.predict(X_test)\n",
    "print mape_error(ylog_train, res0)\n",
    "print mape_error(ylog_test, res1)"
   ]
  },
  {
   "cell_type": "code",
   "execution_count": 154,
   "metadata": {
    "collapsed": false
   },
   "outputs": [
    {
     "name": "stdout",
     "output_type": "stream",
     "text": [
      "0.834960840086\n",
      "28.2416501109\n",
      "36.8112215735\n"
     ]
    }
   ],
   "source": [
    "svr = SVR(kernel='linear', C=3)\n",
    "svr.fit(X_train, ylog_train)\n",
    "score = svr.score(X_train, ylog_train)\n",
    "print score\n",
    "res0 = svr.predict(X_train)\n",
    "res1 = svr.predict(X_test)\n",
    "print mape_error(ylog_train, res0)\n",
    "print mape_error(ylog_test, res1)"
   ]
  },
  {
   "cell_type": "markdown",
   "metadata": {},
   "source": [
    "#### Cross validation scoring"
   ]
  },
  {
   "cell_type": "code",
   "execution_count": 155,
   "metadata": {
    "collapsed": true
   },
   "outputs": [],
   "source": [
    "def run_cv(data, targets, clf, cv=10):\n",
    "    X0 = data\n",
    "    ylog = targets\n",
    "    X = StandardScaler().fit_transform(X0)\n",
    "    scores = cross_val_score(clf, X, ylog, cv=cv, scoring=make_scorer(mape_error))\n",
    "    print scores      \n",
    "    print scores.mean(), scores.std()"
   ]
  },
  {
   "cell_type": "code",
   "execution_count": 156,
   "metadata": {
    "collapsed": false,
    "scrolled": true
   },
   "outputs": [
    {
     "name": "stdout",
     "output_type": "stream",
     "text": [
      "[ 24.64669103  21.02139622  25.61395546  18.41282473  22.60143702]\n",
      "22.4592608915 2.57675233526\n",
      "[ 24.25376455  19.84213633  25.07687876  17.1858631   21.02716185]\n",
      "21.4771609172 2.89684441581\n",
      "[ 35.71147646  28.84464981  33.58820139  25.88180725  27.20050356]\n",
      "30.245327692 3.77694983167\n",
      "[ 24.95401988  19.66343652  23.81639664  17.02089966  21.25796491]\n",
      "21.3425435211 2.85187202578\n"
     ]
    }
   ],
   "source": [
    "run_cv(df_subs_quants, ylog, rf, cv=5)\n",
    "run_cv(df_subs_quants_packs, ylog, rf, cv=5)\n",
    "run_cv(df_subs_quants_others, ylog, rf, cv=5)\n",
    "run_cv(df_subs_quants_packs_va, ylog, rf, cv=5)"
   ]
  },
  {
   "cell_type": "code",
   "execution_count": null,
   "metadata": {
    "collapsed": false,
    "scrolled": true
   },
   "outputs": [],
   "source": [
    "# run_cv(df_subs_quants, ylog, svr, cv=5)\n",
    "# run_cv(df_subs_quants_packs, ylog, svr, cv=5)\n",
    "# run_cv(df_subs_quants_others, ylog, svr, cv=5)\n",
    "# run_cv(df_subs_quants_packs_va, ylog, svr, cv=5)"
   ]
  },
  {
   "cell_type": "code",
   "execution_count": null,
   "metadata": {
    "collapsed": true
   },
   "outputs": [],
   "source": []
  },
  {
   "cell_type": "code",
   "execution_count": null,
   "metadata": {
    "collapsed": true
   },
   "outputs": [],
   "source": []
  },
  {
   "cell_type": "code",
   "execution_count": null,
   "metadata": {
    "collapsed": true
   },
   "outputs": [],
   "source": []
  }
 ],
 "metadata": {
  "kernelspec": {
   "display_name": "Python 2",
   "language": "python",
   "name": "python2"
  },
  "language_info": {
   "codemirror_mode": {
    "name": "ipython",
    "version": 2
   },
   "file_extension": ".py",
   "mimetype": "text/x-python",
   "name": "python",
   "nbconvert_exporter": "python",
   "pygments_lexer": "ipython2",
   "version": "2.7.12"
  }
 },
 "nbformat": 4,
 "nbformat_minor": 1
}
