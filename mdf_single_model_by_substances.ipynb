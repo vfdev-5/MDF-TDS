{
 "cells": [
  {
   "cell_type": "markdown",
   "metadata": {},
   "source": [
    "# MDF Single model learning by substances and quantities"
   ]
  },
  {
   "cell_type": "code",
   "execution_count": 1,
   "metadata": {
    "collapsed": false
   },
   "outputs": [],
   "source": [
    "import pandas as pd\n",
    "import numpy as np\n",
    "from sklearn.model_selection import train_test_split\n",
    "from sklearn.preprocessing import StandardScaler\n",
    "from sklearn.model_selection import cross_val_score\n",
    "from sklearn.metrics import make_scorer\n",
    "from sklearn.ensemble import ExtraTreesRegressor, RandomForestRegressor, GradientBoostingRegressor\n",
    "from sklearn.svm import SVR\n",
    "%matplotlib inline"
   ]
  },
  {
   "cell_type": "code",
   "execution_count": 2,
   "metadata": {
    "collapsed": false
   },
   "outputs": [
    {
     "name": "stdout",
     "output_type": "stream",
     "text": [
      "-- get_unique_noconst --\n",
      "- Number of found duplicated rows :  1276\n",
      "- Remove constant columns :  (10959, 42) -> (10959, 42)\n",
      "- Dropped const columns :  \n"
     ]
    }
   ],
   "source": [
    "from prepare_data import NONNUM_TYPES, NON_QUANTITY_TYPES, QUANTITY_TYPES, MEASURE_TYPES, PROCESSED_LIBELLES, NB_COLS, LIBELLE_COLS, BIG, PROCESSED_BIG, PROCESSED_SUBSTANCES, PROCESSED_VOIE_ADMIN, TARGET_COLUMNS, TRAIN, TEST, SOURCE"
   ]
  },
  {
   "cell_type": "code",
   "execution_count": 3,
   "metadata": {
    "collapsed": true
   },
   "outputs": [],
   "source": [
    "PROCESSED_TRAIN = PROCESSED_BIG[PROCESSED_BIG[SOURCE] == TRAIN].drop(SOURCE, axis=1)\n",
    "PROCESSED_TRAIN_SUBS = PROCESSED_SUBSTANCES[PROCESSED_SUBSTANCES[SOURCE] == TRAIN].drop(SOURCE, axis=1)\n",
    "PROCESSED_TRAIN_VOIE_ADMIN = PROCESSED_VOIE_ADMIN[PROCESSED_VOIE_ADMIN[SOURCE] == TRAIN].drop(SOURCE, axis=1)\n",
    "PROCESSED_TRAIN_LIBELLES = PROCESSED_LIBELLES[PROCESSED_LIBELLES[SOURCE] == TRAIN].drop(SOURCE, axis=1)"
   ]
  },
  {
   "cell_type": "code",
   "execution_count": 4,
   "metadata": {
    "collapsed": false
   },
   "outputs": [
    {
     "name": "stdout",
     "output_type": "stream",
     "text": [
      "(7496, 40) (7496, 1767) (7496, 45) (7496, 82)\n"
     ]
    }
   ],
   "source": [
    "print PROCESSED_TRAIN.shape, PROCESSED_TRAIN_SUBS.shape, PROCESSED_TRAIN_VOIE_ADMIN.shape, PROCESSED_TRAIN_LIBELLES.shape"
   ]
  },
  {
   "cell_type": "code",
   "execution_count": null,
   "metadata": {
    "collapsed": true
   },
   "outputs": [],
   "source": [
    "PROCESSED_TRAIN.columns.values"
   ]
  },
  {
   "cell_type": "code",
   "execution_count": null,
   "metadata": {
    "collapsed": true
   },
   "outputs": [],
   "source": [
    "PROCESSED_VOIE_ADMIN.columns.values"
   ]
  },
  {
   "cell_type": "code",
   "execution_count": null,
   "metadata": {
    "collapsed": true
   },
   "outputs": [],
   "source": [
    "PROCESSED_SUBSTANCES.columns.values"
   ]
  },
  {
   "cell_type": "code",
   "execution_count": null,
   "metadata": {
    "collapsed": false
   },
   "outputs": [],
   "source": [
    "MEASURE_TYPES"
   ]
  },
  {
   "cell_type": "markdown",
   "metadata": {},
   "source": [
    "## Metric MAPE"
   ]
  },
  {
   "cell_type": "code",
   "execution_count": 5,
   "metadata": {
    "collapsed": true
   },
   "outputs": [],
   "source": [
    "# Mean Absolute Percentage Error\n",
    "def mape_error(y_true, y_pred, **kwards): \n",
    "    return np.mean(np.abs((y_true - y_pred) / y_true)) * 100"
   ]
  },
  {
   "cell_type": "markdown",
   "metadata": {
    "collapsed": true
   },
   "source": [
    "## Learn by medecin types, substances and its quantities"
   ]
  },
  {
   "cell_type": "code",
   "execution_count": 6,
   "metadata": {
    "collapsed": false
   },
   "outputs": [],
   "source": [
    "df = PROCESSED_TRAIN\n",
    "df_libelles = PROCESSED_TRAIN_LIBELLES\n",
    "df_subs = PROCESSED_TRAIN_SUBS.drop(['_ENCODED_'], axis=1)"
   ]
  },
  {
   "cell_type": "markdown",
   "metadata": {},
   "source": [
    "### Learn by medecin measure type : ml"
   ]
  },
  {
   "cell_type": "code",
   "execution_count": 7,
   "metadata": {
    "collapsed": false
   },
   "outputs": [
    {
     "name": "stdout",
     "output_type": "stream",
     "text": [
      "(1220, 82)\n"
     ]
    }
   ],
   "source": [
    "mask = df_libelles['ml'] > 0.0001\n",
    "df_ml = df_libelles[mask]\n",
    "print df_ml.shape\n",
    "\n",
    "df_prices = df[mask]['logprix']"
   ]
  },
  {
   "cell_type": "markdown",
   "metadata": {},
   "source": [
    "#### Add other features "
   ]
  },
  {
   "cell_type": "code",
   "execution_count": null,
   "metadata": {
    "collapsed": false
   },
   "outputs": [],
   "source": [
    "cols_to_drop = list(NONNUM_TYPES); cols_to_drop.extend(NB_COLS); cols_to_drop.extend(LIBELLE_COLS); cols_to_drop.extend(TARGET_COLUMNS)\n",
    "other_features = df.drop(cols_to_drop, axis=1)\n",
    "df_subs_quants_others = pd.concat([df_subs_quants_packs, other_features[mask]], axis=1)\n",
    "print df_subs_quants_others.shape"
   ]
  },
  {
   "cell_type": "markdown",
   "metadata": {},
   "source": [
    "#### Add voie admin"
   ]
  },
  {
   "cell_type": "code",
   "execution_count": 8,
   "metadata": {
    "collapsed": false
   },
   "outputs": [
    {
     "name": "stdout",
     "output_type": "stream",
     "text": [
      "(1220, 127)\n"
     ]
    }
   ],
   "source": [
    "df_ml_va = pd.concat([df_ml, PROCESSED_TRAIN_VOIE_ADMIN[mask]], axis=1)\n",
    "print df_ml_va.shape"
   ]
  },
  {
   "cell_type": "markdown",
   "metadata": {},
   "source": [
    "#### Remove all zero columns"
   ]
  },
  {
   "cell_type": "code",
   "execution_count": 9,
   "metadata": {
    "collapsed": true
   },
   "outputs": [],
   "source": [
    "from common.preprocessing_helper import drop_const_cols"
   ]
  },
  {
   "cell_type": "code",
   "execution_count": 10,
   "metadata": {
    "collapsed": false
   },
   "outputs": [
    {
     "name": "stdout",
     "output_type": "stream",
     "text": [
      "df_ml ->  (1220, 50)\n",
      "df_ml_va ->  (1220, 88)\n"
     ]
    }
   ],
   "source": [
    "df_ml = drop_const_cols(df_ml)\n",
    "df_ml_va = drop_const_cols(df_ml_va)\n",
    "\n",
    "print \"df_ml -> \", df_ml.shape\n",
    "print \"df_ml_va -> \", df_ml_va.shape"
   ]
  },
  {
   "cell_type": "markdown",
   "metadata": {},
   "source": [
    "#### Split and learn"
   ]
  },
  {
   "cell_type": "code",
   "execution_count": 15,
   "metadata": {
    "collapsed": false
   },
   "outputs": [],
   "source": [
    "y = df_prices\n",
    "X = StandardScaler().fit_transform(df_ml_va)\n",
    "X_train, X_test, y_train, y_test = train_test_split(X, y, train_size=0.75)"
   ]
  },
  {
   "cell_type": "code",
   "execution_count": 16,
   "metadata": {
    "collapsed": false
   },
   "outputs": [],
   "source": [
    "rf = RandomForestRegressor(n_estimators = 35, n_jobs = -1, verbose = 0)"
   ]
  },
  {
   "cell_type": "code",
   "execution_count": 17,
   "metadata": {
    "collapsed": false
   },
   "outputs": [
    {
     "name": "stdout",
     "output_type": "stream",
     "text": [
      "0.908143577266\n",
      "41.5343153881\n",
      "59.2763731294\n",
      "[ 3.05625521  4.16141549  1.56144815  1.88485163  4.20382754  0.68093861\n",
      "  0.97979969  3.91351846  2.10347914  3.96899771]\n",
      "[ 3.76514581  4.4804003   1.48160454  1.89009537  5.22024771  0.41871033\n",
      "  0.52472853  3.52105234  2.05668455  0.33647224]\n"
     ]
    }
   ],
   "source": [
    "rf.fit(X_train, y_train)\n",
    "score = rf.score(X_train, y_train)\n",
    "print score\n",
    "res0 = rf.predict(X_train)\n",
    "res1 = rf.predict(X_test)\n",
    "print mape_error(y_train, res0)\n",
    "print mape_error(y_test, res1)\n",
    "\n",
    "print res1[:10]\n",
    "print y_test.values[:10]"
   ]
  },
  {
   "cell_type": "code",
   "execution_count": null,
   "metadata": {
    "collapsed": true
   },
   "outputs": [],
   "source": [
    "X0 = df_subs_quants_packs_va\n",
    "y = df_prices\n",
    "\n",
    "X = StandardScaler().fit_transform(X0)\n",
    "X_train, X_test, y_train, y_test = train_test_split(X, y, train_size=0.75)"
   ]
  },
  {
   "cell_type": "code",
   "execution_count": null,
   "metadata": {
    "collapsed": false
   },
   "outputs": [],
   "source": [
    "rf = RandomForestRegressor(n_estimators = 35, n_jobs = -1, verbose = 0)"
   ]
  },
  {
   "cell_type": "code",
   "execution_count": null,
   "metadata": {
    "collapsed": false
   },
   "outputs": [],
   "source": [
    "rf.fit(X_train, y_train)\n",
    "score = rf.score(X_train, y_train)\n",
    "print score\n",
    "res0 = rf.predict(X_train)\n",
    "res1 = rf.predict(X_test)\n",
    "print mape_error(y_train, res0)\n",
    "print mape_error(y_test, res1)\n",
    "print res1[:10]\n",
    "print y_test.values[:10]"
   ]
  },
  {
   "cell_type": "code",
   "execution_count": null,
   "metadata": {
    "collapsed": false
   },
   "outputs": [],
   "source": [
    "svr = SVR(kernel='linear', C=3)\n",
    "svr.fit(X_train, y_train)\n",
    "score = svr.score(X_train, y_train)\n",
    "print score\n",
    "res0 = svr.predict(X_train)\n",
    "res1 = svr.predict(X_test)\n",
    "print mape_error(y_train, res0)\n",
    "print mape_error(y_test, res1)"
   ]
  },
  {
   "cell_type": "code",
   "execution_count": null,
   "metadata": {
    "collapsed": false
   },
   "outputs": [],
   "source": [
    "gbr = GradientBoostingRegressor(verbose = 0, max_features='auto')\n",
    "gbr.fit(X_train, y_train)\n",
    "score = gbr.score(X_train, y_train)\n",
    "print score\n",
    "res0 = gbr.predict(X_train)\n",
    "res1 = gbr.predict(X_test)\n",
    "print mape_error(y_train, res0)\n",
    "print mape_error(y_test, res1)"
   ]
  },
  {
   "cell_type": "markdown",
   "metadata": {},
   "source": [
    "#### Cross validation scoring"
   ]
  },
  {
   "cell_type": "code",
   "execution_count": null,
   "metadata": {
    "collapsed": true
   },
   "outputs": [],
   "source": [
    "def run_cv(data, targets, clf, cv=10):\n",
    "    X0 = data\n",
    "    y = targets\n",
    "    X = StandardScaler().fit_transform(X0)\n",
    "    scores = cross_val_score(clf, X, y, cv=cv, scoring=make_scorer(mape_error))\n",
    "    print scores      \n",
    "    print scores.mean(), scores.std()"
   ]
  },
  {
   "cell_type": "code",
   "execution_count": null,
   "metadata": {
    "collapsed": false
   },
   "outputs": [],
   "source": [
    "run_cv(df_subs_quants, df_prices, rf)\n",
    "run_cv(df_subs_quants_packs, df_prices, rf)\n",
    "run_cv(df_subs_quants_others, df_prices, rf)\n",
    "run_cv(df_subs_quants_packs_va, df_prices, rf)"
   ]
  },
  {
   "cell_type": "code",
   "execution_count": null,
   "metadata": {
    "collapsed": false
   },
   "outputs": [],
   "source": [
    "run_cv(df_subs_quants, df_prices, svr)\n",
    "run_cv(df_subs_quants_packs, df_prices, svr)\n",
    "run_cv(df_subs_quants_others, df_prices, svr)\n",
    "run_cv(df_subs_quants_packs_va, df_prices, svr)"
   ]
  },
  {
   "cell_type": "code",
   "execution_count": null,
   "metadata": {
    "collapsed": false
   },
   "outputs": [],
   "source": [
    "run_cv(df_subs_quants, df_prices, gbr)\n",
    "run_cv(df_subs_quants_packs, df_prices, gbr)\n",
    "run_cv(df_subs_quants_others, df_prices, gbr)\n",
    "run_cv(df_subs_quants_packs_va, df_prices, gbr)"
   ]
  },
  {
   "cell_type": "markdown",
   "metadata": {},
   "source": [
    "### Learn by type : 'gelule'"
   ]
  },
  {
   "cell_type": "code",
   "execution_count": null,
   "metadata": {
    "collapsed": false
   },
   "outputs": [],
   "source": [
    "index = 2\n",
    "print \"Select type only : \", types[index]\n",
    "mask = df[types[index]] > 0\n",
    "print \"Found lines (med has the type): \", len(df[mask])\n",
    "indices = range(len(types))\n",
    "indices.remove(index)\n",
    "for i in indices:\n",
    "    mask &= df[types[i]] < 1\n",
    "    \n",
    "print \"Found lines (med has the type only) : \", len(df[mask])\n",
    "df_logprices = df[mask]['logprix']"
   ]
  },
  {
   "cell_type": "code",
   "execution_count": null,
   "metadata": {
    "collapsed": false
   },
   "outputs": [],
   "source": [
    "df_subs_quants = create_df_subs_quants(df_subs[mask], df[mask][types[index]])\n",
    "print df_subs_quants.shape"
   ]
  },
  {
   "cell_type": "markdown",
   "metadata": {},
   "source": [
    "#### Add packages"
   ]
  },
  {
   "cell_type": "code",
   "execution_count": null,
   "metadata": {
    "collapsed": false
   },
   "outputs": [],
   "source": [
    "df_subs_quants_packs = pd.concat([df_subs_quants, df[mask][packages]], axis=1)\n",
    "print df_subs_quants_packs.shape"
   ]
  },
  {
   "cell_type": "markdown",
   "metadata": {},
   "source": [
    "#### Add other features "
   ]
  },
  {
   "cell_type": "code",
   "execution_count": null,
   "metadata": {
    "collapsed": false
   },
   "outputs": [],
   "source": [
    "cols_to_drop = list(NONNUM_TYPES); cols_to_drop.extend(NB_COLS); cols_to_drop.extend(LIBELLE_COLS); cols_to_drop.extend(TARGET_COLUMNS)\n",
    "other_features = df.drop(cols_to_drop, axis=1)\n",
    "df_subs_quants_others = pd.concat([df_subs_quants_packs, other_features[mask]], axis=1)\n",
    "print df_subs_quants_others.shape"
   ]
  },
  {
   "cell_type": "markdown",
   "metadata": {},
   "source": [
    "#### Add voie admin"
   ]
  },
  {
   "cell_type": "code",
   "execution_count": null,
   "metadata": {
    "collapsed": false
   },
   "outputs": [],
   "source": [
    "df_subs_quants_packs_va = pd.concat([df_subs_quants_packs, PROCESSED_TRAIN_VOIE_ADMIN[mask]], axis=1)\n",
    "print df_subs_quants_packs_va.shape"
   ]
  },
  {
   "cell_type": "markdown",
   "metadata": {},
   "source": [
    "#### Remove all zero columns"
   ]
  },
  {
   "cell_type": "code",
   "execution_count": null,
   "metadata": {
    "collapsed": false
   },
   "outputs": [],
   "source": [
    "df_subs_quants = drop_const_cols(df_subs_quants)\n",
    "df_subs_quants_packs = drop_const_cols(df_subs_quants_packs)\n",
    "df_subs_quants_others = drop_const_cols(df_subs_quants_others)\n",
    "df_subs_quants_packs_va = drop_const_cols(df_subs_quants_packs_va)\n",
    "\n",
    "print \"df_subs_quants -> \", df_subs_quants.shape\n",
    "print \"df_subs_quants_packs -> \", df_subs_quants_packs.shape\n",
    "print \"df_subs_quants_others -> \", df_subs_quants_others.shape\n",
    "print \"df_subs_quants_packs_va -> \", df_subs_quants_packs_va.shape"
   ]
  },
  {
   "cell_type": "markdown",
   "metadata": {},
   "source": [
    "#### Split and learn"
   ]
  },
  {
   "cell_type": "code",
   "execution_count": null,
   "metadata": {
    "collapsed": true
   },
   "outputs": [],
   "source": [
    "X0 = df_subs_quants_packs_va\n",
    "ylog = df_logprices\n",
    "\n",
    "X = StandardScaler().fit_transform(X0)\n",
    "X_train, X_test, ylog_train, ylog_test = train_test_split(X, ylog, train_size=0.80)"
   ]
  },
  {
   "cell_type": "code",
   "execution_count": null,
   "metadata": {
    "collapsed": false
   },
   "outputs": [],
   "source": [
    "rf = RandomForestRegressor(n_estimators = 50, n_jobs = -1, verbose = 0)"
   ]
  },
  {
   "cell_type": "code",
   "execution_count": null,
   "metadata": {
    "collapsed": false
   },
   "outputs": [],
   "source": [
    "rf.fit(X_train, ylog_train)\n",
    "score = rf.score(X_train, ylog_train)\n",
    "print score\n",
    "res0 = rf.predict(X_train)\n",
    "res1 = rf.predict(X_test)\n",
    "print mape_error(ylog_train, res0)\n",
    "print mape_error(ylog_test, res1)"
   ]
  },
  {
   "cell_type": "code",
   "execution_count": null,
   "metadata": {
    "collapsed": false
   },
   "outputs": [],
   "source": [
    "svr = SVR(kernel='linear', C=1)\n",
    "svr.fit(X_train, ylog_train)\n",
    "score = svr.score(X_train, ylog_train)\n",
    "print score\n",
    "res0 = svr.predict(X_train)\n",
    "res1 = svr.predict(X_test)\n",
    "print mape_error(ylog_train, res0)\n",
    "print mape_error(ylog_test, res1)"
   ]
  },
  {
   "cell_type": "code",
   "execution_count": null,
   "metadata": {
    "collapsed": false
   },
   "outputs": [],
   "source": [
    "gbr = GradientBoostingRegressor(verbose = 0, max_features='auto')\n",
    "gbr.fit(X_train, ylog_train)\n",
    "score = gbr.score(X_train, ylog_train)\n",
    "print score\n",
    "res0 = gbr.predict(X_train)\n",
    "res1 = gbr.predict(X_test)\n",
    "print mape_error(ylog_train, res0)\n",
    "print mape_error(ylog_test, res1)"
   ]
  },
  {
   "cell_type": "markdown",
   "metadata": {},
   "source": [
    "#### Cross validation scoring"
   ]
  },
  {
   "cell_type": "code",
   "execution_count": null,
   "metadata": {
    "collapsed": true
   },
   "outputs": [],
   "source": [
    "def run_cv(data, targets, clf, cv=10):\n",
    "    X0 = data\n",
    "    ylog = targets\n",
    "    X = StandardScaler().fit_transform(X0)\n",
    "    scores = cross_val_score(clf, X, ylog, cv=cv, scoring=make_scorer(mape_error))\n",
    "    print scores      \n",
    "    print scores.mean(), scores.std()"
   ]
  },
  {
   "cell_type": "code",
   "execution_count": null,
   "metadata": {
    "collapsed": false
   },
   "outputs": [],
   "source": [
    "run_cv(df_subs_quants, ylog, rf)\n",
    "run_cv(df_subs_quants_packs, ylog, rf)\n",
    "run_cv(df_subs_quants_others, ylog, rf)\n",
    "run_cv(df_subs_quants_packs_va, ylog, rf)"
   ]
  },
  {
   "cell_type": "code",
   "execution_count": null,
   "metadata": {
    "collapsed": false,
    "scrolled": true
   },
   "outputs": [],
   "source": [
    "run_cv(df_subs_quants, ylog, svr)\n",
    "run_cv(df_subs_quants_packs, ylog, svr)\n",
    "run_cv(df_subs_quants_others, ylog, svr)\n",
    "run_cv(df_subs_quants_packs_va, ylog, svr)"
   ]
  },
  {
   "cell_type": "code",
   "execution_count": null,
   "metadata": {
    "collapsed": false,
    "scrolled": false
   },
   "outputs": [],
   "source": [
    "run_cv(df_subs_quants, ylog, gbr)\n",
    "run_cv(df_subs_quants_packs, ylog, gbr)\n",
    "run_cv(df_subs_quants_others, ylog, gbr)\n",
    "run_cv(df_subs_quants_packs_va, ylog, gbr)"
   ]
  },
  {
   "cell_type": "code",
   "execution_count": null,
   "metadata": {
    "collapsed": true
   },
   "outputs": [],
   "source": []
  },
  {
   "cell_type": "code",
   "execution_count": null,
   "metadata": {
    "collapsed": true
   },
   "outputs": [],
   "source": []
  },
  {
   "cell_type": "markdown",
   "metadata": {},
   "source": [
    "### Learn by type : 'comprime' et 'gelule'"
   ]
  },
  {
   "cell_type": "code",
   "execution_count": null,
   "metadata": {
    "collapsed": false
   },
   "outputs": [],
   "source": [
    "index1 = 0\n",
    "index2 = 2\n",
    "print \"Select types : \", types[index1], types[index2]\n",
    "mask = (df[types[index1]] > 0) | (df[types[index2]] > 0)\n",
    "print \"Found lines (med has the type): \", len(df[mask])\n",
    "df_logprices = df[mask]['logprix']"
   ]
  },
  {
   "cell_type": "code",
   "execution_count": null,
   "metadata": {
    "collapsed": false
   },
   "outputs": [],
   "source": [
    "df_subs_quants = create_df_subs_quants(df_subs[mask], df[mask][types[index]])\n",
    "print df_subs_quants.shape"
   ]
  },
  {
   "cell_type": "markdown",
   "metadata": {},
   "source": [
    "#### Add packages"
   ]
  },
  {
   "cell_type": "code",
   "execution_count": null,
   "metadata": {
    "collapsed": false
   },
   "outputs": [],
   "source": [
    "df_subs_quants_packs = pd.concat([df_subs_quants, df[mask][packages]], axis=1)\n",
    "print df_subs_quants_packs.shape"
   ]
  },
  {
   "cell_type": "markdown",
   "metadata": {},
   "source": [
    "#### Add other features "
   ]
  },
  {
   "cell_type": "code",
   "execution_count": null,
   "metadata": {
    "collapsed": false
   },
   "outputs": [],
   "source": [
    "cols_to_drop = list(types); cols_to_drop.extend(packages); cols_to_drop.extend(TARGET_COLUMNS)\n",
    "cols_to_drop.extend([u'libelle_ampoule', u'libelle_capsule', u'libelle_comprime', u'libelle_film', u'libelle_flacon', u'libelle_gelule', u'libelle_pilulier', u'libelle_plaquette', u'libelle_poche', u'libelle_sachet', u'libelle_seringue', u'libelle_stylo', u'libelle_tube'])\n",
    "other_features = df.drop(cols_to_drop, axis=1)\n",
    "df_subs_quants_others = pd.concat([df_subs_quants_packs, other_features[mask]], axis=1)\n",
    "print df_subs_quants_others.shape"
   ]
  },
  {
   "cell_type": "markdown",
   "metadata": {},
   "source": [
    "#### Add voie admin"
   ]
  },
  {
   "cell_type": "code",
   "execution_count": null,
   "metadata": {
    "collapsed": false
   },
   "outputs": [],
   "source": [
    "df_subs_quants_packs_va = pd.concat([df_subs_quants_packs, PROCESSED_TRAIN_VOIE_ADMIN[mask]], axis=1)\n",
    "print df_subs_quants_packs_va.shape"
   ]
  },
  {
   "cell_type": "markdown",
   "metadata": {},
   "source": [
    "#### Remove all zero columns"
   ]
  },
  {
   "cell_type": "code",
   "execution_count": null,
   "metadata": {
    "collapsed": false
   },
   "outputs": [],
   "source": [
    "df_subs_quants = drop_const_cols(df_subs_quants)\n",
    "df_subs_quants_packs = drop_const_cols(df_subs_quants_packs)\n",
    "df_subs_quants_others = drop_const_cols(df_subs_quants_others)\n",
    "df_subs_quants_packs_va = drop_const_cols(df_subs_quants_packs_va)\n",
    "\n",
    "print \"df_subs_quants -> \", df_subs_quants.shape\n",
    "print \"df_subs_quants_packs -> \", df_subs_quants_packs.shape\n",
    "print \"df_subs_quants_others -> \", df_subs_quants_others.shape\n",
    "print \"df_subs_quants_packs_va -> \", df_subs_quants_packs_va.shape"
   ]
  },
  {
   "cell_type": "markdown",
   "metadata": {},
   "source": [
    "#### Split and learn"
   ]
  },
  {
   "cell_type": "code",
   "execution_count": null,
   "metadata": {
    "collapsed": true
   },
   "outputs": [],
   "source": [
    "X0 = df_subs_quants_packs_va\n",
    "ylog = df_logprices\n",
    "\n",
    "X = StandardScaler().fit_transform(X0)\n",
    "X_train, X_test, ylog_train, ylog_test = train_test_split(X, ylog, train_size=0.80)"
   ]
  },
  {
   "cell_type": "code",
   "execution_count": null,
   "metadata": {
    "collapsed": false
   },
   "outputs": [],
   "source": [
    "rf = RandomForestRegressor(n_estimators = 50, n_jobs = -1, verbose = 0)"
   ]
  },
  {
   "cell_type": "code",
   "execution_count": null,
   "metadata": {
    "collapsed": false
   },
   "outputs": [],
   "source": [
    "rf.fit(X_train, ylog_train)\n",
    "score = rf.score(X_train, ylog_train)\n",
    "print score\n",
    "res0 = rf.predict(X_train)\n",
    "res1 = rf.predict(X_test)\n",
    "print mape_error(ylog_train, res0)\n",
    "print mape_error(ylog_test, res1)"
   ]
  },
  {
   "cell_type": "code",
   "execution_count": null,
   "metadata": {
    "collapsed": false
   },
   "outputs": [],
   "source": [
    "svr = SVR(kernel='linear', C=1)\n",
    "svr.fit(X_train, ylog_train)\n",
    "score = svr.score(X_train, ylog_train)\n",
    "print score\n",
    "res0 = svr.predict(X_train)\n",
    "res1 = svr.predict(X_test)\n",
    "print mape_error(ylog_train, res0)\n",
    "print mape_error(ylog_test, res1)"
   ]
  },
  {
   "cell_type": "code",
   "execution_count": null,
   "metadata": {
    "collapsed": false
   },
   "outputs": [],
   "source": [
    "gbr = GradientBoostingRegressor(verbose = 0, max_features='auto')\n",
    "gbr.fit(X_train, ylog_train)\n",
    "score = gbr.score(X_train, ylog_train)\n",
    "print score\n",
    "res0 = gbr.predict(X_train)\n",
    "res1 = gbr.predict(X_test)\n",
    "print mape_error(ylog_train, res0)\n",
    "print mape_error(ylog_test, res1)"
   ]
  },
  {
   "cell_type": "markdown",
   "metadata": {},
   "source": [
    "#### Cross validation scoring"
   ]
  },
  {
   "cell_type": "code",
   "execution_count": null,
   "metadata": {
    "collapsed": true
   },
   "outputs": [],
   "source": [
    "def run_cv(data, targets, clf, cv=10):\n",
    "    X0 = data\n",
    "    ylog = targets\n",
    "    X = StandardScaler().fit_transform(X0)\n",
    "    scores = cross_val_score(clf, X, ylog, cv=cv, scoring=make_scorer(mape_error))\n",
    "    print scores      \n",
    "    print scores.mean(), scores.std()"
   ]
  },
  {
   "cell_type": "code",
   "execution_count": null,
   "metadata": {
    "collapsed": false
   },
   "outputs": [],
   "source": [
    "run_cv(df_subs_quants, ylog, rf)\n",
    "run_cv(df_subs_quants_packs, ylog, rf)\n",
    "run_cv(df_subs_quants_others, ylog, rf)\n",
    "run_cv(df_subs_quants_packs_va, ylog, rf)"
   ]
  },
  {
   "cell_type": "code",
   "execution_count": null,
   "metadata": {
    "collapsed": false,
    "scrolled": true
   },
   "outputs": [],
   "source": [
    "run_cv(df_subs_quants, ylog, svr)\n",
    "run_cv(df_subs_quants_packs, ylog, svr)\n",
    "run_cv(df_subs_quants_others, ylog, svr)\n",
    "run_cv(df_subs_quants_packs_va, ylog, svr)"
   ]
  },
  {
   "cell_type": "code",
   "execution_count": null,
   "metadata": {
    "collapsed": false,
    "scrolled": false
   },
   "outputs": [],
   "source": [
    "run_cv(df_subs_quants, ylog, gbr)\n",
    "run_cv(df_subs_quants_packs, ylog, gbr)\n",
    "run_cv(df_subs_quants_others, ylog, gbr)\n",
    "run_cv(df_subs_quants_packs_va, ylog, gbr)"
   ]
  },
  {
   "cell_type": "code",
   "execution_count": null,
   "metadata": {
    "collapsed": true
   },
   "outputs": [],
   "source": []
  },
  {
   "cell_type": "markdown",
   "metadata": {},
   "source": [
    "### Learn by type : 'ml'"
   ]
  },
  {
   "cell_type": "code",
   "execution_count": null,
   "metadata": {
    "collapsed": false
   },
   "outputs": [],
   "source": [
    "index = 3\n",
    "print \"Select type only : \", types[index]\n",
    "mask = df[types[index]] > 0\n",
    "print \"Found lines (med has the type): \", len(df[mask])\n",
    "indices = range(len(types))\n",
    "indices.remove(index)\n",
    "for i in indices:\n",
    "    mask &= df[types[i]] < 1\n",
    "    \n",
    "print \"Found lines (med has the type only) : \", len(df[mask])\n",
    "df_logprices = df[mask]['logprix']"
   ]
  },
  {
   "cell_type": "code",
   "execution_count": null,
   "metadata": {
    "collapsed": false
   },
   "outputs": [],
   "source": [
    "df_subs_quants = create_df_subs_quants(df_subs[mask], df[mask][types[index]])\n",
    "print df_subs_quants.shape"
   ]
  },
  {
   "cell_type": "markdown",
   "metadata": {},
   "source": [
    "#### Add packages"
   ]
  },
  {
   "cell_type": "code",
   "execution_count": null,
   "metadata": {
    "collapsed": false
   },
   "outputs": [],
   "source": [
    "df_subs_quants_packs = pd.concat([df_subs_quants, df[mask][packages]], axis=1)\n",
    "print df_subs_quants_packs.shape"
   ]
  },
  {
   "cell_type": "markdown",
   "metadata": {},
   "source": [
    "#### Add other features "
   ]
  },
  {
   "cell_type": "code",
   "execution_count": null,
   "metadata": {
    "collapsed": false
   },
   "outputs": [],
   "source": [
    "cols_to_drop = list(types); cols_to_drop.extend(packages); cols_to_drop.extend(TARGET_COLUMNS)\n",
    "cols_to_drop.extend([u'libelle_ampoule', u'libelle_capsule', u'libelle_comprime', u'libelle_film', u'libelle_flacon', u'libelle_gelule', u'libelle_pilulier', u'libelle_plaquette', u'libelle_poche', u'libelle_sachet', u'libelle_seringue', u'libelle_stylo', u'libelle_tube'])\n",
    "other_features = df.drop(cols_to_drop, axis=1)\n",
    "df_subs_quants_others = pd.concat([df_subs_quants_packs, other_features[mask]], axis=1)\n",
    "print df_subs_quants_others.shape"
   ]
  },
  {
   "cell_type": "markdown",
   "metadata": {},
   "source": [
    "#### Add voie admin"
   ]
  },
  {
   "cell_type": "code",
   "execution_count": null,
   "metadata": {
    "collapsed": false
   },
   "outputs": [],
   "source": [
    "df_subs_quants_packs_va = pd.concat([df_subs_quants_packs, PROCESSED_TRAIN_VOIE_ADMIN[mask]], axis=1)\n",
    "print df_subs_quants_packs_va.shape"
   ]
  },
  {
   "cell_type": "markdown",
   "metadata": {},
   "source": [
    "#### Remove all zero columns"
   ]
  },
  {
   "cell_type": "code",
   "execution_count": null,
   "metadata": {
    "collapsed": false
   },
   "outputs": [],
   "source": [
    "df_subs_quants = drop_const_cols(df_subs_quants)\n",
    "df_subs_quants_packs = drop_const_cols(df_subs_quants_packs)\n",
    "df_subs_quants_others = drop_const_cols(df_subs_quants_others)\n",
    "df_subs_quants_packs_va = drop_const_cols(df_subs_quants_packs_va)\n",
    "\n",
    "print \"df_subs_quants -> \", df_subs_quants.shape\n",
    "print \"df_subs_quants_packs -> \", df_subs_quants_packs.shape\n",
    "print \"df_subs_quants_others -> \", df_subs_quants_others.shape\n",
    "print \"df_subs_quants_packs_va -> \", df_subs_quants_packs_va.shape"
   ]
  },
  {
   "cell_type": "markdown",
   "metadata": {},
   "source": [
    "#### Split and learn"
   ]
  },
  {
   "cell_type": "code",
   "execution_count": null,
   "metadata": {
    "collapsed": true
   },
   "outputs": [],
   "source": [
    "X0 = df_subs_quants_packs_va\n",
    "ylog = df_logprices\n",
    "\n",
    "X = StandardScaler().fit_transform(X0)\n",
    "X_train, X_test, ylog_train, ylog_test = train_test_split(X, ylog, train_size=0.80)"
   ]
  },
  {
   "cell_type": "code",
   "execution_count": null,
   "metadata": {
    "collapsed": false
   },
   "outputs": [],
   "source": [
    "rf = RandomForestRegressor(n_estimators = 50, n_jobs = -1, verbose = 0)"
   ]
  },
  {
   "cell_type": "code",
   "execution_count": null,
   "metadata": {
    "collapsed": false
   },
   "outputs": [],
   "source": [
    "rf.fit(X_train, ylog_train)\n",
    "score = rf.score(X_train, ylog_train)\n",
    "print score\n",
    "res0 = rf.predict(X_train)\n",
    "res1 = rf.predict(X_test)\n",
    "print mape_error(ylog_train, res0)\n",
    "print mape_error(ylog_test, res1)"
   ]
  },
  {
   "cell_type": "code",
   "execution_count": null,
   "metadata": {
    "collapsed": false
   },
   "outputs": [],
   "source": [
    "svr = SVR(kernel='linear', C=3)\n",
    "svr.fit(X_train, ylog_train)\n",
    "score = svr.score(X_train, ylog_train)\n",
    "print score\n",
    "res0 = svr.predict(X_train)\n",
    "res1 = svr.predict(X_test)\n",
    "print mape_error(ylog_train, res0)\n",
    "print mape_error(ylog_test, res1)"
   ]
  },
  {
   "cell_type": "markdown",
   "metadata": {},
   "source": [
    "#### Cross validation scoring"
   ]
  },
  {
   "cell_type": "code",
   "execution_count": null,
   "metadata": {
    "collapsed": true
   },
   "outputs": [],
   "source": [
    "def run_cv(data, targets, clf, cv=10):\n",
    "    X0 = data\n",
    "    ylog = targets\n",
    "    X = StandardScaler().fit_transform(X0)\n",
    "    scores = cross_val_score(clf, X, ylog, cv=cv, scoring=make_scorer(mape_error))\n",
    "    print scores      \n",
    "    print scores.mean(), scores.std()"
   ]
  },
  {
   "cell_type": "code",
   "execution_count": null,
   "metadata": {
    "collapsed": false,
    "scrolled": true
   },
   "outputs": [],
   "source": [
    "run_cv(df_subs_quants, ylog, rf, cv=7)\n",
    "run_cv(df_subs_quants_packs, ylog, rf, cv=7)\n",
    "run_cv(df_subs_quants_others, ylog, rf, cv=7)\n",
    "run_cv(df_subs_quants_packs_va, ylog, rf, cv=7)"
   ]
  },
  {
   "cell_type": "code",
   "execution_count": null,
   "metadata": {
    "collapsed": false
   },
   "outputs": [],
   "source": [
    "# run_cv(df_subs_quants, ylog, svr, cv=7)\n",
    "# run_cv(df_subs_quants_packs, ylog, svr, cv=7)\n",
    "# run_cv(df_subs_quants_others, ylog, svr, cv=7)\n",
    "# run_cv(df_subs_quants_packs_va, ylog, svr, cv=7)"
   ]
  },
  {
   "cell_type": "code",
   "execution_count": null,
   "metadata": {
    "collapsed": true
   },
   "outputs": [],
   "source": []
  },
  {
   "cell_type": "markdown",
   "metadata": {},
   "source": [
    "### Learn by type : 'comprime'"
   ]
  },
  {
   "cell_type": "code",
   "execution_count": null,
   "metadata": {
    "collapsed": false
   },
   "outputs": [],
   "source": [
    "index = 1\n",
    "print \"Select type only : \", types[index]\n",
    "mask = df[types[index]] > 0\n",
    "print \"Found lines (med has the type): \", len(df[mask])\n",
    "indices = range(len(types))\n",
    "indices.remove(index)\n",
    "for i in indices:\n",
    "    mask &= df[types[i]] < 1\n",
    "    \n",
    "print \"Found lines (med has the type only) : \", len(df[mask])\n",
    "df_logprices = df[mask]['logprix']"
   ]
  },
  {
   "cell_type": "code",
   "execution_count": null,
   "metadata": {
    "collapsed": false
   },
   "outputs": [],
   "source": [
    "df_subs_quants = create_df_subs_quants(df_subs[mask], df[mask][types[index]])\n",
    "print df_subs_quants.shape"
   ]
  },
  {
   "cell_type": "markdown",
   "metadata": {},
   "source": [
    "#### Add packages"
   ]
  },
  {
   "cell_type": "code",
   "execution_count": null,
   "metadata": {
    "collapsed": false
   },
   "outputs": [],
   "source": [
    "df_subs_quants_packs = pd.concat([df_subs_quants, df[mask][packages]], axis=1)\n",
    "print df_subs_quants_packs.shape"
   ]
  },
  {
   "cell_type": "markdown",
   "metadata": {},
   "source": [
    "#### Add other features "
   ]
  },
  {
   "cell_type": "code",
   "execution_count": null,
   "metadata": {
    "collapsed": false
   },
   "outputs": [],
   "source": [
    "cols_to_drop = list(types); cols_to_drop.extend(packages); cols_to_drop.extend(TARGET_COLUMNS)\n",
    "cols_to_drop.extend([u'libelle_ampoule', u'libelle_capsule', u'libelle_comprime', u'libelle_film', u'libelle_flacon', u'libelle_gelule', u'libelle_pilulier', u'libelle_plaquette', u'libelle_poche', u'libelle_sachet', u'libelle_seringue', u'libelle_stylo', u'libelle_tube'])\n",
    "other_features = df.drop(cols_to_drop, axis=1)\n",
    "df_subs_quants_others = pd.concat([df_subs_quants_packs, other_features[mask]], axis=1)\n",
    "print df_subs_quants_others.shape"
   ]
  },
  {
   "cell_type": "markdown",
   "metadata": {},
   "source": [
    "#### Add voie admin"
   ]
  },
  {
   "cell_type": "code",
   "execution_count": null,
   "metadata": {
    "collapsed": false
   },
   "outputs": [],
   "source": [
    "df_subs_quants_packs_va = pd.concat([df_subs_quants_packs, PROCESSED_TRAIN_VOIE_ADMIN[mask]], axis=1)\n",
    "print df_subs_quants_packs_va.shape"
   ]
  },
  {
   "cell_type": "markdown",
   "metadata": {},
   "source": [
    "#### Remove all zero columns"
   ]
  },
  {
   "cell_type": "code",
   "execution_count": null,
   "metadata": {
    "collapsed": false
   },
   "outputs": [],
   "source": [
    "df_subs_quants = drop_const_cols(df_subs_quants)\n",
    "df_subs_quants_packs = drop_const_cols(df_subs_quants_packs)\n",
    "df_subs_quants_others = drop_const_cols(df_subs_quants_others)\n",
    "df_subs_quants_packs_va = drop_const_cols(df_subs_quants_packs_va)\n",
    "\n",
    "print \"df_subs_quants -> \", df_subs_quants.shape\n",
    "print \"df_subs_quants_packs -> \", df_subs_quants_packs.shape\n",
    "print \"df_subs_quants_others -> \", df_subs_quants_others.shape\n",
    "print \"df_subs_quants_packs_va -> \", df_subs_quants_packs_va.shape"
   ]
  },
  {
   "cell_type": "markdown",
   "metadata": {},
   "source": [
    "#### Split and learn"
   ]
  },
  {
   "cell_type": "code",
   "execution_count": null,
   "metadata": {
    "collapsed": true
   },
   "outputs": [],
   "source": [
    "X0 = df_subs_quants_packs_va\n",
    "ylog = df_logprices\n",
    "\n",
    "X = StandardScaler().fit_transform(X0)\n",
    "X_train, X_test, ylog_train, ylog_test = train_test_split(X, ylog, train_size=0.80)"
   ]
  },
  {
   "cell_type": "code",
   "execution_count": null,
   "metadata": {
    "collapsed": false
   },
   "outputs": [],
   "source": [
    "rf = RandomForestRegressor(n_estimators = 50, n_jobs = -1, verbose = 0)"
   ]
  },
  {
   "cell_type": "code",
   "execution_count": null,
   "metadata": {
    "collapsed": false
   },
   "outputs": [],
   "source": [
    "rf.fit(X_train, ylog_train)\n",
    "score = rf.score(X_train, ylog_train)\n",
    "print score\n",
    "res0 = rf.predict(X_train)\n",
    "res1 = rf.predict(X_test)\n",
    "print mape_error(ylog_train, res0)\n",
    "print mape_error(ylog_test, res1)"
   ]
  },
  {
   "cell_type": "code",
   "execution_count": null,
   "metadata": {
    "collapsed": false
   },
   "outputs": [],
   "source": [
    "svr = SVR(kernel='linear', C=3)\n",
    "svr.fit(X_train, ylog_train)\n",
    "score = svr.score(X_train, ylog_train)\n",
    "print score\n",
    "res0 = svr.predict(X_train)\n",
    "res1 = svr.predict(X_test)\n",
    "print mape_error(ylog_train, res0)\n",
    "print mape_error(ylog_test, res1)"
   ]
  },
  {
   "cell_type": "markdown",
   "metadata": {},
   "source": [
    "#### Cross validation scoring"
   ]
  },
  {
   "cell_type": "code",
   "execution_count": null,
   "metadata": {
    "collapsed": true
   },
   "outputs": [],
   "source": [
    "def run_cv(data, targets, clf, cv=10):\n",
    "    X0 = data\n",
    "    ylog = targets\n",
    "    X = StandardScaler().fit_transform(X0)\n",
    "    scores = cross_val_score(clf, X, ylog, cv=cv, scoring=make_scorer(mape_error))\n",
    "    print scores      \n",
    "    print scores.mean(), scores.std()"
   ]
  },
  {
   "cell_type": "code",
   "execution_count": null,
   "metadata": {
    "collapsed": false,
    "scrolled": true
   },
   "outputs": [],
   "source": [
    "run_cv(df_subs_quants, ylog, rf, cv=5)\n",
    "run_cv(df_subs_quants_packs, ylog, rf, cv=5)\n",
    "run_cv(df_subs_quants_others, ylog, rf, cv=5)\n",
    "run_cv(df_subs_quants_packs_va, ylog, rf, cv=5)"
   ]
  },
  {
   "cell_type": "code",
   "execution_count": null,
   "metadata": {
    "collapsed": false,
    "scrolled": true
   },
   "outputs": [],
   "source": [
    "# run_cv(df_subs_quants, ylog, svr, cv=5)\n",
    "# run_cv(df_subs_quants_packs, ylog, svr, cv=5)\n",
    "# run_cv(df_subs_quants_others, ylog, svr, cv=5)\n",
    "# run_cv(df_subs_quants_packs_va, ylog, svr, cv=5)"
   ]
  },
  {
   "cell_type": "code",
   "execution_count": null,
   "metadata": {
    "collapsed": true
   },
   "outputs": [],
   "source": []
  },
  {
   "cell_type": "code",
   "execution_count": null,
   "metadata": {
    "collapsed": true
   },
   "outputs": [],
   "source": []
  },
  {
   "cell_type": "code",
   "execution_count": null,
   "metadata": {
    "collapsed": true
   },
   "outputs": [],
   "source": []
  },
  {
   "cell_type": "markdown",
   "metadata": {},
   "source": [
    "### Learn all types"
   ]
  },
  {
   "cell_type": "code",
   "execution_count": null,
   "metadata": {
    "collapsed": false
   },
   "outputs": [],
   "source": [
    "df.shape"
   ]
  },
  {
   "cell_type": "code",
   "execution_count": null,
   "metadata": {
    "collapsed": false
   },
   "outputs": [],
   "source": [
    "mask = df[types[0]] == 0\n",
    "indices = range(len(types))\n",
    "indices.remove(0)\n",
    "for i in indices:\n",
    "    mask &= df[types[i]] == 0\n",
    "    \n",
    "print \"Found lines : \", len(df[mask])"
   ]
  },
  {
   "cell_type": "code",
   "execution_count": null,
   "metadata": {
    "collapsed": false
   },
   "outputs": [],
   "source": [
    "mask = df[types[0]] > 0\n",
    "indices = range(len(types))\n",
    "indices.remove(0)\n",
    "for i in indices:\n",
    "    mask |= df[types[i]] > 0\n",
    "    \n",
    "print \"Found lines : \", len(df[mask])"
   ]
  },
  {
   "cell_type": "code",
   "execution_count": null,
   "metadata": {
    "collapsed": true
   },
   "outputs": [],
   "source": [
    "mask = df['nb_plaquette'] > 0"
   ]
  },
  {
   "cell_type": "code",
   "execution_count": null,
   "metadata": {
    "collapsed": false,
    "scrolled": false
   },
   "outputs": [],
   "source": [
    "df[mask].head()"
   ]
  },
  {
   "cell_type": "code",
   "execution_count": null,
   "metadata": {
    "collapsed": false
   },
   "outputs": [],
   "source": [
    "from prepare_data import BIG"
   ]
  },
  {
   "cell_type": "code",
   "execution_count": null,
   "metadata": {
    "collapsed": false
   },
   "outputs": [],
   "source": [
    "BIG.ix[81]"
   ]
  },
  {
   "cell_type": "code",
   "execution_count": null,
   "metadata": {
    "collapsed": true
   },
   "outputs": [],
   "source": []
  },
  {
   "cell_type": "code",
   "execution_count": null,
   "metadata": {
    "collapsed": false
   },
   "outputs": [],
   "source": [
    "mask = df[types[0]] > 0\n",
    "indices = range(len(types))\n",
    "indices.remove(0)\n",
    "for i in indices:\n",
    "    mask |= df[types[i]] > 0\n",
    "    \n",
    "print \"Found lines : \", len(df[mask])\n",
    "df_logprices = df[mask]['logprix']"
   ]
  },
  {
   "cell_type": "code",
   "execution_count": null,
   "metadata": {
    "collapsed": false
   },
   "outputs": [],
   "source": [
    "df_subs_quants = create_df_subs_quants(df_subs[mask], df[mask][types[index]])\n",
    "print df_subs_quants.shape"
   ]
  },
  {
   "cell_type": "code",
   "execution_count": null,
   "metadata": {
    "collapsed": false
   },
   "outputs": [],
   "source": [
    "mask = df[types[0]] > 0\n",
    "indices = range(len(types))\n",
    "indices.remove(0)\n",
    "for i in indices:\n",
    "    mask |= df[types[i]] > 0\n",
    "    \n",
    "print \"Found lines : \", len(df[mask])\n",
    "df_logprices = df[mask]['logprix']"
   ]
  },
  {
   "cell_type": "markdown",
   "metadata": {},
   "source": [
    "#### Add packages"
   ]
  },
  {
   "cell_type": "code",
   "execution_count": null,
   "metadata": {
    "collapsed": false
   },
   "outputs": [],
   "source": [
    "df_subs_quants_packs = pd.concat([df_subs_quants, df[mask][packages]], axis=1)\n",
    "print df_subs_quants_packs.shape"
   ]
  },
  {
   "cell_type": "markdown",
   "metadata": {},
   "source": [
    "#### Add other features "
   ]
  },
  {
   "cell_type": "code",
   "execution_count": null,
   "metadata": {
    "collapsed": false
   },
   "outputs": [],
   "source": [
    "cols_to_drop = list(types); cols_to_drop.extend(packages); cols_to_drop.extend(TARGET_COLUMNS)\n",
    "cols_to_drop.extend([u'libelle_ampoule', u'libelle_capsule', u'libelle_comprime', u'libelle_film', u'libelle_flacon', u'libelle_gelule', u'libelle_pilulier', u'libelle_plaquette', u'libelle_poche', u'libelle_sachet', u'libelle_seringue', u'libelle_stylo', u'libelle_tube'])\n",
    "other_features = df.drop(cols_to_drop, axis=1)\n",
    "df_subs_quants_others = pd.concat([df_subs_quants_packs, other_features[mask]], axis=1)\n",
    "print df_subs_quants_others.shape"
   ]
  },
  {
   "cell_type": "markdown",
   "metadata": {},
   "source": [
    "#### Add voie admin"
   ]
  },
  {
   "cell_type": "code",
   "execution_count": null,
   "metadata": {
    "collapsed": false
   },
   "outputs": [],
   "source": [
    "df_subs_quants_packs_va = pd.concat([df_subs_quants_packs, PROCESSED_TRAIN_VOIE_ADMIN[mask]], axis=1)\n",
    "print df_subs_quants_packs_va.shape"
   ]
  },
  {
   "cell_type": "markdown",
   "metadata": {},
   "source": [
    "#### Remove all zero columns"
   ]
  },
  {
   "cell_type": "code",
   "execution_count": null,
   "metadata": {
    "collapsed": false
   },
   "outputs": [],
   "source": [
    "df_subs_quants = drop_const_cols(df_subs_quants)\n",
    "df_subs_quants_packs = drop_const_cols(df_subs_quants_packs)\n",
    "df_subs_quants_others = drop_const_cols(df_subs_quants_others)\n",
    "df_subs_quants_packs_va = drop_const_cols(df_subs_quants_packs_va)\n",
    "\n",
    "print \"df_subs_quants -> \", df_subs_quants.shape\n",
    "print \"df_subs_quants_packs -> \", df_subs_quants_packs.shape\n",
    "print \"df_subs_quants_others -> \", df_subs_quants_others.shape\n",
    "print \"df_subs_quants_packs_va -> \", df_subs_quants_packs_va.shape"
   ]
  },
  {
   "cell_type": "markdown",
   "metadata": {},
   "source": [
    "#### Split and learn"
   ]
  },
  {
   "cell_type": "code",
   "execution_count": null,
   "metadata": {
    "collapsed": true
   },
   "outputs": [],
   "source": [
    "X0 = df_subs_quants_packs_va\n",
    "ylog = df_logprices\n",
    "\n",
    "X = StandardScaler().fit_transform(X0)\n",
    "X_train, X_test, ylog_train, ylog_test = train_test_split(X, ylog, train_size=0.80)"
   ]
  },
  {
   "cell_type": "code",
   "execution_count": null,
   "metadata": {
    "collapsed": false
   },
   "outputs": [],
   "source": [
    "rf = RandomForestRegressor(n_estimators = 50, n_jobs = -1, verbose = 0)"
   ]
  },
  {
   "cell_type": "code",
   "execution_count": null,
   "metadata": {
    "collapsed": false
   },
   "outputs": [],
   "source": [
    "rf.fit(X_train, ylog_train)\n",
    "score = rf.score(X_train, ylog_train)\n",
    "print score\n",
    "res0 = rf.predict(X_train)\n",
    "res1 = rf.predict(X_test)\n",
    "print mape_error(ylog_train, res0)\n",
    "print mape_error(ylog_test, res1)"
   ]
  },
  {
   "cell_type": "code",
   "execution_count": null,
   "metadata": {
    "collapsed": false
   },
   "outputs": [],
   "source": [
    "svr = SVR(kernel='linear', C=3)\n",
    "svr.fit(X_train, ylog_train)\n",
    "score = svr.score(X_train, ylog_train)\n",
    "print score\n",
    "res0 = svr.predict(X_train)\n",
    "res1 = svr.predict(X_test)\n",
    "print mape_error(ylog_train, res0)\n",
    "print mape_error(ylog_test, res1)"
   ]
  },
  {
   "cell_type": "markdown",
   "metadata": {},
   "source": [
    "#### Cross validation scoring"
   ]
  },
  {
   "cell_type": "code",
   "execution_count": null,
   "metadata": {
    "collapsed": true
   },
   "outputs": [],
   "source": [
    "def run_cv(data, targets, clf, cv=10):\n",
    "    X0 = data\n",
    "    ylog = targets\n",
    "    X = StandardScaler().fit_transform(X0)\n",
    "    scores = cross_val_score(clf, X, ylog, cv=cv, scoring=make_scorer(mape_error))\n",
    "    print scores      \n",
    "    print scores.mean(), scores.std()"
   ]
  },
  {
   "cell_type": "code",
   "execution_count": null,
   "metadata": {
    "collapsed": false,
    "scrolled": true
   },
   "outputs": [],
   "source": [
    "run_cv(df_subs_quants, ylog, rf, cv=5)\n",
    "run_cv(df_subs_quants_packs, ylog, rf, cv=5)\n",
    "run_cv(df_subs_quants_others, ylog, rf, cv=5)\n",
    "run_cv(df_subs_quants_packs_va, ylog, rf, cv=5)"
   ]
  },
  {
   "cell_type": "code",
   "execution_count": null,
   "metadata": {
    "collapsed": false,
    "scrolled": true
   },
   "outputs": [],
   "source": [
    "# run_cv(df_subs_quants, ylog, svr, cv=5)\n",
    "# run_cv(df_subs_quants_packs, ylog, svr, cv=5)\n",
    "# run_cv(df_subs_quants_others, ylog, svr, cv=5)\n",
    "# run_cv(df_subs_quants_packs_va, ylog, svr, cv=5)"
   ]
  },
  {
   "cell_type": "code",
   "execution_count": null,
   "metadata": {
    "collapsed": true
   },
   "outputs": [],
   "source": []
  },
  {
   "cell_type": "code",
   "execution_count": null,
   "metadata": {
    "collapsed": true
   },
   "outputs": [],
   "source": []
  },
  {
   "cell_type": "code",
   "execution_count": null,
   "metadata": {
    "collapsed": true
   },
   "outputs": [],
   "source": []
  }
 ],
 "metadata": {
  "kernelspec": {
   "display_name": "Python 2",
   "language": "python",
   "name": "python2"
  },
  "language_info": {
   "codemirror_mode": {
    "name": "ipython",
    "version": 2
   },
   "file_extension": ".py",
   "mimetype": "text/x-python",
   "name": "python",
   "nbconvert_exporter": "python",
   "pygments_lexer": "ipython2",
   "version": "2.7.12"
  }
 },
 "nbformat": 4,
 "nbformat_minor": 1
}
