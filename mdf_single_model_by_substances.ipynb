{
 "cells": [
  {
   "cell_type": "markdown",
   "metadata": {},
   "source": [
    "# MDF Single model learning by substances and quantities"
   ]
  },
  {
   "cell_type": "code",
   "execution_count": 1,
   "metadata": {
    "collapsed": false
   },
   "outputs": [
    {
     "name": "stderr",
     "output_type": "stream",
     "text": [
      "/usr/local/lib/python2.7/site-packages/matplotlib/font_manager.py:273: UserWarning: Matplotlib is building the font cache using fc-list. This may take a moment.\n",
      "  warnings.warn('Matplotlib is building the font cache using fc-list. This may take a moment.')\n"
     ]
    }
   ],
   "source": [
    "import pandas as pd\n",
    "import numpy as np\n",
    "from sklearn.model_selection import train_test_split\n",
    "from sklearn.preprocessing import StandardScaler\n",
    "from sklearn.model_selection import cross_val_score\n",
    "from sklearn.metrics import make_scorer\n",
    "from sklearn.ensemble import ExtraTreesRegressor, RandomForestRegressor, GradientBoostingRegressor\n",
    "from sklearn.svm import SVR\n",
    "%matplotlib inline"
   ]
  },
  {
   "cell_type": "code",
   "execution_count": 2,
   "metadata": {
    "collapsed": false
   },
   "outputs": [
    {
     "name": "stdout",
     "output_type": "stream",
     "text": [
      "-- get_unique_noconst --\n",
      "- Number of found duplicated rows :  1276\n",
      "- Remove constant columns :  (10959, 42) -> (10959, 42)\n",
      "- Dropped const columns :  \n"
     ]
    }
   ],
   "source": [
    "from prepare_data import BIG, PROCESSED_BIG, PROCESSED_SUBSTANCES, PROCESSED_VOIE_ADMIN, TARGET_COLUMNS, TRAIN, TEST, SOURCE"
   ]
  },
  {
   "cell_type": "code",
   "execution_count": 3,
   "metadata": {
    "collapsed": true
   },
   "outputs": [],
   "source": [
    "PROCESSED_TRAIN = PROCESSED_BIG[PROCESSED_BIG[SOURCE] == TRAIN].drop(SOURCE, axis=1)\n",
    "PROCESSED_TRAIN_SUBS = PROCESSED_SUBSTANCES[PROCESSED_SUBSTANCES[SOURCE] == TRAIN].drop(SOURCE, axis=1)\n",
    "PROCESSED_TRAIN_VOIE_ADMIN = PROCESSED_VOIE_ADMIN[PROCESSED_VOIE_ADMIN[SOURCE] == TRAIN].drop(SOURCE, axis=1)"
   ]
  },
  {
   "cell_type": "code",
   "execution_count": null,
   "metadata": {
    "collapsed": false
   },
   "outputs": [],
   "source": [
    "print PROCESSED_TRAIN.shape, PROCESSED_TRAIN_SUBS.shape, PROCESSED_TRAIN_VOIE_ADMIN.shape"
   ]
  },
  {
   "cell_type": "code",
   "execution_count": null,
   "metadata": {
    "collapsed": true
   },
   "outputs": [],
   "source": [
    "PROCESSED_TRAIN.columns.values"
   ]
  },
  {
   "cell_type": "code",
   "execution_count": null,
   "metadata": {
    "collapsed": true
   },
   "outputs": [],
   "source": [
    "PROCESSED_VOIE_ADMIN.columns.values"
   ]
  },
  {
   "cell_type": "code",
   "execution_count": null,
   "metadata": {
    "collapsed": true
   },
   "outputs": [],
   "source": [
    "PROCESSED_SUBSTANCES.columns.values"
   ]
  },
  {
   "cell_type": "markdown",
   "metadata": {},
   "source": [
    "## Metric MAPE"
   ]
  },
  {
   "cell_type": "code",
   "execution_count": null,
   "metadata": {
    "collapsed": true
   },
   "outputs": [],
   "source": [
    "# Mean Absolute Percentage Error\n",
    "def mape_error(y_true, y_pred, **kwards): \n",
    "    return np.mean(np.abs((y_true - y_pred) / y_true)) * 100"
   ]
  },
  {
   "cell_type": "markdown",
   "metadata": {
    "collapsed": true
   },
   "source": [
    "## Learn by medecin types, substances and its quantities"
   ]
  },
  {
   "cell_type": "code",
   "execution_count": 4,
   "metadata": {
    "collapsed": false
   },
   "outputs": [],
   "source": [
    "df = PROCESSED_TRAIN\n",
    "df_subs = PROCESSED_TRAIN_SUBS.drop(['_ENCODED_'], axis=1)"
   ]
  },
  {
   "cell_type": "code",
   "execution_count": 5,
   "metadata": {
    "collapsed": true
   },
   "outputs": [],
   "source": [
    "nb_cols = [u'nb_ampoule', u'nb_capsule', u'nb_comprime', u'nb_film', u'nb_flacon', u'nb_gelule', u'nb_ml', u'nb_pilulier', u'nb_plaquette', u'nb_poche', u'nb_sachet', u'nb_seringue', u'nb_stylo', u'nb_tube']\n",
    "libelle_cols = [u'libelle_ampoule', u'libelle_capsule', u'libelle_comprime', u'libelle_film', u'libelle_flacon', u'libelle_gelule', u'libelle_pilulier', u'libelle_plaquette', u'libelle_poche', u'libelle_sachet', u'libelle_seringue', u'libelle_stylo', u'libelle_tube']"
   ]
  },
  {
   "cell_type": "code",
   "execution_count": null,
   "metadata": {
    "collapsed": true
   },
   "outputs": [],
   "source": []
  },
  {
   "cell_type": "code",
   "execution_count": 6,
   "metadata": {
    "collapsed": false
   },
   "outputs": [
    {
     "name": "stdout",
     "output_type": "stream",
     "text": [
      "Select nb_cols only :  nb_plaquette\n",
      "Found lines (med has the type):  218\n",
      "Found lines (med has the type only) :  1\n"
     ]
    }
   ],
   "source": [
    "index = 8\n",
    "print \"Select nb_cols only : \", nb_cols[index]\n",
    "mask = df[nb_cols[index]] > 0\n",
    "print \"Found lines (med has the type): \", len(df[mask])\n",
    "indices = range(len(nb_cols))\n",
    "indices.remove(index)\n",
    "for i in indices:\n",
    "    mask &= df[nb_cols[i]] < 0.00001\n",
    "print \"Found lines (med has the type only) : \", len(df[mask])"
   ]
  },
  {
   "cell_type": "code",
   "execution_count": null,
   "metadata": {
    "collapsed": false
   },
   "outputs": [],
   "source": [
    "df[mask].head()"
   ]
  },
  {
   "cell_type": "code",
   "execution_count": 10,
   "metadata": {
    "collapsed": true
   },
   "outputs": [],
   "source": [
    "import re"
   ]
  },
  {
   "cell_type": "code",
   "execution_count": 23,
   "metadata": {
    "collapsed": false
   },
   "outputs": [],
   "source": [
    "vals = BIG.ix[:, 6].values\n",
    "for t in vals:\n",
    "    m = re.match(r'^([\\d,]*)\\s*([\\w\\-]+)\\D*([\\d,]*)\\s*([\\w\\-]*)\\D*([\\d,]*)\\s*([\\w\\-]*)', t)\n",
    "    if m is None:\n",
    "        raise Exception(\"Not found : %s\" % t)"
   ]
  },
  {
   "cell_type": "code",
   "execution_count": 35,
   "metadata": {
    "collapsed": false
   },
   "outputs": [
    {
     "name": "stdout",
     "output_type": "stream",
     "text": [
      "[(u'1', u'plaquette'), (u'90', u'comprime')]\n",
      "plaquette thermoformee polypropylene aluminium de 90 comprime\n",
      "[(u'1', u'plaquette'), (u'30', u'comprime')]\n",
      "plaquette thermoformee PVC PVDC aluminium de 30 comprime\n",
      "[(u'1', u'plaquette'), (u'30', u'gelule')]\n",
      "plaquette thermoformee aluminium de 30 gelule\n",
      "[(u'1', u'plaquette'), (u'14', u'comprime')]\n",
      "plaquette thermoformee PVC PVDC aluminium de 14 comprime\n",
      "[(u'1', u'flacon'), (u'30', u'gelule')]\n",
      "1 flacon en verre de 30 gelule\n",
      "[(u'1', u'plaquette'), (u'90', u'comprime')]\n",
      "plaquette thermoformee aluminium de 90 comprime\n",
      "[(u'1', u'flacon'), (u'30', u'gelule')]\n",
      "1 flacon polyethylene de 30 gelule\n",
      "[(u'1', u'sachet'), (u'8', u'g')]\n",
      "1 sachet papier polyethylene aluminium de 8 g\n",
      "[(u'20', u'ampoule'), (u'5', u'ml')]\n",
      "20 ampoule en verre brun de 5  ml\n",
      "[(u'1', u'plaquette'), (u'28', u'comprime')]\n",
      "plaquette thermoformee PVC PVDC aluminium de 28 comprime\n",
      "[(u'1', u'plaquette'), (u'90', u'comprime')]\n",
      "plaquette thermoformee PVC polyethylene PVDC aluminium de 90 comprime\n",
      "[(u'1', u'plaquette'), (u'28', u'comprime')]\n",
      "plaquette thermoformee PVC PVDC aluminium de 28 comprime\n",
      "[(u'1', u'plaquette'), (u'90', u'comprime')]\n",
      "plaquette thermoformee PVC PVDC aluminium de 90 comprime\n",
      "[(u'1', u'plaquette'), (u'28', u'comprime')]\n",
      "plaquette thermoformee aluminium de 28 comprime\n",
      "[(u'1', u'tube'), (u'30', u'comprime')]\n",
      "tube polypropylene de 30 comprime\n",
      "[(u'1', u'flacon'), (u'14', u'comprime')]\n",
      "1 flacon polyethylene haute densite (PEHD) de 14 comprime\n",
      "[(u'1', u'plaquette'), (u'28', u'comprime')]\n",
      "plaquette thermoformee aluminium de 28 comprime\n",
      "[(u'1', u'plaquette'), (u'8', u'comprime')]\n",
      "plaquette thermoformee PVC (ACLAR RX) polytrifluorochloroethylene de 8 comprime\n",
      "[(u'1', u'flacon'), (u'454', u'g')]\n",
      "1 flacon polyethylene haute densite (PEHD) de 454  g avec cuillere-mesure\n",
      "[(u'1', u'plaquette'), (u'30', u'comprime')]\n",
      "plaquette thermoformee polyamide aluminium PVC-Aluminium de 30 comprime\n",
      "[(u'1', u'plaquette'), (u'90', u'comprime')]\n",
      "plaquette thermoformee PVC PVDC aluminium de 90 comprime\n",
      "[(u'1', u'plaquette'), (u'30', u'comprime')]\n",
      "plaquette thermoformee PVC-Aluminium de 30 comprime\n",
      "[(u'1', u'flacon'), (u'1', u'ampoule'), (u'2', u'ml')]\n",
      "1 flacon en verre - 1 ampoule en verre de 2 ml avec seringue avec aiguille\n",
      "[(u'1', u'plaquette'), (u'24', u'comprime')]\n",
      "plaquette thermoformee PVC-aluminium de 24  comprime\n",
      "[(u'3', u'tube'), (u'20', u'comprime')]\n",
      "3 tube polypropylene de 20 comprime\n",
      "[(u'30', u'recipient'), (u'1', u'ml')]\n",
      "30 recipient unidose polyethylene de 1 ml\n",
      "[(u'1', u'film'), (u'2', u'comprime')]\n",
      "film thermosoude aluminium de 2 comprime\n",
      "[(u'1', u'plaquette'), (u'30', u'comprime')]\n",
      "plaquette thermoformee PVC-Aluminium de 30 comprime\n",
      "[(u'1', u'plaquette'), (u'90', u'comprime')]\n",
      "plaquette formee a froid PVC-Aluminium polyamide aluminium de 90 comprime\n",
      "[(u'1', u'plaquette'), (u'28', u'comprime')]\n",
      "plaquette thermoformee PVC polyethylene PVDC aluminium de 28 comprime\n",
      "[(u'1', u'plaquette'), (u'10', u'comprime')]\n",
      "plaquette thermoformee polyamide PVC aluminium avec fermeture de securite enfant de 10 comprime\n",
      "[(u'1', u'plaquette'), (u'14', u'comprime')]\n",
      "plaquette thermoformee PVC PVDC aluminium de 14 comprime\n",
      "[(u'1', u'plaquette'), (u'30', u'comprime')]\n",
      "plaquette thermoformee PVC-Aluminium de 30  comprime\n",
      "[(u'5', u'plaquette'), (u'10', u'comprime')]\n",
      "5 plaquette thermoformee PVC-aluminium polyethylene PVDC de 10 comprime\n",
      "[(u'1', u'plaquette'), (u'30', u'comprime')]\n",
      "plaquette thermoformee PVC PVDC aluminium de 30 comprime\n",
      "[(u'1', u'plaquette'), (u'60', u'comprime')]\n",
      "plaquette thermoformee PVC-aluminium de 60 comprime\n",
      "[(u'1', u'plaquette'), (u'30', u'comprime')]\n",
      "plaquette thermoformee PVC-Aluminium de 30  comprime\n",
      "[(u'1', u'flacon'), (u'125', u'ml')]\n",
      "1 flacon en verre teinte de 125 ml avec cuillere-mesure\n",
      "[(u'1', u'pilulier'), (u'30', u'comprime')]\n",
      "1 pilulier polypropylene de 30 comprime\n",
      "[(u'1', u'flacon'), (u'1', u'lyophilisat'), (u'1', u'ampoule'), (u'2', u'ml')]\n",
      "1 flacon en verre de 1  lyophilisat - 1 ampoule en verre de 2  ml\n",
      "[(u'1', u'plaquette'), (u'30', u'gelule')]\n",
      "plaquette thermoformee aluminium de 30 gelule\n",
      "[(u'1', u'plaquette'), (u'14', u'comprime')]\n",
      "plaquette thermoformee PVC PVDC aluminium de 14 comprime\n",
      "[(u'1', u'plaquette'), (u'28', u'comprime')]\n",
      "plaquette thermoformee aluminium PVC de 28  comprime\n",
      "[(u'1', u'plaquette'), (u'90', u'gelule')]\n",
      "plaquette thermoformee PVC PVDC aluminium de 90 gelule\n",
      "[(u'1', u'plaquette'), (u'30', u'comprime')]\n",
      "plaquette thermoformee de 30 comprime\n",
      "[(u'1', u'plaquette'), (u'30', u'comprime')]\n",
      "plaquette formee a froid aluminium de 30 comprime\n",
      "[(u'1', u'flacon'), (u'5', u'ml')]\n",
      "1 flacon polyethylene de 5 ml - avec compte-gouttes - polyethylene\n",
      "[(u'1', u'plaquette'), (u'56', u'gelule')]\n",
      "plaquette thermoformee PVC PVDC aluminium de 56 gelule\n",
      "[(u'1', u'plaquette'), (u'10', u'comprime')]\n",
      "plaquette thermoformee PVC-Aluminium de 10 comprime\n",
      "[(u'1', u'plaquette'), (u'90', u'comprime')]\n",
      "plaquette thermoformee PVC-Aluminium de 90 comprime\n",
      "[(u'1', u'plaquette'), (u'4', u'comprime')]\n",
      "plaquette thermoformee polyamide aluminium PVC-Aluminium de 4 comprime\n",
      "[(u'1', u'tube'), (u'20', u'comprime')]\n",
      "tube polypropylene de 20 comprime\n",
      "[(u'1', u'plaquette'), (u'30', u'comprime')]\n",
      "plaquette thermoformee PVC PVDC aluminium de 30 comprime\n",
      "[(u'1', u'flacon'), (u'1', u'ampoule'), (u'0,7', u'ml'), (u'1', u'seringue'), (u'2', u'aiguille'), (u'1', u'tampon')]\n",
      "1 flacon en verre - 1 ampoule en verre de 0,7 ml avec 1 seringue avec 2 aiguille avec 1 tampon nettoyant\n",
      "[(u'8', u'sachet-dose'), (u'2', u'g')]\n",
      "8 sachet-dose papier polyethylene aluminium polyethylene basse densite (PEBD) de 2 g\n",
      "[(u'1', u'plaquette'), (u'40', u'comprime')]\n",
      "plaquette thermoformee PVC-Aluminium de 40 comprime\n",
      "[(u'1', u'flacon'), (u'60', u'ml')]\n",
      "1 flacon polyethylene de 60 ml avec seringue pour administration orale polyethylene polypropylene\n",
      "[(u'1', u'plaquette'), (u'14', u'gelule')]\n",
      "plaquette thermoformee PVC-aluminium de 14 gelule\n",
      "[(u'1', u'flacon'), (u'10,5', u'g')]\n",
      "1 flacon en verre de 10,5 g avec seringue pour administration orale polyethylene polystyrene\n",
      "[(u'1', u'plaquette'), (u'90', u'comprime')]\n",
      "plaquette thermoformee PVC-aluminium de 90  comprime\n",
      "[(u'1', u'plaquette'), (u'30', u'comprime')]\n",
      "plaquette thermoformee PVC-aluminium PVDC de 30 comprime\n",
      "[(u'2', u'seringue'), (u'0,3', u'ml')]\n",
      "2 seringue preremplie en verre de 0,3 ml\n",
      "[(u'1', u'plaquette'), (u'30', u'comprime')]\n",
      "plaquette thermoformee aluminium de 30 comprime\n",
      "[(u'1', u'plaquette'), (u'6', u'comprime')]\n",
      "plaquette formee a froid aluminium de 6 comprime\n",
      "[(u'1', u'plaquette'), (u'28', u'gelule')]\n",
      "plaquette thermoformee PVC (ACLAR RX) polytrifluorochloroethylene aluminium de 28 gelule\n",
      "[(u'1', u'plaquette'), (u'90', u'comprime')]\n",
      "plaquette thermoformee PVC polyethylene PVDC aluminium de 90 comprime\n",
      "[(u'1', u'plaquette'), (u'30', u'comprime')]\n",
      "plaquette thermoformee PVC PVDC aluminium de 30 comprime\n",
      "[(u'6', u'ampoule'), (u'1', u'ml')]\n",
      "6 ampoule en verre de 1 ml\n",
      "[(u'1', u'plaquette'), (u'90', u'comprime')]\n",
      "plaquette thermoformee PVC-Aluminium de 90 comprime\n",
      "[(u'1', u'plaquette'), (u'6', u'comprime')]\n",
      "plaquette formee a froid polyamide aluminium PVC papier polyester de 6 comprime\n",
      "[(u'1', u'plaquette'), (u'30', u'comprime')]\n",
      "plaquette thermoformee PVC-Aluminium aluminium polyamide de 30 comprime\n",
      "[(u'1', u'plaquette'), (u'30', u'comprime')]\n",
      "plaquette PVC polyethylene PVDC aluminium de 30 comprime\n",
      "[(u'1', u'flacon'), (u'14', u'gelule')]\n",
      "1 flacon polyethylene haute densite (PEHD) de 14 gelule\n",
      "[(u'1', u'plaquette'), (u'21', u'comprimes'), (u'7', u'comprimes')]\n",
      "1 plaquette thermoformee PVC PVDC aluminium de 21 comprimes jaunâtres + 7 comprimes rouges avec calendrier\n",
      "[(u'1', u'plaquette'), (u'30', u'gelule')]\n",
      "plaquette thermoformee PVC polyethylene PVDC aluminium de 30 gelule\n",
      "[(u'1', u'plaquette'), (u'15', u'comprime')]\n",
      "plaquette thermoformee aluminium PVC de 15  comprime\n",
      "[(u'10', u'ampoule'), (u'10', u'ml')]\n",
      "10 ampoule en verre de 10 ml\n",
      "[(u'4', u'sachet'), (u'1', u'dispositif')]\n",
      "4 sachet papier aluminium polyethylene de 1  dispositif\n",
      "[(u'1', u'plaquette'), (u'30', u'comprime')]\n",
      "plaquette thermoformee polyamide aluminium PVC-Aluminium de 30 comprime\n",
      "[(u'1', u'ampoule'), (u'2', u'ml')]\n",
      "1 ampoule en verre brun de 2  ml\n",
      "[(u'1', u'plaquette'), (u'90', u'comprime')]\n",
      "plaquette thermoformee polyamide aluminium PVC-Aluminium de 90 comprime\n",
      "[(u'1', u'flacon'), (u'56', u'comprime')]\n",
      "flacon polyethylene haute densite (PEHD) de 56 comprime\n",
      "[(u'1', u'poche'), (u'50', u'ml')]\n",
      "1 poche polypropylene SIS : styrene-isoprene-styrene styrene ethylene butadiene suremballee/surpochee de 50 ml\n",
      "[(u'1', u'plaquette'), (u'60', u'gelule')]\n",
      "plaquette thermoformee PVC-aluminium de 60 gelule\n",
      "[(u'1', u'plaquette'), (u'28', u'gelule')]\n",
      "plaquette thermoformee PVC polyethylene PVDC aluminium de 28 gelule\n",
      "[(u'1', u'flacon'), (u'28', u'gelule')]\n",
      "flacon polyethylene haute densite (PEHD) de 28 gelule\n",
      "[(u'60', u'sachet'), (u'3,76', u'g')]\n",
      "60 sachet papier kraft aluminium polyethylene de 3,76 g\n",
      "[(u'1', u'plaquette'), (u'28', u'comprime')]\n",
      "plaquette thermoformee PVC polyethylene PVDC aluminium de 28 comprime\n",
      "[(u'5', u'sachet'), (u'1', u'dispositif')]\n",
      "5 sachet polyterephtalate (PET) aluminium ionomere avec fermeture de securite enfant de 1 dispositif\n",
      "[(u'1', u'flacon'), (u'125', u'ml')]\n",
      "1 flacon en verre brun de 125 ml avec seringue pour administration orale polyethylene polystyrene\n",
      "[(u'8', u'sachet-dose'), (u'3', u'g')]\n",
      "8 sachet-dose papier polyethylene aluminium P-A-M-ethylene (SURLYN) de 3 g\n",
      "[(u'1', u'flacon'), (u'15', u'comprime')]\n",
      "1 flacon polyethylene de 15 comprime\n",
      "[(u'1', u'plaquette'), (u'60', u'comprime')]\n",
      "plaquette thermoformee PVC-Aluminium de 60 comprime\n",
      "[(u'1', u'plaquette'), (u'90', u'comprime')]\n",
      "plaquette thermoformee aluminium de 90 comprime\n",
      "[(u'1', u'plaquette'), (u'30', u'comprime')]\n",
      "plaquette thermoformee PVC PVDC aluminium de 30 comprime\n",
      "[(u'1', u'flacon'), (u'5,13', u'g')]\n",
      "1 flacon en verre de 5,13  g avec seringue pour administration orale polystyrene polyethylene\n",
      "[(u'1', u'plaquette'), (u'7', u'gelule')]\n",
      "plaquette thermoformee PVC PVDC aluminium de 7 gelule\n",
      "[(u'1', u'plaquette'), (u'90', u'comprime')]\n",
      "plaquette thermoformee PVC PVDC aluminium de 90 comprime\n",
      "[(u'3', u'plaquette'), (u'10', u'comprime')]\n",
      "3 plaquette thermoformee polyamide aluminium PVC de 10  comprime\n",
      "[(u'1', u'flacon'), (u'30', u'gelule')]\n",
      "flacon polyethylene haute densite (PEHD) avec fermeture de securite enfant de 30 gelule\n",
      "[(u'20', u'sachet-dose'), (u'6,9', u'g')]\n",
      "20 sachet-dose papier aluminium polyethylene de 6,9  g\n"
     ]
    }
   ],
   "source": [
    "vals = BIG.ix[500:600, 6].values\n",
    "\n",
    "for t in vals:\n",
    "    tt = t\n",
    "    if not tt[0].isdigit():\n",
    "        tt = '1 ' + tt    \n",
    "    groups = re.findall(r'([\\d,]+)\\s+([\\w\\-]+)', tt)\n",
    "    if len(groups) > 0:\n",
    "        print groups\n",
    "        print t\n",
    "    else:\n",
    "        raise Exception(\"Not found : %s\" % t)"
   ]
  },
  {
   "cell_type": "code",
   "execution_count": null,
   "metadata": {
    "collapsed": true
   },
   "outputs": [],
   "source": [
    "quantities = {\n",
    "    u'nb_comprime': [None, u'nb_plaquette', u'nb_pilulier', u'nb_flacon', u'nb_tube', u'nb_sachet'],\n",
    "    u'nb_capsule': [None, u'nb_plaquette', u'nb_flacon'],\n",
    "}"
   ]
  },
  {
   "cell_type": "code",
   "execution_count": null,
   "metadata": {
    "collapsed": false
   },
   "outputs": [],
   "source": [
    "types = [u'nb_capsule', u'nb_comprime',  u'nb_gelule', u'nb_ml', u'nb_sachet', u'nb_flacon']\n",
    "packages = [u'nb_ampoule', u'nb_film', u'nb_pilulier', u'nb_plaquette', u'nb_poche', u'nb_seringue', u'nb_stylo', u'nb_tube']\n",
    "types_and_packages = list(types)\n",
    "types_and_packages.extend(packages)"
   ]
  },
  {
   "cell_type": "code",
   "execution_count": null,
   "metadata": {
    "collapsed": false
   },
   "outputs": [],
   "source": [
    "from common.preprocessing_helper import drop_const_cols\n",
    "\n",
    "def create_df_subs_quants(df_subs, series_quants):\n",
    "    cols = df_subs.columns\n",
    "    df_subs_quants = pd.DataFrame(columns=cols)\n",
    "    for c in cols:\n",
    "        df_subs_quants[c] = df_subs[c] * series_quants\n",
    "    return df_subs_quants"
   ]
  },
  {
   "cell_type": "markdown",
   "metadata": {},
   "source": [
    "### Learn by type : 'capsule'"
   ]
  },
  {
   "cell_type": "code",
   "execution_count": null,
   "metadata": {
    "collapsed": false
   },
   "outputs": [],
   "source": [
    "index = 0\n",
    "print \"Select type only : \", types[index]\n",
    "mask = df[types[index]] > 0\n",
    "print \"Found lines (med has the type): \", len(df[mask])\n",
    "indices = range(len(types))\n",
    "indices.remove(index)\n",
    "for i in indices:\n",
    "    mask &= df[types[i]] < 1\n",
    "    \n",
    "print \"Found lines (med has the type only) : \", len(df[mask])\n",
    "df_prices = df[mask]['logprix']"
   ]
  },
  {
   "cell_type": "code",
   "execution_count": null,
   "metadata": {
    "collapsed": false
   },
   "outputs": [],
   "source": [
    "df_prices.hist(bins=100)"
   ]
  },
  {
   "cell_type": "code",
   "execution_count": null,
   "metadata": {
    "collapsed": false
   },
   "outputs": [],
   "source": [
    "df_subs_quants = create_df_subs_quants(df_subs[mask], df[mask][types[index]])\n",
    "print df_subs_quants.shape"
   ]
  },
  {
   "cell_type": "markdown",
   "metadata": {},
   "source": [
    "#### Add packages"
   ]
  },
  {
   "cell_type": "code",
   "execution_count": null,
   "metadata": {
    "collapsed": false
   },
   "outputs": [],
   "source": [
    "df_subs_quants_packs = pd.concat([df_subs_quants, df[mask][packages]], axis=1)\n",
    "print df_subs_quants_packs.shape"
   ]
  },
  {
   "cell_type": "markdown",
   "metadata": {},
   "source": [
    "#### Add other features "
   ]
  },
  {
   "cell_type": "code",
   "execution_count": null,
   "metadata": {
    "collapsed": false
   },
   "outputs": [],
   "source": [
    "cols_to_drop = list(types); cols_to_drop.extend(packages); cols_to_drop.extend(TARGET_COLUMNS)\n",
    "cols_to_drop.extend([u'libelle_ampoule', u'libelle_capsule', u'libelle_comprime', u'libelle_film', u'libelle_flacon', u'libelle_gelule', u'libelle_pilulier', u'libelle_plaquette', u'libelle_poche', u'libelle_sachet', u'libelle_seringue', u'libelle_stylo', u'libelle_tube'])\n",
    "other_features = df.drop(cols_to_drop, axis=1)\n",
    "df_subs_quants_others = pd.concat([df_subs_quants_packs, other_features[mask]], axis=1)\n",
    "print df_subs_quants_others.shape"
   ]
  },
  {
   "cell_type": "markdown",
   "metadata": {},
   "source": [
    "#### Add voie admin"
   ]
  },
  {
   "cell_type": "code",
   "execution_count": null,
   "metadata": {
    "collapsed": false
   },
   "outputs": [],
   "source": [
    "df_subs_quants_packs_va = pd.concat([df_subs_quants_packs, PROCESSED_TRAIN_VOIE_ADMIN[mask]], axis=1)\n",
    "print df_subs_quants_packs_va.shape"
   ]
  },
  {
   "cell_type": "markdown",
   "metadata": {},
   "source": [
    "#### Remove all zero columns"
   ]
  },
  {
   "cell_type": "code",
   "execution_count": null,
   "metadata": {
    "collapsed": false
   },
   "outputs": [],
   "source": [
    "df_subs_quants = drop_const_cols(df_subs_quants)\n",
    "df_subs_quants_packs = drop_const_cols(df_subs_quants_packs)\n",
    "df_subs_quants_others = drop_const_cols(df_subs_quants_others)\n",
    "df_subs_quants_packs_va = drop_const_cols(df_subs_quants_packs_va)\n",
    "\n",
    "print \"df_subs_quants -> \", df_subs_quants.shape\n",
    "print \"df_subs_quants_packs -> \", df_subs_quants_packs.shape\n",
    "print \"df_subs_quants_others -> \", df_subs_quants_others.shape\n",
    "print \"df_subs_quants_packs_va -> \", df_subs_quants_packs_va.shape\n",
    "# print \"- Remove constant columns : \", df_subs_quants_others.shape, '->', res.shape\n",
    "# print \"- Dropped const columns : \", \n",
    "# if len(df_subs_quants_others.columns) > len(res.columns):\n",
    "#     print df_subs_quants_others.columns.difference(res.columns).values\n",
    "# print \"\"\n",
    "# df_subs_quants_others = res\n",
    "# del res"
   ]
  },
  {
   "cell_type": "markdown",
   "metadata": {},
   "source": [
    "#### Split and learn"
   ]
  },
  {
   "cell_type": "code",
   "execution_count": null,
   "metadata": {
    "collapsed": false
   },
   "outputs": [],
   "source": [
    "y = df_prices\n",
    "X = StandardScaler().fit_transform(df_subs_quants)\n",
    "XX = StandardScaler().fit_transform(df_subs_quants_packs_va)\n",
    "\n",
    "X_train, X_test, XX_train, XX_test, y_train, y_test = train_test_split(X, XX, y, train_size=0.75)"
   ]
  },
  {
   "cell_type": "code",
   "execution_count": null,
   "metadata": {
    "collapsed": false
   },
   "outputs": [],
   "source": [
    "rf = RandomForestRegressor(n_estimators = 35, n_jobs = -1, verbose = 0)"
   ]
  },
  {
   "cell_type": "code",
   "execution_count": null,
   "metadata": {
    "collapsed": false
   },
   "outputs": [],
   "source": [
    "rf.fit(X_train, y_train)\n",
    "score = rf.score(X_train, y_train)\n",
    "print score\n",
    "res0 = rf.predict(X_train)\n",
    "res1 = rf.predict(X_test)\n",
    "print mape_error(y_train, res0)\n",
    "print mape_error(y_test, res1)\n",
    "\n",
    "rf.fit(XX_train, y_train)\n",
    "score = rf.score(XX_train, y_train)\n",
    "print score\n",
    "res01 = rf.predict(XX_train)\n",
    "res11 = rf.predict(XX_test)\n",
    "print mape_error(y_train, res01)\n",
    "print mape_error(y_test, res11)\n",
    "\n",
    "\n",
    "print res1[:10]\n",
    "print res11[:10]\n",
    "print y_test.values[:10]"
   ]
  },
  {
   "cell_type": "code",
   "execution_count": null,
   "metadata": {
    "collapsed": true
   },
   "outputs": [],
   "source": [
    "X0 = df_subs_quants_packs_va\n",
    "y = df_prices\n",
    "\n",
    "X = StandardScaler().fit_transform(X0)\n",
    "X_train, X_test, y_train, y_test = train_test_split(X, y, train_size=0.75)"
   ]
  },
  {
   "cell_type": "code",
   "execution_count": null,
   "metadata": {
    "collapsed": false
   },
   "outputs": [],
   "source": [
    "rf = RandomForestRegressor(n_estimators = 35, n_jobs = -1, verbose = 0)"
   ]
  },
  {
   "cell_type": "code",
   "execution_count": null,
   "metadata": {
    "collapsed": false
   },
   "outputs": [],
   "source": [
    "rf.fit(X_train, y_train)\n",
    "score = rf.score(X_train, y_train)\n",
    "print score\n",
    "res0 = rf.predict(X_train)\n",
    "res1 = rf.predict(X_test)\n",
    "print mape_error(y_train, res0)\n",
    "print mape_error(y_test, res1)\n",
    "print res1[:10]\n",
    "print y_test.values[:10]"
   ]
  },
  {
   "cell_type": "code",
   "execution_count": null,
   "metadata": {
    "collapsed": false
   },
   "outputs": [],
   "source": [
    "svr = SVR(kernel='linear', C=3)\n",
    "svr.fit(X_train, y_train)\n",
    "score = svr.score(X_train, y_train)\n",
    "print score\n",
    "res0 = svr.predict(X_train)\n",
    "res1 = svr.predict(X_test)\n",
    "print mape_error(y_train, res0)\n",
    "print mape_error(y_test, res1)"
   ]
  },
  {
   "cell_type": "code",
   "execution_count": null,
   "metadata": {
    "collapsed": false
   },
   "outputs": [],
   "source": [
    "gbr = GradientBoostingRegressor(verbose = 0, max_features='auto')\n",
    "gbr.fit(X_train, y_train)\n",
    "score = gbr.score(X_train, y_train)\n",
    "print score\n",
    "res0 = gbr.predict(X_train)\n",
    "res1 = gbr.predict(X_test)\n",
    "print mape_error(y_train, res0)\n",
    "print mape_error(y_test, res1)"
   ]
  },
  {
   "cell_type": "markdown",
   "metadata": {},
   "source": [
    "#### Cross validation scoring"
   ]
  },
  {
   "cell_type": "code",
   "execution_count": null,
   "metadata": {
    "collapsed": true
   },
   "outputs": [],
   "source": [
    "def run_cv(data, targets, clf, cv=10):\n",
    "    X0 = data\n",
    "    y = targets\n",
    "    X = StandardScaler().fit_transform(X0)\n",
    "    scores = cross_val_score(clf, X, y, cv=cv, scoring=make_scorer(mape_error))\n",
    "    print scores      \n",
    "    print scores.mean(), scores.std()"
   ]
  },
  {
   "cell_type": "code",
   "execution_count": null,
   "metadata": {
    "collapsed": false
   },
   "outputs": [],
   "source": [
    "run_cv(df_subs_quants, df_prices, rf)\n",
    "run_cv(df_subs_quants_packs, df_prices, rf)\n",
    "run_cv(df_subs_quants_others, df_prices, rf)\n",
    "run_cv(df_subs_quants_packs_va, df_prices, rf)"
   ]
  },
  {
   "cell_type": "code",
   "execution_count": null,
   "metadata": {
    "collapsed": false
   },
   "outputs": [],
   "source": [
    "run_cv(df_subs_quants, df_prices, svr)\n",
    "run_cv(df_subs_quants_packs, df_prices, svr)\n",
    "run_cv(df_subs_quants_others, df_prices, svr)\n",
    "run_cv(df_subs_quants_packs_va, df_prices, svr)"
   ]
  },
  {
   "cell_type": "code",
   "execution_count": null,
   "metadata": {
    "collapsed": false
   },
   "outputs": [],
   "source": [
    "run_cv(df_subs_quants, df_prices, gbr)\n",
    "run_cv(df_subs_quants_packs, df_prices, gbr)\n",
    "run_cv(df_subs_quants_others, df_prices, gbr)\n",
    "run_cv(df_subs_quants_packs_va, df_prices, gbr)"
   ]
  },
  {
   "cell_type": "markdown",
   "metadata": {},
   "source": [
    "### Learn by type : 'gelule'"
   ]
  },
  {
   "cell_type": "code",
   "execution_count": null,
   "metadata": {
    "collapsed": false
   },
   "outputs": [],
   "source": [
    "index = 2\n",
    "print \"Select type only : \", types[index]\n",
    "mask = df[types[index]] > 0\n",
    "print \"Found lines (med has the type): \", len(df[mask])\n",
    "indices = range(len(types))\n",
    "indices.remove(index)\n",
    "for i in indices:\n",
    "    mask &= df[types[i]] < 1\n",
    "    \n",
    "print \"Found lines (med has the type only) : \", len(df[mask])\n",
    "df_logprices = df[mask]['logprix']"
   ]
  },
  {
   "cell_type": "code",
   "execution_count": null,
   "metadata": {
    "collapsed": false
   },
   "outputs": [],
   "source": [
    "df_subs_quants = create_df_subs_quants(df_subs[mask], df[mask][types[index]])\n",
    "print df_subs_quants.shape"
   ]
  },
  {
   "cell_type": "markdown",
   "metadata": {},
   "source": [
    "#### Add packages"
   ]
  },
  {
   "cell_type": "code",
   "execution_count": null,
   "metadata": {
    "collapsed": false
   },
   "outputs": [],
   "source": [
    "df_subs_quants_packs = pd.concat([df_subs_quants, df[mask][packages]], axis=1)\n",
    "print df_subs_quants_packs.shape"
   ]
  },
  {
   "cell_type": "markdown",
   "metadata": {},
   "source": [
    "#### Add other features "
   ]
  },
  {
   "cell_type": "code",
   "execution_count": null,
   "metadata": {
    "collapsed": false
   },
   "outputs": [],
   "source": [
    "cols_to_drop = list(types); cols_to_drop.extend(packages); cols_to_drop.extend(TARGET_COLUMNS)\n",
    "cols_to_drop.extend([u'libelle_ampoule', u'libelle_capsule', u'libelle_comprime', u'libelle_film', u'libelle_flacon', u'libelle_gelule', u'libelle_pilulier', u'libelle_plaquette', u'libelle_poche', u'libelle_sachet', u'libelle_seringue', u'libelle_stylo', u'libelle_tube'])\n",
    "other_features = df.drop(cols_to_drop, axis=1)\n",
    "df_subs_quants_others = pd.concat([df_subs_quants_packs, other_features[mask]], axis=1)\n",
    "print df_subs_quants_others.shape"
   ]
  },
  {
   "cell_type": "markdown",
   "metadata": {},
   "source": [
    "#### Add voie admin"
   ]
  },
  {
   "cell_type": "code",
   "execution_count": null,
   "metadata": {
    "collapsed": false
   },
   "outputs": [],
   "source": [
    "df_subs_quants_packs_va = pd.concat([df_subs_quants_packs, PROCESSED_TRAIN_VOIE_ADMIN[mask]], axis=1)\n",
    "print df_subs_quants_packs_va.shape"
   ]
  },
  {
   "cell_type": "markdown",
   "metadata": {},
   "source": [
    "#### Remove all zero columns"
   ]
  },
  {
   "cell_type": "code",
   "execution_count": null,
   "metadata": {
    "collapsed": false
   },
   "outputs": [],
   "source": [
    "df_subs_quants = drop_const_cols(df_subs_quants)\n",
    "df_subs_quants_packs = drop_const_cols(df_subs_quants_packs)\n",
    "df_subs_quants_others = drop_const_cols(df_subs_quants_others)\n",
    "df_subs_quants_packs_va = drop_const_cols(df_subs_quants_packs_va)\n",
    "\n",
    "print \"df_subs_quants -> \", df_subs_quants.shape\n",
    "print \"df_subs_quants_packs -> \", df_subs_quants_packs.shape\n",
    "print \"df_subs_quants_others -> \", df_subs_quants_others.shape\n",
    "print \"df_subs_quants_packs_va -> \", df_subs_quants_packs_va.shape"
   ]
  },
  {
   "cell_type": "markdown",
   "metadata": {},
   "source": [
    "#### Split and learn"
   ]
  },
  {
   "cell_type": "code",
   "execution_count": null,
   "metadata": {
    "collapsed": true
   },
   "outputs": [],
   "source": [
    "X0 = df_subs_quants_packs_va\n",
    "ylog = df_logprices\n",
    "\n",
    "X = StandardScaler().fit_transform(X0)\n",
    "X_train, X_test, ylog_train, ylog_test = train_test_split(X, ylog, train_size=0.80)"
   ]
  },
  {
   "cell_type": "code",
   "execution_count": null,
   "metadata": {
    "collapsed": false
   },
   "outputs": [],
   "source": [
    "rf = RandomForestRegressor(n_estimators = 50, n_jobs = -1, verbose = 0)"
   ]
  },
  {
   "cell_type": "code",
   "execution_count": null,
   "metadata": {
    "collapsed": false
   },
   "outputs": [],
   "source": [
    "rf.fit(X_train, ylog_train)\n",
    "score = rf.score(X_train, ylog_train)\n",
    "print score\n",
    "res0 = rf.predict(X_train)\n",
    "res1 = rf.predict(X_test)\n",
    "print mape_error(ylog_train, res0)\n",
    "print mape_error(ylog_test, res1)"
   ]
  },
  {
   "cell_type": "code",
   "execution_count": null,
   "metadata": {
    "collapsed": false
   },
   "outputs": [],
   "source": [
    "svr = SVR(kernel='linear', C=1)\n",
    "svr.fit(X_train, ylog_train)\n",
    "score = svr.score(X_train, ylog_train)\n",
    "print score\n",
    "res0 = svr.predict(X_train)\n",
    "res1 = svr.predict(X_test)\n",
    "print mape_error(ylog_train, res0)\n",
    "print mape_error(ylog_test, res1)"
   ]
  },
  {
   "cell_type": "code",
   "execution_count": null,
   "metadata": {
    "collapsed": false
   },
   "outputs": [],
   "source": [
    "gbr = GradientBoostingRegressor(verbose = 0, max_features='auto')\n",
    "gbr.fit(X_train, ylog_train)\n",
    "score = gbr.score(X_train, ylog_train)\n",
    "print score\n",
    "res0 = gbr.predict(X_train)\n",
    "res1 = gbr.predict(X_test)\n",
    "print mape_error(ylog_train, res0)\n",
    "print mape_error(ylog_test, res1)"
   ]
  },
  {
   "cell_type": "markdown",
   "metadata": {},
   "source": [
    "#### Cross validation scoring"
   ]
  },
  {
   "cell_type": "code",
   "execution_count": null,
   "metadata": {
    "collapsed": true
   },
   "outputs": [],
   "source": [
    "def run_cv(data, targets, clf, cv=10):\n",
    "    X0 = data\n",
    "    ylog = targets\n",
    "    X = StandardScaler().fit_transform(X0)\n",
    "    scores = cross_val_score(clf, X, ylog, cv=cv, scoring=make_scorer(mape_error))\n",
    "    print scores      \n",
    "    print scores.mean(), scores.std()"
   ]
  },
  {
   "cell_type": "code",
   "execution_count": null,
   "metadata": {
    "collapsed": false
   },
   "outputs": [],
   "source": [
    "run_cv(df_subs_quants, ylog, rf)\n",
    "run_cv(df_subs_quants_packs, ylog, rf)\n",
    "run_cv(df_subs_quants_others, ylog, rf)\n",
    "run_cv(df_subs_quants_packs_va, ylog, rf)"
   ]
  },
  {
   "cell_type": "code",
   "execution_count": null,
   "metadata": {
    "collapsed": false,
    "scrolled": true
   },
   "outputs": [],
   "source": [
    "run_cv(df_subs_quants, ylog, svr)\n",
    "run_cv(df_subs_quants_packs, ylog, svr)\n",
    "run_cv(df_subs_quants_others, ylog, svr)\n",
    "run_cv(df_subs_quants_packs_va, ylog, svr)"
   ]
  },
  {
   "cell_type": "code",
   "execution_count": null,
   "metadata": {
    "collapsed": false,
    "scrolled": false
   },
   "outputs": [],
   "source": [
    "run_cv(df_subs_quants, ylog, gbr)\n",
    "run_cv(df_subs_quants_packs, ylog, gbr)\n",
    "run_cv(df_subs_quants_others, ylog, gbr)\n",
    "run_cv(df_subs_quants_packs_va, ylog, gbr)"
   ]
  },
  {
   "cell_type": "code",
   "execution_count": null,
   "metadata": {
    "collapsed": true
   },
   "outputs": [],
   "source": []
  },
  {
   "cell_type": "code",
   "execution_count": null,
   "metadata": {
    "collapsed": true
   },
   "outputs": [],
   "source": []
  },
  {
   "cell_type": "markdown",
   "metadata": {},
   "source": [
    "### Learn by type : 'comprime' et 'gelule'"
   ]
  },
  {
   "cell_type": "code",
   "execution_count": null,
   "metadata": {
    "collapsed": false
   },
   "outputs": [],
   "source": [
    "index1 = 0\n",
    "index2 = 2\n",
    "print \"Select types : \", types[index1], types[index2]\n",
    "mask = (df[types[index1]] > 0) | (df[types[index2]] > 0)\n",
    "print \"Found lines (med has the type): \", len(df[mask])\n",
    "df_logprices = df[mask]['logprix']"
   ]
  },
  {
   "cell_type": "code",
   "execution_count": null,
   "metadata": {
    "collapsed": false
   },
   "outputs": [],
   "source": [
    "df_subs_quants = create_df_subs_quants(df_subs[mask], df[mask][types[index]])\n",
    "print df_subs_quants.shape"
   ]
  },
  {
   "cell_type": "markdown",
   "metadata": {},
   "source": [
    "#### Add packages"
   ]
  },
  {
   "cell_type": "code",
   "execution_count": null,
   "metadata": {
    "collapsed": false
   },
   "outputs": [],
   "source": [
    "df_subs_quants_packs = pd.concat([df_subs_quants, df[mask][packages]], axis=1)\n",
    "print df_subs_quants_packs.shape"
   ]
  },
  {
   "cell_type": "markdown",
   "metadata": {},
   "source": [
    "#### Add other features "
   ]
  },
  {
   "cell_type": "code",
   "execution_count": null,
   "metadata": {
    "collapsed": false
   },
   "outputs": [],
   "source": [
    "cols_to_drop = list(types); cols_to_drop.extend(packages); cols_to_drop.extend(TARGET_COLUMNS)\n",
    "cols_to_drop.extend([u'libelle_ampoule', u'libelle_capsule', u'libelle_comprime', u'libelle_film', u'libelle_flacon', u'libelle_gelule', u'libelle_pilulier', u'libelle_plaquette', u'libelle_poche', u'libelle_sachet', u'libelle_seringue', u'libelle_stylo', u'libelle_tube'])\n",
    "other_features = df.drop(cols_to_drop, axis=1)\n",
    "df_subs_quants_others = pd.concat([df_subs_quants_packs, other_features[mask]], axis=1)\n",
    "print df_subs_quants_others.shape"
   ]
  },
  {
   "cell_type": "markdown",
   "metadata": {},
   "source": [
    "#### Add voie admin"
   ]
  },
  {
   "cell_type": "code",
   "execution_count": null,
   "metadata": {
    "collapsed": false
   },
   "outputs": [],
   "source": [
    "df_subs_quants_packs_va = pd.concat([df_subs_quants_packs, PROCESSED_TRAIN_VOIE_ADMIN[mask]], axis=1)\n",
    "print df_subs_quants_packs_va.shape"
   ]
  },
  {
   "cell_type": "markdown",
   "metadata": {},
   "source": [
    "#### Remove all zero columns"
   ]
  },
  {
   "cell_type": "code",
   "execution_count": null,
   "metadata": {
    "collapsed": false
   },
   "outputs": [],
   "source": [
    "df_subs_quants = drop_const_cols(df_subs_quants)\n",
    "df_subs_quants_packs = drop_const_cols(df_subs_quants_packs)\n",
    "df_subs_quants_others = drop_const_cols(df_subs_quants_others)\n",
    "df_subs_quants_packs_va = drop_const_cols(df_subs_quants_packs_va)\n",
    "\n",
    "print \"df_subs_quants -> \", df_subs_quants.shape\n",
    "print \"df_subs_quants_packs -> \", df_subs_quants_packs.shape\n",
    "print \"df_subs_quants_others -> \", df_subs_quants_others.shape\n",
    "print \"df_subs_quants_packs_va -> \", df_subs_quants_packs_va.shape"
   ]
  },
  {
   "cell_type": "markdown",
   "metadata": {},
   "source": [
    "#### Split and learn"
   ]
  },
  {
   "cell_type": "code",
   "execution_count": null,
   "metadata": {
    "collapsed": true
   },
   "outputs": [],
   "source": [
    "X0 = df_subs_quants_packs_va\n",
    "ylog = df_logprices\n",
    "\n",
    "X = StandardScaler().fit_transform(X0)\n",
    "X_train, X_test, ylog_train, ylog_test = train_test_split(X, ylog, train_size=0.80)"
   ]
  },
  {
   "cell_type": "code",
   "execution_count": null,
   "metadata": {
    "collapsed": false
   },
   "outputs": [],
   "source": [
    "rf = RandomForestRegressor(n_estimators = 50, n_jobs = -1, verbose = 0)"
   ]
  },
  {
   "cell_type": "code",
   "execution_count": null,
   "metadata": {
    "collapsed": false
   },
   "outputs": [],
   "source": [
    "rf.fit(X_train, ylog_train)\n",
    "score = rf.score(X_train, ylog_train)\n",
    "print score\n",
    "res0 = rf.predict(X_train)\n",
    "res1 = rf.predict(X_test)\n",
    "print mape_error(ylog_train, res0)\n",
    "print mape_error(ylog_test, res1)"
   ]
  },
  {
   "cell_type": "code",
   "execution_count": null,
   "metadata": {
    "collapsed": false
   },
   "outputs": [],
   "source": [
    "svr = SVR(kernel='linear', C=1)\n",
    "svr.fit(X_train, ylog_train)\n",
    "score = svr.score(X_train, ylog_train)\n",
    "print score\n",
    "res0 = svr.predict(X_train)\n",
    "res1 = svr.predict(X_test)\n",
    "print mape_error(ylog_train, res0)\n",
    "print mape_error(ylog_test, res1)"
   ]
  },
  {
   "cell_type": "code",
   "execution_count": null,
   "metadata": {
    "collapsed": false
   },
   "outputs": [],
   "source": [
    "gbr = GradientBoostingRegressor(verbose = 0, max_features='auto')\n",
    "gbr.fit(X_train, ylog_train)\n",
    "score = gbr.score(X_train, ylog_train)\n",
    "print score\n",
    "res0 = gbr.predict(X_train)\n",
    "res1 = gbr.predict(X_test)\n",
    "print mape_error(ylog_train, res0)\n",
    "print mape_error(ylog_test, res1)"
   ]
  },
  {
   "cell_type": "markdown",
   "metadata": {},
   "source": [
    "#### Cross validation scoring"
   ]
  },
  {
   "cell_type": "code",
   "execution_count": null,
   "metadata": {
    "collapsed": true
   },
   "outputs": [],
   "source": [
    "def run_cv(data, targets, clf, cv=10):\n",
    "    X0 = data\n",
    "    ylog = targets\n",
    "    X = StandardScaler().fit_transform(X0)\n",
    "    scores = cross_val_score(clf, X, ylog, cv=cv, scoring=make_scorer(mape_error))\n",
    "    print scores      \n",
    "    print scores.mean(), scores.std()"
   ]
  },
  {
   "cell_type": "code",
   "execution_count": null,
   "metadata": {
    "collapsed": false
   },
   "outputs": [],
   "source": [
    "run_cv(df_subs_quants, ylog, rf)\n",
    "run_cv(df_subs_quants_packs, ylog, rf)\n",
    "run_cv(df_subs_quants_others, ylog, rf)\n",
    "run_cv(df_subs_quants_packs_va, ylog, rf)"
   ]
  },
  {
   "cell_type": "code",
   "execution_count": null,
   "metadata": {
    "collapsed": false,
    "scrolled": true
   },
   "outputs": [],
   "source": [
    "run_cv(df_subs_quants, ylog, svr)\n",
    "run_cv(df_subs_quants_packs, ylog, svr)\n",
    "run_cv(df_subs_quants_others, ylog, svr)\n",
    "run_cv(df_subs_quants_packs_va, ylog, svr)"
   ]
  },
  {
   "cell_type": "code",
   "execution_count": null,
   "metadata": {
    "collapsed": false,
    "scrolled": false
   },
   "outputs": [],
   "source": [
    "run_cv(df_subs_quants, ylog, gbr)\n",
    "run_cv(df_subs_quants_packs, ylog, gbr)\n",
    "run_cv(df_subs_quants_others, ylog, gbr)\n",
    "run_cv(df_subs_quants_packs_va, ylog, gbr)"
   ]
  },
  {
   "cell_type": "code",
   "execution_count": null,
   "metadata": {
    "collapsed": true
   },
   "outputs": [],
   "source": []
  },
  {
   "cell_type": "markdown",
   "metadata": {},
   "source": [
    "### Learn by type : 'ml'"
   ]
  },
  {
   "cell_type": "code",
   "execution_count": null,
   "metadata": {
    "collapsed": false
   },
   "outputs": [],
   "source": [
    "index = 3\n",
    "print \"Select type only : \", types[index]\n",
    "mask = df[types[index]] > 0\n",
    "print \"Found lines (med has the type): \", len(df[mask])\n",
    "indices = range(len(types))\n",
    "indices.remove(index)\n",
    "for i in indices:\n",
    "    mask &= df[types[i]] < 1\n",
    "    \n",
    "print \"Found lines (med has the type only) : \", len(df[mask])\n",
    "df_logprices = df[mask]['logprix']"
   ]
  },
  {
   "cell_type": "code",
   "execution_count": null,
   "metadata": {
    "collapsed": false
   },
   "outputs": [],
   "source": [
    "df_subs_quants = create_df_subs_quants(df_subs[mask], df[mask][types[index]])\n",
    "print df_subs_quants.shape"
   ]
  },
  {
   "cell_type": "markdown",
   "metadata": {},
   "source": [
    "#### Add packages"
   ]
  },
  {
   "cell_type": "code",
   "execution_count": null,
   "metadata": {
    "collapsed": false
   },
   "outputs": [],
   "source": [
    "df_subs_quants_packs = pd.concat([df_subs_quants, df[mask][packages]], axis=1)\n",
    "print df_subs_quants_packs.shape"
   ]
  },
  {
   "cell_type": "markdown",
   "metadata": {},
   "source": [
    "#### Add other features "
   ]
  },
  {
   "cell_type": "code",
   "execution_count": null,
   "metadata": {
    "collapsed": false
   },
   "outputs": [],
   "source": [
    "cols_to_drop = list(types); cols_to_drop.extend(packages); cols_to_drop.extend(TARGET_COLUMNS)\n",
    "cols_to_drop.extend([u'libelle_ampoule', u'libelle_capsule', u'libelle_comprime', u'libelle_film', u'libelle_flacon', u'libelle_gelule', u'libelle_pilulier', u'libelle_plaquette', u'libelle_poche', u'libelle_sachet', u'libelle_seringue', u'libelle_stylo', u'libelle_tube'])\n",
    "other_features = df.drop(cols_to_drop, axis=1)\n",
    "df_subs_quants_others = pd.concat([df_subs_quants_packs, other_features[mask]], axis=1)\n",
    "print df_subs_quants_others.shape"
   ]
  },
  {
   "cell_type": "markdown",
   "metadata": {},
   "source": [
    "#### Add voie admin"
   ]
  },
  {
   "cell_type": "code",
   "execution_count": null,
   "metadata": {
    "collapsed": false
   },
   "outputs": [],
   "source": [
    "df_subs_quants_packs_va = pd.concat([df_subs_quants_packs, PROCESSED_TRAIN_VOIE_ADMIN[mask]], axis=1)\n",
    "print df_subs_quants_packs_va.shape"
   ]
  },
  {
   "cell_type": "markdown",
   "metadata": {},
   "source": [
    "#### Remove all zero columns"
   ]
  },
  {
   "cell_type": "code",
   "execution_count": null,
   "metadata": {
    "collapsed": false
   },
   "outputs": [],
   "source": [
    "df_subs_quants = drop_const_cols(df_subs_quants)\n",
    "df_subs_quants_packs = drop_const_cols(df_subs_quants_packs)\n",
    "df_subs_quants_others = drop_const_cols(df_subs_quants_others)\n",
    "df_subs_quants_packs_va = drop_const_cols(df_subs_quants_packs_va)\n",
    "\n",
    "print \"df_subs_quants -> \", df_subs_quants.shape\n",
    "print \"df_subs_quants_packs -> \", df_subs_quants_packs.shape\n",
    "print \"df_subs_quants_others -> \", df_subs_quants_others.shape\n",
    "print \"df_subs_quants_packs_va -> \", df_subs_quants_packs_va.shape"
   ]
  },
  {
   "cell_type": "markdown",
   "metadata": {},
   "source": [
    "#### Split and learn"
   ]
  },
  {
   "cell_type": "code",
   "execution_count": null,
   "metadata": {
    "collapsed": true
   },
   "outputs": [],
   "source": [
    "X0 = df_subs_quants_packs_va\n",
    "ylog = df_logprices\n",
    "\n",
    "X = StandardScaler().fit_transform(X0)\n",
    "X_train, X_test, ylog_train, ylog_test = train_test_split(X, ylog, train_size=0.80)"
   ]
  },
  {
   "cell_type": "code",
   "execution_count": null,
   "metadata": {
    "collapsed": false
   },
   "outputs": [],
   "source": [
    "rf = RandomForestRegressor(n_estimators = 50, n_jobs = -1, verbose = 0)"
   ]
  },
  {
   "cell_type": "code",
   "execution_count": null,
   "metadata": {
    "collapsed": false
   },
   "outputs": [],
   "source": [
    "rf.fit(X_train, ylog_train)\n",
    "score = rf.score(X_train, ylog_train)\n",
    "print score\n",
    "res0 = rf.predict(X_train)\n",
    "res1 = rf.predict(X_test)\n",
    "print mape_error(ylog_train, res0)\n",
    "print mape_error(ylog_test, res1)"
   ]
  },
  {
   "cell_type": "code",
   "execution_count": null,
   "metadata": {
    "collapsed": false
   },
   "outputs": [],
   "source": [
    "svr = SVR(kernel='linear', C=3)\n",
    "svr.fit(X_train, ylog_train)\n",
    "score = svr.score(X_train, ylog_train)\n",
    "print score\n",
    "res0 = svr.predict(X_train)\n",
    "res1 = svr.predict(X_test)\n",
    "print mape_error(ylog_train, res0)\n",
    "print mape_error(ylog_test, res1)"
   ]
  },
  {
   "cell_type": "markdown",
   "metadata": {},
   "source": [
    "#### Cross validation scoring"
   ]
  },
  {
   "cell_type": "code",
   "execution_count": null,
   "metadata": {
    "collapsed": true
   },
   "outputs": [],
   "source": [
    "def run_cv(data, targets, clf, cv=10):\n",
    "    X0 = data\n",
    "    ylog = targets\n",
    "    X = StandardScaler().fit_transform(X0)\n",
    "    scores = cross_val_score(clf, X, ylog, cv=cv, scoring=make_scorer(mape_error))\n",
    "    print scores      \n",
    "    print scores.mean(), scores.std()"
   ]
  },
  {
   "cell_type": "code",
   "execution_count": null,
   "metadata": {
    "collapsed": false,
    "scrolled": true
   },
   "outputs": [],
   "source": [
    "run_cv(df_subs_quants, ylog, rf, cv=7)\n",
    "run_cv(df_subs_quants_packs, ylog, rf, cv=7)\n",
    "run_cv(df_subs_quants_others, ylog, rf, cv=7)\n",
    "run_cv(df_subs_quants_packs_va, ylog, rf, cv=7)"
   ]
  },
  {
   "cell_type": "code",
   "execution_count": null,
   "metadata": {
    "collapsed": false
   },
   "outputs": [],
   "source": [
    "# run_cv(df_subs_quants, ylog, svr, cv=7)\n",
    "# run_cv(df_subs_quants_packs, ylog, svr, cv=7)\n",
    "# run_cv(df_subs_quants_others, ylog, svr, cv=7)\n",
    "# run_cv(df_subs_quants_packs_va, ylog, svr, cv=7)"
   ]
  },
  {
   "cell_type": "code",
   "execution_count": null,
   "metadata": {
    "collapsed": true
   },
   "outputs": [],
   "source": []
  },
  {
   "cell_type": "markdown",
   "metadata": {},
   "source": [
    "### Learn by type : 'comprime'"
   ]
  },
  {
   "cell_type": "code",
   "execution_count": null,
   "metadata": {
    "collapsed": false
   },
   "outputs": [],
   "source": [
    "index = 1\n",
    "print \"Select type only : \", types[index]\n",
    "mask = df[types[index]] > 0\n",
    "print \"Found lines (med has the type): \", len(df[mask])\n",
    "indices = range(len(types))\n",
    "indices.remove(index)\n",
    "for i in indices:\n",
    "    mask &= df[types[i]] < 1\n",
    "    \n",
    "print \"Found lines (med has the type only) : \", len(df[mask])\n",
    "df_logprices = df[mask]['logprix']"
   ]
  },
  {
   "cell_type": "code",
   "execution_count": null,
   "metadata": {
    "collapsed": false
   },
   "outputs": [],
   "source": [
    "df_subs_quants = create_df_subs_quants(df_subs[mask], df[mask][types[index]])\n",
    "print df_subs_quants.shape"
   ]
  },
  {
   "cell_type": "markdown",
   "metadata": {},
   "source": [
    "#### Add packages"
   ]
  },
  {
   "cell_type": "code",
   "execution_count": null,
   "metadata": {
    "collapsed": false
   },
   "outputs": [],
   "source": [
    "df_subs_quants_packs = pd.concat([df_subs_quants, df[mask][packages]], axis=1)\n",
    "print df_subs_quants_packs.shape"
   ]
  },
  {
   "cell_type": "markdown",
   "metadata": {},
   "source": [
    "#### Add other features "
   ]
  },
  {
   "cell_type": "code",
   "execution_count": null,
   "metadata": {
    "collapsed": false
   },
   "outputs": [],
   "source": [
    "cols_to_drop = list(types); cols_to_drop.extend(packages); cols_to_drop.extend(TARGET_COLUMNS)\n",
    "cols_to_drop.extend([u'libelle_ampoule', u'libelle_capsule', u'libelle_comprime', u'libelle_film', u'libelle_flacon', u'libelle_gelule', u'libelle_pilulier', u'libelle_plaquette', u'libelle_poche', u'libelle_sachet', u'libelle_seringue', u'libelle_stylo', u'libelle_tube'])\n",
    "other_features = df.drop(cols_to_drop, axis=1)\n",
    "df_subs_quants_others = pd.concat([df_subs_quants_packs, other_features[mask]], axis=1)\n",
    "print df_subs_quants_others.shape"
   ]
  },
  {
   "cell_type": "markdown",
   "metadata": {},
   "source": [
    "#### Add voie admin"
   ]
  },
  {
   "cell_type": "code",
   "execution_count": null,
   "metadata": {
    "collapsed": false
   },
   "outputs": [],
   "source": [
    "df_subs_quants_packs_va = pd.concat([df_subs_quants_packs, PROCESSED_TRAIN_VOIE_ADMIN[mask]], axis=1)\n",
    "print df_subs_quants_packs_va.shape"
   ]
  },
  {
   "cell_type": "markdown",
   "metadata": {},
   "source": [
    "#### Remove all zero columns"
   ]
  },
  {
   "cell_type": "code",
   "execution_count": null,
   "metadata": {
    "collapsed": false
   },
   "outputs": [],
   "source": [
    "df_subs_quants = drop_const_cols(df_subs_quants)\n",
    "df_subs_quants_packs = drop_const_cols(df_subs_quants_packs)\n",
    "df_subs_quants_others = drop_const_cols(df_subs_quants_others)\n",
    "df_subs_quants_packs_va = drop_const_cols(df_subs_quants_packs_va)\n",
    "\n",
    "print \"df_subs_quants -> \", df_subs_quants.shape\n",
    "print \"df_subs_quants_packs -> \", df_subs_quants_packs.shape\n",
    "print \"df_subs_quants_others -> \", df_subs_quants_others.shape\n",
    "print \"df_subs_quants_packs_va -> \", df_subs_quants_packs_va.shape"
   ]
  },
  {
   "cell_type": "markdown",
   "metadata": {},
   "source": [
    "#### Split and learn"
   ]
  },
  {
   "cell_type": "code",
   "execution_count": null,
   "metadata": {
    "collapsed": true
   },
   "outputs": [],
   "source": [
    "X0 = df_subs_quants_packs_va\n",
    "ylog = df_logprices\n",
    "\n",
    "X = StandardScaler().fit_transform(X0)\n",
    "X_train, X_test, ylog_train, ylog_test = train_test_split(X, ylog, train_size=0.80)"
   ]
  },
  {
   "cell_type": "code",
   "execution_count": null,
   "metadata": {
    "collapsed": false
   },
   "outputs": [],
   "source": [
    "rf = RandomForestRegressor(n_estimators = 50, n_jobs = -1, verbose = 0)"
   ]
  },
  {
   "cell_type": "code",
   "execution_count": null,
   "metadata": {
    "collapsed": false
   },
   "outputs": [],
   "source": [
    "rf.fit(X_train, ylog_train)\n",
    "score = rf.score(X_train, ylog_train)\n",
    "print score\n",
    "res0 = rf.predict(X_train)\n",
    "res1 = rf.predict(X_test)\n",
    "print mape_error(ylog_train, res0)\n",
    "print mape_error(ylog_test, res1)"
   ]
  },
  {
   "cell_type": "code",
   "execution_count": null,
   "metadata": {
    "collapsed": false
   },
   "outputs": [],
   "source": [
    "svr = SVR(kernel='linear', C=3)\n",
    "svr.fit(X_train, ylog_train)\n",
    "score = svr.score(X_train, ylog_train)\n",
    "print score\n",
    "res0 = svr.predict(X_train)\n",
    "res1 = svr.predict(X_test)\n",
    "print mape_error(ylog_train, res0)\n",
    "print mape_error(ylog_test, res1)"
   ]
  },
  {
   "cell_type": "markdown",
   "metadata": {},
   "source": [
    "#### Cross validation scoring"
   ]
  },
  {
   "cell_type": "code",
   "execution_count": null,
   "metadata": {
    "collapsed": true
   },
   "outputs": [],
   "source": [
    "def run_cv(data, targets, clf, cv=10):\n",
    "    X0 = data\n",
    "    ylog = targets\n",
    "    X = StandardScaler().fit_transform(X0)\n",
    "    scores = cross_val_score(clf, X, ylog, cv=cv, scoring=make_scorer(mape_error))\n",
    "    print scores      \n",
    "    print scores.mean(), scores.std()"
   ]
  },
  {
   "cell_type": "code",
   "execution_count": null,
   "metadata": {
    "collapsed": false,
    "scrolled": true
   },
   "outputs": [],
   "source": [
    "run_cv(df_subs_quants, ylog, rf, cv=5)\n",
    "run_cv(df_subs_quants_packs, ylog, rf, cv=5)\n",
    "run_cv(df_subs_quants_others, ylog, rf, cv=5)\n",
    "run_cv(df_subs_quants_packs_va, ylog, rf, cv=5)"
   ]
  },
  {
   "cell_type": "code",
   "execution_count": null,
   "metadata": {
    "collapsed": false,
    "scrolled": true
   },
   "outputs": [],
   "source": [
    "# run_cv(df_subs_quants, ylog, svr, cv=5)\n",
    "# run_cv(df_subs_quants_packs, ylog, svr, cv=5)\n",
    "# run_cv(df_subs_quants_others, ylog, svr, cv=5)\n",
    "# run_cv(df_subs_quants_packs_va, ylog, svr, cv=5)"
   ]
  },
  {
   "cell_type": "code",
   "execution_count": null,
   "metadata": {
    "collapsed": true
   },
   "outputs": [],
   "source": []
  },
  {
   "cell_type": "code",
   "execution_count": null,
   "metadata": {
    "collapsed": true
   },
   "outputs": [],
   "source": []
  },
  {
   "cell_type": "code",
   "execution_count": null,
   "metadata": {
    "collapsed": true
   },
   "outputs": [],
   "source": []
  },
  {
   "cell_type": "markdown",
   "metadata": {},
   "source": [
    "### Learn all types"
   ]
  },
  {
   "cell_type": "code",
   "execution_count": null,
   "metadata": {
    "collapsed": false
   },
   "outputs": [],
   "source": [
    "df.shape"
   ]
  },
  {
   "cell_type": "code",
   "execution_count": null,
   "metadata": {
    "collapsed": false
   },
   "outputs": [],
   "source": [
    "mask = df[types[0]] == 0\n",
    "indices = range(len(types))\n",
    "indices.remove(0)\n",
    "for i in indices:\n",
    "    mask &= df[types[i]] == 0\n",
    "    \n",
    "print \"Found lines : \", len(df[mask])"
   ]
  },
  {
   "cell_type": "code",
   "execution_count": null,
   "metadata": {
    "collapsed": false
   },
   "outputs": [],
   "source": [
    "mask = df[types[0]] > 0\n",
    "indices = range(len(types))\n",
    "indices.remove(0)\n",
    "for i in indices:\n",
    "    mask |= df[types[i]] > 0\n",
    "    \n",
    "print \"Found lines : \", len(df[mask])"
   ]
  },
  {
   "cell_type": "code",
   "execution_count": null,
   "metadata": {
    "collapsed": true
   },
   "outputs": [],
   "source": [
    "mask = df['nb_plaquette'] > 0"
   ]
  },
  {
   "cell_type": "code",
   "execution_count": null,
   "metadata": {
    "collapsed": false,
    "scrolled": false
   },
   "outputs": [],
   "source": [
    "df[mask].head()"
   ]
  },
  {
   "cell_type": "code",
   "execution_count": null,
   "metadata": {
    "collapsed": false
   },
   "outputs": [],
   "source": [
    "from prepare_data import BIG"
   ]
  },
  {
   "cell_type": "code",
   "execution_count": null,
   "metadata": {
    "collapsed": false
   },
   "outputs": [],
   "source": [
    "BIG.ix[81]"
   ]
  },
  {
   "cell_type": "code",
   "execution_count": null,
   "metadata": {
    "collapsed": true
   },
   "outputs": [],
   "source": []
  },
  {
   "cell_type": "code",
   "execution_count": null,
   "metadata": {
    "collapsed": false
   },
   "outputs": [],
   "source": [
    "mask = df[types[0]] > 0\n",
    "indices = range(len(types))\n",
    "indices.remove(0)\n",
    "for i in indices:\n",
    "    mask |= df[types[i]] > 0\n",
    "    \n",
    "print \"Found lines : \", len(df[mask])\n",
    "df_logprices = df[mask]['logprix']"
   ]
  },
  {
   "cell_type": "code",
   "execution_count": null,
   "metadata": {
    "collapsed": false
   },
   "outputs": [],
   "source": [
    "df_subs_quants = create_df_subs_quants(df_subs[mask], df[mask][types[index]])\n",
    "print df_subs_quants.shape"
   ]
  },
  {
   "cell_type": "code",
   "execution_count": null,
   "metadata": {
    "collapsed": false
   },
   "outputs": [],
   "source": [
    "mask = df[types[0]] > 0\n",
    "indices = range(len(types))\n",
    "indices.remove(0)\n",
    "for i in indices:\n",
    "    mask |= df[types[i]] > 0\n",
    "    \n",
    "print \"Found lines : \", len(df[mask])\n",
    "df_logprices = df[mask]['logprix']"
   ]
  },
  {
   "cell_type": "markdown",
   "metadata": {},
   "source": [
    "#### Add packages"
   ]
  },
  {
   "cell_type": "code",
   "execution_count": null,
   "metadata": {
    "collapsed": false
   },
   "outputs": [],
   "source": [
    "df_subs_quants_packs = pd.concat([df_subs_quants, df[mask][packages]], axis=1)\n",
    "print df_subs_quants_packs.shape"
   ]
  },
  {
   "cell_type": "markdown",
   "metadata": {},
   "source": [
    "#### Add other features "
   ]
  },
  {
   "cell_type": "code",
   "execution_count": null,
   "metadata": {
    "collapsed": false
   },
   "outputs": [],
   "source": [
    "cols_to_drop = list(types); cols_to_drop.extend(packages); cols_to_drop.extend(TARGET_COLUMNS)\n",
    "cols_to_drop.extend([u'libelle_ampoule', u'libelle_capsule', u'libelle_comprime', u'libelle_film', u'libelle_flacon', u'libelle_gelule', u'libelle_pilulier', u'libelle_plaquette', u'libelle_poche', u'libelle_sachet', u'libelle_seringue', u'libelle_stylo', u'libelle_tube'])\n",
    "other_features = df.drop(cols_to_drop, axis=1)\n",
    "df_subs_quants_others = pd.concat([df_subs_quants_packs, other_features[mask]], axis=1)\n",
    "print df_subs_quants_others.shape"
   ]
  },
  {
   "cell_type": "markdown",
   "metadata": {},
   "source": [
    "#### Add voie admin"
   ]
  },
  {
   "cell_type": "code",
   "execution_count": null,
   "metadata": {
    "collapsed": false
   },
   "outputs": [],
   "source": [
    "df_subs_quants_packs_va = pd.concat([df_subs_quants_packs, PROCESSED_TRAIN_VOIE_ADMIN[mask]], axis=1)\n",
    "print df_subs_quants_packs_va.shape"
   ]
  },
  {
   "cell_type": "markdown",
   "metadata": {},
   "source": [
    "#### Remove all zero columns"
   ]
  },
  {
   "cell_type": "code",
   "execution_count": null,
   "metadata": {
    "collapsed": false
   },
   "outputs": [],
   "source": [
    "df_subs_quants = drop_const_cols(df_subs_quants)\n",
    "df_subs_quants_packs = drop_const_cols(df_subs_quants_packs)\n",
    "df_subs_quants_others = drop_const_cols(df_subs_quants_others)\n",
    "df_subs_quants_packs_va = drop_const_cols(df_subs_quants_packs_va)\n",
    "\n",
    "print \"df_subs_quants -> \", df_subs_quants.shape\n",
    "print \"df_subs_quants_packs -> \", df_subs_quants_packs.shape\n",
    "print \"df_subs_quants_others -> \", df_subs_quants_others.shape\n",
    "print \"df_subs_quants_packs_va -> \", df_subs_quants_packs_va.shape"
   ]
  },
  {
   "cell_type": "markdown",
   "metadata": {},
   "source": [
    "#### Split and learn"
   ]
  },
  {
   "cell_type": "code",
   "execution_count": null,
   "metadata": {
    "collapsed": true
   },
   "outputs": [],
   "source": [
    "X0 = df_subs_quants_packs_va\n",
    "ylog = df_logprices\n",
    "\n",
    "X = StandardScaler().fit_transform(X0)\n",
    "X_train, X_test, ylog_train, ylog_test = train_test_split(X, ylog, train_size=0.80)"
   ]
  },
  {
   "cell_type": "code",
   "execution_count": null,
   "metadata": {
    "collapsed": false
   },
   "outputs": [],
   "source": [
    "rf = RandomForestRegressor(n_estimators = 50, n_jobs = -1, verbose = 0)"
   ]
  },
  {
   "cell_type": "code",
   "execution_count": null,
   "metadata": {
    "collapsed": false
   },
   "outputs": [],
   "source": [
    "rf.fit(X_train, ylog_train)\n",
    "score = rf.score(X_train, ylog_train)\n",
    "print score\n",
    "res0 = rf.predict(X_train)\n",
    "res1 = rf.predict(X_test)\n",
    "print mape_error(ylog_train, res0)\n",
    "print mape_error(ylog_test, res1)"
   ]
  },
  {
   "cell_type": "code",
   "execution_count": null,
   "metadata": {
    "collapsed": false
   },
   "outputs": [],
   "source": [
    "svr = SVR(kernel='linear', C=3)\n",
    "svr.fit(X_train, ylog_train)\n",
    "score = svr.score(X_train, ylog_train)\n",
    "print score\n",
    "res0 = svr.predict(X_train)\n",
    "res1 = svr.predict(X_test)\n",
    "print mape_error(ylog_train, res0)\n",
    "print mape_error(ylog_test, res1)"
   ]
  },
  {
   "cell_type": "markdown",
   "metadata": {},
   "source": [
    "#### Cross validation scoring"
   ]
  },
  {
   "cell_type": "code",
   "execution_count": null,
   "metadata": {
    "collapsed": true
   },
   "outputs": [],
   "source": [
    "def run_cv(data, targets, clf, cv=10):\n",
    "    X0 = data\n",
    "    ylog = targets\n",
    "    X = StandardScaler().fit_transform(X0)\n",
    "    scores = cross_val_score(clf, X, ylog, cv=cv, scoring=make_scorer(mape_error))\n",
    "    print scores      \n",
    "    print scores.mean(), scores.std()"
   ]
  },
  {
   "cell_type": "code",
   "execution_count": null,
   "metadata": {
    "collapsed": false,
    "scrolled": true
   },
   "outputs": [],
   "source": [
    "run_cv(df_subs_quants, ylog, rf, cv=5)\n",
    "run_cv(df_subs_quants_packs, ylog, rf, cv=5)\n",
    "run_cv(df_subs_quants_others, ylog, rf, cv=5)\n",
    "run_cv(df_subs_quants_packs_va, ylog, rf, cv=5)"
   ]
  },
  {
   "cell_type": "code",
   "execution_count": null,
   "metadata": {
    "collapsed": false,
    "scrolled": true
   },
   "outputs": [],
   "source": [
    "# run_cv(df_subs_quants, ylog, svr, cv=5)\n",
    "# run_cv(df_subs_quants_packs, ylog, svr, cv=5)\n",
    "# run_cv(df_subs_quants_others, ylog, svr, cv=5)\n",
    "# run_cv(df_subs_quants_packs_va, ylog, svr, cv=5)"
   ]
  },
  {
   "cell_type": "code",
   "execution_count": null,
   "metadata": {
    "collapsed": true
   },
   "outputs": [],
   "source": []
  },
  {
   "cell_type": "code",
   "execution_count": null,
   "metadata": {
    "collapsed": true
   },
   "outputs": [],
   "source": []
  },
  {
   "cell_type": "code",
   "execution_count": null,
   "metadata": {
    "collapsed": true
   },
   "outputs": [],
   "source": []
  }
 ],
 "metadata": {
  "kernelspec": {
   "display_name": "Python 2",
   "language": "python",
   "name": "python2"
  },
  "language_info": {
   "codemirror_mode": {
    "name": "ipython",
    "version": 2
   },
   "file_extension": ".py",
   "mimetype": "text/x-python",
   "name": "python",
   "nbconvert_exporter": "python",
   "pygments_lexer": "ipython2",
   "version": "2.7.12"
  }
 },
 "nbformat": 4,
 "nbformat_minor": 1
}
