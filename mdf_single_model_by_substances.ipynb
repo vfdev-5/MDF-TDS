{
 "cells": [
  {
   "cell_type": "markdown",
   "metadata": {},
   "source": [
    "# MDF Single model learning by substances and quantities"
   ]
  },
  {
   "cell_type": "code",
   "execution_count": 162,
   "metadata": {
    "collapsed": true
   },
   "outputs": [],
   "source": [
    "import pandas as pd\n",
    "import numpy as np\n",
    "from sklearn.model_selection import train_test_split\n",
    "from sklearn.preprocessing import StandardScaler\n",
    "from sklearn.model_selection import cross_val_score\n",
    "from sklearn.metrics import make_scorer\n",
    "from sklearn.ensemble import ExtraTreesRegressor, RandomForestRegressor, GradientBoostingRegressor\n",
    "from sklearn.svm import SVR\n",
    "%matplotlib inline"
   ]
  },
  {
   "cell_type": "code",
   "execution_count": 2,
   "metadata": {
    "collapsed": false
   },
   "outputs": [
    {
     "name": "stdout",
     "output_type": "stream",
     "text": [
      "-- get_unique_noconst --\n",
      "- Number of found duplicated rows :  1389\n",
      "- Remove constant columns :  (10846, 41) -> (10846, 41)\n",
      "- Dropped const columns :  \n"
     ]
    }
   ],
   "source": [
    "from prepare_data import PROCESSED_BIG, PROCESSED_SUBSTANCES, PROCESSED_VOIE_ADMIN, TARGET_COLUMNS, TRAIN, TEST, SOURCE"
   ]
  },
  {
   "cell_type": "code",
   "execution_count": 3,
   "metadata": {
    "collapsed": true
   },
   "outputs": [],
   "source": [
    "PROCESSED_TRAIN = PROCESSED_BIG[PROCESSED_BIG[SOURCE] == TRAIN].drop(SOURCE, axis=1)\n",
    "PROCESSED_TRAIN_SUBS = PROCESSED_SUBSTANCES[PROCESSED_SUBSTANCES[SOURCE] == TRAIN].drop(SOURCE, axis=1)\n",
    "PROCESSED_TRAIN_VOIE_ADMIN = PROCESSED_VOIE_ADMIN[PROCESSED_VOIE_ADMIN[SOURCE] == TRAIN].drop(SOURCE, axis=1)"
   ]
  },
  {
   "cell_type": "code",
   "execution_count": 4,
   "metadata": {
    "collapsed": true
   },
   "outputs": [
    {
     "data": {
      "text/plain": [
       "array([u'agrement col', u'date amm annee', u'date declar annee',\n",
       "       u'etat commerc', u'forme pharma', u'libelle_ampoule',\n",
       "       u'libelle_capsule', u'libelle_comprime', u'libelle_film',\n",
       "       u'libelle_flacon', u'libelle_gelule', u'libelle_pilulier',\n",
       "       u'libelle_plaquette', u'libelle_poche', u'libelle_sachet',\n",
       "       u'libelle_seringue', u'libelle_stylo', u'libelle_tube',\n",
       "       u'nb_ampoule', u'nb_capsule', u'nb_comprime', u'nb_film',\n",
       "       u'nb_flacon', u'nb_gelule', u'nb_ml', u'nb_pilulier',\n",
       "       u'nb_plaquette', u'nb_poche', u'nb_sachet', u'nb_seringue',\n",
       "       u'nb_stylo', u'nb_tube', u'prix', u'statut', u'statut admin',\n",
       "       u'titulaires', u'tx rembours', u'type proc', 'logprix'], dtype=object)"
      ]
     },
     "execution_count": 4,
     "metadata": {},
     "output_type": "execute_result"
    }
   ],
   "source": [
    "PROCESSED_TRAIN.columns.values"
   ]
  },
  {
   "cell_type": "code",
   "execution_count": 5,
   "metadata": {
    "collapsed": true
   },
   "outputs": [
    {
     "data": {
      "text/plain": [
       "array([u'auriculaire', u'buccogingivale', u'cutan\\xe9e', u'dentaire',\n",
       "       u'endocanalaire', u'endosinusale', u'endotrach\\xe9obronchique',\n",
       "       u'gastrique', u'gastro-ent\\xe9rale', u'gingivale', u'infiltration',\n",
       "       u'inhal\\xe9e', u'intra cholangio-pancr\\xe9atique',\n",
       "       u'intra-articulaire', u'intra-art\\xe9rielle', u'intra-murale',\n",
       "       u'intra-ut\\xe9rine', u'intracaverneuse', u'intradermique',\n",
       "       u'intradurale', u'intral\\xe9sionnelle', u'intramusculaire',\n",
       "       u'intrap\\xe9riton\\xe9ale', u'intras\\xe9reuse', u'intrath\\xe9cale',\n",
       "       u'intraveineuse', u'intraventriculaire c\\xe9r\\xe9brale',\n",
       "       u'intravitr\\xe9enne', u'intrav\\xe9sicale', u'nasale',\n",
       "       u'ophtalmique', u'orale', u'p\\xe9riarticulaire', u'p\\xe9ridurale',\n",
       "       u'p\\xe9rineurale', u'p\\xe9rioculaire', u'rectale',\n",
       "       u'sous-cutan\\xe9e', u'sublinguale', u'transdermique',\n",
       "       u'ur\\xe9trale', u'vaginale', u'voie buccale autre',\n",
       "       u'voie extracorporelle autre', u'voie parent\\xe9rale autre',\n",
       "       'source'], dtype=object)"
      ]
     },
     "execution_count": 5,
     "metadata": {},
     "output_type": "execute_result"
    }
   ],
   "source": [
    "PROCESSED_VOIE_ADMIN.columns.values"
   ]
  },
  {
   "cell_type": "code",
   "execution_count": 6,
   "metadata": {
    "collapsed": true
   },
   "outputs": [
    {
     "data": {
      "text/plain": [
       "array([ u' - A/CALIFORNIA/7/2009 A/CALIFORNIA/7/2009 ANALOGUE ANTIGENES GRIPPE H1N1PDM09 SOUCHE SOUCHE SURFACE VIRUS X-181',\n",
       "       u' - A/CALIFORNIA/7/2009 A/CALIFORNIA/7/2009 ANALOGUE FRAGMENTE GRIPPE H1N1PDM09 INACTIVE NYMC SOUCHE SOUCHE VIRUS X-179A',\n",
       "       u' - A/CALIFORNIA/7/2009 A/CHRISTCHURCH/16/2010 ANALOGUE FRAGMENTE GRIPPE H1N1 INACTIVE NIB-74XP PDM09 SOUCHE SOUCHE VIRUS',\n",
       "       ..., u'ZUCLOPENTHIXOLCANOATE', '_ENCODED_', 'source'], dtype=object)"
      ]
     },
     "execution_count": 6,
     "metadata": {},
     "output_type": "execute_result"
    }
   ],
   "source": [
    "PROCESSED_SUBSTANCES.columns.values"
   ]
  },
  {
   "cell_type": "markdown",
   "metadata": {},
   "source": [
    "## Metric MAPE"
   ]
  },
  {
   "cell_type": "code",
   "execution_count": 7,
   "metadata": {
    "collapsed": true
   },
   "outputs": [],
   "source": [
    "# Mean Absolute Percentage Error\n",
    "def mape_error(y_true, y_pred, **kwards): \n",
    "    return np.mean(np.abs((y_true - y_pred) / y_true)) * 100"
   ]
  },
  {
   "cell_type": "markdown",
   "metadata": {
    "collapsed": true
   },
   "source": [
    "## Learn by medecin types, substances and its quantities"
   ]
  },
  {
   "cell_type": "code",
   "execution_count": 8,
   "metadata": {
    "collapsed": false
   },
   "outputs": [],
   "source": [
    "types = [u'nb_capsule', u'nb_comprime',  u'nb_gelule', u'nb_ml']\n",
    "packages = [u'nb_ampoule', u'nb_film', u'nb_flacon', u'nb_pilulier', u'nb_plaquette', u'nb_poche', u'nb_sachet', u'nb_seringue', u'nb_stylo', u'nb_tube']\n",
    "types_and_packages = list(types)\n",
    "types_and_packages.extend(packages)"
   ]
  },
  {
   "cell_type": "code",
   "execution_count": 9,
   "metadata": {
    "collapsed": false
   },
   "outputs": [],
   "source": [
    "df = PROCESSED_TRAIN\n",
    "df_subs = PROCESSED_TRAIN_SUBS.drop(['_ENCODED_'], axis=1)"
   ]
  },
  {
   "cell_type": "code",
   "execution_count": 10,
   "metadata": {
    "collapsed": false
   },
   "outputs": [],
   "source": [
    "from common.preprocessing_helper import drop_const_cols\n",
    "\n",
    "def create_df_subs_quants(df_subs, series_quants):\n",
    "    cols = df_subs.columns\n",
    "    df_subs_quants = pd.DataFrame(columns=cols)\n",
    "    for c in cols:\n",
    "        df_subs_quants[c] = df_subs[c] * series_quants\n",
    "    return df_subs_quants"
   ]
  },
  {
   "cell_type": "markdown",
   "metadata": {},
   "source": [
    "### Learn by type : 'capsule'"
   ]
  },
  {
   "cell_type": "code",
   "execution_count": 226,
   "metadata": {
    "collapsed": false
   },
   "outputs": [
    {
     "name": "stdout",
     "output_type": "stream",
     "text": [
      "Select type only :  nb_capsule\n",
      "Found lines (med has the type):  46\n",
      "Found lines (med has the type only) :  46\n"
     ]
    }
   ],
   "source": [
    "index = 0\n",
    "print \"Select type only : \", types[index]\n",
    "mask = df[types[index]] > 0\n",
    "print \"Found lines (med has the type): \", len(df[mask])\n",
    "indices = range(len(types))\n",
    "indices.remove(index)\n",
    "for i in indices:\n",
    "    mask &= df[types[i]] < 1\n",
    "    \n",
    "print \"Found lines (med has the type only) : \", len(df[mask])\n",
    "df_prices = df[mask]['logprix']"
   ]
  },
  {
   "cell_type": "code",
   "execution_count": 227,
   "metadata": {
    "collapsed": false
   },
   "outputs": [
    {
     "data": {
      "text/plain": [
       "<matplotlib.axes._subplots.AxesSubplot at 0x7f9dd7bdf310>"
      ]
     },
     "execution_count": 227,
     "metadata": {},
     "output_type": "execute_result"
    },
    {
     "data": {
      "image/png": "[encoded data removed]",
      "text/plain": [
       "<matplotlib.figure.Figure at 0x7f9dd8081f10>"
      ]
     },
     "metadata": {},
     "output_type": "display_data"
    }
   ],
   "source": [
    "df_logprices.hist(bins=100)"
   ]
  },
  {
   "cell_type": "code",
   "execution_count": 179,
   "metadata": {
    "collapsed": false
   },
   "outputs": [
    {
     "name": "stdout",
     "output_type": "stream",
     "text": [
      "(46, 1766)\n"
     ]
    }
   ],
   "source": [
    "df_subs_quants = create_df_subs_quants(df_subs[mask], df[mask][types[index]])\n",
    "print df_subs_quants.shape"
   ]
  },
  {
   "cell_type": "markdown",
   "metadata": {},
   "source": [
    "#### Add packages"
   ]
  },
  {
   "cell_type": "code",
   "execution_count": 180,
   "metadata": {
    "collapsed": false
   },
   "outputs": [
    {
     "name": "stdout",
     "output_type": "stream",
     "text": [
      "(46, 1776)\n"
     ]
    }
   ],
   "source": [
    "df_subs_quants_packs = pd.concat([df_subs_quants, df[mask][packages]], axis=1)\n",
    "print df_subs_quants_packs.shape"
   ]
  },
  {
   "cell_type": "markdown",
   "metadata": {},
   "source": [
    "#### Add other features "
   ]
  },
  {
   "cell_type": "code",
   "execution_count": 181,
   "metadata": {
    "collapsed": false
   },
   "outputs": [
    {
     "name": "stdout",
     "output_type": "stream",
     "text": [
      "(46, 1786)\n"
     ]
    }
   ],
   "source": [
    "cols_to_drop = list(types); cols_to_drop.extend(packages); cols_to_drop.extend(TARGET_COLUMNS)\n",
    "cols_to_drop.extend([u'libelle_ampoule', u'libelle_capsule', u'libelle_comprime', u'libelle_film', u'libelle_flacon', u'libelle_gelule', u'libelle_pilulier', u'libelle_plaquette', u'libelle_poche', u'libelle_sachet', u'libelle_seringue', u'libelle_stylo', u'libelle_tube'])\n",
    "other_features = df.drop(cols_to_drop, axis=1)\n",
    "df_subs_quants_others = pd.concat([df_subs_quants_packs, other_features[mask]], axis=1)\n",
    "print df_subs_quants_others.shape"
   ]
  },
  {
   "cell_type": "markdown",
   "metadata": {},
   "source": [
    "#### Add voie admin"
   ]
  },
  {
   "cell_type": "code",
   "execution_count": 182,
   "metadata": {
    "collapsed": false
   },
   "outputs": [
    {
     "name": "stdout",
     "output_type": "stream",
     "text": [
      "(46, 1821)\n"
     ]
    }
   ],
   "source": [
    "df_subs_quants_packs_va = pd.concat([df_subs_quants_packs, PROCESSED_TRAIN_VOIE_ADMIN[mask]], axis=1)\n",
    "print df_subs_quants_packs_va.shape"
   ]
  },
  {
   "cell_type": "markdown",
   "metadata": {},
   "source": [
    "#### Remove all zero columns"
   ]
  },
  {
   "cell_type": "code",
   "execution_count": 183,
   "metadata": {
    "collapsed": false
   },
   "outputs": [
    {
     "name": "stdout",
     "output_type": "stream",
     "text": [
      "df_subs_quants ->  (46, 22)\n",
      "df_subs_quants_packs ->  (46, 25)\n",
      "df_subs_quants_others ->  (46, 34)\n",
      "df_subs_quants_packs_va ->  (46, 27)\n"
     ]
    }
   ],
   "source": [
    "df_subs_quants = drop_const_cols(df_subs_quants)\n",
    "df_subs_quants_packs = drop_const_cols(df_subs_quants_packs)\n",
    "df_subs_quants_others = drop_const_cols(df_subs_quants_others)\n",
    "df_subs_quants_packs_va = drop_const_cols(df_subs_quants_packs_va)\n",
    "\n",
    "print \"df_subs_quants -> \", df_subs_quants.shape\n",
    "print \"df_subs_quants_packs -> \", df_subs_quants_packs.shape\n",
    "print \"df_subs_quants_others -> \", df_subs_quants_others.shape\n",
    "print \"df_subs_quants_packs_va -> \", df_subs_quants_packs_va.shape\n",
    "# print \"- Remove constant columns : \", df_subs_quants_others.shape, '->', res.shape\n",
    "# print \"- Dropped const columns : \", \n",
    "# if len(df_subs_quants_others.columns) > len(res.columns):\n",
    "#     print df_subs_quants_others.columns.difference(res.columns).values\n",
    "# print \"\"\n",
    "# df_subs_quants_others = res\n",
    "# del res"
   ]
  },
  {
   "cell_type": "code",
   "execution_count": 184,
   "metadata": {
    "collapsed": true
   },
   "outputs": [
    {
     "data": {
      "text/html": [
       "<div>\n",
       "<table border=\"1\" class=\"dataframe\">\n",
       "  <thead>\n",
       "    <tr style=\"text-align: right;\">\n",
       "      <th></th>\n",
       "      <th>ACETATEALPHA-TOCOPHEROL</th>\n",
       "      <th>ALFACALCIDOL</th>\n",
       "      <th>ALITRETINOINE</th>\n",
       "      <th>ALLOPURINOL</th>\n",
       "      <th>AMANTADINE CHLORHYDRATE</th>\n",
       "      <th>BASE FENTICONAZOLE</th>\n",
       "      <th>BASE VINORELBINE</th>\n",
       "      <th>BEXAROTENE</th>\n",
       "      <th>BROMHYDRATE DEXTROMETHORPHANE</th>\n",
       "      <th>CICLOSPORINE</th>\n",
       "      <th>DITARTRATE VINORELBINE</th>\n",
       "      <th>DUTASTERIDE</th>\n",
       "      <th>ECORCE EXTRAIT MOU PRUNIERAFRIQUE</th>\n",
       "      <th>ETOPOSIDE</th>\n",
       "      <th>EXTRAIT PRUNIERAFRIQUE</th>\n",
       "      <th>FENTICONAZOLE NITRATE</th>\n",
       "      <th>ISOTRETINOINE</th>\n",
       "      <th>MICONAZOLE NITRATE</th>\n",
       "      <th>NIFEDIPINE</th>\n",
       "      <th>PROGESTERONE</th>\n",
       "      <th>PROMESTRIENE</th>\n",
       "      <th>TIPRANAVIR</th>\n",
       "      <th>nb_film</th>\n",
       "      <th>nb_flacon</th>\n",
       "      <th>nb_plaquette</th>\n",
       "      <th>orale</th>\n",
       "      <th>vaginale</th>\n",
       "    </tr>\n",
       "  </thead>\n",
       "  <tbody>\n",
       "    <tr>\n",
       "      <th>6</th>\n",
       "      <td>0</td>\n",
       "      <td>0</td>\n",
       "      <td>0</td>\n",
       "      <td>0</td>\n",
       "      <td>0</td>\n",
       "      <td>0</td>\n",
       "      <td>0</td>\n",
       "      <td>100</td>\n",
       "      <td>0</td>\n",
       "      <td>0</td>\n",
       "      <td>0</td>\n",
       "      <td>0</td>\n",
       "      <td>0</td>\n",
       "      <td>0</td>\n",
       "      <td>0</td>\n",
       "      <td>0</td>\n",
       "      <td>0</td>\n",
       "      <td>0</td>\n",
       "      <td>0</td>\n",
       "      <td>0</td>\n",
       "      <td>0</td>\n",
       "      <td>0</td>\n",
       "      <td>0</td>\n",
       "      <td>0</td>\n",
       "      <td>0</td>\n",
       "      <td>1</td>\n",
       "      <td>0</td>\n",
       "    </tr>\n",
       "    <tr>\n",
       "      <th>29</th>\n",
       "      <td>0</td>\n",
       "      <td>0</td>\n",
       "      <td>0</td>\n",
       "      <td>0</td>\n",
       "      <td>0</td>\n",
       "      <td>0</td>\n",
       "      <td>0</td>\n",
       "      <td>0</td>\n",
       "      <td>0</td>\n",
       "      <td>0</td>\n",
       "      <td>0</td>\n",
       "      <td>0</td>\n",
       "      <td>0</td>\n",
       "      <td>0</td>\n",
       "      <td>0</td>\n",
       "      <td>0</td>\n",
       "      <td>0</td>\n",
       "      <td>0</td>\n",
       "      <td>0</td>\n",
       "      <td>90</td>\n",
       "      <td>0</td>\n",
       "      <td>0</td>\n",
       "      <td>0</td>\n",
       "      <td>0</td>\n",
       "      <td>0</td>\n",
       "      <td>1</td>\n",
       "      <td>1</td>\n",
       "    </tr>\n",
       "    <tr>\n",
       "      <th>288</th>\n",
       "      <td>0</td>\n",
       "      <td>0</td>\n",
       "      <td>0</td>\n",
       "      <td>0</td>\n",
       "      <td>0</td>\n",
       "      <td>0</td>\n",
       "      <td>0</td>\n",
       "      <td>0</td>\n",
       "      <td>0</td>\n",
       "      <td>50</td>\n",
       "      <td>0</td>\n",
       "      <td>0</td>\n",
       "      <td>0</td>\n",
       "      <td>0</td>\n",
       "      <td>0</td>\n",
       "      <td>0</td>\n",
       "      <td>0</td>\n",
       "      <td>0</td>\n",
       "      <td>0</td>\n",
       "      <td>0</td>\n",
       "      <td>0</td>\n",
       "      <td>0</td>\n",
       "      <td>0</td>\n",
       "      <td>0</td>\n",
       "      <td>0</td>\n",
       "      <td>1</td>\n",
       "      <td>0</td>\n",
       "    </tr>\n",
       "    <tr>\n",
       "      <th>699</th>\n",
       "      <td>0</td>\n",
       "      <td>0</td>\n",
       "      <td>0</td>\n",
       "      <td>0</td>\n",
       "      <td>0</td>\n",
       "      <td>0</td>\n",
       "      <td>1</td>\n",
       "      <td>0</td>\n",
       "      <td>0</td>\n",
       "      <td>0</td>\n",
       "      <td>1</td>\n",
       "      <td>0</td>\n",
       "      <td>0</td>\n",
       "      <td>0</td>\n",
       "      <td>0</td>\n",
       "      <td>0</td>\n",
       "      <td>0</td>\n",
       "      <td>0</td>\n",
       "      <td>0</td>\n",
       "      <td>0</td>\n",
       "      <td>0</td>\n",
       "      <td>0</td>\n",
       "      <td>0</td>\n",
       "      <td>0</td>\n",
       "      <td>0</td>\n",
       "      <td>1</td>\n",
       "      <td>0</td>\n",
       "    </tr>\n",
       "    <tr>\n",
       "      <th>717</th>\n",
       "      <td>0</td>\n",
       "      <td>0</td>\n",
       "      <td>0</td>\n",
       "      <td>0</td>\n",
       "      <td>0</td>\n",
       "      <td>0</td>\n",
       "      <td>0</td>\n",
       "      <td>0</td>\n",
       "      <td>0</td>\n",
       "      <td>0</td>\n",
       "      <td>0</td>\n",
       "      <td>0</td>\n",
       "      <td>0</td>\n",
       "      <td>0</td>\n",
       "      <td>0</td>\n",
       "      <td>0</td>\n",
       "      <td>0</td>\n",
       "      <td>0</td>\n",
       "      <td>0</td>\n",
       "      <td>15</td>\n",
       "      <td>0</td>\n",
       "      <td>0</td>\n",
       "      <td>0</td>\n",
       "      <td>0</td>\n",
       "      <td>0</td>\n",
       "      <td>1</td>\n",
       "      <td>1</td>\n",
       "    </tr>\n",
       "  </tbody>\n",
       "</table>\n",
       "</div>"
      ],
      "text/plain": [
       "     ACETATEALPHA-TOCOPHEROL  ALFACALCIDOL  ALITRETINOINE  ALLOPURINOL  AMANTADINE CHLORHYDRATE  BASE FENTICONAZOLE  BASE VINORELBINE  BEXAROTENE  BROMHYDRATE DEXTROMETHORPHANE  CICLOSPORINE  DITARTRATE VINORELBINE  DUTASTERIDE  ECORCE EXTRAIT MOU PRUNIERAFRIQUE  ETOPOSIDE  EXTRAIT PRUNIERAFRIQUE  FENTICONAZOLE NITRATE  ISOTRETINOINE  MICONAZOLE NITRATE  NIFEDIPINE  PROGESTERONE  PROMESTRIENE  TIPRANAVIR  nb_film  nb_flacon  nb_plaquette  orale  vaginale\n",
       "6                          0             0              0            0                        0                   0                 0         100                              0             0                       0            0                                  0          0                       0                      0              0                   0           0             0             0           0        0          0             0      1         0\n",
       "29                         0             0              0            0                        0                   0                 0           0                              0             0                       0            0                                  0          0                       0                      0              0                   0           0            90             0           0        0          0             0      1         1\n",
       "288                        0             0              0            0                        0                   0                 0           0                              0            50                       0            0                                  0          0                       0                      0              0                   0           0             0             0           0        0          0             0      1         0\n",
       "699                        0             0              0            0                        0                   0                 1           0                              0             0                       1            0                                  0          0                       0                      0              0                   0           0             0             0           0        0          0             0      1         0\n",
       "717                        0             0              0            0                        0                   0                 0           0                              0             0                       0            0                                  0          0                       0                      0              0                   0           0            15             0           0        0          0             0      1         1"
      ]
     },
     "execution_count": 184,
     "metadata": {},
     "output_type": "execute_result"
    }
   ],
   "source": [
    "df_subs_quants_packs_va.head()"
   ]
  },
  {
   "cell_type": "markdown",
   "metadata": {},
   "source": [
    "#### Split and learn"
   ]
  },
  {
   "cell_type": "code",
   "execution_count": 228,
   "metadata": {
    "collapsed": false
   },
   "outputs": [],
   "source": [
    "y = df_prices\n",
    "X = StandardScaler().fit_transform(df_subs_quants)\n",
    "XX = StandardScaler().fit_transform(df_subs_quants_packs_va)\n",
    "\n",
    "X_train, X_test, XX_train, XX_test, y_train, y_test = train_test_split(X, XX, y, train_size=0.75)"
   ]
  },
  {
   "cell_type": "code",
   "execution_count": 229,
   "metadata": {
    "collapsed": false
   },
   "outputs": [],
   "source": [
    "rf = RandomForestRegressor(n_estimators = 35, n_jobs = -1, verbose = 0)"
   ]
  },
  {
   "cell_type": "code",
   "execution_count": 230,
   "metadata": {
    "collapsed": false
   },
   "outputs": [
    {
     "name": "stdout",
     "output_type": "stream",
     "text": [
      "0.819829250777\n",
      "16.3748498057\n",
      "33.7287309519\n",
      "0.845878440907\n",
      "19.2525748606\n",
      "33.4426142057\n",
      "[ 3.29994927  1.01085539  2.62384675  1.58736985  1.74086103  1.74086103\n",
      "  1.58736985  1.29318921  2.74744736  1.97438366]\n",
      "[ 3.27959211  1.10284631  2.60675291  1.63291412  1.77456835  1.77456835\n",
      "  1.63291412  1.37025529  2.61483862  2.07141446]\n",
      "[ 4.09999523  1.141033    2.50797192  2.45616418  1.37876609  1.37876609\n",
      "  0.63657683  1.13140211  2.48490665  2.62900699]\n"
     ]
    }
   ],
   "source": [
    "rf.fit(X_train, y_train)\n",
    "score = rf.score(X_train, y_train)\n",
    "print score\n",
    "res0 = rf.predict(X_train)\n",
    "res1 = rf.predict(X_test)\n",
    "print mape_error(y_train, res0)\n",
    "print mape_error(y_test, res1)\n",
    "\n",
    "rf.fit(XX_train, y_train)\n",
    "score = rf.score(XX_train, y_train)\n",
    "print score\n",
    "res01 = rf.predict(XX_train)\n",
    "res11 = rf.predict(XX_test)\n",
    "print mape_error(y_train, res01)\n",
    "print mape_error(y_test, res11)\n",
    "\n",
    "\n",
    "print res1[:10]\n",
    "print res11[:10]\n",
    "print y_test.values[:10]"
   ]
  },
  {
   "cell_type": "code",
   "execution_count": 231,
   "metadata": {
    "collapsed": true
   },
   "outputs": [],
   "source": [
    "X0 = df_subs_quants_packs_va\n",
    "y = df_prices\n",
    "\n",
    "X = StandardScaler().fit_transform(X0)\n",
    "X_train, X_test, y_train, y_test = train_test_split(X, y, train_size=0.75)"
   ]
  },
  {
   "cell_type": "code",
   "execution_count": 232,
   "metadata": {
    "collapsed": false
   },
   "outputs": [],
   "source": [
    "rf = RandomForestRegressor(n_estimators = 35, n_jobs = -1, verbose = 0)"
   ]
  },
  {
   "cell_type": "code",
   "execution_count": 233,
   "metadata": {
    "collapsed": false
   },
   "outputs": [
    {
     "name": "stdout",
     "output_type": "stream",
     "text": [
      "0.859556897946\n",
      "15.5041447943\n",
      "73.5645795048\n",
      "[ 2.26963894  2.4697682   1.61988123  1.42617499  2.26963894  1.44128584\n",
      "  3.75083625  2.26963894  2.26963894  2.26963894]\n",
      "[ 0.63657683  1.65441128  1.49514877  1.85785927  6.77745295  1.19088756\n",
      "  1.48839958  0.67294447  2.30058309  4.49880917]\n"
     ]
    }
   ],
   "source": [
    "rf.fit(X_train, y_train)\n",
    "score = rf.score(X_train, y_train)\n",
    "print score\n",
    "res0 = rf.predict(X_train)\n",
    "res1 = rf.predict(X_test)\n",
    "print mape_error(y_train, res0)\n",
    "print mape_error(y_test, res1)\n",
    "print res1[:10]\n",
    "print y_test.values[:10]"
   ]
  },
  {
   "cell_type": "code",
   "execution_count": 234,
   "metadata": {
    "collapsed": false
   },
   "outputs": [
    {
     "name": "stdout",
     "output_type": "stream",
     "text": [
      "0.862491649107\n",
      "11.1665434226\n",
      "39.021910521\n"
     ]
    }
   ],
   "source": [
    "svr = SVR(kernel='linear', C=3)\n",
    "svr.fit(X_train, y_train)\n",
    "score = svr.score(X_train, y_train)\n",
    "print score\n",
    "res0 = svr.predict(X_train)\n",
    "res1 = svr.predict(X_test)\n",
    "print mape_error(y_train, res0)\n",
    "print mape_error(y_test, res1)"
   ]
  },
  {
   "cell_type": "code",
   "execution_count": 235,
   "metadata": {
    "collapsed": false
   },
   "outputs": [
    {
     "name": "stdout",
     "output_type": "stream",
     "text": [
      "0.96081958326\n",
      "8.37145616334\n",
      "81.8995525367\n"
     ]
    }
   ],
   "source": [
    "gbr = GradientBoostingRegressor(verbose = 0, max_features='auto')\n",
    "gbr.fit(X_train, y_train)\n",
    "score = gbr.score(X_train, y_train)\n",
    "print score\n",
    "res0 = gbr.predict(X_train)\n",
    "res1 = gbr.predict(X_test)\n",
    "print mape_error(y_train, res0)\n",
    "print mape_error(y_test, res1)"
   ]
  },
  {
   "cell_type": "markdown",
   "metadata": {},
   "source": [
    "#### Cross validation scoring"
   ]
  },
  {
   "cell_type": "code",
   "execution_count": 236,
   "metadata": {
    "collapsed": true
   },
   "outputs": [],
   "source": [
    "def run_cv(data, targets, clf, cv=10):\n",
    "    X0 = data\n",
    "    y = targets\n",
    "    X = StandardScaler().fit_transform(X0)\n",
    "    scores = cross_val_score(clf, X, y, cv=cv, scoring=make_scorer(mape_error))\n",
    "    print scores      \n",
    "    print scores.mean(), scores.std()"
   ]
  },
  {
   "cell_type": "code",
   "execution_count": 237,
   "metadata": {
    "collapsed": false
   },
   "outputs": [
    {
     "name": "stdout",
     "output_type": "stream",
     "text": [
      "[ 39.82465017  13.11174454  18.90098926  24.37635216  44.97610147\n",
      "  76.74849456  15.38849408  57.03872576  23.13151125  55.56126664]\n",
      "36.9058329892 20.2842148705\n",
      "[ 36.11181726  16.41113533  35.60551417  32.27530896  42.4417552\n",
      "  80.80293873  13.83362811  61.09583741  20.28651813  56.48611169]\n",
      "39.5350565004 20.2715113688\n",
      "[ 18.02193633  31.62821602  66.17845064  23.16007214  23.42318235\n",
      "  62.42597303  13.51824175  65.17054121  42.58254462  63.94369086]\n",
      "41.0052848953 20.5047194688\n",
      "[ 40.11986204  16.79685674  33.16202432  23.37015754  43.19059805\n",
      "  74.6289364   15.99508379  63.04579047  19.89860476  74.14761363]\n",
      "40.4355527727 21.7867527494\n"
     ]
    }
   ],
   "source": [
    "run_cv(df_subs_quants, df_prices, rf)\n",
    "run_cv(df_subs_quants_packs, df_prices, rf)\n",
    "run_cv(df_subs_quants_others, df_prices, rf)\n",
    "run_cv(df_subs_quants_packs_va, df_prices, rf)"
   ]
  },
  {
   "cell_type": "code",
   "execution_count": 114,
   "metadata": {
    "collapsed": false
   },
   "outputs": [
    {
     "name": "stdout",
     "output_type": "stream",
     "text": [
      "[ 40.31172445  26.20863574  17.44950576  39.32853395  43.75747788\n",
      "  65.00670025  23.5785269   44.45078557  20.70684904  60.22317809]\n",
      "38.1021917651 15.4058053031\n",
      "[ 41.26666762  23.76788611  30.8080135   39.33532982  44.77836295\n",
      "  65.00623599  20.40450997  44.45204049  16.57446131  60.23004168]\n",
      "38.6623549429 15.3038765088\n",
      "[ 19.58778835  29.62359858  31.70621632  49.2868564   20.64653203\n",
      "  60.92017443  25.75331389  48.23583442  48.44239325  58.65277129]\n",
      "39.2855478961 14.752842293\n",
      "[ 45.94031642  21.8653949   25.33490746  33.84845059  45.81990098\n",
      "  56.07133287  19.56743934  37.4528097   16.44230933  87.73520639]\n",
      "39.0078067998 20.3886358237\n"
     ]
    }
   ],
   "source": [
    "run_cv(df_subs_quants, df_prices, svr)\n",
    "run_cv(df_subs_quants_packs, df_prices, svr)\n",
    "run_cv(df_subs_quants_others, df_prices, svr)\n",
    "run_cv(df_subs_quants_packs_va, df_prices, svr)"
   ]
  },
  {
   "cell_type": "code",
   "execution_count": 115,
   "metadata": {
    "collapsed": false
   },
   "outputs": [
    {
     "name": "stdout",
     "output_type": "stream",
     "text": [
      "[ 35.28044582  20.36041236  37.03209974  45.40510218  43.87191871\n",
      "  95.04584153  15.69540141  78.14119427  27.81635906  78.31620278]\n",
      "47.696497786 25.6139093335\n",
      "[ 35.49855605  19.28414731  66.56750642  45.41915145  44.89685035\n",
      "  94.96380945  14.3228962   80.28056092  28.3243635   81.45403404]\n",
      "51.1011875697 26.7092487022\n",
      "[ 16.23262087  33.25311359  64.58197125  38.38987606  35.52447295\n",
      "  77.50326534  19.13421982  73.35825393  41.30946841  58.72493934]\n",
      "45.8012201566 20.5128014822\n",
      "[  31.90374038   18.24627488   48.97910187   31.55694861   35.7815043\n",
      "  106.06882197   15.53573496   85.49026693   23.10435506   86.75574656]\n",
      "48.3422495547 30.8497396008\n"
     ]
    }
   ],
   "source": [
    "run_cv(df_subs_quants, df_prices, gbr)\n",
    "run_cv(df_subs_quants_packs, df_prices, gbr)\n",
    "run_cv(df_subs_quants_others, df_prices, gbr)\n",
    "run_cv(df_subs_quants_packs_va, df_prices, gbr)"
   ]
  },
  {
   "cell_type": "markdown",
   "metadata": {},
   "source": [
    "### Learn by type : 'gelule'"
   ]
  },
  {
   "cell_type": "code",
   "execution_count": 116,
   "metadata": {
    "collapsed": false
   },
   "outputs": [
    {
     "name": "stdout",
     "output_type": "stream",
     "text": [
      "Select type only :  nb_gelule\n",
      "Found lines (med has the type):  914\n",
      "Found lines (med has the type only) :  914\n"
     ]
    }
   ],
   "source": [
    "index = 2\n",
    "print \"Select type only : \", types[index]\n",
    "mask = df[types[index]] > 0\n",
    "print \"Found lines (med has the type): \", len(df[mask])\n",
    "indices = range(len(types))\n",
    "indices.remove(index)\n",
    "for i in indices:\n",
    "    mask &= df[types[i]] < 1\n",
    "    \n",
    "print \"Found lines (med has the type only) : \", len(df[mask])\n",
    "df_logprices = df[mask]['logprix']"
   ]
  },
  {
   "cell_type": "code",
   "execution_count": 117,
   "metadata": {
    "collapsed": false
   },
   "outputs": [
    {
     "name": "stdout",
     "output_type": "stream",
     "text": [
      "(914, 1766)\n"
     ]
    }
   ],
   "source": [
    "df_subs_quants = create_df_subs_quants(df_subs[mask], df[mask][types[index]])\n",
    "print df_subs_quants.shape"
   ]
  },
  {
   "cell_type": "markdown",
   "metadata": {},
   "source": [
    "#### Add packages"
   ]
  },
  {
   "cell_type": "code",
   "execution_count": 118,
   "metadata": {
    "collapsed": false
   },
   "outputs": [
    {
     "name": "stdout",
     "output_type": "stream",
     "text": [
      "(914, 1776)\n"
     ]
    }
   ],
   "source": [
    "df_subs_quants_packs = pd.concat([df_subs_quants, df[mask][packages]], axis=1)\n",
    "print df_subs_quants_packs.shape"
   ]
  },
  {
   "cell_type": "markdown",
   "metadata": {},
   "source": [
    "#### Add other features "
   ]
  },
  {
   "cell_type": "code",
   "execution_count": 119,
   "metadata": {
    "collapsed": false
   },
   "outputs": [
    {
     "name": "stdout",
     "output_type": "stream",
     "text": [
      "(914, 1786)\n"
     ]
    }
   ],
   "source": [
    "cols_to_drop = list(types); cols_to_drop.extend(packages); cols_to_drop.extend(TARGET_COLUMNS)\n",
    "cols_to_drop.extend([u'libelle_ampoule', u'libelle_capsule', u'libelle_comprime', u'libelle_film', u'libelle_flacon', u'libelle_gelule', u'libelle_pilulier', u'libelle_plaquette', u'libelle_poche', u'libelle_sachet', u'libelle_seringue', u'libelle_stylo', u'libelle_tube'])\n",
    "other_features = df.drop(cols_to_drop, axis=1)\n",
    "df_subs_quants_others = pd.concat([df_subs_quants_packs, other_features[mask]], axis=1)\n",
    "print df_subs_quants_others.shape"
   ]
  },
  {
   "cell_type": "markdown",
   "metadata": {},
   "source": [
    "#### Add voie admin"
   ]
  },
  {
   "cell_type": "code",
   "execution_count": 120,
   "metadata": {
    "collapsed": false
   },
   "outputs": [
    {
     "name": "stdout",
     "output_type": "stream",
     "text": [
      "(914, 1821)\n"
     ]
    }
   ],
   "source": [
    "df_subs_quants_packs_va = pd.concat([df_subs_quants_packs, PROCESSED_TRAIN_VOIE_ADMIN[mask]], axis=1)\n",
    "print df_subs_quants_packs_va.shape"
   ]
  },
  {
   "cell_type": "markdown",
   "metadata": {},
   "source": [
    "#### Remove all zero columns"
   ]
  },
  {
   "cell_type": "code",
   "execution_count": 121,
   "metadata": {
    "collapsed": false
   },
   "outputs": [
    {
     "name": "stdout",
     "output_type": "stream",
     "text": [
      "df_subs_quants ->  (914, 210)\n",
      "df_subs_quants_packs ->  (914, 212)\n",
      "df_subs_quants_others ->  (914, 221)\n",
      "df_subs_quants_packs_va ->  (914, 215)\n"
     ]
    }
   ],
   "source": [
    "df_subs_quants = drop_const_cols(df_subs_quants)\n",
    "df_subs_quants_packs = drop_const_cols(df_subs_quants_packs)\n",
    "df_subs_quants_others = drop_const_cols(df_subs_quants_others)\n",
    "df_subs_quants_packs_va = drop_const_cols(df_subs_quants_packs_va)\n",
    "\n",
    "print \"df_subs_quants -> \", df_subs_quants.shape\n",
    "print \"df_subs_quants_packs -> \", df_subs_quants_packs.shape\n",
    "print \"df_subs_quants_others -> \", df_subs_quants_others.shape\n",
    "print \"df_subs_quants_packs_va -> \", df_subs_quants_packs_va.shape"
   ]
  },
  {
   "cell_type": "markdown",
   "metadata": {},
   "source": [
    "#### Split and learn"
   ]
  },
  {
   "cell_type": "code",
   "execution_count": 122,
   "metadata": {
    "collapsed": true
   },
   "outputs": [],
   "source": [
    "X0 = df_subs_quants_packs_va\n",
    "ylog = df_logprices\n",
    "\n",
    "X = StandardScaler().fit_transform(X0)\n",
    "X_train, X_test, ylog_train, ylog_test = train_test_split(X, ylog, train_size=0.80)"
   ]
  },
  {
   "cell_type": "code",
   "execution_count": 123,
   "metadata": {
    "collapsed": false
   },
   "outputs": [],
   "source": [
    "rf = RandomForestRegressor(n_estimators = 50, n_jobs = -1, verbose = 0)"
   ]
  },
  {
   "cell_type": "code",
   "execution_count": 124,
   "metadata": {
    "collapsed": false
   },
   "outputs": [
    {
     "name": "stdout",
     "output_type": "stream",
     "text": [
      "0.922428741666\n",
      "11.7324433667\n",
      "18.5461738183\n"
     ]
    }
   ],
   "source": [
    "rf.fit(X_train, ylog_train)\n",
    "score = rf.score(X_train, ylog_train)\n",
    "print score\n",
    "res0 = rf.predict(X_train)\n",
    "res1 = rf.predict(X_test)\n",
    "print mape_error(ylog_train, res0)\n",
    "print mape_error(ylog_test, res1)"
   ]
  },
  {
   "cell_type": "code",
   "execution_count": 125,
   "metadata": {
    "collapsed": false
   },
   "outputs": [
    {
     "name": "stdout",
     "output_type": "stream",
     "text": [
      "0.853113564165\n",
      "20.7037138728\n",
      "30.0092200241\n"
     ]
    }
   ],
   "source": [
    "svr = SVR(kernel='linear', C=1)\n",
    "svr.fit(X_train, ylog_train)\n",
    "score = svr.score(X_train, ylog_train)\n",
    "print score\n",
    "res0 = svr.predict(X_train)\n",
    "res1 = svr.predict(X_test)\n",
    "print mape_error(ylog_train, res0)\n",
    "print mape_error(ylog_test, res1)"
   ]
  },
  {
   "cell_type": "code",
   "execution_count": 126,
   "metadata": {
    "collapsed": false
   },
   "outputs": [
    {
     "name": "stdout",
     "output_type": "stream",
     "text": [
      "0.685590558069\n",
      "52.8766298965\n",
      "52.9485326249\n"
     ]
    }
   ],
   "source": [
    "gbr = GradientBoostingRegressor(verbose = 0, max_features='auto')\n",
    "gbr.fit(X_train, ylog_train)\n",
    "score = gbr.score(X_train, ylog_train)\n",
    "print score\n",
    "res0 = gbr.predict(X_train)\n",
    "res1 = gbr.predict(X_test)\n",
    "print mape_error(ylog_train, res0)\n",
    "print mape_error(ylog_test, res1)"
   ]
  },
  {
   "cell_type": "markdown",
   "metadata": {},
   "source": [
    "#### Cross validation scoring"
   ]
  },
  {
   "cell_type": "code",
   "execution_count": 127,
   "metadata": {
    "collapsed": true
   },
   "outputs": [],
   "source": [
    "def run_cv(data, targets, clf, cv=10):\n",
    "    X0 = data\n",
    "    ylog = targets\n",
    "    X = StandardScaler().fit_transform(X0)\n",
    "    scores = cross_val_score(clf, X, ylog, cv=cv, scoring=make_scorer(mape_error))\n",
    "    print scores      \n",
    "    print scores.mean(), scores.std()"
   ]
  },
  {
   "cell_type": "code",
   "execution_count": 128,
   "metadata": {
    "collapsed": false
   },
   "outputs": [
    {
     "name": "stdout",
     "output_type": "stream",
     "text": [
      "[ 15.44636899  18.63570784  19.35175257  19.52729308  20.54511488\n",
      "  19.44044115  39.56302148  17.20205912  14.59063412  16.351957  ]\n",
      "20.0654350242 6.75956879786\n",
      "[ 21.4300088   18.74574086  19.29713301  19.08611346  19.67639429\n",
      "  19.85322305  39.95960394  17.49422374  13.52401345  17.15329128]\n",
      "20.6219745865 6.75212483817\n",
      "[ 17.00210591  16.09570622  22.60127515  20.95559206  20.12379177\n",
      "  20.8816152   43.56505833  20.66572466  17.10505515  17.62789622]\n",
      "21.6623820666 7.58175996181\n",
      "[ 21.73616167  18.24239292  19.04203987  18.55831709  19.87086981\n",
      "  19.13508888  40.40624522  18.21816052  13.26793042  17.07900293]\n",
      "20.5556209334 6.92979045402\n"
     ]
    }
   ],
   "source": [
    "run_cv(df_subs_quants, ylog, rf)\n",
    "run_cv(df_subs_quants_packs, ylog, rf)\n",
    "run_cv(df_subs_quants_others, ylog, rf)\n",
    "run_cv(df_subs_quants_packs_va, ylog, rf)"
   ]
  },
  {
   "cell_type": "code",
   "execution_count": 129,
   "metadata": {
    "collapsed": false,
    "scrolled": true
   },
   "outputs": [
    {
     "name": "stdout",
     "output_type": "stream",
     "text": [
      "[ 28.64346838  27.7085012   28.41081883  31.5556663   25.66205787\n",
      "  29.05280042  44.01797872  24.95934422  31.81949553  27.36131098]\n",
      "29.9191442445 5.1368421559\n",
      "[ 28.85210342  27.178233    27.93869947  32.11744714  26.71187001\n",
      "  27.96184892  43.17785544  25.56534056  31.15438433  27.34548902]\n",
      "29.8003271308 4.84025674993\n",
      "[ 25.09907603  28.41641543  26.57142711  30.68089314  25.88680316\n",
      "  27.25083559  37.89695407  24.02825541  25.42270978  26.65932334]\n",
      "27.791269307 3.80226547054\n",
      "[ 28.85460276  27.23887357  27.90092124  32.12547614  26.78047683\n",
      "  28.06189457  44.55234032  25.43965838  31.39143502  27.43230279]\n",
      "29.9777981621 5.2256355818\n"
     ]
    }
   ],
   "source": [
    "run_cv(df_subs_quants, ylog, svr)\n",
    "run_cv(df_subs_quants_packs, ylog, svr)\n",
    "run_cv(df_subs_quants_others, ylog, svr)\n",
    "run_cv(df_subs_quants_packs_va, ylog, svr)"
   ]
  },
  {
   "cell_type": "code",
   "execution_count": 130,
   "metadata": {
    "collapsed": false,
    "scrolled": true
   },
   "outputs": [
    {
     "name": "stdout",
     "output_type": "stream",
     "text": [
      "[ 43.70920401  67.89937465  50.73806564  47.52554874  64.59929876\n",
      "  53.73597136  92.09906051  48.41747377  72.54632581  52.16609344]\n",
      "59.3436416693 14.1723464545\n",
      "[ 44.5155889   63.95881162  48.94713807  46.08994632  62.23619347\n",
      "  52.77364673  90.72240523  48.71886536  72.3552735   50.24484585]\n",
      "58.0562715036 13.8183952121\n",
      "[ 37.42296896  53.72090366  42.00857675  40.96162901  51.01971289\n",
      "  44.74302117  78.55074065  41.82970633  59.58617133  41.76006787]\n",
      "49.1603498617 11.7511573861\n",
      "[ 44.5155889   63.9657285   48.83882515  46.08994632  62.23619347\n",
      "  52.77364673  90.68467266  48.71886536  72.3552735   50.24460239]\n",
      "58.0423342977 13.8169652996\n"
     ]
    }
   ],
   "source": [
    "run_cv(df_subs_quants, ylog, gbr)\n",
    "run_cv(df_subs_quants_packs, ylog, gbr)\n",
    "run_cv(df_subs_quants_others, ylog, gbr)\n",
    "run_cv(df_subs_quants_packs_va, ylog, gbr)"
   ]
  },
  {
   "cell_type": "markdown",
   "metadata": {},
   "source": [
    "### Learn by type : 'ml'"
   ]
  },
  {
   "cell_type": "code",
   "execution_count": 131,
   "metadata": {
    "collapsed": false
   },
   "outputs": [
    {
     "name": "stdout",
     "output_type": "stream",
     "text": [
      "Select type only :  nb_ml\n",
      "Found lines (med has the type):  1199\n",
      "Found lines (med has the type only) :  1199\n"
     ]
    }
   ],
   "source": [
    "index = 3\n",
    "print \"Select type only : \", types[index]\n",
    "mask = df[types[index]] > 0\n",
    "print \"Found lines (med has the type): \", len(df[mask])\n",
    "indices = range(len(types))\n",
    "indices.remove(index)\n",
    "for i in indices:\n",
    "    mask &= df[types[i]] < 1\n",
    "    \n",
    "print \"Found lines (med has the type only) : \", len(df[mask])\n",
    "df_logprices = df[mask]['logprix']"
   ]
  },
  {
   "cell_type": "code",
   "execution_count": 132,
   "metadata": {
    "collapsed": false
   },
   "outputs": [
    {
     "name": "stdout",
     "output_type": "stream",
     "text": [
      "(1199, 1766)\n"
     ]
    }
   ],
   "source": [
    "df_subs_quants = create_df_subs_quants(df_subs[mask], df[mask][types[index]])\n",
    "print df_subs_quants.shape"
   ]
  },
  {
   "cell_type": "markdown",
   "metadata": {},
   "source": [
    "#### Add packages"
   ]
  },
  {
   "cell_type": "code",
   "execution_count": 133,
   "metadata": {
    "collapsed": false
   },
   "outputs": [
    {
     "name": "stdout",
     "output_type": "stream",
     "text": [
      "(1199, 1776)\n"
     ]
    }
   ],
   "source": [
    "df_subs_quants_packs = pd.concat([df_subs_quants, df[mask][packages]], axis=1)\n",
    "print df_subs_quants_packs.shape"
   ]
  },
  {
   "cell_type": "markdown",
   "metadata": {},
   "source": [
    "#### Add other features "
   ]
  },
  {
   "cell_type": "code",
   "execution_count": 134,
   "metadata": {
    "collapsed": false
   },
   "outputs": [
    {
     "name": "stdout",
     "output_type": "stream",
     "text": [
      "(1199, 1786)\n"
     ]
    }
   ],
   "source": [
    "cols_to_drop = list(types); cols_to_drop.extend(packages); cols_to_drop.extend(TARGET_COLUMNS)\n",
    "cols_to_drop.extend([u'libelle_ampoule', u'libelle_capsule', u'libelle_comprime', u'libelle_film', u'libelle_flacon', u'libelle_gelule', u'libelle_pilulier', u'libelle_plaquette', u'libelle_poche', u'libelle_sachet', u'libelle_seringue', u'libelle_stylo', u'libelle_tube'])\n",
    "other_features = df.drop(cols_to_drop, axis=1)\n",
    "df_subs_quants_others = pd.concat([df_subs_quants_packs, other_features[mask]], axis=1)\n",
    "print df_subs_quants_others.shape"
   ]
  },
  {
   "cell_type": "markdown",
   "metadata": {},
   "source": [
    "#### Add voie admin"
   ]
  },
  {
   "cell_type": "code",
   "execution_count": 135,
   "metadata": {
    "collapsed": false
   },
   "outputs": [
    {
     "name": "stdout",
     "output_type": "stream",
     "text": [
      "(1199, 1821)\n"
     ]
    }
   ],
   "source": [
    "df_subs_quants_packs_va = pd.concat([df_subs_quants_packs, PROCESSED_TRAIN_VOIE_ADMIN[mask]], axis=1)\n",
    "print df_subs_quants_packs_va.shape"
   ]
  },
  {
   "cell_type": "markdown",
   "metadata": {},
   "source": [
    "#### Remove all zero columns"
   ]
  },
  {
   "cell_type": "code",
   "execution_count": 136,
   "metadata": {
    "collapsed": false
   },
   "outputs": [
    {
     "name": "stdout",
     "output_type": "stream",
     "text": [
      "df_subs_quants ->  (1199, 673)\n",
      "df_subs_quants_packs ->  (1199, 680)\n",
      "df_subs_quants_others ->  (1199, 690)\n",
      "df_subs_quants_packs_va ->  (1199, 718)\n"
     ]
    }
   ],
   "source": [
    "df_subs_quants = drop_const_cols(df_subs_quants)\n",
    "df_subs_quants_packs = drop_const_cols(df_subs_quants_packs)\n",
    "df_subs_quants_others = drop_const_cols(df_subs_quants_others)\n",
    "df_subs_quants_packs_va = drop_const_cols(df_subs_quants_packs_va)\n",
    "\n",
    "print \"df_subs_quants -> \", df_subs_quants.shape\n",
    "print \"df_subs_quants_packs -> \", df_subs_quants_packs.shape\n",
    "print \"df_subs_quants_others -> \", df_subs_quants_others.shape\n",
    "print \"df_subs_quants_packs_va -> \", df_subs_quants_packs_va.shape"
   ]
  },
  {
   "cell_type": "markdown",
   "metadata": {},
   "source": [
    "#### Split and learn"
   ]
  },
  {
   "cell_type": "code",
   "execution_count": 137,
   "metadata": {
    "collapsed": true
   },
   "outputs": [],
   "source": [
    "X0 = df_subs_quants_packs_va\n",
    "ylog = df_logprices\n",
    "\n",
    "X = StandardScaler().fit_transform(X0)\n",
    "X_train, X_test, ylog_train, ylog_test = train_test_split(X, ylog, train_size=0.80)"
   ]
  },
  {
   "cell_type": "code",
   "execution_count": 138,
   "metadata": {
    "collapsed": false
   },
   "outputs": [],
   "source": [
    "rf = RandomForestRegressor(n_estimators = 50, n_jobs = -1, verbose = 0)"
   ]
  },
  {
   "cell_type": "code",
   "execution_count": 139,
   "metadata": {
    "collapsed": false
   },
   "outputs": [
    {
     "name": "stdout",
     "output_type": "stream",
     "text": [
      "0.942072360224\n",
      "17.3655238236\n",
      "41.7114435398\n"
     ]
    }
   ],
   "source": [
    "rf.fit(X_train, ylog_train)\n",
    "score = rf.score(X_train, ylog_train)\n",
    "print score\n",
    "res0 = rf.predict(X_train)\n",
    "res1 = rf.predict(X_test)\n",
    "print mape_error(ylog_train, res0)\n",
    "print mape_error(ylog_test, res1)"
   ]
  },
  {
   "cell_type": "code",
   "execution_count": 140,
   "metadata": {
    "collapsed": false
   },
   "outputs": [
    {
     "name": "stdout",
     "output_type": "stream",
     "text": [
      "0.908202114974\n",
      "24.2475791733\n",
      "121.286789766\n"
     ]
    }
   ],
   "source": [
    "svr = SVR(kernel='linear', C=3)\n",
    "svr.fit(X_train, ylog_train)\n",
    "score = svr.score(X_train, ylog_train)\n",
    "print score\n",
    "res0 = svr.predict(X_train)\n",
    "res1 = svr.predict(X_test)\n",
    "print mape_error(ylog_train, res0)\n",
    "print mape_error(ylog_test, res1)"
   ]
  },
  {
   "cell_type": "markdown",
   "metadata": {},
   "source": [
    "#### Cross validation scoring"
   ]
  },
  {
   "cell_type": "code",
   "execution_count": 141,
   "metadata": {
    "collapsed": true
   },
   "outputs": [],
   "source": [
    "def run_cv(data, targets, clf, cv=10):\n",
    "    X0 = data\n",
    "    ylog = targets\n",
    "    X = StandardScaler().fit_transform(X0)\n",
    "    scores = cross_val_score(clf, X, ylog, cv=cv, scoring=make_scorer(mape_error))\n",
    "    print scores      \n",
    "    print scores.mean(), scores.std()"
   ]
  },
  {
   "cell_type": "code",
   "execution_count": 142,
   "metadata": {
    "collapsed": false,
    "scrolled": true
   },
   "outputs": [
    {
     "name": "stdout",
     "output_type": "stream",
     "text": [
      "[ 94.86952046  43.22315526  67.14238655  58.72756498  41.60611318\n",
      "  31.45924302  26.75118415]\n",
      "51.968452512 21.8985717226\n",
      "[ 106.18536685   41.02230305   64.60589034   57.8050602    37.37746304\n",
      "   31.74642638   25.56723015]\n",
      "52.044248572 25.5563088495\n",
      "[ 160.60426227   43.7634811    62.66017391   64.36081015   38.98050468\n",
      "   31.61987356   32.69195534]\n",
      "62.0972944304 42.0427076716\n",
      "[ 73.84457094  40.19792843  68.06131819  56.43848595  37.96110813\n",
      "  29.39366841  24.33014159]\n",
      "47.175317378 17.748058697\n"
     ]
    }
   ],
   "source": [
    "run_cv(df_subs_quants, ylog, rf, cv=7)\n",
    "run_cv(df_subs_quants_packs, ylog, rf, cv=7)\n",
    "run_cv(df_subs_quants_others, ylog, rf, cv=7)\n",
    "run_cv(df_subs_quants_packs_va, ylog, rf, cv=7)"
   ]
  },
  {
   "cell_type": "code",
   "execution_count": 144,
   "metadata": {
    "collapsed": false
   },
   "outputs": [],
   "source": [
    "# run_cv(df_subs_quants, ylog, svr, cv=7)\n",
    "# run_cv(df_subs_quants_packs, ylog, svr, cv=7)\n",
    "# run_cv(df_subs_quants_others, ylog, svr, cv=7)\n",
    "# run_cv(df_subs_quants_packs_va, ylog, svr, cv=7)"
   ]
  },
  {
   "cell_type": "code",
   "execution_count": null,
   "metadata": {
    "collapsed": true
   },
   "outputs": [],
   "source": []
  },
  {
   "cell_type": "markdown",
   "metadata": {},
   "source": [
    "### Learn by type : 'comprime'"
   ]
  },
  {
   "cell_type": "code",
   "execution_count": 145,
   "metadata": {
    "collapsed": false
   },
   "outputs": [
    {
     "name": "stdout",
     "output_type": "stream",
     "text": [
      "Select type only :  nb_comprime\n",
      "Found lines (med has the type):  4626\n",
      "Found lines (med has the type only) :  4626\n"
     ]
    }
   ],
   "source": [
    "index = 1\n",
    "print \"Select type only : \", types[index]\n",
    "mask = df[types[index]] > 0\n",
    "print \"Found lines (med has the type): \", len(df[mask])\n",
    "indices = range(len(types))\n",
    "indices.remove(index)\n",
    "for i in indices:\n",
    "    mask &= df[types[i]] < 1\n",
    "    \n",
    "print \"Found lines (med has the type only) : \", len(df[mask])\n",
    "df_logprices = df[mask]['logprix']"
   ]
  },
  {
   "cell_type": "code",
   "execution_count": 146,
   "metadata": {
    "collapsed": false
   },
   "outputs": [
    {
     "name": "stdout",
     "output_type": "stream",
     "text": [
      "(4626, 1766)\n"
     ]
    }
   ],
   "source": [
    "df_subs_quants = create_df_subs_quants(df_subs[mask], df[mask][types[index]])\n",
    "print df_subs_quants.shape"
   ]
  },
  {
   "cell_type": "markdown",
   "metadata": {},
   "source": [
    "#### Add packages"
   ]
  },
  {
   "cell_type": "code",
   "execution_count": 147,
   "metadata": {
    "collapsed": false
   },
   "outputs": [
    {
     "name": "stdout",
     "output_type": "stream",
     "text": [
      "(4626, 1776)\n"
     ]
    }
   ],
   "source": [
    "df_subs_quants_packs = pd.concat([df_subs_quants, df[mask][packages]], axis=1)\n",
    "print df_subs_quants_packs.shape"
   ]
  },
  {
   "cell_type": "markdown",
   "metadata": {},
   "source": [
    "#### Add other features "
   ]
  },
  {
   "cell_type": "code",
   "execution_count": 148,
   "metadata": {
    "collapsed": false
   },
   "outputs": [
    {
     "name": "stdout",
     "output_type": "stream",
     "text": [
      "(4626, 1786)\n"
     ]
    }
   ],
   "source": [
    "cols_to_drop = list(types); cols_to_drop.extend(packages); cols_to_drop.extend(TARGET_COLUMNS)\n",
    "cols_to_drop.extend([u'libelle_ampoule', u'libelle_capsule', u'libelle_comprime', u'libelle_film', u'libelle_flacon', u'libelle_gelule', u'libelle_pilulier', u'libelle_plaquette', u'libelle_poche', u'libelle_sachet', u'libelle_seringue', u'libelle_stylo', u'libelle_tube'])\n",
    "other_features = df.drop(cols_to_drop, axis=1)\n",
    "df_subs_quants_others = pd.concat([df_subs_quants_packs, other_features[mask]], axis=1)\n",
    "print df_subs_quants_others.shape"
   ]
  },
  {
   "cell_type": "markdown",
   "metadata": {},
   "source": [
    "#### Add voie admin"
   ]
  },
  {
   "cell_type": "code",
   "execution_count": 149,
   "metadata": {
    "collapsed": false
   },
   "outputs": [
    {
     "name": "stdout",
     "output_type": "stream",
     "text": [
      "(4626, 1821)\n"
     ]
    }
   ],
   "source": [
    "df_subs_quants_packs_va = pd.concat([df_subs_quants_packs, PROCESSED_TRAIN_VOIE_ADMIN[mask]], axis=1)\n",
    "print df_subs_quants_packs_va.shape"
   ]
  },
  {
   "cell_type": "markdown",
   "metadata": {},
   "source": [
    "#### Remove all zero columns"
   ]
  },
  {
   "cell_type": "code",
   "execution_count": 150,
   "metadata": {
    "collapsed": false
   },
   "outputs": [
    {
     "name": "stdout",
     "output_type": "stream",
     "text": [
      "df_subs_quants ->  (4626, 761)\n",
      "df_subs_quants_packs ->  (4626, 766)\n",
      "df_subs_quants_others ->  (4626, 776)\n",
      "df_subs_quants_packs_va ->  (4626, 772)\n"
     ]
    }
   ],
   "source": [
    "df_subs_quants = drop_const_cols(df_subs_quants)\n",
    "df_subs_quants_packs = drop_const_cols(df_subs_quants_packs)\n",
    "df_subs_quants_others = drop_const_cols(df_subs_quants_others)\n",
    "df_subs_quants_packs_va = drop_const_cols(df_subs_quants_packs_va)\n",
    "\n",
    "print \"df_subs_quants -> \", df_subs_quants.shape\n",
    "print \"df_subs_quants_packs -> \", df_subs_quants_packs.shape\n",
    "print \"df_subs_quants_others -> \", df_subs_quants_others.shape\n",
    "print \"df_subs_quants_packs_va -> \", df_subs_quants_packs_va.shape"
   ]
  },
  {
   "cell_type": "markdown",
   "metadata": {},
   "source": [
    "#### Split and learn"
   ]
  },
  {
   "cell_type": "code",
   "execution_count": 151,
   "metadata": {
    "collapsed": true
   },
   "outputs": [],
   "source": [
    "X0 = df_subs_quants_packs_va\n",
    "ylog = df_logprices\n",
    "\n",
    "X = StandardScaler().fit_transform(X0)\n",
    "X_train, X_test, ylog_train, ylog_test = train_test_split(X, ylog, train_size=0.80)"
   ]
  },
  {
   "cell_type": "code",
   "execution_count": 152,
   "metadata": {
    "collapsed": false
   },
   "outputs": [],
   "source": [
    "rf = RandomForestRegressor(n_estimators = 50, n_jobs = -1, verbose = 0)"
   ]
  },
  {
   "cell_type": "code",
   "execution_count": 153,
   "metadata": {
    "collapsed": false
   },
   "outputs": [
    {
     "name": "stdout",
     "output_type": "stream",
     "text": [
      "0.932035926472\n",
      "13.4392035208\n",
      "24.6039827228\n"
     ]
    }
   ],
   "source": [
    "rf.fit(X_train, ylog_train)\n",
    "score = rf.score(X_train, ylog_train)\n",
    "print score\n",
    "res0 = rf.predict(X_train)\n",
    "res1 = rf.predict(X_test)\n",
    "print mape_error(ylog_train, res0)\n",
    "print mape_error(ylog_test, res1)"
   ]
  },
  {
   "cell_type": "code",
   "execution_count": 154,
   "metadata": {
    "collapsed": false
   },
   "outputs": [
    {
     "name": "stdout",
     "output_type": "stream",
     "text": [
      "0.834960840086\n",
      "28.2416501109\n",
      "36.8112215735\n"
     ]
    }
   ],
   "source": [
    "svr = SVR(kernel='linear', C=3)\n",
    "svr.fit(X_train, ylog_train)\n",
    "score = svr.score(X_train, ylog_train)\n",
    "print score\n",
    "res0 = svr.predict(X_train)\n",
    "res1 = svr.predict(X_test)\n",
    "print mape_error(ylog_train, res0)\n",
    "print mape_error(ylog_test, res1)"
   ]
  },
  {
   "cell_type": "markdown",
   "metadata": {},
   "source": [
    "#### Cross validation scoring"
   ]
  },
  {
   "cell_type": "code",
   "execution_count": 155,
   "metadata": {
    "collapsed": true
   },
   "outputs": [],
   "source": [
    "def run_cv(data, targets, clf, cv=10):\n",
    "    X0 = data\n",
    "    ylog = targets\n",
    "    X = StandardScaler().fit_transform(X0)\n",
    "    scores = cross_val_score(clf, X, ylog, cv=cv, scoring=make_scorer(mape_error))\n",
    "    print scores      \n",
    "    print scores.mean(), scores.std()"
   ]
  },
  {
   "cell_type": "code",
   "execution_count": 156,
   "metadata": {
    "collapsed": false,
    "scrolled": true
   },
   "outputs": [
    {
     "name": "stdout",
     "output_type": "stream",
     "text": [
      "[ 24.64669103  21.02139622  25.61395546  18.41282473  22.60143702]\n",
      "22.4592608915 2.57675233526\n",
      "[ 24.25376455  19.84213633  25.07687876  17.1858631   21.02716185]\n",
      "21.4771609172 2.89684441581\n",
      "[ 35.71147646  28.84464981  33.58820139  25.88180725  27.20050356]\n",
      "30.245327692 3.77694983167\n",
      "[ 24.95401988  19.66343652  23.81639664  17.02089966  21.25796491]\n",
      "21.3425435211 2.85187202578\n"
     ]
    }
   ],
   "source": [
    "run_cv(df_subs_quants, ylog, rf, cv=5)\n",
    "run_cv(df_subs_quants_packs, ylog, rf, cv=5)\n",
    "run_cv(df_subs_quants_others, ylog, rf, cv=5)\n",
    "run_cv(df_subs_quants_packs_va, ylog, rf, cv=5)"
   ]
  },
  {
   "cell_type": "code",
   "execution_count": null,
   "metadata": {
    "collapsed": false,
    "scrolled": true
   },
   "outputs": [],
   "source": [
    "# run_cv(df_subs_quants, ylog, svr, cv=5)\n",
    "# run_cv(df_subs_quants_packs, ylog, svr, cv=5)\n",
    "# run_cv(df_subs_quants_others, ylog, svr, cv=5)\n",
    "# run_cv(df_subs_quants_packs_va, ylog, svr, cv=5)"
   ]
  },
  {
   "cell_type": "code",
   "execution_count": null,
   "metadata": {
    "collapsed": true
   },
   "outputs": [],
   "source": []
  }
 ],
 "metadata": {
  "kernelspec": {
   "display_name": "Python 2",
   "language": "python",
   "name": "python2"
  },
  "language_info": {
   "codemirror_mode": {
    "name": "ipython",
    "version": 2
   },
   "file_extension": ".py",
   "mimetype": "text/x-python",
   "name": "python",
   "nbconvert_exporter": "python",
   "pygments_lexer": "ipython2",
   "version": "2.7.12"
  }
 },
 "nbformat": 4,
 "nbformat_minor": 1
}
