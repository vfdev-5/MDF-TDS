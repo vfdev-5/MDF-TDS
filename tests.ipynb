{
 "cells": [
  {
   "cell_type": "markdown",
   "metadata": {},
   "source": [
    "# Tests"
   ]
  },
  {
   "cell_type": "code",
   "execution_count": 2,
   "metadata": {
    "collapsed": true
   },
   "outputs": [],
   "source": [
    "import pandas as pd"
   ]
  },
  {
   "cell_type": "code",
   "execution_count": null,
   "metadata": {
    "collapsed": true
   },
   "outputs": [],
   "source": []
  },
  {
   "cell_type": "code",
   "execution_count": null,
   "metadata": {
    "collapsed": true
   },
   "outputs": [],
   "source": []
  },
  {
   "cell_type": "code",
   "execution_count": 3,
   "metadata": {
    "collapsed": false
   },
   "outputs": [
    {
     "data": {
      "text/html": [
       "<div>\n",
       "<table border=\"1\" class=\"dataframe\">\n",
       "  <thead>\n",
       "    <tr style=\"text-align: right;\">\n",
       "      <th></th>\n",
       "      <th>A</th>\n",
       "      <th>B</th>\n",
       "      <th>C</th>\n",
       "    </tr>\n",
       "  </thead>\n",
       "  <tbody>\n",
       "    <tr>\n",
       "      <th>0</th>\n",
       "      <td>1</td>\n",
       "      <td>1</td>\n",
       "      <td>1</td>\n",
       "    </tr>\n",
       "    <tr>\n",
       "      <th>1</th>\n",
       "      <td>2</td>\n",
       "      <td>3</td>\n",
       "      <td>2</td>\n",
       "    </tr>\n",
       "    <tr>\n",
       "      <th>2</th>\n",
       "      <td>1</td>\n",
       "      <td>1</td>\n",
       "      <td>3</td>\n",
       "    </tr>\n",
       "    <tr>\n",
       "      <th>3</th>\n",
       "      <td>3</td>\n",
       "      <td>5</td>\n",
       "      <td>4</td>\n",
       "    </tr>\n",
       "    <tr>\n",
       "      <th>4</th>\n",
       "      <td>4</td>\n",
       "      <td>5</td>\n",
       "      <td>5</td>\n",
       "    </tr>\n",
       "  </tbody>\n",
       "</table>\n",
       "</div>"
      ],
      "text/plain": [
       "   A  B  C\n",
       "0  1  1  1\n",
       "1  2  3  2\n",
       "2  1  1  3\n",
       "3  3  5  4\n",
       "4  4  5  5"
      ]
     },
     "execution_count": 3,
     "metadata": {},
     "output_type": "execute_result"
    }
   ],
   "source": [
    "df = pd.DataFrame(data={'A': [1,2,1,3,4], 'B': [1,3,1,5,5], 'C' : [1,2,3,4,5]})\n",
    "\n",
    "df1 = df.drop(['C'], axis=1)\n",
    "df"
   ]
  },
  {
   "cell_type": "code",
   "execution_count": 4,
   "metadata": {
    "collapsed": false
   },
   "outputs": [
    {
     "name": "stdout",
     "output_type": "stream",
     "text": [
      "-- get_unique_noconst --\n",
      "- Number of found duplicated rows :  0\n",
      "- Remove constant columns :  (5, 3) -> (5, 3)\n",
      "- Dropped const columns : \n"
     ]
    }
   ],
   "source": [
    "from common.preprocessing_helper import get_unique_noconst\n",
    "df1 = get_unique_noconst(df, verbose=True)"
   ]
  },
  {
   "cell_type": "code",
   "execution_count": null,
   "metadata": {
    "collapsed": true
   },
   "outputs": [],
   "source": [
    "res = pd.concat([df1, df['C']], axis=1"
   ]
  },
  {
   "cell_type": "code",
   "execution_count": null,
   "metadata": {
    "collapsed": true
   },
   "outputs": [],
   "source": [
    "df1"
   ]
  },
  {
   "cell_type": "code",
   "execution_count": 5,
   "metadata": {
    "collapsed": false
   },
   "outputs": [
    {
     "name": "stdout",
     "output_type": "stream",
     "text": [
      "-- get_unique_noconst --\n",
      "- Number of found duplicated rows :  1\n",
      "- Remove constant columns :  (4, 3) -> (4, 3)\n",
      "- Dropped const columns : \n"
     ]
    }
   ],
   "source": [
    "df2 = get_unique_noconst(df, df.columns.drop('C'), verbose=True)"
   ]
  },
  {
   "cell_type": "code",
   "execution_count": 6,
   "metadata": {
    "collapsed": false
   },
   "outputs": [
    {
     "data": {
      "text/html": [
       "<div>\n",
       "<table border=\"1\" class=\"dataframe\">\n",
       "  <thead>\n",
       "    <tr style=\"text-align: right;\">\n",
       "      <th></th>\n",
       "      <th>A</th>\n",
       "      <th>B</th>\n",
       "      <th>C</th>\n",
       "    </tr>\n",
       "  </thead>\n",
       "  <tbody>\n",
       "    <tr>\n",
       "      <th>0</th>\n",
       "      <td>1</td>\n",
       "      <td>1</td>\n",
       "      <td>1</td>\n",
       "    </tr>\n",
       "    <tr>\n",
       "      <th>1</th>\n",
       "      <td>2</td>\n",
       "      <td>3</td>\n",
       "      <td>2</td>\n",
       "    </tr>\n",
       "    <tr>\n",
       "      <th>3</th>\n",
       "      <td>3</td>\n",
       "      <td>5</td>\n",
       "      <td>4</td>\n",
       "    </tr>\n",
       "    <tr>\n",
       "      <th>4</th>\n",
       "      <td>4</td>\n",
       "      <td>5</td>\n",
       "      <td>5</td>\n",
       "    </tr>\n",
       "  </tbody>\n",
       "</table>\n",
       "</div>"
      ],
      "text/plain": [
       "   A  B  C\n",
       "0  1  1  1\n",
       "1  2  3  2\n",
       "3  3  5  4\n",
       "4  4  5  5"
      ]
     },
     "execution_count": 6,
     "metadata": {},
     "output_type": "execute_result"
    }
   ],
   "source": [
    "df2"
   ]
  },
  {
   "cell_type": "code",
   "execution_count": null,
   "metadata": {
    "collapsed": true
   },
   "outputs": [],
   "source": []
  },
  {
   "cell_type": "code",
   "execution_count": null,
   "metadata": {
    "collapsed": true
   },
   "outputs": [],
   "source": []
  },
  {
   "cell_type": "code",
   "execution_count": 8,
   "metadata": {
    "collapsed": false
   },
   "outputs": [],
   "source": [
    "df = pd.DataFrame(data={'A': [1,0,0,1,0], 'B': [0,1,0,0,0], 'C' : [1,0,1,0,1]})\n",
    "df_nb = pd.DataFrame(data={'nA': [10,9,8,7,6]})"
   ]
  },
  {
   "cell_type": "code",
   "execution_count": 11,
   "metadata": {
    "collapsed": false
   },
   "outputs": [
    {
     "name": "stdout",
     "output_type": "stream",
     "text": [
      "   A  B  C\n",
      "0  1  0  1\n",
      "1  0  1  0\n",
      "2  0  0  1\n",
      "3  1  0  0\n",
      "4  0  0  1 \n",
      "   nA\n",
      "0  10\n",
      "1   9\n",
      "2   8\n",
      "3   7\n",
      "4   6\n"
     ]
    }
   ],
   "source": [
    "print df, \"\\n\", df_nb"
   ]
  },
  {
   "cell_type": "code",
   "execution_count": 21,
   "metadata": {
    "collapsed": false
   },
   "outputs": [],
   "source": [
    "cols = df.columns\n",
    "res = pd.DataFrame(columns=cols)\n",
    "for c in cols:\n",
    "    res[c] = df[c] * df_nb['nA']"
   ]
  },
  {
   "cell_type": "code",
   "execution_count": 22,
   "metadata": {
    "collapsed": false
   },
   "outputs": [
    {
     "data": {
      "text/html": [
       "<div>\n",
       "<table border=\"1\" class=\"dataframe\">\n",
       "  <thead>\n",
       "    <tr style=\"text-align: right;\">\n",
       "      <th></th>\n",
       "      <th>A</th>\n",
       "      <th>B</th>\n",
       "      <th>C</th>\n",
       "    </tr>\n",
       "  </thead>\n",
       "  <tbody>\n",
       "    <tr>\n",
       "      <th>0</th>\n",
       "      <td>10</td>\n",
       "      <td>0</td>\n",
       "      <td>10</td>\n",
       "    </tr>\n",
       "    <tr>\n",
       "      <th>1</th>\n",
       "      <td>0</td>\n",
       "      <td>9</td>\n",
       "      <td>0</td>\n",
       "    </tr>\n",
       "    <tr>\n",
       "      <th>2</th>\n",
       "      <td>0</td>\n",
       "      <td>0</td>\n",
       "      <td>8</td>\n",
       "    </tr>\n",
       "    <tr>\n",
       "      <th>3</th>\n",
       "      <td>7</td>\n",
       "      <td>0</td>\n",
       "      <td>0</td>\n",
       "    </tr>\n",
       "    <tr>\n",
       "      <th>4</th>\n",
       "      <td>0</td>\n",
       "      <td>0</td>\n",
       "      <td>6</td>\n",
       "    </tr>\n",
       "  </tbody>\n",
       "</table>\n",
       "</div>"
      ],
      "text/plain": [
       "    A  B   C\n",
       "0  10  0  10\n",
       "1   0  9   0\n",
       "2   0  0   8\n",
       "3   7  0   0\n",
       "4   0  0   6"
      ]
     },
     "execution_count": 22,
     "metadata": {},
     "output_type": "execute_result"
    }
   ],
   "source": [
    "res"
   ]
  },
  {
   "cell_type": "code",
   "execution_count": 23,
   "metadata": {
    "collapsed": false
   },
   "outputs": [
    {
     "data": {
      "text/html": [
       "<div>\n",
       "<table border=\"1\" class=\"dataframe\">\n",
       "  <thead>\n",
       "    <tr style=\"text-align: right;\">\n",
       "      <th></th>\n",
       "      <th>A</th>\n",
       "      <th>B</th>\n",
       "      <th>C</th>\n",
       "    </tr>\n",
       "  </thead>\n",
       "  <tbody>\n",
       "    <tr>\n",
       "      <th>0</th>\n",
       "      <td>1</td>\n",
       "      <td>0</td>\n",
       "      <td>1</td>\n",
       "    </tr>\n",
       "    <tr>\n",
       "      <th>1</th>\n",
       "      <td>0</td>\n",
       "      <td>1</td>\n",
       "      <td>0</td>\n",
       "    </tr>\n",
       "    <tr>\n",
       "      <th>2</th>\n",
       "      <td>0</td>\n",
       "      <td>0</td>\n",
       "      <td>1</td>\n",
       "    </tr>\n",
       "    <tr>\n",
       "      <th>3</th>\n",
       "      <td>1</td>\n",
       "      <td>0</td>\n",
       "      <td>0</td>\n",
       "    </tr>\n",
       "    <tr>\n",
       "      <th>4</th>\n",
       "      <td>0</td>\n",
       "      <td>0</td>\n",
       "      <td>1</td>\n",
       "    </tr>\n",
       "  </tbody>\n",
       "</table>\n",
       "</div>"
      ],
      "text/plain": [
       "   A  B  C\n",
       "0  1  0  1\n",
       "1  0  1  0\n",
       "2  0  0  1\n",
       "3  1  0  0\n",
       "4  0  0  1"
      ]
     },
     "execution_count": 23,
     "metadata": {},
     "output_type": "execute_result"
    }
   ],
   "source": [
    "df"
   ]
  },
  {
   "cell_type": "code",
   "execution_count": null,
   "metadata": {
    "collapsed": true
   },
   "outputs": [],
   "source": []
  },
  {
   "cell_type": "code",
   "execution_count": null,
   "metadata": {
    "collapsed": true
   },
   "outputs": [],
   "source": []
  },
  {
   "cell_type": "code",
   "execution_count": null,
   "metadata": {
    "collapsed": true
   },
   "outputs": [],
   "source": []
  },
  {
   "cell_type": "code",
   "execution_count": null,
   "metadata": {
    "collapsed": true
   },
   "outputs": [],
   "source": []
  },
  {
   "cell_type": "code",
   "execution_count": null,
   "metadata": {
    "collapsed": true
   },
   "outputs": [],
   "source": []
  },
  {
   "cell_type": "code",
   "execution_count": 2,
   "metadata": {
    "collapsed": true
   },
   "outputs": [],
   "source": [
    "import re"
   ]
  },
  {
   "cell_type": "code",
   "execution_count": 3,
   "metadata": {
    "collapsed": true
   },
   "outputs": [],
   "source": [
    "data=[u'3 plaquette thermoformee PVC-Aluminium de 28 comprime',\n",
    "       u'plaquette thermoformee aluminium de 28 comprime',\n",
    "       u'plaquette thermoformee PVC-aluminium de 30 gelule',\n",
    "       u'30 sachet-dose papier aluminium complexe resine',\n",
    "       u'plaquette thermoformee PVC-Aluminium de 30 comprime',\n",
    "       u'plaquette thermoformee PVC-aluminium de 30 comprime',\n",
    "       u'flacon polyethylene haute densite (PEHD) de 100 capsule',\n",
    "       u'plaquette thermoformee PVC polyethylene PVDC aluminium de 30 comprime',\n",
    "       u'plaquette thermoformee PVC-Aluminium de 90 comprime',\n",
    "       u'plaquette polyamide aluminium PVC de 10 comprime',\n",
    "       u'4 sachet papier aluminium polyethylene de 1  dispositif',\n",
    "       u'1 inhalateur multidose avec embout buccal(aux) de 60 dose',\n",
    "       u'plaquette thermoformee polyamide aluminium PVC de 84 comprime',\n",
    "       u'plaquette thermoformee polyamide aluminium PVC-Aluminium de 30 comprime',\n",
    "       u'3 plaquette thermoformee polyamide PVC-Aluminium de 10 comprime',\n",
    "       u'1 flacon en verre brun de 30 ml avec mesurette graduee polypropylene polyethylene haute densite (PEHD)',\n",
    "       u'plaquette thermoformee PVC PVDC aluminium de 10 comprime',\n",
    "       u'plaquette thermoformee PVC-aluminium de 25  comprime',\n",
    "       u'plaquette thermoformee PVC polyethylene PVDC aluminium de 30 comprime',\n",
    "       u'plaquette thermoformee PVC-Aluminium de 15  gelule',\n",
    "       u'plaquette thermoformee PVC PVDC aluminium de 30 comprime']"
   ]
  },
  {
   "cell_type": "code",
   "execution_count": 43,
   "metadata": {
    "collapsed": false
   },
   "outputs": [
    {
     "data": {
      "text/plain": [
       "21"
      ]
     },
     "execution_count": 43,
     "metadata": {},
     "output_type": "execute_result"
    }
   ],
   "source": [
    "len(data)"
   ]
  },
  {
   "cell_type": "code",
   "execution_count": 48,
   "metadata": {
    "collapsed": false
   },
   "outputs": [
    {
     "name": "stdout",
     "output_type": "stream",
     "text": [
      "(u'3', u'plaquette', u'28', u'comprime')\n",
      "(u'', u'plaquette', u'28', u'comprime')\n",
      "(u'', u'plaquette', u'30', u'gelule')\n",
      "(u'30', u'sachet-dose', u'', u'')\n",
      "(u'', u'plaquette', u'30', u'comprime')\n",
      "(u'', u'plaquette', u'30', u'comprime')\n",
      "(u'', u'flacon', u'100', u'capsule')\n",
      "(u'', u'plaquette', u'30', u'comprime')\n",
      "(u'', u'plaquette', u'90', u'comprime')\n",
      "(u'', u'plaquette', u'10', u'comprime')\n",
      "(u'4', u'sachet', u'1', u'dispositif')\n",
      "(u'1', u'inhalateur', u'60', u'dose')\n",
      "(u'', u'plaquette', u'84', u'comprime')\n",
      "(u'', u'plaquette', u'30', u'comprime')\n",
      "(u'3', u'plaquette', u'10', u'comprime')\n",
      "(u'1', u'flacon', u'30', u'ml')\n",
      "(u'', u'plaquette', u'10', u'comprime')\n",
      "(u'', u'plaquette', u'25', u'comprime')\n",
      "(u'', u'plaquette', u'30', u'comprime')\n",
      "(u'', u'plaquette', u'15', u'gelule')\n",
      "(u'', u'plaquette', u'30', u'comprime')\n"
     ]
    }
   ],
   "source": [
    "for t in data:\n",
    "    m = re.match(r'^(\\d*)\\s*([\\w\\-]+)\\D+(\\d*)\\s*([\\w-]*)', t)\n",
    "    if m is not None:\n",
    "        print m.groups()\n",
    "    else:\n",
    "        print \"Not found : \", t"
   ]
  },
  {
   "cell_type": "code",
   "execution_count": null,
   "metadata": {
    "collapsed": true
   },
   "outputs": [],
   "source": []
  },
  {
   "cell_type": "code",
   "execution_count": 55,
   "metadata": {
    "collapsed": false
   },
   "outputs": [
    {
     "name": "stdout",
     "output_type": "stream",
     "text": [
      "[(u'3', u'plaquette'), (u'28', u'comprime')]\n",
      "[(u'1', u'plaquette'), (u'28', u'comprime')]\n",
      "[(u'1', u'plaquette'), (u'30', u'gelule')]\n",
      "[(u'30', u'sachet-dose')]\n",
      "[(u'1', u'plaquette'), (u'30', u'comprime')]\n",
      "[(u'1', u'plaquette'), (u'30', u'comprime')]\n",
      "[(u'1', u'flacon'), (u'100', u'capsule')]\n",
      "[(u'1', u'plaquette'), (u'30', u'comprime')]\n",
      "[(u'1', u'plaquette'), (u'90', u'comprime')]\n",
      "[(u'1', u'plaquette'), (u'10', u'comprime')]\n",
      "[(u'4', u'sachet'), (u'1', u'dispositif')]\n",
      "[(u'1', u'inhalateur'), (u'60', u'dose')]\n",
      "[(u'1', u'plaquette'), (u'84', u'comprime')]\n",
      "[(u'1', u'plaquette'), (u'30', u'comprime')]\n",
      "[(u'3', u'plaquette'), (u'10', u'comprime')]\n",
      "[(u'1', u'flacon'), (u'30', u'ml')]\n",
      "[(u'1', u'plaquette'), (u'10', u'comprime')]\n",
      "[(u'1', u'plaquette'), (u'25', u'comprime')]\n",
      "[(u'1', u'plaquette'), (u'30', u'comprime')]\n",
      "[(u'1', u'plaquette'), (u'15', u'gelule')]\n",
      "[(u'1', u'plaquette'), (u'30', u'comprime')]\n"
     ]
    }
   ],
   "source": [
    "for t in data:\n",
    "    if not t[0].isdigit():\n",
    "        t = '1 ' + t\n",
    "    groups = re.findall(r'(\\d+)\\s+([\\w\\-]+)', t)\n",
    "    if len(groups) > 0:\n",
    "        print groups\n",
    "    else:\n",
    "        print \"Not found : \", t"
   ]
  },
  {
   "cell_type": "code",
   "execution_count": null,
   "metadata": {
    "collapsed": true
   },
   "outputs": [],
   "source": []
  }
 ],
 "metadata": {
  "kernelspec": {
   "display_name": "Python 2",
   "language": "python",
   "name": "python2"
  },
  "language_info": {
   "codemirror_mode": {
    "name": "ipython",
    "version": 2
   },
   "file_extension": ".py",
   "mimetype": "text/x-python",
   "name": "python",
   "nbconvert_exporter": "python",
   "pygments_lexer": "ipython2",
   "version": "2.7.12"
  }
 },
 "nbformat": 4,
 "nbformat_minor": 1
}
