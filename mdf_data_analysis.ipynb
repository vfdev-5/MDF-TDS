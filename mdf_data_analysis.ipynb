{
 "cells": [
  {
   "cell_type": "markdown",
   "metadata": {},
   "source": [
    "# MDF data analysis"
   ]
  },
  {
   "cell_type": "code",
   "execution_count": null,
   "metadata": {
    "collapsed": false,
    "scrolled": true
   },
   "outputs": [],
   "source": [
    "import numpy as np\n",
    "import pandas as pd\n",
    "pd.set_option('display.max_rows', 500)\n",
    "pd.set_option('display.max_columns', 500)\n",
    "pd.set_option('display.width', 1000)\n",
    "from sklearn.preprocessing import LabelEncoder\n",
    "import matplotlib.pyplot as plt\n",
    "%matplotlib inline"
   ]
  },
  {
   "cell_type": "code",
   "execution_count": null,
   "metadata": {
    "collapsed": false
   },
   "outputs": [],
   "source": [
    "from load_data import train, test, BIG, TRAIN, TEST, SOURCE\n",
    "from common.visualization_helper import display_groups, display_unique_count\n",
    "from common.preprocessing_helper import get_unique_noconst, split_series_values, get_unique_col_values, get_numeric_nonnumeric_cols"
   ]
  },
  {
   "cell_type": "code",
   "execution_count": null,
   "metadata": {
    "collapsed": true
   },
   "outputs": [],
   "source": [
    "print BIG.shape, BIG.columns.values\n",
    "print train.shape, train.columns.values\n",
    "print test.shape, test.columns.values\n"
   ]
  },
  {
   "cell_type": "code",
   "execution_count": null,
   "metadata": {
    "collapsed": true
   },
   "outputs": [],
   "source": []
  },
  {
   "cell_type": "code",
   "execution_count": null,
   "metadata": {
    "collapsed": true
   },
   "outputs": [],
   "source": [
    "import re"
   ]
  },
  {
   "cell_type": "code",
   "execution_count": null,
   "metadata": {
    "collapsed": true
   },
   "outputs": [],
   "source": [
    "vals = BIG.ix[:, 6].values\n",
    "for t in vals:\n",
    "    m = re.match(r'^([\\d,]*)\\s*([\\w\\-]+)\\D*([\\d,]*)\\s*([\\w\\-]*)\\D*([\\d,]*)\\s*([\\w\\-]*)', t)\n",
    "    if m is None:\n",
    "        raise Exception(\"Not found : %s\" % t)"
   ]
  },
  {
   "cell_type": "code",
   "execution_count": null,
   "metadata": {
    "collapsed": false
   },
   "outputs": [],
   "source": [
    "MEASURE_TYPES = [u'UI', u'mg', u'ml', u'g', u'kg', u'litre']\n",
    "\n",
    "test = u'litre2'\n",
    "\n",
    "if test in MEASURE_TYPES:\n",
    "    print True\n",
    "else:\n",
    "    print False"
   ]
  },
  {
   "cell_type": "code",
   "execution_count": null,
   "metadata": {
    "collapsed": false
   },
   "outputs": [],
   "source": [
    "vals = BIG.ix[:, 6].values\n",
    "\n",
    "\n",
    "def debug(groups, t):\n",
    "    if len(groups) == 1:\n",
    "        if groups[0][1] == 'UI' or groups[0][1] == 'G' or groups[0][1] == 'lyophilisat':\n",
    "            print \"\\n\\n >>>>\", groups\n",
    "            print \">>>>\", i, \" : \", t\n",
    "\n",
    "    elif len(groups) == 2:\n",
    "        if groups[0][1] == 'ml':\n",
    "            print \"\\n\\n >>>>\", groups\n",
    "            print \">>>>\", i, \" : \", t\n",
    "        if groups[1][1] == 'UI' or groups[1][1] == 'G' or groups[1][1] == 'lyophilisat':\n",
    "            print \"\\n\\n >>>>\", groups\n",
    "            print \">>>>\", i, \" : \", t\n",
    "    else:\n",
    "        print groups\n",
    "        print i, \" : \", t    \n",
    "        \n",
    "        \n",
    "\n",
    "# First pass : get all types of packages, quantity types etc \n",
    "nonnum_types = []\n",
    "data = []\n",
    "MEASURE_TYPES = [u'UI', u'mg', u'ml', u'g', u'kg', u'litre']\n",
    "NON_QUANTITY_TYPES = []\n",
    "QUANTITY_TYPES = []\n",
    "for i, t in enumerate(vals):\n",
    "    tt = t\n",
    "    ## Add '1' before package type \n",
    "    if not tt[0].isdigit():\n",
    "        tt = '1 ' + tt   \n",
    "    \n",
    "    ## Add 1 between 'avec' and a word after\n",
    "    groups = re.findall(\"(avec) ([a-zA-Z]+)\", t)\n",
    "    for g in groups:\n",
    "        init = ' '.join(g)\n",
    "        repl = '%s 1 %s' % g\n",
    "        tt = tt.replace(init, repl)\n",
    "    \n",
    "    ## Get groups (digits, type)\n",
    "    groups = re.findall(r'(\\d+,?\\d*)\\s+([\\w\\-]+)', tt)\n",
    "    if len(groups) > 0:\n",
    "        \n",
    "        for j, g in enumerate(groups):\n",
    "            if g[1] == 'securite' or g[1] == 'bouchon' or g[1] == 'feuille':\n",
    "                print groups\n",
    "                print i, \" : \", t\n",
    "\n",
    "            nonnum_types.append(g[1])\n",
    "            # Get quantity type : [(digits, quantity_type), (digits, MEASURE_TYPE)]\n",
    "            if j > 0 and g[1] in MEASURE_TYPES:\n",
    "#                 if \"aiguille\" == groups[j-1][1]:\n",
    "#                     print groups\n",
    "#                     print \"add : \", groups[j-1][1]\n",
    "#                     print i, \" : \", t\n",
    "                QUANTITY_TYPES.append(groups[j-1][1])\n",
    "        \n",
    "\n",
    "        data.append(groups)\n",
    "    else:\n",
    "        raise Exception(\"Not found : %s\" % t)\n",
    "        \n",
    "nonnum_types = np.unique(np.array(nonnum_types))\n",
    "\n",
    "print \"\\n\\n nonnum_types : \", len(nonnum_types)\n",
    "for t in nonnum_types:\n",
    "    print t\n",
    "\n",
    "QUANTITY_TYPES = np.unique(np.array(QUANTITY_TYPES))\n",
    "print \"\\n\\n QUANTITY_TYPES : \", len(QUANTITY_TYPES)\n",
    "for t in QUANTITY_TYPES:\n",
    "    print t\n",
    "    \n",
    "    "
   ]
  },
  {
   "cell_type": "code",
   "execution_count": null,
   "metadata": {
    "collapsed": false
   },
   "outputs": [],
   "source": [
    "BIG.ix[8512, 6]"
   ]
  },
  {
   "cell_type": "code",
   "execution_count": null,
   "metadata": {
    "collapsed": true
   },
   "outputs": [],
   "source": [
    "NONNUM_TYPES = nonnum_types\n",
    "\n",
    "# Second pass : \n",
    "processed_libelles = np.zeros((len(data), len(NONNUM_TYPES)))\n",
    "PROCESSED_LIBELLES = pd.DataFrame(processed_libelles, columns=NONNUM_TYPES)    \n",
    "for i, groups in enumerate(data):\n",
    "    for g in groups:\n",
    "        PROCESSED_LIBELLES.ix[i, g[1]] = g[0]\n",
    "\n",
    "PROCESSED_LIBELLES.head()"
   ]
  },
  {
   "cell_type": "code",
   "execution_count": null,
   "metadata": {
    "collapsed": false
   },
   "outputs": [],
   "source": [
    "PROCESSED_LIBELLES['plaquette'].loc[1]"
   ]
  },
  {
   "cell_type": "markdown",
   "metadata": {},
   "source": [
    "### Remove some useless columns"
   ]
  },
  {
   "cell_type": "code",
   "execution_count": null,
   "metadata": {
    "collapsed": false,
    "scrolled": true
   },
   "outputs": [],
   "source": [
    "df__noid_noprix = BIG.drop(['libelle', 'prix', 'id'], axis=1)"
   ]
  },
  {
   "cell_type": "markdown",
   "metadata": {},
   "source": [
    "Check for dupicate rows and lets look at the columns with only one unique value."
   ]
  },
  {
   "cell_type": "code",
   "execution_count": null,
   "metadata": {
    "collapsed": false
   },
   "outputs": [],
   "source": [
    "df__noid_noprix_unique_noconst = get_unique_noconst(df__noid_noprix, verbose=True)"
   ]
  },
  {
   "cell_type": "markdown",
   "metadata": {},
   "source": [
    "### Columns description : "
   ]
  },
  {
   "cell_type": "code",
   "execution_count": null,
   "metadata": {
    "collapsed": false
   },
   "outputs": [],
   "source": [
    "type_groups_func = lambda df : df.columns.to_series().groupby(df.dtypes)\n",
    "type_groups = type_groups_func(df__noid_noprix_unique_noconst)"
   ]
  },
  {
   "cell_type": "code",
   "execution_count": null,
   "metadata": {
    "collapsed": false
   },
   "outputs": [],
   "source": [
    "display_groups(type_groups)"
   ]
  },
  {
   "cell_type": "markdown",
   "metadata": {},
   "source": [
    "### Identify and separate the numeric and non numeric rows.\n",
    "Report NaN values on numerical columns"
   ]
  },
  {
   "cell_type": "code",
   "execution_count": null,
   "metadata": {
    "collapsed": false
   },
   "outputs": [],
   "source": [
    "num_cols, nonnum_cols = get_numeric_nonnumeric_cols(df__noid_noprix_unique_noconst)\n",
    "        \n",
    "nb_isnan = np.sum(df__noid_noprix_unique_noconst[num_cols].apply(np.isnan))"
   ]
  },
  {
   "cell_type": "code",
   "execution_count": null,
   "metadata": {
    "collapsed": false
   },
   "outputs": [],
   "source": [
    "print nb_isnan"
   ]
  },
  {
   "cell_type": "markdown",
   "metadata": {},
   "source": [
    "### Identify non numeric rows."
   ]
  },
  {
   "cell_type": "code",
   "execution_count": null,
   "metadata": {
    "collapsed": false,
    "scrolled": true
   },
   "outputs": [],
   "source": [
    "df__noid_noprix_unique_noconst[nonnum_cols].tail(5)"
   ]
  },
  {
   "cell_type": "code",
   "execution_count": null,
   "metadata": {
    "collapsed": false
   },
   "outputs": [],
   "source": [
    "train__noid_noprix_unique_noconst = df__noid_noprix_unique_noconst[df__noid_noprix_unique_noconst[SOURCE] == TRAIN]\n",
    "train_unique_col_values = get_unique_col_values(train__noid_noprix_unique_noconst[nonnum_cols])\n",
    "#train_unique_col_values"
   ]
  },
  {
   "cell_type": "code",
   "execution_count": null,
   "metadata": {
    "collapsed": false
   },
   "outputs": [],
   "source": [
    "test__noid_noprix_unique_noconst = df__noid_noprix_unique_noconst[df__noid_noprix_unique_noconst[SOURCE] == TEST]\n",
    "test_unique_col_values = get_unique_col_values(test__noid_noprix_unique_noconst[nonnum_cols])\n",
    "#test_unique_col_values"
   ]
  },
  {
   "cell_type": "code",
   "execution_count": null,
   "metadata": {
    "collapsed": false
   },
   "outputs": [],
   "source": [
    "index = 1\n",
    "ll = train_unique_col_values.iloc[index][1]\n",
    "train_res = split_series_values(train_unique_col_values.iloc[index][2:2+ll])    \n",
    "train_df = display_unique_count(train_res)\n",
    "\n",
    "ll = test_unique_col_values.iloc[index][1]\n",
    "test_res = split_series_values(test_unique_col_values.iloc[index][2:2+ll])    \n",
    "test_df = display_unique_count(test_res)\n",
    "\n",
    "print \"\\n Values present in test and not present in train\"\n",
    "non_trained_values = test_df[~test_df['Value'].isin(train_df['Value'])]\n",
    "print len(non_trained_values),\"\\n\", non_trained_values\n",
    "\n",
    "print \"\\n Values present in train and not present in test\"\n",
    "non_test_values = train_df[~train_df['Value'].isin(test_df['Value'])]\n",
    "print len(non_test_values),\"\\n\", non_test_values"
   ]
  },
  {
   "cell_type": "code",
   "execution_count": null,
   "metadata": {
    "collapsed": false,
    "scrolled": true
   },
   "outputs": [],
   "source": [
    "index = 2\n",
    "ll = train_unique_col_values.iloc[index][1]\n",
    "train_res = split_series_values(train_unique_col_values.iloc[index][2:2+ll])    \n",
    "train_df = display_unique_count(train_res)\n",
    "\n",
    "ll = test_unique_col_values.iloc[index][1]\n",
    "test_res = split_series_values(test_unique_col_values.iloc[index][2:2+ll])    \n",
    "test_df = display_unique_count(test_res)\n",
    "\n",
    "print \"\\n Values present in test and not present in train\"\n",
    "non_trained_values = test_df[~test_df['Value'].isin(train_df['Value'])]\n",
    "print len(non_trained_values),\"\\n\", non_trained_values\n",
    "\n",
    "print \"\\n Values present in train and not present in test\"\n",
    "non_test_values = train_df[~train_df['Value'].isin(test_df['Value'])]\n",
    "print len(non_test_values),\"\\n\", non_test_values"
   ]
  },
  {
   "cell_type": "code",
   "execution_count": null,
   "metadata": {
    "collapsed": false,
    "scrolled": true
   },
   "outputs": [],
   "source": [
    "index = 4\n",
    "ll = train_unique_col_values.iloc[index][1]\n",
    "train_res = split_series_values(train_unique_col_values.iloc[index][2:2+ll])    \n",
    "train_df = display_unique_count(train_res)\n",
    "\n",
    "ll = test_unique_col_values.iloc[index][1]\n",
    "test_res = split_series_values(test_unique_col_values.iloc[index][2:2+ll])    \n",
    "test_df = display_unique_count(test_res)\n",
    "\n",
    "print \"\\n Values present in test and not present in train\"\n",
    "non_trained_values = test_df[~test_df['Value'].isin(train_df['Value'])]\n",
    "print len(non_trained_values),\"\\n\", non_trained_values\n",
    "\n",
    "print \"\\n Values present in train and not present in test\"\n",
    "non_test_values = train_df[~train_df['Value'].isin(test_df['Value'])]\n",
    "print len(non_test_values),\"\\n\", non_test_values"
   ]
  },
  {
   "cell_type": "code",
   "execution_count": null,
   "metadata": {
    "collapsed": false
   },
   "outputs": [],
   "source": [
    "index = 5\n",
    "ll = train_unique_col_values.iloc[index][1]\n",
    "train_res = split_series_values(train_unique_col_values.iloc[index][2:2+ll])    \n",
    "train_df = display_unique_count(train_res)\n",
    "\n",
    "ll = test_unique_col_values.iloc[index][1]\n",
    "test_res = split_series_values(test_unique_col_values.iloc[index][2:2+ll])    \n",
    "test_df = display_unique_count(test_res)\n",
    "\n",
    "print \"\\n Values present in test and not present in train\"\n",
    "non_trained_values = test_df[~test_df['Value'].isin(train_df['Value'])]\n",
    "print len(non_trained_values),\"\\n\", non_trained_values\n",
    "\n",
    "print \"\\n Values present in train and not present in test\"\n",
    "non_test_values = train_df[~train_df['Value'].isin(test_df['Value'])]\n",
    "print len(non_test_values),\"\\n\", non_test_values"
   ]
  },
  {
   "cell_type": "code",
   "execution_count": null,
   "metadata": {
    "collapsed": true
   },
   "outputs": [],
   "source": [
    "def alpha_sort(s):\n",
    "    splt = s.split(' ')\n",
    "    sorted_splt = sorted(splt)\n",
    "    return ' '.join(sorted_splt)    "
   ]
  },
  {
   "cell_type": "code",
   "execution_count": null,
   "metadata": {
    "collapsed": false,
    "scrolled": true
   },
   "outputs": [],
   "source": [
    "index = 6\n",
    "ll = train_unique_col_values.iloc[index][1]\n",
    "train_res = split_series_values(train_unique_col_values.iloc[index][2:2+ll])\n",
    "train_res = train_res.apply(alpha_sort)\n",
    "train_df = display_unique_count(train_res)\n",
    "\n",
    "ll = test_unique_col_values.iloc[index][1]\n",
    "test_res = split_series_values(test_unique_col_values.iloc[index][2:2+ll])    \n",
    "test_res = test_res.apply(alpha_sort)\n",
    "test_df = display_unique_count(test_res)\n",
    "\n",
    "print \"\\n Values present in test and not present in train\"\n",
    "non_trained_values = test_df[~test_df['Value'].isin(train_df['Value'])]\n",
    "print len(non_trained_values),\"\\n\", non_trained_values\n",
    "\n",
    "print \"\\n Values present in train and not present in test\"\n",
    "non_test_values = train_df[~train_df['Value'].isin(test_df['Value'])]\n",
    "print len(non_test_values),\"\\n\", non_test_values"
   ]
  },
  {
   "cell_type": "code",
   "execution_count": null,
   "metadata": {
    "collapsed": false,
    "scrolled": true
   },
   "outputs": [],
   "source": [
    "index = 7\n",
    "ll = train_unique_col_values.iloc[index][1]\n",
    "train_res = split_series_values(train_unique_col_values.iloc[index][2:2+ll])    \n",
    "train_df = display_unique_count(train_res)\n",
    "\n",
    "ll = test_unique_col_values.iloc[index][1]\n",
    "test_res = split_series_values(test_unique_col_values.iloc[index][2:2+ll])    \n",
    "test_df = display_unique_count(test_res)\n",
    "\n",
    "print test_df[~test_df['Value'].isin(train_df['Value'])]"
   ]
  },
  {
   "cell_type": "code",
   "execution_count": null,
   "metadata": {
    "collapsed": false
   },
   "outputs": [],
   "source": [
    "index = 8\n",
    "ll = train_unique_col_values.iloc[index][1]\n",
    "train_res = split_series_values(train_unique_col_values.iloc[index][2:2+ll])    \n",
    "train_df = display_unique_count(train_res)\n",
    "\n",
    "ll = test_unique_col_values.iloc[index][1]\n",
    "test_res = split_series_values(test_unique_col_values.iloc[index][2:2+ll])    \n",
    "test_df = display_unique_count(test_res)\n",
    "\n",
    "print test_df[~test_df['Value'].isin(train_df['Value'])]"
   ]
  },
  {
   "cell_type": "code",
   "execution_count": null,
   "metadata": {
    "collapsed": false
   },
   "outputs": [],
   "source": [
    "index = 9\n",
    "ll = train_unique_col_values.iloc[index][1]\n",
    "train_res = split_series_values(train_unique_col_values.iloc[index][2:2+ll])    \n",
    "train_df = display_unique_count(train_res)\n",
    "\n",
    "ll = test_unique_col_values.iloc[index][1]\n",
    "test_res = split_series_values(test_unique_col_values.iloc[index][2:2+ll])    \n",
    "test_df = display_unique_count(test_res)\n",
    "\n",
    "print test_df[~test_df['Value'].isin(train_df['Value'])]"
   ]
  },
  {
   "cell_type": "code",
   "execution_count": null,
   "metadata": {
    "collapsed": false
   },
   "outputs": [],
   "source": [
    "index = 10\n",
    "ll = train_unique_col_values.iloc[index][1]\n",
    "train_res = split_series_values(train_unique_col_values.iloc[index][2:2+ll])    \n",
    "train_df = display_unique_count(train_res)\n",
    "\n",
    "ll = test_unique_col_values.iloc[index][1]\n",
    "test_res = split_series_values(test_unique_col_values.iloc[index][2:2+ll])    \n",
    "test_df = display_unique_count(test_res)\n",
    "\n",
    "print test_df[~test_df['Value'].isin(train_df['Value'])]"
   ]
  },
  {
   "cell_type": "markdown",
   "metadata": {
    "collapsed": true
   },
   "source": [
    "### Encode categorical features"
   ]
  },
  {
   "cell_type": "code",
   "execution_count": null,
   "metadata": {
    "collapsed": false,
    "scrolled": true
   },
   "outputs": [],
   "source": [
    "df = df__noid_noprix_unique_noconst[nonnum_cols].drop(['substances', 'voies admin'], axis=1)\n",
    "for c in df.columns:\n",
    "    le = LabelEncoder()    \n",
    "    le.fit(df[c])\n",
    "    df__noid_noprix_unique_noconst[c] = le.transform(df[c])\n",
    "df__noid_noprix_unique_noconst.head(5)"
   ]
  },
  {
   "cell_type": "markdown",
   "metadata": {},
   "source": [
    "### Get dummies for 'Substances' and 'Voies admin'"
   ]
  },
  {
   "cell_type": "code",
   "execution_count": null,
   "metadata": {
    "collapsed": false
   },
   "outputs": [],
   "source": [
    "df = df__noid_noprix_unique_noconst[['substances', 'voies admin']]\n",
    "\n",
    "def alpha_sort(s):\n",
    "    splt = s.split(' ')\n",
    "    sorted_splt = sorted(splt)\n",
    "    return ' '.join(sorted_splt) \n",
    "\n",
    "# Substances : \n",
    "def alpha_sort(s):\n",
    "    splt = s.split(' ')\n",
    "    sorted_splt = sorted(splt)\n",
    "    return ' '.join(sorted_splt) \n",
    "\n",
    "def alpha_sort_notsplitted(line):\n",
    "    splt = line.split(',')\n",
    "    for i in range(len(splt)):\n",
    "        splt[i] = alpha_sort(splt[i])\n",
    "    return ','.join(splt) \n",
    "\n",
    "df_substances = df['substances'].str.strip().str.replace(', ', ',').apply(alpha_sort_notsplitted).str.get_dummies(',')\n",
    "\n",
    "# Voies admin : \n",
    "dums_va = df['voies admin'].str.get_dummies(',')"
   ]
  },
  {
   "cell_type": "code",
   "execution_count": null,
   "metadata": {
    "collapsed": false,
    "scrolled": false
   },
   "outputs": [],
   "source": [
    "df2 = df__noid_noprix_unique_noconst.drop(['substances', 'voies admin'], axis=1)\n",
    "df__noid_noprix_unique_noconst = pd.concat([df2, dums_va], axis=1)"
   ]
  },
  {
   "cell_type": "code",
   "execution_count": null,
   "metadata": {
    "collapsed": false
   },
   "outputs": [],
   "source": [
    "df__noid_noprix_unique_noconst.head(5)"
   ]
  },
  {
   "cell_type": "code",
   "execution_count": null,
   "metadata": {
    "collapsed": false,
    "scrolled": true
   },
   "outputs": [],
   "source": [
    "    "
   ]
  },
  {
   "cell_type": "code",
   "execution_count": null,
   "metadata": {
    "collapsed": false,
    "scrolled": true
   },
   "outputs": [],
   "source": [
    "df_substances.head(3)"
   ]
  },
  {
   "cell_type": "code",
   "execution_count": null,
   "metadata": {
    "collapsed": true
   },
   "outputs": [],
   "source": []
  },
  {
   "cell_type": "markdown",
   "metadata": {},
   "source": [
    "### Price histogram"
   ]
  },
  {
   "cell_type": "code",
   "execution_count": null,
   "metadata": {
    "collapsed": false
   },
   "outputs": [],
   "source": [
    "plt.figure(figsize=(18, 6))\n",
    "train['logprix'] = train['prix'].apply(np.log)\n",
    "sns.distplot(train['logprix'], color='green', kde=False)"
   ]
  },
  {
   "cell_type": "code",
   "execution_count": null,
   "metadata": {
    "collapsed": true
   },
   "outputs": [],
   "source": []
  },
  {
   "cell_type": "code",
   "execution_count": null,
   "metadata": {
    "collapsed": true
   },
   "outputs": [],
   "source": []
  },
  {
   "cell_type": "code",
   "execution_count": null,
   "metadata": {
    "collapsed": true
   },
   "outputs": [],
   "source": []
  }
 ],
 "metadata": {
  "kernelspec": {
   "display_name": "Python 2",
   "language": "python",
   "name": "python2"
  },
  "language_info": {
   "codemirror_mode": {
    "name": "ipython",
    "version": 2
   },
   "file_extension": ".py",
   "mimetype": "text/x-python",
   "name": "python",
   "nbconvert_exporter": "python",
   "pygments_lexer": "ipython2",
   "version": "2.7.12"
  }
 },
 "nbformat": 4,
 "nbformat_minor": 1
}
