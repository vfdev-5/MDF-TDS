{
 "cells": [
  {
   "cell_type": "markdown",
   "metadata": {},
   "source": [
    "# MDF data analysis"
   ]
  },
  {
   "cell_type": "code",
   "execution_count": 1,
   "metadata": {
    "collapsed": false
   },
   "outputs": [
    {
     "name": "stdout",
     "output_type": "stream",
     "text": [
      "TRAIN (8564, 42)\n",
      "TEST  (3671, 42)\n",
      "BIG  (12235, 43)\n"
     ]
    },
    {
     "name": "stderr",
     "output_type": "stream",
     "text": [
      "/usr/local/lib/python2.7/site-packages/matplotlib/font_manager.py:273: UserWarning: Matplotlib is building the font cache using fc-list. This may take a moment.\n",
      "  warnings.warn('Matplotlib is building the font cache using fc-list. This may take a moment.')\n"
     ]
    }
   ],
   "source": [
    "from load_data import train, test, BIG, TRAIN, TEST\n",
    "import numpy as np\n",
    "import pandas as pd\n",
    "from sklearn.preprocessing import LabelEncoder\n",
    "import matplotlib.pyplot as plt\n",
    "%matplotlib inline"
   ]
  },
  {
   "cell_type": "code",
   "execution_count": 2,
   "metadata": {
    "collapsed": true
   },
   "outputs": [],
   "source": [
    "from visualization_helper import display_groups, display_unique_count, display_unique_col_values, split_series_values\n",
    "from preprocessing_helper import get_unique_noconst"
   ]
  },
  {
   "cell_type": "code",
   "execution_count": 3,
   "metadata": {
    "collapsed": false
   },
   "outputs": [
    {
     "name": "stdout",
     "output_type": "stream",
     "text": [
      "(8564, 42) [u'libelle' u'libelle_plaquette' u'libelle_ampoule' u'libelle_flacon'\n",
      " u'libelle_tube' u'libelle_stylo' u'libelle_seringue' u'libelle_pilulier'\n",
      " u'libelle_sachet' u'libelle_comprime' u'libelle_gelule' u'libelle_film'\n",
      " u'libelle_poche' u'libelle_capsule' u'nb_plaquette' u'nb_ampoule'\n",
      " u'nb_flacon' u'nb_tube' u'nb_stylo' u'nb_seringue' u'nb_pilulier'\n",
      " u'nb_sachet' u'nb_comprime' u'nb_gelule' u'nb_film' u'nb_poche'\n",
      " u'nb_capsule' u'nb_ml' u'statut' u'etat commerc' u'agrement col'\n",
      " u'tx rembours' u'forme pharma' u'voies admin' u'statut admin'\n",
      " u'date declar annee' u'date amm annee' u'type proc' u'titulaires'\n",
      " u'substances' u'prix' 'source']\n",
      "(3671, 42) [u'id' u'libelle' u'libelle_plaquette' u'libelle_ampoule' u'libelle_flacon'\n",
      " u'libelle_tube' u'libelle_stylo' u'libelle_seringue' u'libelle_pilulier'\n",
      " u'libelle_sachet' u'libelle_comprime' u'libelle_gelule' u'libelle_film'\n",
      " u'libelle_poche' u'libelle_capsule' u'nb_plaquette' u'nb_ampoule'\n",
      " u'nb_flacon' u'nb_tube' u'nb_stylo' u'nb_seringue' u'nb_pilulier'\n",
      " u'nb_sachet' u'nb_comprime' u'nb_gelule' u'nb_film' u'nb_poche'\n",
      " u'nb_capsule' u'nb_ml' u'statut' u'etat commerc' u'agrement col'\n",
      " u'tx rembours' u'forme pharma' u'voies admin' u'statut admin'\n",
      " u'date declar annee' u'date amm annee' u'type proc' u'titulaires'\n",
      " u'substances' 'source']\n"
     ]
    }
   ],
   "source": [
    "print train.shape, train.columns.values\n",
    "print test.shape, test.columns.values"
   ]
  },
  {
   "cell_type": "markdown",
   "metadata": {},
   "source": [
    "Remove some useless columns"
   ]
  },
  {
   "cell_type": "code",
   "execution_count": 4,
   "metadata": {
    "collapsed": true
   },
   "outputs": [],
   "source": [
    "input_df = train.drop(['prix','libelle'], axis=1)\n",
    "# input_df = test.drop(['libelle'], axis=1)"
   ]
  },
  {
   "cell_type": "code",
   "execution_count": 5,
   "metadata": {
    "collapsed": false
   },
   "outputs": [
    {
     "name": "stdout",
     "output_type": "stream",
     "text": [
      "(8564, 40) [u'libelle_plaquette' u'libelle_ampoule' u'libelle_flacon' u'libelle_tube'\n",
      " u'libelle_stylo' u'libelle_seringue' u'libelle_pilulier' u'libelle_sachet'\n",
      " u'libelle_comprime' u'libelle_gelule' u'libelle_film' u'libelle_poche'\n",
      " u'libelle_capsule' u'nb_plaquette' u'nb_ampoule' u'nb_flacon' u'nb_tube'\n",
      " u'nb_stylo' u'nb_seringue' u'nb_pilulier' u'nb_sachet' u'nb_comprime'\n",
      " u'nb_gelule' u'nb_film' u'nb_poche' u'nb_capsule' u'nb_ml' u'statut'\n",
      " u'etat commerc' u'agrement col' u'tx rembours' u'forme pharma'\n",
      " u'voies admin' u'statut admin' u'date declar annee' u'date amm annee'\n",
      " u'type proc' u'titulaires' u'substances' 'source']\n"
     ]
    }
   ],
   "source": [
    "df__noid_noprix = input_df\n",
    "print df__noid_noprix.shape, df__noid_noprix.columns.values"
   ]
  },
  {
   "cell_type": "markdown",
   "metadata": {},
   "source": [
    "Check for dupicate rows and lets look at the columns with only one unique value."
   ]
  },
  {
   "cell_type": "code",
   "execution_count": 6,
   "metadata": {
    "collapsed": false
   },
   "outputs": [
    {
     "name": "stdout",
     "output_type": "stream",
     "text": [
      "-- get_unique_noconst --\n",
      "- Number of found duplicated rows :  1164\n",
      "- Remove constant columns :  (7400, 40) -> (7400, 39)\n",
      "- Dropped const columns :  ['source']\n"
     ]
    }
   ],
   "source": [
    "df__noid_noprix_unique_noconst = get_unique_noconst(df__noid_noprix, verbose=True)"
   ]
  },
  {
   "cell_type": "markdown",
   "metadata": {},
   "source": [
    "Columns description : "
   ]
  },
  {
   "cell_type": "code",
   "execution_count": 7,
   "metadata": {
    "collapsed": false
   },
   "outputs": [],
   "source": [
    "type_groups_func = lambda df : df.columns.to_series().groupby(df.dtypes)\n",
    "type_groups = type_groups_func(df__noid_noprix_unique_noconst)"
   ]
  },
  {
   "cell_type": "code",
   "execution_count": 8,
   "metadata": {
    "collapsed": false,
    "scrolled": true
   },
   "outputs": [
    {
     "name": "stdout",
     "output_type": "stream",
     "text": [
      "\n",
      "-- object --\n",
      "\n",
      "\tstatut\n",
      "\tetat commerc\n",
      "\tagrement col\n",
      "\ttx rembours\n",
      "\tforme pharma\n",
      "\tvoies admin\n",
      "\tstatut admin\n",
      "\ttype proc\n",
      "\ttitulaires\n",
      "\tsubstances\n",
      "\n",
      "-- int64 --\n",
      "\n",
      "\tlibelle_plaquette\n",
      "\tlibelle_ampoule\n",
      "\tlibelle_flacon\n",
      "\tlibelle_tube\n",
      "\tlibelle_stylo\n",
      "\tlibelle_seringue\n",
      "\tlibelle_pilulier\n",
      "\tlibelle_sachet\n",
      "\tlibelle_comprime\n",
      "\tlibelle_gelule\n",
      "\tlibelle_film\n",
      "\tlibelle_poche\n",
      "\tlibelle_capsule\n",
      "\tnb_plaquette\n",
      "\tnb_ampoule\n",
      "\tnb_flacon\n",
      "\tnb_tube\n",
      "\tnb_stylo\n",
      "\tnb_seringue\n",
      "\tnb_pilulier\n",
      "\tnb_sachet\n",
      "\tnb_comprime\n",
      "\tnb_gelule\n",
      "\tnb_film\n",
      "\tnb_poche\n",
      "\tnb_capsule\n",
      "\tdate declar annee\n",
      "\tdate amm annee\n",
      "\n",
      "-- float64 --\n",
      "\n",
      "\tnb_ml\n"
     ]
    }
   ],
   "source": [
    "display_groups(type_groups)"
   ]
  },
  {
   "cell_type": "markdown",
   "metadata": {},
   "source": [
    "Identify and separate the numeric and non numeric rows.\n",
    "Report NaN values on numerical columns"
   ]
  },
  {
   "cell_type": "code",
   "execution_count": null,
   "metadata": {
    "collapsed": false
   },
   "outputs": [],
   "source": [
    "numeric_cols = []\n",
    "nonnum_cols = []\n",
    "for key in type_groups.groups:\n",
    "    if np.issubdtype(key, np.number):\n",
    "        numeric_cols.extend(type_groups.get_group(key).values)\n",
    "    else:\n",
    "        nonnum_cols.extend(type_groups.get_group(key).values)\n",
    "        \n",
    "nb_isnan = np.sum(df__noid_noprix_unique_noconst[numeric_cols].apply(np.isnan))"
   ]
  },
  {
   "cell_type": "code",
   "execution_count": null,
   "metadata": {
    "collapsed": false,
    "scrolled": true
   },
   "outputs": [],
   "source": [
    "print nb_isnan"
   ]
  },
  {
   "cell_type": "markdown",
   "metadata": {},
   "source": [
    "Identify non numeric rows."
   ]
  },
  {
   "cell_type": "code",
   "execution_count": null,
   "metadata": {
    "collapsed": false
   },
   "outputs": [],
   "source": [
    "df__noid_noprix_unique_noconst[nonnum_cols].tail(5)"
   ]
  },
  {
   "cell_type": "code",
   "execution_count": null,
   "metadata": {
    "collapsed": false
   },
   "outputs": [],
   "source": [
    "unique_col_values = display_unique_col_values(df__noid_noprix_unique_noconst[nonnum_cols])\n",
    "unique_col_values"
   ]
  },
  {
   "cell_type": "code",
   "execution_count": null,
   "metadata": {
    "collapsed": false,
    "scrolled": true
   },
   "outputs": [],
   "source": [
    "index = 5\n",
    "ll = unique_col_values.iloc[index][1]\n",
    "res = split_series_values(unique_col_values.iloc[index][2:ll])    \n",
    "df = display_unique_count(res)\n",
    "print np.sum(df['Count'])\n",
    "print df"
   ]
  },
  {
   "cell_type": "code",
   "execution_count": null,
   "metadata": {
    "collapsed": false,
    "scrolled": true
   },
   "outputs": [],
   "source": [
    "index = 8\n",
    "ll = unique_col_values.iloc[index][1]\n",
    "res = split_series_values(unique_col_values.iloc[index][2:ll])    \n",
    "df = display_unique_count(res)\n",
    "print np.sum(df['Count'])\n",
    "print df"
   ]
  },
  {
   "cell_type": "code",
   "execution_count": null,
   "metadata": {
    "collapsed": false,
    "scrolled": true
   },
   "outputs": [],
   "source": [
    "index = 9\n",
    "ll = unique_col_values.iloc[index][1]\n",
    "res = split_series_values(unique_col_values.iloc[index][2:ll])    \n",
    "df = display_unique_count(res)\n",
    "print np.sum(df['Count'])\n",
    "print df"
   ]
  },
  {
   "cell_type": "markdown",
   "metadata": {
    "collapsed": true
   },
   "source": [
    "Encode categorical features"
   ]
  },
  {
   "cell_type": "code",
   "execution_count": null,
   "metadata": {
    "collapsed": true
   },
   "outputs": [],
   "source": []
  },
  {
   "cell_type": "code",
   "execution_count": null,
   "metadata": {
    "collapsed": true
   },
   "outputs": [],
   "source": [
    "df = df__noid_noprix_unique_noconst[nonnum_cols].drop(['substances', 'voies admin'], axis=1)\n",
    "out_df = pd.DataFrame(columns=df.columns, index=df.index)\n",
    "for c in df.columns:\n",
    "    le = LabelEncoder()    \n",
    "    le.fit(df[c])\n",
    "    out_df[c] = le.transform(df[c])\n",
    "out_df"
   ]
  },
  {
   "cell_type": "code",
   "execution_count": null,
   "metadata": {
    "collapsed": true
   },
   "outputs": [],
   "source": []
  },
  {
   "cell_type": "code",
   "execution_count": null,
   "metadata": {
    "collapsed": true
   },
   "outputs": [],
   "source": []
  }
 ],
 "metadata": {
  "kernelspec": {
   "display_name": "Python 2",
   "language": "python",
   "name": "python2"
  },
  "language_info": {
   "codemirror_mode": {
    "name": "ipython",
    "version": 2
   },
   "file_extension": ".py",
   "mimetype": "text/x-python",
   "name": "python",
   "nbconvert_exporter": "python",
   "pygments_lexer": "ipython2",
   "version": "2.7.12"
  }
 },
 "nbformat": 4,
 "nbformat_minor": 1
}
