{
 "cells": [
  {
   "cell_type": "markdown",
   "metadata": {},
   "source": [
    "# MDF data analysis"
   ]
  },
  {
   "cell_type": "code",
   "execution_count": null,
   "metadata": {
    "collapsed": false,
    "scrolled": true
   },
   "outputs": [],
   "source": [
    "import numpy as np\n",
    "import pandas as pd\n",
    "pd.set_option('display.max_rows', 500)\n",
    "pd.set_option('display.max_columns', 500)\n",
    "pd.set_option('display.width', 1000)\n",
    "from sklearn.preprocessing import LabelEncoder\n",
    "import matplotlib.pyplot as plt\n",
    "%matplotlib inline"
   ]
  },
  {
   "cell_type": "code",
   "execution_count": null,
   "metadata": {
    "collapsed": false
   },
   "outputs": [],
   "source": [
    "from load_data import train, test, BIG, TRAIN, TEST, SOURCE\n",
    "from common.visualization_helper import display_groups, display_unique_count\n",
    "from common.preprocessing_helper import get_unique_noconst, split_series_values, get_unique_col_values, get_numeric_nonnumeric_cols"
   ]
  },
  {
   "cell_type": "code",
   "execution_count": null,
   "metadata": {
    "collapsed": false,
    "scrolled": true
   },
   "outputs": [],
   "source": [
    "print BIG.shape, BIG.columns.values\n",
    "print train.shape, train.columns.values\n",
    "print test.shape, test.columns.values\n"
   ]
  },
  {
   "cell_type": "markdown",
   "metadata": {},
   "source": [
    "### Remove some useless columns"
   ]
  },
  {
   "cell_type": "code",
   "execution_count": null,
   "metadata": {
    "collapsed": false,
    "scrolled": true
   },
   "outputs": [],
   "source": [
    "df__noid_noprix = BIG.drop(['libelle', 'prix', 'id'], axis=1)"
   ]
  },
  {
   "cell_type": "markdown",
   "metadata": {},
   "source": [
    "Check for dupicate rows and lets look at the columns with only one unique value."
   ]
  },
  {
   "cell_type": "code",
   "execution_count": null,
   "metadata": {
    "collapsed": false
   },
   "outputs": [],
   "source": [
    "df__noid_noprix_unique_noconst = get_unique_noconst(df__noid_noprix, verbose=True)"
   ]
  },
  {
   "cell_type": "markdown",
   "metadata": {},
   "source": [
    "### Columns description : "
   ]
  },
  {
   "cell_type": "code",
   "execution_count": null,
   "metadata": {
    "collapsed": false
   },
   "outputs": [],
   "source": [
    "type_groups_func = lambda df : df.columns.to_series().groupby(df.dtypes)\n",
    "type_groups = type_groups_func(df__noid_noprix_unique_noconst)"
   ]
  },
  {
   "cell_type": "code",
   "execution_count": null,
   "metadata": {
    "collapsed": false
   },
   "outputs": [],
   "source": [
    "display_groups(type_groups)"
   ]
  },
  {
   "cell_type": "markdown",
   "metadata": {},
   "source": [
    "### Identify and separate the numeric and non numeric rows.\n",
    "Report NaN values on numerical columns"
   ]
  },
  {
   "cell_type": "code",
   "execution_count": null,
   "metadata": {
    "collapsed": false
   },
   "outputs": [],
   "source": [
    "num_cols, nonnum_cols = get_numeric_nonnumeric_cols(df__noid_noprix_unique_noconst)\n",
    "        \n",
    "nb_isnan = np.sum(df__noid_noprix_unique_noconst[num_cols].apply(np.isnan))"
   ]
  },
  {
   "cell_type": "code",
   "execution_count": null,
   "metadata": {
    "collapsed": false
   },
   "outputs": [],
   "source": [
    "print nb_isnan"
   ]
  },
  {
   "cell_type": "markdown",
   "metadata": {},
   "source": [
    "### Identify non numeric rows."
   ]
  },
  {
   "cell_type": "code",
   "execution_count": null,
   "metadata": {
    "collapsed": false,
    "scrolled": true
   },
   "outputs": [],
   "source": [
    "df__noid_noprix_unique_noconst[nonnum_cols].tail(5)"
   ]
  },
  {
   "cell_type": "code",
   "execution_count": null,
   "metadata": {
    "collapsed": false
   },
   "outputs": [],
   "source": [
    "train__noid_noprix_unique_noconst = df__noid_noprix_unique_noconst[df__noid_noprix_unique_noconst[SOURCE] == TRAIN]\n",
    "train_unique_col_values = get_unique_col_values(train__noid_noprix_unique_noconst[nonnum_cols])\n",
    "#train_unique_col_values"
   ]
  },
  {
   "cell_type": "code",
   "execution_count": null,
   "metadata": {
    "collapsed": false
   },
   "outputs": [],
   "source": [
    "test__noid_noprix_unique_noconst = df__noid_noprix_unique_noconst[df__noid_noprix_unique_noconst[SOURCE] == TEST]\n",
    "test_unique_col_values = get_unique_col_values(test__noid_noprix_unique_noconst[nonnum_cols])\n",
    "#test_unique_col_values"
   ]
  },
  {
   "cell_type": "code",
   "execution_count": null,
   "metadata": {
    "collapsed": false
   },
   "outputs": [],
   "source": [
    "index = 1\n",
    "ll = train_unique_col_values.iloc[index][1]\n",
    "train_res = split_series_values(train_unique_col_values.iloc[index][2:2+ll])    \n",
    "train_df = display_unique_count(train_res)\n",
    "\n",
    "ll = test_unique_col_values.iloc[index][1]\n",
    "test_res = split_series_values(test_unique_col_values.iloc[index][2:2+ll])    \n",
    "test_df = display_unique_count(test_res)\n",
    "\n",
    "print \"\\n Values present in test and not present in train\"\n",
    "non_trained_values = test_df[~test_df['Value'].isin(train_df['Value'])]\n",
    "print len(non_trained_values),\"\\n\", non_trained_values\n",
    "\n",
    "print \"\\n Values present in train and not present in test\"\n",
    "non_test_values = train_df[~train_df['Value'].isin(test_df['Value'])]\n",
    "print len(non_test_values),\"\\n\", non_test_values"
   ]
  },
  {
   "cell_type": "code",
   "execution_count": null,
   "metadata": {
    "collapsed": false,
    "scrolled": true
   },
   "outputs": [],
   "source": [
    "index = 2\n",
    "ll = train_unique_col_values.iloc[index][1]\n",
    "train_res = split_series_values(train_unique_col_values.iloc[index][2:2+ll])    \n",
    "train_df = display_unique_count(train_res)\n",
    "\n",
    "ll = test_unique_col_values.iloc[index][1]\n",
    "test_res = split_series_values(test_unique_col_values.iloc[index][2:2+ll])    \n",
    "test_df = display_unique_count(test_res)\n",
    "\n",
    "print \"\\n Values present in test and not present in train\"\n",
    "non_trained_values = test_df[~test_df['Value'].isin(train_df['Value'])]\n",
    "print len(non_trained_values),\"\\n\", non_trained_values\n",
    "\n",
    "print \"\\n Values present in train and not present in test\"\n",
    "non_test_values = train_df[~train_df['Value'].isin(test_df['Value'])]\n",
    "print len(non_test_values),\"\\n\", non_test_values"
   ]
  },
  {
   "cell_type": "code",
   "execution_count": null,
   "metadata": {
    "collapsed": false,
    "scrolled": true
   },
   "outputs": [],
   "source": [
    "index = 4\n",
    "ll = train_unique_col_values.iloc[index][1]\n",
    "train_res = split_series_values(train_unique_col_values.iloc[index][2:2+ll])    \n",
    "train_df = display_unique_count(train_res)\n",
    "\n",
    "ll = test_unique_col_values.iloc[index][1]\n",
    "test_res = split_series_values(test_unique_col_values.iloc[index][2:2+ll])    \n",
    "test_df = display_unique_count(test_res)\n",
    "\n",
    "print \"\\n Values present in test and not present in train\"\n",
    "non_trained_values = test_df[~test_df['Value'].isin(train_df['Value'])]\n",
    "print len(non_trained_values),\"\\n\", non_trained_values\n",
    "\n",
    "print \"\\n Values present in train and not present in test\"\n",
    "non_test_values = train_df[~train_df['Value'].isin(test_df['Value'])]\n",
    "print len(non_test_values),\"\\n\", non_test_values"
   ]
  },
  {
   "cell_type": "code",
   "execution_count": null,
   "metadata": {
    "collapsed": false
   },
   "outputs": [],
   "source": [
    "index = 5\n",
    "ll = train_unique_col_values.iloc[index][1]\n",
    "train_res = split_series_values(train_unique_col_values.iloc[index][2:2+ll])    \n",
    "train_df = display_unique_count(train_res)\n",
    "\n",
    "ll = test_unique_col_values.iloc[index][1]\n",
    "test_res = split_series_values(test_unique_col_values.iloc[index][2:2+ll])    \n",
    "test_df = display_unique_count(test_res)\n",
    "\n",
    "print \"\\n Values present in test and not present in train\"\n",
    "non_trained_values = test_df[~test_df['Value'].isin(train_df['Value'])]\n",
    "print len(non_trained_values),\"\\n\", non_trained_values\n",
    "\n",
    "print \"\\n Values present in train and not present in test\"\n",
    "non_test_values = train_df[~train_df['Value'].isin(test_df['Value'])]\n",
    "print len(non_test_values),\"\\n\", non_test_values"
   ]
  },
  {
   "cell_type": "code",
   "execution_count": null,
   "metadata": {
    "collapsed": true
   },
   "outputs": [],
   "source": [
    "def alpha_sort(s):\n",
    "    splt = s.split(' ')\n",
    "    sorted_splt = sorted(splt)\n",
    "    return ' '.join(sorted_splt)    "
   ]
  },
  {
   "cell_type": "code",
   "execution_count": null,
   "metadata": {
    "collapsed": false,
    "scrolled": true
   },
   "outputs": [],
   "source": [
    "index = 6\n",
    "ll = train_unique_col_values.iloc[index][1]\n",
    "train_res = split_series_values(train_unique_col_values.iloc[index][2:2+ll])\n",
    "train_res = train_res.apply(alpha_sort)\n",
    "train_df = display_unique_count(train_res)\n",
    "\n",
    "ll = test_unique_col_values.iloc[index][1]\n",
    "test_res = split_series_values(test_unique_col_values.iloc[index][2:2+ll])    \n",
    "test_res = test_res.apply(alpha_sort)\n",
    "test_df = display_unique_count(test_res)\n",
    "\n",
    "print \"\\n Values present in test and not present in train\"\n",
    "non_trained_values = test_df[~test_df['Value'].isin(train_df['Value'])]\n",
    "print len(non_trained_values),\"\\n\", non_trained_values\n",
    "\n",
    "print \"\\n Values present in train and not present in test\"\n",
    "non_test_values = train_df[~train_df['Value'].isin(test_df['Value'])]\n",
    "print len(non_test_values),\"\\n\", non_test_values"
   ]
  },
  {
   "cell_type": "code",
   "execution_count": null,
   "metadata": {
    "collapsed": false,
    "scrolled": true
   },
   "outputs": [],
   "source": [
    "index = 7\n",
    "ll = train_unique_col_values.iloc[index][1]\n",
    "train_res = split_series_values(train_unique_col_values.iloc[index][2:2+ll])    \n",
    "train_df = display_unique_count(train_res)\n",
    "\n",
    "ll = test_unique_col_values.iloc[index][1]\n",
    "test_res = split_series_values(test_unique_col_values.iloc[index][2:2+ll])    \n",
    "test_df = display_unique_count(test_res)\n",
    "\n",
    "print test_df[~test_df['Value'].isin(train_df['Value'])]"
   ]
  },
  {
   "cell_type": "code",
   "execution_count": null,
   "metadata": {
    "collapsed": false
   },
   "outputs": [],
   "source": [
    "index = 8\n",
    "ll = train_unique_col_values.iloc[index][1]\n",
    "train_res = split_series_values(train_unique_col_values.iloc[index][2:2+ll])    \n",
    "train_df = display_unique_count(train_res)\n",
    "\n",
    "ll = test_unique_col_values.iloc[index][1]\n",
    "test_res = split_series_values(test_unique_col_values.iloc[index][2:2+ll])    \n",
    "test_df = display_unique_count(test_res)\n",
    "\n",
    "print test_df[~test_df['Value'].isin(train_df['Value'])]"
   ]
  },
  {
   "cell_type": "code",
   "execution_count": null,
   "metadata": {
    "collapsed": false
   },
   "outputs": [],
   "source": [
    "index = 9\n",
    "ll = train_unique_col_values.iloc[index][1]\n",
    "train_res = split_series_values(train_unique_col_values.iloc[index][2:2+ll])    \n",
    "train_df = display_unique_count(train_res)\n",
    "\n",
    "ll = test_unique_col_values.iloc[index][1]\n",
    "test_res = split_series_values(test_unique_col_values.iloc[index][2:2+ll])    \n",
    "test_df = display_unique_count(test_res)\n",
    "\n",
    "print test_df[~test_df['Value'].isin(train_df['Value'])]"
   ]
  },
  {
   "cell_type": "code",
   "execution_count": null,
   "metadata": {
    "collapsed": false
   },
   "outputs": [],
   "source": [
    "index = 10\n",
    "ll = train_unique_col_values.iloc[index][1]\n",
    "train_res = split_series_values(train_unique_col_values.iloc[index][2:2+ll])    \n",
    "train_df = display_unique_count(train_res)\n",
    "\n",
    "ll = test_unique_col_values.iloc[index][1]\n",
    "test_res = split_series_values(test_unique_col_values.iloc[index][2:2+ll])    \n",
    "test_df = display_unique_count(test_res)\n",
    "\n",
    "print test_df[~test_df['Value'].isin(train_df['Value'])]"
   ]
  },
  {
   "cell_type": "markdown",
   "metadata": {
    "collapsed": true
   },
   "source": [
    "### Encode categorical features"
   ]
  },
  {
   "cell_type": "code",
   "execution_count": null,
   "metadata": {
    "collapsed": false,
    "scrolled": true
   },
   "outputs": [],
   "source": [
    "df = df__noid_noprix_unique_noconst[nonnum_cols].drop(['substances', 'voies admin'], axis=1)\n",
    "for c in df.columns:\n",
    "    le = LabelEncoder()    \n",
    "    le.fit(df[c])\n",
    "    df__noid_noprix_unique_noconst[c] = le.transform(df[c])\n",
    "df__noid_noprix_unique_noconst.head(5)"
   ]
  },
  {
   "cell_type": "markdown",
   "metadata": {},
   "source": [
    "### Get dummies for 'Substances' and 'Voies admin'"
   ]
  },
  {
   "cell_type": "code",
   "execution_count": null,
   "metadata": {
    "collapsed": false
   },
   "outputs": [],
   "source": [
    "df = df__noid_noprix_unique_noconst[['substances', 'voies admin']]\n",
    "\n",
    "def alpha_sort(s):\n",
    "    splt = s.split(' ')\n",
    "    sorted_splt = sorted(splt)\n",
    "    return ' '.join(sorted_splt) \n",
    "\n",
    "# Substances : \n",
    "def alpha_sort(s):\n",
    "    splt = s.split(' ')\n",
    "    sorted_splt = sorted(splt)\n",
    "    return ' '.join(sorted_splt) \n",
    "\n",
    "def alpha_sort_notsplitted(line):\n",
    "    splt = line.split(',')\n",
    "    for i in range(len(splt)):\n",
    "        splt[i] = alpha_sort(splt[i])\n",
    "    return ','.join(splt) \n",
    "\n",
    "df_substances = df['substances'].str.strip().str.replace(', ', ',').apply(alpha_sort_notsplitted).str.get_dummies(',')\n",
    "\n",
    "# Voies admin : \n",
    "dums_va = df['voies admin'].str.get_dummies(',')"
   ]
  },
  {
   "cell_type": "code",
   "execution_count": null,
   "metadata": {
    "collapsed": false,
    "scrolled": false
   },
   "outputs": [],
   "source": [
    "df2 = df__noid_noprix_unique_noconst.drop(['substances', 'voies admin'], axis=1)\n",
    "df__noid_noprix_unique_noconst = pd.concat([df2, dums_va], axis=1)"
   ]
  },
  {
   "cell_type": "code",
   "execution_count": null,
   "metadata": {
    "collapsed": false
   },
   "outputs": [],
   "source": [
    "df__noid_noprix_unique_noconst.head(5)"
   ]
  },
  {
   "cell_type": "code",
   "execution_count": null,
   "metadata": {
    "collapsed": false,
    "scrolled": true
   },
   "outputs": [],
   "source": [
    "    "
   ]
  },
  {
   "cell_type": "code",
   "execution_count": null,
   "metadata": {
    "collapsed": false,
    "scrolled": true
   },
   "outputs": [],
   "source": [
    "df_substances.head(3)"
   ]
  },
  {
   "cell_type": "code",
   "execution_count": null,
   "metadata": {
    "collapsed": true
   },
   "outputs": [],
   "source": []
  },
  {
   "cell_type": "markdown",
   "metadata": {},
   "source": [
    "### Price histogram"
   ]
  },
  {
   "cell_type": "code",
   "execution_count": 14,
   "metadata": {
    "collapsed": false
   },
   "outputs": [
    {
     "ename": "NameError",
     "evalue": "name 'plt' is not defined",
     "output_type": "error",
     "traceback": [
      "\u001b[0;31m\u001b[0m",
      "\u001b[0;31mNameError\u001b[0mTraceback (most recent call last)",
      "\u001b[0;32m<ipython-input-14-928f21c31deb>\u001b[0m in \u001b[0;36m<module>\u001b[0;34m()\u001b[0m\n\u001b[0;32m----> 1\u001b[0;31m \u001b[0mplt\u001b[0m\u001b[0;34m.\u001b[0m\u001b[0mfigure\u001b[0m\u001b[0;34m(\u001b[0m\u001b[0mfigsize\u001b[0m\u001b[0;34m=\u001b[0m\u001b[0;34m(\u001b[0m\u001b[0;36m18\u001b[0m\u001b[0;34m,\u001b[0m \u001b[0;36m6\u001b[0m\u001b[0;34m)\u001b[0m\u001b[0;34m)\u001b[0m\u001b[0;34m\u001b[0m\u001b[0m\n\u001b[0m\u001b[1;32m      2\u001b[0m \u001b[0mtrain\u001b[0m\u001b[0;34m[\u001b[0m\u001b[0;34m'logprix'\u001b[0m\u001b[0;34m]\u001b[0m \u001b[0;34m=\u001b[0m \u001b[0mtrain\u001b[0m\u001b[0;34m[\u001b[0m\u001b[0;34m'prix'\u001b[0m\u001b[0;34m]\u001b[0m\u001b[0;34m.\u001b[0m\u001b[0mapply\u001b[0m\u001b[0;34m(\u001b[0m\u001b[0mnp\u001b[0m\u001b[0;34m.\u001b[0m\u001b[0mlog\u001b[0m\u001b[0;34m)\u001b[0m\u001b[0;34m\u001b[0m\u001b[0m\n\u001b[1;32m      3\u001b[0m \u001b[0msns\u001b[0m\u001b[0;34m.\u001b[0m\u001b[0mdistplot\u001b[0m\u001b[0;34m(\u001b[0m\u001b[0mtrain\u001b[0m\u001b[0;34m[\u001b[0m\u001b[0;34m'logprix'\u001b[0m\u001b[0;34m]\u001b[0m\u001b[0;34m,\u001b[0m \u001b[0mcolor\u001b[0m\u001b[0;34m=\u001b[0m\u001b[0;34m'green'\u001b[0m\u001b[0;34m,\u001b[0m \u001b[0mkde\u001b[0m\u001b[0;34m=\u001b[0m\u001b[0mFalse\u001b[0m\u001b[0;34m)\u001b[0m\u001b[0;34m\u001b[0m\u001b[0m\n",
      "\u001b[0;31mNameError\u001b[0m: name 'plt' is not defined"
     ]
    }
   ],
   "source": [
    "plt.figure(figsize=(18, 6))\n",
    "train['logprix'] = train['prix'].apply(np.log)\n",
    "sns.distplot(train['logprix'], color='green', kde=False)"
   ]
  },
  {
   "cell_type": "code",
   "execution_count": null,
   "metadata": {
    "collapsed": true
   },
   "outputs": [],
   "source": []
  },
  {
   "cell_type": "code",
   "execution_count": null,
   "metadata": {
    "collapsed": true
   },
   "outputs": [],
   "source": []
  },
  {
   "cell_type": "code",
   "execution_count": null,
   "metadata": {
    "collapsed": true
   },
   "outputs": [],
   "source": []
  }
 ],
 "metadata": {
  "kernelspec": {
   "display_name": "Python 2",
   "language": "python",
   "name": "python2"
  },
  "language_info": {
   "codemirror_mode": {
    "name": "ipython",
    "version": 2
   },
   "file_extension": ".py",
   "mimetype": "text/x-python",
   "name": "python",
   "nbconvert_exporter": "python",
   "pygments_lexer": "ipython2",
   "version": "2.7.12"
  }
 },
 "nbformat": 4,
 "nbformat_minor": 1
}
