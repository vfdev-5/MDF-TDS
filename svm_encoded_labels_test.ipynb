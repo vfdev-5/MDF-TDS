{
 "cells": [
  {
   "cell_type": "markdown",
   "metadata": {},
   "source": [
    "# Test SVM on encoded labels/price data"
   ]
  },
  {
   "cell_type": "code",
   "execution_count": 25,
   "metadata": {
    "collapsed": true
   },
   "outputs": [],
   "source": [
    "import pandas as pd\n",
    "import numpy as np"
   ]
  },
  {
   "cell_type": "markdown",
   "metadata": {},
   "source": [
    "Define data :\n",
    "- Data contains products and its prices\n",
    "- A product is composed of `nb_components` components  \n",
    "- Each component has its price, defined in `price_per_component` and which is not exposed for learning\n",
    "- Product's price is computed as a sum on components of the component price multiplied on number of elements of the component: \n",
    "\n",
    "```\n",
    "price(product=p) = sum( price(component=c) * nb_elements(component=c), c in components(product=p) )\n",
    "```\n",
    "\n",
    "We want to predict a price a product.\n",
    "\n",
    "*Conclusions:* \n"
   ]
  },
  {
   "cell_type": "code",
   "execution_count": 26,
   "metadata": {
    "collapsed": false
   },
   "outputs": [],
   "source": [
    "nb_components = 500\n",
    "nb_samples = 10000\n",
    "price_per_component = np.array([i+1 for i in range(nb_components)])\n",
    "data = np.random.randint(-3, 2, size=[nb_samples, nb_components]) \n",
    "data[data < 0] = 0\n",
    "sums = np.sum(data, axis=1)\n",
    "data[sums == 0, np.random.randint(nb_components)] += 1\n",
    "# Add a random element if only one component is found\n",
    "#sums = np.sum(data, axis=1)\n",
    "#data[sums == 1, np.random.randint(nb_components)] += 1"
   ]
  },
  {
   "cell_type": "code",
   "execution_count": 27,
   "metadata": {
    "collapsed": false
   },
   "outputs": [],
   "source": [
    "def create_name(row):\n",
    "    return \",\".join(['c_'+str(val) for val in np.where(row > 0)[0]])\n",
    "\n",
    "componentsa_and_quantities = []\n",
    "for row in data:\n",
    "    componentsa_and_quantities.append([create_name(row), np.sum(row)])"
   ]
  },
  {
   "cell_type": "code",
   "execution_count": 28,
   "metadata": {
    "collapsed": false
   },
   "outputs": [],
   "source": [
    "columns = ['Components', 'Quantity']\n",
    "prices = np.zeros((nb_samples))\n",
    "\n",
    "prices[:] = np.dot(data[:, ...], price_per_component)\n",
    "\n",
    "df = pd.DataFrame(data=componentsa_and_quantities, columns=columns)\n",
    "df['price'] = pd.Series(prices)"
   ]
  },
  {
   "cell_type": "markdown",
   "metadata": {},
   "source": [
    "Display input data"
   ]
  },
  {
   "cell_type": "code",
   "execution_count": 29,
   "metadata": {
    "collapsed": false,
    "scrolled": true
   },
   "outputs": [
    {
     "name": "stdout",
     "output_type": "stream",
     "text": [
      "Prices of components :  [  1   2   3   4   5   6   7   8   9  10  11  12  13  14  15  16  17  18\n",
      "  19  20  21  22  23  24  25  26  27  28  29  30  31  32  33  34  35  36\n",
      "  37  38  39  40  41  42  43  44  45  46  47  48  49  50  51  52  53  54\n",
      "  55  56  57  58  59  60  61  62  63  64  65  66  67  68  69  70  71  72\n",
      "  73  74  75  76  77  78  79  80  81  82  83  84  85  86  87  88  89  90\n",
      "  91  92  93  94  95  96  97  98  99 100 101 102 103 104 105 106 107 108\n",
      " 109 110 111 112 113 114 115 116 117 118 119 120 121 122 123 124 125 126\n",
      " 127 128 129 130 131 132 133 134 135 136 137 138 139 140 141 142 143 144\n",
      " 145 146 147 148 149 150 151 152 153 154 155 156 157 158 159 160 161 162\n",
      " 163 164 165 166 167 168 169 170 171 172 173 174 175 176 177 178 179 180\n",
      " 181 182 183 184 185 186 187 188 189 190 191 192 193 194 195 196 197 198\n",
      " 199 200 201 202 203 204 205 206 207 208 209 210 211 212 213 214 215 216\n",
      " 217 218 219 220 221 222 223 224 225 226 227 228 229 230 231 232 233 234\n",
      " 235 236 237 238 239 240 241 242 243 244 245 246 247 248 249 250 251 252\n",
      " 253 254 255 256 257 258 259 260 261 262 263 264 265 266 267 268 269 270\n",
      " 271 272 273 274 275 276 277 278 279 280 281 282 283 284 285 286 287 288\n",
      " 289 290 291 292 293 294 295 296 297 298 299 300 301 302 303 304 305 306\n",
      " 307 308 309 310 311 312 313 314 315 316 317 318 319 320 321 322 323 324\n",
      " 325 326 327 328 329 330 331 332 333 334 335 336 337 338 339 340 341 342\n",
      " 343 344 345 346 347 348 349 350 351 352 353 354 355 356 357 358 359 360\n",
      " 361 362 363 364 365 366 367 368 369 370 371 372 373 374 375 376 377 378\n",
      " 379 380 381 382 383 384 385 386 387 388 389 390 391 392 393 394 395 396\n",
      " 397 398 399 400 401 402 403 404 405 406 407 408 409 410 411 412 413 414\n",
      " 415 416 417 418 419 420 421 422 423 424 425 426 427 428 429 430 431 432\n",
      " 433 434 435 436 437 438 439 440 441 442 443 444 445 446 447 448 449 450\n",
      " 451 452 453 454 455 456 457 458 459 460 461 462 463 464 465 466 467 468\n",
      " 469 470 471 472 473 474 475 476 477 478 479 480 481 482 483 484 485 486\n",
      " 487 488 489 490 491 492 493 494 495 496 497 498 499 500]\n"
     ]
    },
    {
     "data": {
      "text/html": [
       "<div>\n",
       "<table border=\"1\" class=\"dataframe\">\n",
       "  <thead>\n",
       "    <tr style=\"text-align: right;\">\n",
       "      <th></th>\n",
       "      <th>Components</th>\n",
       "      <th>Quantity</th>\n",
       "      <th>price</th>\n",
       "    </tr>\n",
       "  </thead>\n",
       "  <tbody>\n",
       "    <tr>\n",
       "      <th>0</th>\n",
       "      <td>c_12,c_21,c_50,c_51,c_53,c_57,c_62,c_63,c_74,c...</td>\n",
       "      <td>98</td>\n",
       "      <td>26500.0</td>\n",
       "    </tr>\n",
       "    <tr>\n",
       "      <th>1</th>\n",
       "      <td>c_2,c_9,c_14,c_16,c_22,c_23,c_27,c_30,c_38,c_4...</td>\n",
       "      <td>122</td>\n",
       "      <td>31602.0</td>\n",
       "    </tr>\n",
       "    <tr>\n",
       "      <th>2</th>\n",
       "      <td>c_1,c_3,c_4,c_7,c_10,c_13,c_16,c_25,c_26,c_29,...</td>\n",
       "      <td>111</td>\n",
       "      <td>23327.0</td>\n",
       "    </tr>\n",
       "    <tr>\n",
       "      <th>3</th>\n",
       "      <td>c_2,c_5,c_11,c_13,c_26,c_27,c_29,c_32,c_34,c_3...</td>\n",
       "      <td>96</td>\n",
       "      <td>23084.0</td>\n",
       "    </tr>\n",
       "    <tr>\n",
       "      <th>4</th>\n",
       "      <td>c_7,c_14,c_21,c_23,c_25,c_28,c_38,c_48,c_53,c_...</td>\n",
       "      <td>85</td>\n",
       "      <td>21428.0</td>\n",
       "    </tr>\n",
       "    <tr>\n",
       "      <th>5</th>\n",
       "      <td>c_0,c_2,c_4,c_12,c_19,c_20,c_31,c_38,c_43,c_45...</td>\n",
       "      <td>105</td>\n",
       "      <td>27596.0</td>\n",
       "    </tr>\n",
       "    <tr>\n",
       "      <th>6</th>\n",
       "      <td>c_1,c_4,c_17,c_24,c_29,c_34,c_37,c_39,c_46,c_4...</td>\n",
       "      <td>97</td>\n",
       "      <td>24887.0</td>\n",
       "    </tr>\n",
       "    <tr>\n",
       "      <th>7</th>\n",
       "      <td>c_1,c_7,c_18,c_19,c_24,c_27,c_34,c_44,c_45,c_4...</td>\n",
       "      <td>94</td>\n",
       "      <td>24219.0</td>\n",
       "    </tr>\n",
       "    <tr>\n",
       "      <th>8</th>\n",
       "      <td>c_4,c_24,c_29,c_30,c_35,c_41,c_46,c_50,c_54,c_...</td>\n",
       "      <td>99</td>\n",
       "      <td>26847.0</td>\n",
       "    </tr>\n",
       "    <tr>\n",
       "      <th>9</th>\n",
       "      <td>c_11,c_17,c_30,c_40,c_42,c_45,c_54,c_66,c_73,c...</td>\n",
       "      <td>100</td>\n",
       "      <td>25977.0</td>\n",
       "    </tr>\n",
       "    <tr>\n",
       "      <th>10</th>\n",
       "      <td>c_5,c_10,c_22,c_28,c_30,c_34,c_58,c_70,c_71,c_...</td>\n",
       "      <td>90</td>\n",
       "      <td>24689.0</td>\n",
       "    </tr>\n",
       "    <tr>\n",
       "      <th>11</th>\n",
       "      <td>c_24,c_29,c_34,c_38,c_42,c_43,c_44,c_48,c_65,c...</td>\n",
       "      <td>96</td>\n",
       "      <td>23982.0</td>\n",
       "    </tr>\n",
       "    <tr>\n",
       "      <th>12</th>\n",
       "      <td>c_0,c_2,c_4,c_7,c_9,c_10,c_11,c_14,c_15,c_18,c...</td>\n",
       "      <td>113</td>\n",
       "      <td>24909.0</td>\n",
       "    </tr>\n",
       "    <tr>\n",
       "      <th>13</th>\n",
       "      <td>c_2,c_8,c_12,c_16,c_22,c_24,c_25,c_34,c_39,c_4...</td>\n",
       "      <td>91</td>\n",
       "      <td>20782.0</td>\n",
       "    </tr>\n",
       "    <tr>\n",
       "      <th>14</th>\n",
       "      <td>c_10,c_17,c_20,c_23,c_24,c_25,c_26,c_28,c_30,c...</td>\n",
       "      <td>125</td>\n",
       "      <td>33918.0</td>\n",
       "    </tr>\n",
       "    <tr>\n",
       "      <th>15</th>\n",
       "      <td>c_3,c_4,c_5,c_12,c_14,c_18,c_22,c_25,c_26,c_33...</td>\n",
       "      <td>110</td>\n",
       "      <td>27107.0</td>\n",
       "    </tr>\n",
       "    <tr>\n",
       "      <th>16</th>\n",
       "      <td>c_12,c_13,c_20,c_21,c_33,c_35,c_37,c_46,c_52,c...</td>\n",
       "      <td>102</td>\n",
       "      <td>25209.0</td>\n",
       "    </tr>\n",
       "    <tr>\n",
       "      <th>17</th>\n",
       "      <td>c_7,c_12,c_18,c_19,c_20,c_23,c_26,c_29,c_31,c_...</td>\n",
       "      <td>103</td>\n",
       "      <td>26448.0</td>\n",
       "    </tr>\n",
       "    <tr>\n",
       "      <th>18</th>\n",
       "      <td>c_5,c_9,c_10,c_11,c_15,c_19,c_23,c_24,c_30,c_3...</td>\n",
       "      <td>114</td>\n",
       "      <td>27683.0</td>\n",
       "    </tr>\n",
       "    <tr>\n",
       "      <th>19</th>\n",
       "      <td>c_3,c_5,c_15,c_28,c_36,c_37,c_40,c_41,c_47,c_4...</td>\n",
       "      <td>104</td>\n",
       "      <td>26281.0</td>\n",
       "    </tr>\n",
       "    <tr>\n",
       "      <th>20</th>\n",
       "      <td>c_1,c_11,c_18,c_20,c_21,c_32,c_34,c_35,c_50,c_...</td>\n",
       "      <td>96</td>\n",
       "      <td>21215.0</td>\n",
       "    </tr>\n",
       "    <tr>\n",
       "      <th>21</th>\n",
       "      <td>c_1,c_10,c_14,c_19,c_24,c_28,c_35,c_48,c_51,c_...</td>\n",
       "      <td>101</td>\n",
       "      <td>26121.0</td>\n",
       "    </tr>\n",
       "    <tr>\n",
       "      <th>22</th>\n",
       "      <td>c_3,c_5,c_6,c_13,c_21,c_25,c_29,c_40,c_45,c_49...</td>\n",
       "      <td>91</td>\n",
       "      <td>23162.0</td>\n",
       "    </tr>\n",
       "    <tr>\n",
       "      <th>23</th>\n",
       "      <td>c_3,c_23,c_28,c_29,c_36,c_41,c_42,c_45,c_46,c_...</td>\n",
       "      <td>103</td>\n",
       "      <td>25272.0</td>\n",
       "    </tr>\n",
       "    <tr>\n",
       "      <th>24</th>\n",
       "      <td>c_6,c_8,c_10,c_12,c_15,c_16,c_18,c_26,c_28,c_3...</td>\n",
       "      <td>96</td>\n",
       "      <td>24608.0</td>\n",
       "    </tr>\n",
       "    <tr>\n",
       "      <th>25</th>\n",
       "      <td>c_1,c_8,c_9,c_15,c_22,c_24,c_27,c_32,c_33,c_37...</td>\n",
       "      <td>109</td>\n",
       "      <td>25788.0</td>\n",
       "    </tr>\n",
       "    <tr>\n",
       "      <th>26</th>\n",
       "      <td>c_0,c_5,c_6,c_8,c_18,c_25,c_26,c_31,c_32,c_36,...</td>\n",
       "      <td>104</td>\n",
       "      <td>27027.0</td>\n",
       "    </tr>\n",
       "    <tr>\n",
       "      <th>27</th>\n",
       "      <td>c_3,c_5,c_9,c_11,c_23,c_24,c_29,c_37,c_46,c_51...</td>\n",
       "      <td>92</td>\n",
       "      <td>22771.0</td>\n",
       "    </tr>\n",
       "    <tr>\n",
       "      <th>28</th>\n",
       "      <td>c_1,c_2,c_13,c_14,c_19,c_30,c_33,c_38,c_45,c_4...</td>\n",
       "      <td>116</td>\n",
       "      <td>28698.0</td>\n",
       "    </tr>\n",
       "    <tr>\n",
       "      <th>29</th>\n",
       "      <td>c_3,c_8,c_15,c_17,c_18,c_19,c_23,c_37,c_40,c_4...</td>\n",
       "      <td>109</td>\n",
       "      <td>26895.0</td>\n",
       "    </tr>\n",
       "    <tr>\n",
       "      <th>...</th>\n",
       "      <td>...</td>\n",
       "      <td>...</td>\n",
       "      <td>...</td>\n",
       "    </tr>\n",
       "    <tr>\n",
       "      <th>9970</th>\n",
       "      <td>c_0,c_1,c_7,c_9,c_17,c_19,c_23,c_25,c_27,c_32,...</td>\n",
       "      <td>97</td>\n",
       "      <td>22317.0</td>\n",
       "    </tr>\n",
       "    <tr>\n",
       "      <th>9971</th>\n",
       "      <td>c_0,c_5,c_7,c_9,c_10,c_11,c_13,c_14,c_29,c_32,...</td>\n",
       "      <td>105</td>\n",
       "      <td>24212.0</td>\n",
       "    </tr>\n",
       "    <tr>\n",
       "      <th>9972</th>\n",
       "      <td>c_2,c_9,c_16,c_27,c_29,c_32,c_44,c_52,c_55,c_5...</td>\n",
       "      <td>90</td>\n",
       "      <td>22683.0</td>\n",
       "    </tr>\n",
       "    <tr>\n",
       "      <th>9973</th>\n",
       "      <td>c_4,c_7,c_8,c_18,c_24,c_29,c_32,c_42,c_48,c_52...</td>\n",
       "      <td>94</td>\n",
       "      <td>23451.0</td>\n",
       "    </tr>\n",
       "    <tr>\n",
       "      <th>9974</th>\n",
       "      <td>c_2,c_4,c_5,c_7,c_11,c_12,c_13,c_15,c_16,c_23,...</td>\n",
       "      <td>98</td>\n",
       "      <td>24230.0</td>\n",
       "    </tr>\n",
       "    <tr>\n",
       "      <th>9975</th>\n",
       "      <td>c_9,c_10,c_12,c_15,c_33,c_44,c_45,c_46,c_53,c_...</td>\n",
       "      <td>98</td>\n",
       "      <td>23706.0</td>\n",
       "    </tr>\n",
       "    <tr>\n",
       "      <th>9976</th>\n",
       "      <td>c_5,c_23,c_43,c_44,c_57,c_63,c_67,c_69,c_72,c_...</td>\n",
       "      <td>95</td>\n",
       "      <td>25359.0</td>\n",
       "    </tr>\n",
       "    <tr>\n",
       "      <th>9977</th>\n",
       "      <td>c_4,c_6,c_8,c_9,c_15,c_19,c_21,c_22,c_23,c_24,...</td>\n",
       "      <td>105</td>\n",
       "      <td>25223.0</td>\n",
       "    </tr>\n",
       "    <tr>\n",
       "      <th>9978</th>\n",
       "      <td>c_7,c_11,c_12,c_14,c_21,c_32,c_35,c_41,c_46,c_...</td>\n",
       "      <td>100</td>\n",
       "      <td>25578.0</td>\n",
       "    </tr>\n",
       "    <tr>\n",
       "      <th>9979</th>\n",
       "      <td>c_3,c_14,c_16,c_18,c_20,c_21,c_31,c_36,c_37,c_...</td>\n",
       "      <td>116</td>\n",
       "      <td>27421.0</td>\n",
       "    </tr>\n",
       "    <tr>\n",
       "      <th>9980</th>\n",
       "      <td>c_0,c_7,c_10,c_15,c_18,c_19,c_20,c_29,c_35,c_4...</td>\n",
       "      <td>97</td>\n",
       "      <td>24058.0</td>\n",
       "    </tr>\n",
       "    <tr>\n",
       "      <th>9981</th>\n",
       "      <td>c_4,c_19,c_22,c_23,c_24,c_29,c_33,c_34,c_36,c_...</td>\n",
       "      <td>112</td>\n",
       "      <td>28770.0</td>\n",
       "    </tr>\n",
       "    <tr>\n",
       "      <th>9982</th>\n",
       "      <td>c_0,c_2,c_5,c_9,c_17,c_18,c_21,c_28,c_29,c_33,...</td>\n",
       "      <td>103</td>\n",
       "      <td>26553.0</td>\n",
       "    </tr>\n",
       "    <tr>\n",
       "      <th>9983</th>\n",
       "      <td>c_3,c_4,c_14,c_22,c_34,c_37,c_41,c_46,c_47,c_5...</td>\n",
       "      <td>82</td>\n",
       "      <td>20847.0</td>\n",
       "    </tr>\n",
       "    <tr>\n",
       "      <th>9984</th>\n",
       "      <td>c_1,c_2,c_4,c_14,c_16,c_17,c_21,c_27,c_29,c_30...</td>\n",
       "      <td>105</td>\n",
       "      <td>27616.0</td>\n",
       "    </tr>\n",
       "    <tr>\n",
       "      <th>9985</th>\n",
       "      <td>c_2,c_8,c_12,c_19,c_20,c_21,c_22,c_34,c_35,c_3...</td>\n",
       "      <td>86</td>\n",
       "      <td>21555.0</td>\n",
       "    </tr>\n",
       "    <tr>\n",
       "      <th>9986</th>\n",
       "      <td>c_4,c_11,c_12,c_13,c_19,c_26,c_31,c_33,c_35,c_...</td>\n",
       "      <td>112</td>\n",
       "      <td>27585.0</td>\n",
       "    </tr>\n",
       "    <tr>\n",
       "      <th>9987</th>\n",
       "      <td>c_5,c_8,c_9,c_11,c_13,c_21,c_27,c_32,c_34,c_35...</td>\n",
       "      <td>84</td>\n",
       "      <td>19646.0</td>\n",
       "    </tr>\n",
       "    <tr>\n",
       "      <th>9988</th>\n",
       "      <td>c_2,c_5,c_15,c_22,c_23,c_26,c_28,c_33,c_35,c_3...</td>\n",
       "      <td>89</td>\n",
       "      <td>21431.0</td>\n",
       "    </tr>\n",
       "    <tr>\n",
       "      <th>9989</th>\n",
       "      <td>c_22,c_31,c_39,c_43,c_52,c_56,c_65,c_67,c_78,c...</td>\n",
       "      <td>102</td>\n",
       "      <td>27046.0</td>\n",
       "    </tr>\n",
       "    <tr>\n",
       "      <th>9990</th>\n",
       "      <td>c_0,c_20,c_25,c_27,c_36,c_41,c_45,c_49,c_50,c_...</td>\n",
       "      <td>97</td>\n",
       "      <td>25293.0</td>\n",
       "    </tr>\n",
       "    <tr>\n",
       "      <th>9991</th>\n",
       "      <td>c_0,c_8,c_11,c_22,c_33,c_34,c_37,c_41,c_47,c_5...</td>\n",
       "      <td>97</td>\n",
       "      <td>26638.0</td>\n",
       "    </tr>\n",
       "    <tr>\n",
       "      <th>9992</th>\n",
       "      <td>c_11,c_14,c_25,c_28,c_32,c_35,c_36,c_40,c_50,c...</td>\n",
       "      <td>103</td>\n",
       "      <td>25929.0</td>\n",
       "    </tr>\n",
       "    <tr>\n",
       "      <th>9993</th>\n",
       "      <td>c_2,c_7,c_14,c_19,c_21,c_22,c_31,c_32,c_40,c_4...</td>\n",
       "      <td>113</td>\n",
       "      <td>27643.0</td>\n",
       "    </tr>\n",
       "    <tr>\n",
       "      <th>9994</th>\n",
       "      <td>c_5,c_7,c_11,c_17,c_22,c_29,c_33,c_37,c_47,c_5...</td>\n",
       "      <td>107</td>\n",
       "      <td>26223.0</td>\n",
       "    </tr>\n",
       "    <tr>\n",
       "      <th>9995</th>\n",
       "      <td>c_3,c_12,c_13,c_17,c_25,c_29,c_39,c_50,c_63,c_...</td>\n",
       "      <td>110</td>\n",
       "      <td>26466.0</td>\n",
       "    </tr>\n",
       "    <tr>\n",
       "      <th>9996</th>\n",
       "      <td>c_4,c_7,c_11,c_15,c_19,c_24,c_32,c_35,c_38,c_3...</td>\n",
       "      <td>107</td>\n",
       "      <td>28219.0</td>\n",
       "    </tr>\n",
       "    <tr>\n",
       "      <th>9997</th>\n",
       "      <td>c_2,c_4,c_7,c_8,c_10,c_12,c_17,c_21,c_26,c_34,...</td>\n",
       "      <td>101</td>\n",
       "      <td>25596.0</td>\n",
       "    </tr>\n",
       "    <tr>\n",
       "      <th>9998</th>\n",
       "      <td>c_3,c_26,c_33,c_37,c_39,c_41,c_55,c_65,c_68,c_...</td>\n",
       "      <td>110</td>\n",
       "      <td>29781.0</td>\n",
       "    </tr>\n",
       "    <tr>\n",
       "      <th>9999</th>\n",
       "      <td>c_2,c_13,c_15,c_16,c_20,c_24,c_26,c_28,c_34,c_...</td>\n",
       "      <td>100</td>\n",
       "      <td>22579.0</td>\n",
       "    </tr>\n",
       "  </tbody>\n",
       "</table>\n",
       "<p>10000 rows × 3 columns</p>\n",
       "</div>"
      ],
      "text/plain": [
       "                                             Components  Quantity    price\n",
       "0     c_12,c_21,c_50,c_51,c_53,c_57,c_62,c_63,c_74,c...        98  26500.0\n",
       "1     c_2,c_9,c_14,c_16,c_22,c_23,c_27,c_30,c_38,c_4...       122  31602.0\n",
       "2     c_1,c_3,c_4,c_7,c_10,c_13,c_16,c_25,c_26,c_29,...       111  23327.0\n",
       "3     c_2,c_5,c_11,c_13,c_26,c_27,c_29,c_32,c_34,c_3...        96  23084.0\n",
       "4     c_7,c_14,c_21,c_23,c_25,c_28,c_38,c_48,c_53,c_...        85  21428.0\n",
       "5     c_0,c_2,c_4,c_12,c_19,c_20,c_31,c_38,c_43,c_45...       105  27596.0\n",
       "6     c_1,c_4,c_17,c_24,c_29,c_34,c_37,c_39,c_46,c_4...        97  24887.0\n",
       "7     c_1,c_7,c_18,c_19,c_24,c_27,c_34,c_44,c_45,c_4...        94  24219.0\n",
       "8     c_4,c_24,c_29,c_30,c_35,c_41,c_46,c_50,c_54,c_...        99  26847.0\n",
       "9     c_11,c_17,c_30,c_40,c_42,c_45,c_54,c_66,c_73,c...       100  25977.0\n",
       "10    c_5,c_10,c_22,c_28,c_30,c_34,c_58,c_70,c_71,c_...        90  24689.0\n",
       "11    c_24,c_29,c_34,c_38,c_42,c_43,c_44,c_48,c_65,c...        96  23982.0\n",
       "12    c_0,c_2,c_4,c_7,c_9,c_10,c_11,c_14,c_15,c_18,c...       113  24909.0\n",
       "13    c_2,c_8,c_12,c_16,c_22,c_24,c_25,c_34,c_39,c_4...        91  20782.0\n",
       "14    c_10,c_17,c_20,c_23,c_24,c_25,c_26,c_28,c_30,c...       125  33918.0\n",
       "15    c_3,c_4,c_5,c_12,c_14,c_18,c_22,c_25,c_26,c_33...       110  27107.0\n",
       "16    c_12,c_13,c_20,c_21,c_33,c_35,c_37,c_46,c_52,c...       102  25209.0\n",
       "17    c_7,c_12,c_18,c_19,c_20,c_23,c_26,c_29,c_31,c_...       103  26448.0\n",
       "18    c_5,c_9,c_10,c_11,c_15,c_19,c_23,c_24,c_30,c_3...       114  27683.0\n",
       "19    c_3,c_5,c_15,c_28,c_36,c_37,c_40,c_41,c_47,c_4...       104  26281.0\n",
       "20    c_1,c_11,c_18,c_20,c_21,c_32,c_34,c_35,c_50,c_...        96  21215.0\n",
       "21    c_1,c_10,c_14,c_19,c_24,c_28,c_35,c_48,c_51,c_...       101  26121.0\n",
       "22    c_3,c_5,c_6,c_13,c_21,c_25,c_29,c_40,c_45,c_49...        91  23162.0\n",
       "23    c_3,c_23,c_28,c_29,c_36,c_41,c_42,c_45,c_46,c_...       103  25272.0\n",
       "24    c_6,c_8,c_10,c_12,c_15,c_16,c_18,c_26,c_28,c_3...        96  24608.0\n",
       "25    c_1,c_8,c_9,c_15,c_22,c_24,c_27,c_32,c_33,c_37...       109  25788.0\n",
       "26    c_0,c_5,c_6,c_8,c_18,c_25,c_26,c_31,c_32,c_36,...       104  27027.0\n",
       "27    c_3,c_5,c_9,c_11,c_23,c_24,c_29,c_37,c_46,c_51...        92  22771.0\n",
       "28    c_1,c_2,c_13,c_14,c_19,c_30,c_33,c_38,c_45,c_4...       116  28698.0\n",
       "29    c_3,c_8,c_15,c_17,c_18,c_19,c_23,c_37,c_40,c_4...       109  26895.0\n",
       "...                                                 ...       ...      ...\n",
       "9970  c_0,c_1,c_7,c_9,c_17,c_19,c_23,c_25,c_27,c_32,...        97  22317.0\n",
       "9971  c_0,c_5,c_7,c_9,c_10,c_11,c_13,c_14,c_29,c_32,...       105  24212.0\n",
       "9972  c_2,c_9,c_16,c_27,c_29,c_32,c_44,c_52,c_55,c_5...        90  22683.0\n",
       "9973  c_4,c_7,c_8,c_18,c_24,c_29,c_32,c_42,c_48,c_52...        94  23451.0\n",
       "9974  c_2,c_4,c_5,c_7,c_11,c_12,c_13,c_15,c_16,c_23,...        98  24230.0\n",
       "9975  c_9,c_10,c_12,c_15,c_33,c_44,c_45,c_46,c_53,c_...        98  23706.0\n",
       "9976  c_5,c_23,c_43,c_44,c_57,c_63,c_67,c_69,c_72,c_...        95  25359.0\n",
       "9977  c_4,c_6,c_8,c_9,c_15,c_19,c_21,c_22,c_23,c_24,...       105  25223.0\n",
       "9978  c_7,c_11,c_12,c_14,c_21,c_32,c_35,c_41,c_46,c_...       100  25578.0\n",
       "9979  c_3,c_14,c_16,c_18,c_20,c_21,c_31,c_36,c_37,c_...       116  27421.0\n",
       "9980  c_0,c_7,c_10,c_15,c_18,c_19,c_20,c_29,c_35,c_4...        97  24058.0\n",
       "9981  c_4,c_19,c_22,c_23,c_24,c_29,c_33,c_34,c_36,c_...       112  28770.0\n",
       "9982  c_0,c_2,c_5,c_9,c_17,c_18,c_21,c_28,c_29,c_33,...       103  26553.0\n",
       "9983  c_3,c_4,c_14,c_22,c_34,c_37,c_41,c_46,c_47,c_5...        82  20847.0\n",
       "9984  c_1,c_2,c_4,c_14,c_16,c_17,c_21,c_27,c_29,c_30...       105  27616.0\n",
       "9985  c_2,c_8,c_12,c_19,c_20,c_21,c_22,c_34,c_35,c_3...        86  21555.0\n",
       "9986  c_4,c_11,c_12,c_13,c_19,c_26,c_31,c_33,c_35,c_...       112  27585.0\n",
       "9987  c_5,c_8,c_9,c_11,c_13,c_21,c_27,c_32,c_34,c_35...        84  19646.0\n",
       "9988  c_2,c_5,c_15,c_22,c_23,c_26,c_28,c_33,c_35,c_3...        89  21431.0\n",
       "9989  c_22,c_31,c_39,c_43,c_52,c_56,c_65,c_67,c_78,c...       102  27046.0\n",
       "9990  c_0,c_20,c_25,c_27,c_36,c_41,c_45,c_49,c_50,c_...        97  25293.0\n",
       "9991  c_0,c_8,c_11,c_22,c_33,c_34,c_37,c_41,c_47,c_5...        97  26638.0\n",
       "9992  c_11,c_14,c_25,c_28,c_32,c_35,c_36,c_40,c_50,c...       103  25929.0\n",
       "9993  c_2,c_7,c_14,c_19,c_21,c_22,c_31,c_32,c_40,c_4...       113  27643.0\n",
       "9994  c_5,c_7,c_11,c_17,c_22,c_29,c_33,c_37,c_47,c_5...       107  26223.0\n",
       "9995  c_3,c_12,c_13,c_17,c_25,c_29,c_39,c_50,c_63,c_...       110  26466.0\n",
       "9996  c_4,c_7,c_11,c_15,c_19,c_24,c_32,c_35,c_38,c_3...       107  28219.0\n",
       "9997  c_2,c_4,c_7,c_8,c_10,c_12,c_17,c_21,c_26,c_34,...       101  25596.0\n",
       "9998  c_3,c_26,c_33,c_37,c_39,c_41,c_55,c_65,c_68,c_...       110  29781.0\n",
       "9999  c_2,c_13,c_15,c_16,c_20,c_24,c_26,c_28,c_34,c_...       100  22579.0\n",
       "\n",
       "[10000 rows x 3 columns]"
      ]
     },
     "execution_count": 29,
     "metadata": {},
     "output_type": "execute_result"
    }
   ],
   "source": [
    "print \"Prices of components : \", price_per_component\n",
    "df"
   ]
  },
  {
   "cell_type": "code",
   "execution_count": 30,
   "metadata": {
    "collapsed": true
   },
   "outputs": [],
   "source": [
    "assert len(df['price'][df['price'] < 1]) == 0, \"Zero price is detected\""
   ]
  },
  {
   "cell_type": "markdown",
   "metadata": {},
   "source": [
    "Train and test data"
   ]
  },
  {
   "cell_type": "code",
   "execution_count": 31,
   "metadata": {
    "collapsed": false
   },
   "outputs": [],
   "source": [
    "import matplotlib.pyplot as plt\n",
    "%matplotlib inline"
   ]
  },
  {
   "cell_type": "code",
   "execution_count": 32,
   "metadata": {
    "collapsed": false
   },
   "outputs": [
    {
     "data": {
      "image/png": "[encoded data removed]",
      "text/plain": [
       "<matplotlib.figure.Figure at 0x7f05b8e10ed0>"
      ]
     },
     "metadata": {},
     "output_type": "display_data"
    }
   ],
   "source": [
    "plt.figure(figsize=(18, 6))\n",
    "out = plt.hist(df['price'], bins=50)"
   ]
  },
  {
   "cell_type": "code",
   "execution_count": 33,
   "metadata": {
    "collapsed": true
   },
   "outputs": [],
   "source": [
    "df['logprice'] = df['price'].apply(lambda x: np.log(1 + x))"
   ]
  },
  {
   "cell_type": "code",
   "execution_count": 34,
   "metadata": {
    "collapsed": false
   },
   "outputs": [
    {
     "data": {
      "image/png": "[encoded data removed]",
      "text/plain": [
       "<matplotlib.figure.Figure at 0x7f05b8e10f50>"
      ]
     },
     "metadata": {},
     "output_type": "display_data"
    }
   ],
   "source": [
    "plt.figure(figsize=(18, 6))\n",
    "out = plt.hist(df['logprice'], bins=50)"
   ]
  },
  {
   "cell_type": "markdown",
   "metadata": {},
   "source": [
    "Encode data"
   ]
  },
  {
   "cell_type": "code",
   "execution_count": 35,
   "metadata": {
    "collapsed": true
   },
   "outputs": [],
   "source": [
    "from sklearn.preprocessing import LabelEncoder"
   ]
  },
  {
   "cell_type": "code",
   "execution_count": 36,
   "metadata": {
    "collapsed": true
   },
   "outputs": [],
   "source": [
    "le = LabelEncoder()    \n",
    "le.fit(df['Components'])\n",
    "df['Components_encoded'] = le.transform(df['Components'])"
   ]
  },
  {
   "cell_type": "code",
   "execution_count": 37,
   "metadata": {
    "collapsed": true
   },
   "outputs": [],
   "source": [
    "from sklearn.model_selection import train_test_split\n",
    "from sklearn.preprocessing import StandardScaler\n",
    "from sklearn.svm import SVR"
   ]
  },
  {
   "cell_type": "code",
   "execution_count": 38,
   "metadata": {
    "collapsed": false
   },
   "outputs": [],
   "source": [
    "X0 = df.drop(['price', 'logprice', 'Components'], axis=1)\n",
    "y = df['price'] \n",
    "ylog = df['logprice']\n",
    "\n",
    "X = StandardScaler().fit_transform(X0)\n",
    "X_train, X_test, X0_train, X0_test, y_train, y_test, ylog_train, ylog_test = train_test_split(X, X0, y, ylog, test_size=0.75)"
   ]
  },
  {
   "cell_type": "code",
   "execution_count": 39,
   "metadata": {
    "collapsed": false
   },
   "outputs": [
    {
     "data": {
      "text/html": [
       "<div>\n",
       "<table border=\"1\" class=\"dataframe\">\n",
       "  <thead>\n",
       "    <tr style=\"text-align: right;\">\n",
       "      <th></th>\n",
       "      <th>Quantity</th>\n",
       "      <th>Components_encoded</th>\n",
       "    </tr>\n",
       "  </thead>\n",
       "  <tbody>\n",
       "    <tr>\n",
       "      <th>count</th>\n",
       "      <td>10000.000000</td>\n",
       "      <td>10000.00000</td>\n",
       "    </tr>\n",
       "    <tr>\n",
       "      <th>mean</th>\n",
       "      <td>100.016200</td>\n",
       "      <td>4999.50000</td>\n",
       "    </tr>\n",
       "    <tr>\n",
       "      <th>std</th>\n",
       "      <td>8.928029</td>\n",
       "      <td>2886.89568</td>\n",
       "    </tr>\n",
       "    <tr>\n",
       "      <th>min</th>\n",
       "      <td>69.000000</td>\n",
       "      <td>0.00000</td>\n",
       "    </tr>\n",
       "    <tr>\n",
       "      <th>25%</th>\n",
       "      <td>94.000000</td>\n",
       "      <td>2499.75000</td>\n",
       "    </tr>\n",
       "    <tr>\n",
       "      <th>50%</th>\n",
       "      <td>100.000000</td>\n",
       "      <td>4999.50000</td>\n",
       "    </tr>\n",
       "    <tr>\n",
       "      <th>75%</th>\n",
       "      <td>106.000000</td>\n",
       "      <td>7499.25000</td>\n",
       "    </tr>\n",
       "    <tr>\n",
       "      <th>max</th>\n",
       "      <td>137.000000</td>\n",
       "      <td>9999.00000</td>\n",
       "    </tr>\n",
       "  </tbody>\n",
       "</table>\n",
       "</div>"
      ],
      "text/plain": [
       "           Quantity  Components_encoded\n",
       "count  10000.000000         10000.00000\n",
       "mean     100.016200          4999.50000\n",
       "std        8.928029          2886.89568\n",
       "min       69.000000             0.00000\n",
       "25%       94.000000          2499.75000\n",
       "50%      100.000000          4999.50000\n",
       "75%      106.000000          7499.25000\n",
       "max      137.000000          9999.00000"
      ]
     },
     "execution_count": 39,
     "metadata": {},
     "output_type": "execute_result"
    }
   ],
   "source": [
    "X0.describe()"
   ]
  },
  {
   "cell_type": "code",
   "execution_count": 40,
   "metadata": {
    "collapsed": false
   },
   "outputs": [
    {
     "data": {
      "text/html": [
       "<div>\n",
       "<table border=\"1\" class=\"dataframe\">\n",
       "  <thead>\n",
       "    <tr style=\"text-align: right;\">\n",
       "      <th></th>\n",
       "      <th>0</th>\n",
       "      <th>1</th>\n",
       "    </tr>\n",
       "  </thead>\n",
       "  <tbody>\n",
       "    <tr>\n",
       "      <th>count</th>\n",
       "      <td>1.000000e+04</td>\n",
       "      <td>10000.000000</td>\n",
       "    </tr>\n",
       "    <tr>\n",
       "      <th>mean</th>\n",
       "      <td>2.533085e-16</td>\n",
       "      <td>0.000000</td>\n",
       "    </tr>\n",
       "    <tr>\n",
       "      <th>std</th>\n",
       "      <td>1.000050e+00</td>\n",
       "      <td>1.000050</td>\n",
       "    </tr>\n",
       "    <tr>\n",
       "      <th>min</th>\n",
       "      <td>-3.474199e+00</td>\n",
       "      <td>-1.731878</td>\n",
       "    </tr>\n",
       "    <tr>\n",
       "      <th>25%</th>\n",
       "      <td>-6.738890e-01</td>\n",
       "      <td>-0.865939</td>\n",
       "    </tr>\n",
       "    <tr>\n",
       "      <th>50%</th>\n",
       "      <td>-1.814601e-03</td>\n",
       "      <td>0.000000</td>\n",
       "    </tr>\n",
       "    <tr>\n",
       "      <th>75%</th>\n",
       "      <td>6.702598e-01</td>\n",
       "      <td>0.865939</td>\n",
       "    </tr>\n",
       "    <tr>\n",
       "      <th>max</th>\n",
       "      <td>4.142644e+00</td>\n",
       "      <td>1.731878</td>\n",
       "    </tr>\n",
       "  </tbody>\n",
       "</table>\n",
       "</div>"
      ],
      "text/plain": [
       "                  0             1\n",
       "count  1.000000e+04  10000.000000\n",
       "mean   2.533085e-16      0.000000\n",
       "std    1.000050e+00      1.000050\n",
       "min   -3.474199e+00     -1.731878\n",
       "25%   -6.738890e-01     -0.865939\n",
       "50%   -1.814601e-03      0.000000\n",
       "75%    6.702598e-01      0.865939\n",
       "max    4.142644e+00      1.731878"
      ]
     },
     "execution_count": 40,
     "metadata": {},
     "output_type": "execute_result"
    }
   ],
   "source": [
    "pd.DataFrame(data=X).describe()"
   ]
  },
  {
   "cell_type": "code",
   "execution_count": 41,
   "metadata": {
    "collapsed": true
   },
   "outputs": [],
   "source": [
    "# Mean Absolute Percentage Error\n",
    "def mape_error(y_true, y_pred, **kwards): \n",
    "    return np.mean(np.abs((y_true - y_pred) / y_true)) * 100"
   ]
  },
  {
   "cell_type": "markdown",
   "metadata": {},
   "source": [
    "Single run"
   ]
  },
  {
   "cell_type": "code",
   "execution_count": 42,
   "metadata": {
    "collapsed": false
   },
   "outputs": [
    {
     "name": "stdout",
     "output_type": "stream",
     "text": [
      "0.596990371649\n",
      "5.23838405399\n",
      "5.29591659954\n"
     ]
    }
   ],
   "source": [
    "svr1 = SVR(kernel='linear')\n",
    "svr1.fit(X_train, y_train)\n",
    "score = svr1.score(X_train, y_train)\n",
    "print score\n",
    "res0 = svr1.predict(X_train)\n",
    "res1 = svr1.predict(X_test)\n",
    "print mape_error(y_train, res0)\n",
    "print mape_error(y_test, res1)"
   ]
  },
  {
   "cell_type": "code",
   "execution_count": 43,
   "metadata": {
    "collapsed": false
   },
   "outputs": [
    {
     "name": "stdout",
     "output_type": "stream",
     "text": [
      "[31550.0, 24446.0, 24058.0, 24536.0, 26322.0, 23817.0, 28004.0, 23712.0, 26185.0, 26892.0]\n",
      "[ 27940.55025341  23992.96190072  24490.20426448  24283.45520605\n",
      "  24806.87470602  24383.62383973  26445.43007539  24207.91249138\n",
      "  25881.5850146   26444.78715867]\n"
     ]
    }
   ],
   "source": [
    "print y_test.tolist()[:10]\n",
    "print res1[:10]\n"
   ]
  },
  {
   "cell_type": "code",
   "execution_count": 44,
   "metadata": {
    "collapsed": false
   },
   "outputs": [
    {
     "name": "stdout",
     "output_type": "stream",
     "text": [
      "0.75406917183\n",
      "0.405095217288\n",
      "0.417116101324\n"
     ]
    }
   ],
   "source": [
    "svr1 = SVR(kernel='linear')\n",
    "svr1.fit(X_train, ylog_train)\n",
    "score = svr1.score(X_train, ylog_train)\n",
    "print score\n",
    "res0 = svr1.predict(X_train)\n",
    "res1 = svr1.predict(X_test)\n",
    "print mape_error(ylog_train, res0)\n",
    "print mape_error(ylog_test, res1)"
   ]
  },
  {
   "cell_type": "code",
   "execution_count": 45,
   "metadata": {
    "collapsed": false
   },
   "outputs": [
    {
     "name": "stdout",
     "output_type": "stream",
     "text": [
      "[10.359360563188138, 10.104262787988329, 10.088264425905146, 10.107937461403084, 10.178198360706745, 10.078196876327942, 10.240138344643933, 10.073778699946109, 10.172980195787698, 10.199621308677711]\n",
      "[ 10.34701452  10.05569337  10.0812524   10.08143099  10.11509103\n",
      "  10.08034957  10.23720689  10.05805289  10.1910364   10.23700792]\n"
     ]
    }
   ],
   "source": [
    "print ylog_test.tolist()[:10]\n",
    "print res1[:10]"
   ]
  },
  {
   "cell_type": "code",
   "execution_count": 46,
   "metadata": {
    "collapsed": false
   },
   "outputs": [
    {
     "name": "stdout",
     "output_type": "stream",
     "text": [
      "0.704738096029\n",
      "4.49297373465\n",
      "4.55487609062\n"
     ]
    }
   ],
   "source": [
    "svr1 = SVR(kernel='linear', C=2)\n",
    "svr1.fit(X_train, y_train)\n",
    "score = svr1.score(X_train, y_train)\n",
    "print score\n",
    "res0 = svr1.predict(X_train)\n",
    "res1 = svr1.predict(X_test)\n",
    "print mape_error(y_train, res0)\n",
    "print mape_error(y_test, res1)"
   ]
  },
  {
   "cell_type": "code",
   "execution_count": 47,
   "metadata": {
    "collapsed": false
   },
   "outputs": [
    {
     "ename": "KeyboardInterrupt",
     "evalue": "",
     "output_type": "error",
     "traceback": [
      "\u001b[0;31m\u001b[0m",
      "\u001b[0;31mKeyboardInterrupt\u001b[0mTraceback (most recent call last)",
      "\u001b[0;32m<ipython-input-47-bd1eb5c6862e>\u001b[0m in \u001b[0;36m<module>\u001b[0;34m()\u001b[0m\n\u001b[1;32m      1\u001b[0m \u001b[0msvr2\u001b[0m \u001b[0;34m=\u001b[0m \u001b[0mSVR\u001b[0m\u001b[0;34m(\u001b[0m\u001b[0mkernel\u001b[0m\u001b[0;34m=\u001b[0m\u001b[0;34m'linear'\u001b[0m\u001b[0;34m)\u001b[0m\u001b[0;34m\u001b[0m\u001b[0m\n\u001b[0;32m----> 2\u001b[0;31m \u001b[0msvr2\u001b[0m\u001b[0;34m.\u001b[0m\u001b[0mfit\u001b[0m\u001b[0;34m(\u001b[0m\u001b[0mX0_train\u001b[0m\u001b[0;34m,\u001b[0m \u001b[0my_train\u001b[0m\u001b[0;34m)\u001b[0m\u001b[0;34m\u001b[0m\u001b[0m\n\u001b[0m\u001b[1;32m      3\u001b[0m \u001b[0mscore\u001b[0m \u001b[0;34m=\u001b[0m \u001b[0msvr2\u001b[0m\u001b[0;34m.\u001b[0m\u001b[0mscore\u001b[0m\u001b[0;34m(\u001b[0m\u001b[0mX0_train\u001b[0m\u001b[0;34m,\u001b[0m \u001b[0my_train\u001b[0m\u001b[0;34m)\u001b[0m\u001b[0;34m\u001b[0m\u001b[0m\n\u001b[1;32m      4\u001b[0m \u001b[0;32mprint\u001b[0m \u001b[0mscore\u001b[0m\u001b[0;34m\u001b[0m\u001b[0m\n\u001b[1;32m      5\u001b[0m \u001b[0mres0\u001b[0m \u001b[0;34m=\u001b[0m \u001b[0msvr2\u001b[0m\u001b[0;34m.\u001b[0m\u001b[0mpredict\u001b[0m\u001b[0;34m(\u001b[0m\u001b[0mX0_train\u001b[0m\u001b[0;34m)\u001b[0m\u001b[0;34m\u001b[0m\u001b[0m\n",
      "\u001b[0;32m/home/osboxes/Documents/TDS/venv/local/lib/python2.7/site-packages/sklearn/svm/base.pyc\u001b[0m in \u001b[0;36mfit\u001b[0;34m(self, X, y, sample_weight)\u001b[0m\n\u001b[1;32m    187\u001b[0m \u001b[0;34m\u001b[0m\u001b[0m\n\u001b[1;32m    188\u001b[0m         \u001b[0mseed\u001b[0m \u001b[0;34m=\u001b[0m \u001b[0mrnd\u001b[0m\u001b[0;34m.\u001b[0m\u001b[0mrandint\u001b[0m\u001b[0;34m(\u001b[0m\u001b[0mnp\u001b[0m\u001b[0;34m.\u001b[0m\u001b[0miinfo\u001b[0m\u001b[0;34m(\u001b[0m\u001b[0;34m'i'\u001b[0m\u001b[0;34m)\u001b[0m\u001b[0;34m.\u001b[0m\u001b[0mmax\u001b[0m\u001b[0;34m)\u001b[0m\u001b[0;34m\u001b[0m\u001b[0m\n\u001b[0;32m--> 189\u001b[0;31m         \u001b[0mfit\u001b[0m\u001b[0;34m(\u001b[0m\u001b[0mX\u001b[0m\u001b[0;34m,\u001b[0m \u001b[0my\u001b[0m\u001b[0;34m,\u001b[0m \u001b[0msample_weight\u001b[0m\u001b[0;34m,\u001b[0m \u001b[0msolver_type\u001b[0m\u001b[0;34m,\u001b[0m \u001b[0mkernel\u001b[0m\u001b[0;34m,\u001b[0m \u001b[0mrandom_seed\u001b[0m\u001b[0;34m=\u001b[0m\u001b[0mseed\u001b[0m\u001b[0;34m)\u001b[0m\u001b[0;34m\u001b[0m\u001b[0m\n\u001b[0m\u001b[1;32m    190\u001b[0m         \u001b[0;31m# see comment on the other call to np.iinfo in this file\u001b[0m\u001b[0;34m\u001b[0m\u001b[0;34m\u001b[0m\u001b[0m\n\u001b[1;32m    191\u001b[0m \u001b[0;34m\u001b[0m\u001b[0m\n",
      "\u001b[0;32m/home/osboxes/Documents/TDS/venv/local/lib/python2.7/site-packages/sklearn/svm/base.pyc\u001b[0m in \u001b[0;36m_dense_fit\u001b[0;34m(self, X, y, sample_weight, solver_type, kernel, random_seed)\u001b[0m\n\u001b[1;32m    254\u001b[0m                 \u001b[0mcache_size\u001b[0m\u001b[0;34m=\u001b[0m\u001b[0mself\u001b[0m\u001b[0;34m.\u001b[0m\u001b[0mcache_size\u001b[0m\u001b[0;34m,\u001b[0m \u001b[0mcoef0\u001b[0m\u001b[0;34m=\u001b[0m\u001b[0mself\u001b[0m\u001b[0;34m.\u001b[0m\u001b[0mcoef0\u001b[0m\u001b[0;34m,\u001b[0m\u001b[0;34m\u001b[0m\u001b[0m\n\u001b[1;32m    255\u001b[0m                 \u001b[0mgamma\u001b[0m\u001b[0;34m=\u001b[0m\u001b[0mself\u001b[0m\u001b[0;34m.\u001b[0m\u001b[0m_gamma\u001b[0m\u001b[0;34m,\u001b[0m \u001b[0mepsilon\u001b[0m\u001b[0;34m=\u001b[0m\u001b[0mself\u001b[0m\u001b[0;34m.\u001b[0m\u001b[0mepsilon\u001b[0m\u001b[0;34m,\u001b[0m\u001b[0;34m\u001b[0m\u001b[0m\n\u001b[0;32m--> 256\u001b[0;31m                 max_iter=self.max_iter, random_seed=random_seed)\n\u001b[0m\u001b[1;32m    257\u001b[0m \u001b[0;34m\u001b[0m\u001b[0m\n\u001b[1;32m    258\u001b[0m         \u001b[0mself\u001b[0m\u001b[0;34m.\u001b[0m\u001b[0m_warn_from_fit_status\u001b[0m\u001b[0;34m(\u001b[0m\u001b[0;34m)\u001b[0m\u001b[0;34m\u001b[0m\u001b[0m\n",
      "\u001b[0;31mKeyboardInterrupt\u001b[0m: "
     ]
    }
   ],
   "source": [
    "# \"ENDLESS\" COMPUTATION ON UNNORMALIZED ENCODED DATA\n",
    "svr2 = SVR(kernel='linear')\n",
    "svr2.fit(X0_train, y_train)\n",
    "score = svr2.score(X0_train, y_train)\n",
    "print score\n",
    "res0 = svr2.predict(X0_train)\n",
    "res2 = svr2.predict(X0_test)\n",
    "print mape_error(y_train, res0)\n",
    "print mape_error(y_test, res2)"
   ]
  },
  {
   "cell_type": "code",
   "execution_count": 24,
   "metadata": {
    "collapsed": false
   },
   "outputs": [
    {
     "name": "stdout",
     "output_type": "stream",
     "text": [
      "[4.0, 16.0, 14.0, 7.0, 5.0, 7.0, 22.0, 8.0, 8.0, 8.0]\n",
      "[  7.60987442  13.54207781  14.55684025   7.54426451   9.27089137\n",
      "   7.54426451  19.42124703   7.90019672   7.90019672   8.67767103]\n"
     ]
    }
   ],
   "source": [
    "print y_test.tolist()[:10]\n",
    "print res2[:10]"
   ]
  },
  {
   "cell_type": "markdown",
   "metadata": {},
   "source": [
    "Cross validation scoring"
   ]
  },
  {
   "cell_type": "code",
   "execution_count": 48,
   "metadata": {
    "collapsed": true
   },
   "outputs": [],
   "source": [
    "from sklearn.model_selection import cross_val_score\n",
    "from sklearn.metrics import make_scorer"
   ]
  },
  {
   "cell_type": "code",
   "execution_count": 49,
   "metadata": {
    "collapsed": false
   },
   "outputs": [
    {
     "name": "stdout",
     "output_type": "stream",
     "text": [
      "[ 4.76958774  4.53725366  4.83152882  4.61533358  4.79476741]\n",
      "4.70969424064 0.113409018723\n"
     ]
    }
   ],
   "source": [
    "clf = SVR(kernel='linear', C=2)\n",
    "scores = cross_val_score(clf, X_train, y_train, cv=5, scoring=make_scorer(mape_error))\n",
    "print scores      \n",
    "print scores.mean(), scores.std()"
   ]
  },
  {
   "cell_type": "code",
   "execution_count": 50,
   "metadata": {
    "collapsed": false
   },
   "outputs": [
    {
     "name": "stdout",
     "output_type": "stream",
     "text": [
      "[ 0.40622445  0.40132601  0.40298637  0.39736772  0.42056571]\n",
      "0.405694051547 0.00796475634678\n"
     ]
    }
   ],
   "source": [
    "clf = SVR(kernel='linear', C=2)\n",
    "scores = cross_val_score(clf, X_train, ylog_train, cv=5, scoring=make_scorer(mape_error))\n",
    "print scores      \n",
    "print scores.mean(), scores.std()"
   ]
  },
  {
   "cell_type": "code",
   "execution_count": null,
   "metadata": {
    "collapsed": false
   },
   "outputs": [],
   "source": [
    "clf = SVR(kernel='linear', C=2)\n",
    "scores = cross_val_score(clf, X0_train, y_train, cv=5, scoring=make_scorer(mape_error))\n",
    "print scores      \n",
    "print scores.mean(), scores.std()"
   ]
  }
 ],
 "metadata": {
  "kernelspec": {
   "display_name": "Python 2",
   "language": "python",
   "name": "python2"
  },
  "language_info": {
   "codemirror_mode": {
    "name": "ipython",
    "version": 2
   },
   "file_extension": ".py",
   "mimetype": "text/x-python",
   "name": "python",
   "nbconvert_exporter": "python",
   "pygments_lexer": "ipython2",
   "version": "2.7.12"
  }
 },
 "nbformat": 4,
 "nbformat_minor": 0
}
