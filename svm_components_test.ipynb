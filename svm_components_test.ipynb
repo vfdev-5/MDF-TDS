{
 "cells": [
  {
   "cell_type": "markdown",
   "metadata": {},
   "source": [
    "# Test SVM on components/price data"
   ]
  },
  {
   "cell_type": "code",
   "execution_count": 1,
   "metadata": {
    "collapsed": true
   },
   "outputs": [],
   "source": [
    "import pandas as pd\n",
    "import numpy as np"
   ]
  },
  {
   "cell_type": "code",
   "execution_count": 2,
   "metadata": {
    "collapsed": false
   },
   "outputs": [],
   "source": [
    "nb_components = 5\n",
    "nb_samples = 100\n",
    "# This is what we need to predict\n",
    "price_per_component = np.array([i+1 for i in range(nb_components)])\n",
    "data = np.random.randint(3, size=[nb_samples, nb_components]) \n",
    "columns = ['c_%s' % i for i in range(nb_components)]\n",
    "prices = np.zeros((nb_samples))\n",
    "prices[:] = np.dot(data[:, ...], price_per_component)\n",
    "df = pd.DataFrame(data=data, columns=columns)\n",
    "df['price'] = pd.Series(prices)"
   ]
  },
  {
   "cell_type": "code",
   "execution_count": 3,
   "metadata": {
    "collapsed": false,
    "scrolled": true
   },
   "outputs": [
    {
     "name": "stdout",
     "output_type": "stream",
     "text": [
      "[1 2 3 4 5] \n",
      "    c_0  c_1  c_2  c_3  c_4  price\n",
      "0     0    1    1    0    0    5.0\n",
      "1     1    1    0    0    2   13.0\n",
      "2     0    2    1    1    1   16.0\n",
      "3     0    0    1    2    2   21.0\n",
      "4     0    2    2    1    0   14.0\n",
      "5     2    2    2    1    2   26.0\n",
      "6     1    2    1    1    2   22.0\n",
      "7     0    2    2    1    0   14.0\n",
      "8     2    1    1    0    2   17.0\n",
      "9     0    1    2    2    0   16.0\n",
      "10    2    0    0    2    0   10.0\n",
      "11    0    2    1    1    0   11.0\n",
      "12    2    2    2    0    0   12.0\n",
      "13    0    1    0    1    0    6.0\n",
      "14    0    1    1    2    0   13.0\n",
      "15    0    2    0    1    2   18.0\n",
      "16    1    1    0    1    0    7.0\n",
      "17    1    1    2    1    2   23.0\n",
      "18    2    2    0    0    2   16.0\n",
      "19    2    1    2    1    1   19.0\n",
      "20    0    2    2    0    1   15.0\n",
      "21    0    0    1    0    1    8.0\n",
      "22    1    0    2    2    0   15.0\n",
      "23    1    2    1    1    0   12.0\n",
      "24    0    1    0    1    1   11.0\n",
      "25    2    2    2    2    1   25.0\n",
      "26    1    1    1    1    2   20.0\n",
      "27    0    0    1    1    0    7.0\n",
      "28    0    2    2    2    0   18.0\n",
      "29    0    1    1    2    1   18.0\n",
      "..  ...  ...  ...  ...  ...    ...\n",
      "70    1    0    2    0    1   12.0\n",
      "71    2    1    1    0    1   12.0\n",
      "72    2    1    2    0    2   20.0\n",
      "73    2    1    0    1    2   18.0\n",
      "74    0    0    1    2    1   16.0\n",
      "75    1    0    2    2    0   15.0\n",
      "76    0    1    2    1    0   12.0\n",
      "77    2    2    0    1    1   15.0\n",
      "78    2    2    0    0    1   11.0\n",
      "79    2    0    2    0    2   18.0\n",
      "80    2    0    0    0    2   12.0\n",
      "81    1    2    2    2    2   29.0\n",
      "82    1    2    0    1    2   19.0\n",
      "83    1    2    0    2    2   23.0\n",
      "84    2    0    1    0    0    5.0\n",
      "85    0    0    0    0    2   10.0\n",
      "86    2    1    0    0    2   14.0\n",
      "87    1    0    2    0    2   17.0\n",
      "88    2    0    0    1    1   11.0\n",
      "89    0    0    1    2    2   21.0\n",
      "90    0    1    2    0    0    8.0\n",
      "91    0    2    2    0    2   20.0\n",
      "92    0    1    2    2    0   16.0\n",
      "93    2    2    0    1    1   15.0\n",
      "94    1    0    0    1    0    5.0\n",
      "95    0    0    1    1    0    7.0\n",
      "96    0    2    1    2    1   20.0\n",
      "97    0    2    1    2    2   25.0\n",
      "98    2    1    2    1    2   24.0\n",
      "99    2    2    0    1    1   15.0\n",
      "\n",
      "[100 rows x 6 columns]\n"
     ]
    }
   ],
   "source": [
    "#print price_per_component, '\\n', df"
   ]
  },
  {
   "cell_type": "markdown",
   "metadata": {},
   "source": [
    "Train and test data"
   ]
  },
  {
   "cell_type": "code",
   "execution_count": 9,
   "metadata": {
    "collapsed": true
   },
   "outputs": [],
   "source": [
    "train_df = df.loc[:75]\n",
    "test_df = df.loc[75:]"
   ]
  },
  {
   "cell_type": "code",
   "execution_count": null,
   "metadata": {
    "collapsed": false
   },
   "outputs": [],
   "source": []
  },
  {
   "cell_type": "code",
   "execution_count": null,
   "metadata": {
    "collapsed": true
   },
   "outputs": [],
   "source": []
  },
  {
   "cell_type": "code",
   "execution_count": 4,
   "metadata": {
    "collapsed": false
   },
   "outputs": [
    {
     "name": "stderr",
     "output_type": "stream",
     "text": [
      "/usr/local/lib/python2.7/site-packages/matplotlib/font_manager.py:273: UserWarning: Matplotlib is building the font cache using fc-list. This may take a moment.\n",
      "  warnings.warn('Matplotlib is building the font cache using fc-list. This may take a moment.')\n"
     ]
    }
   ],
   "source": [
    "import matplotlib.pyplot as plt\n",
    "%matplotlib inline"
   ]
  },
  {
   "cell_type": "code",
   "execution_count": 5,
   "metadata": {
    "collapsed": false
   },
   "outputs": [
    {
     "data": {
      "image/png": "[encoded data removed]",
      "text/plain": [
       "<matplotlib.figure.Figure at 0x10e4b2450>"
      ]
     },
     "metadata": {},
     "output_type": "display_data"
    }
   ],
   "source": [
    "plt.figure(figsize=(18, 6))\n",
    "out = plt.hist(df['price'], bins=50)"
   ]
  },
  {
   "cell_type": "code",
   "execution_count": 7,
   "metadata": {
    "collapsed": false
   },
   "outputs": [],
   "source": [
    "from sklearn.model_selection import KFold\n",
    "from sklearn.svm import SVR"
   ]
  },
  {
   "cell_type": "code",
   "execution_count": 8,
   "metadata": {
    "collapsed": true
   },
   "outputs": [],
   "source": [
    "# Mean Absolute Percentage Error\n",
    "def mape_error(y_true, y_pred): \n",
    "    return np.mean(np.abs((y_true - y_pred) / y_true)) * 100"
   ]
  },
  {
   "cell_type": "code",
   "execution_count": 36,
   "metadata": {
    "collapsed": true
   },
   "outputs": [],
   "source": [
    "def crossVal(X, y, clf, scorer, n_splits=5, random_state=0, shuffle=False):\n",
    "\n",
    "    folds= ms.KFold(n_splits=n_splits, shuffle= shuffle)\n",
    "    \n",
    "    # When shuffle=True, pseudo-random number generator state used for shuffling.\n",
    "    # If None, use default numpy RNG for shuffling\n",
    "    \n",
    "    scoreList = []\n",
    "    i = 0\n",
    "    for trainIdx, testIdx in folds.split(X):\n",
    "        i +=1 \n",
    "        XTrainFolds = None; XTestFolds = None; yTrainFolds= None; yTestFolds= None\n",
    "        yPred = []\n",
    "        XTrainFolds, XTestFolds = X.iloc[trainIdx], X.iloc[testIdx]\n",
    "        yTrainFolds, yTestFolds = y.iloc[trainIdx], y.iloc[testIdx]\n",
    "        clf = clf.fit(XTrainFolds, yTrainFolds)\n",
    "        res = clf.predict(XTestFolds)\n",
    "        \n",
    "        if \"log\" in config[\"featToTransform\"]:\n",
    "            score = scorer(np.exp(yTestFolds), np.exp(res))\n",
    "        else:\n",
    "            score = scorer(yTestFolds, res)\n",
    "        \n",
    "        scoreList.append(score)\n",
    "        print \"*** MAPE Error : \" + str(i) + \" - \" + str(score)\n",
    "        sys.stdout.flush()\n",
    "        \n",
    "    print \"----------------\"\n",
    "    print \"  - Mean :\" + str(np.mean(scoreList))\n",
    "    print \"  - Ecart Max-Min :\" + str(np.max(scoreList) - np.min(scoreList))"
   ]
  },
  {
   "cell_type": "code",
   "execution_count": 17,
   "metadata": {
    "collapsed": true
   },
   "outputs": [],
   "source": [
    "X = train_df.drop(['price'], axis=1)\n",
    "y = train_df['price']\n",
    "Z = test_df.drop(['price'], axis=1)\n",
    "z = train_df['price']"
   ]
  },
  {
   "cell_type": "code",
   "execution_count": 19,
   "metadata": {
    "collapsed": false
   },
   "outputs": [
    {
     "data": {
      "text/plain": [
       "array([-0.09269403, -0.0533865 , -0.0905947 , -0.0534336 , -0.05941322])"
      ]
     },
     "execution_count": 19,
     "metadata": {},
     "output_type": "execute_result"
    }
   ],
   "source": [
    "from sklearn.model_selection import cross_val_score\n",
    "clf = SVR(kernel='linear', C=1)\n",
    "scores = cross_val_score(clf, X, y, cv=5, scoring='neg_mean_absolute_error')\n",
    "scores                                              "
   ]
  },
  {
   "cell_type": "code",
   "execution_count": 20,
   "metadata": {
    "collapsed": false
   },
   "outputs": [
    {
     "ename": "NotFittedError",
     "evalue": "This SVR instance is not fitted yet. Call 'fit' with appropriate arguments before using this method.",
     "output_type": "error",
     "traceback": [
      "\u001b[0;31m---------------------------------------------------------------------------\u001b[0m",
      "\u001b[0;31mNotFittedError\u001b[0m                            Traceback (most recent call last)",
      "\u001b[0;32m<ipython-input-20-c9de0f0b9d33>\u001b[0m in \u001b[0;36m<module>\u001b[0;34m()\u001b[0m\n\u001b[0;32m----> 1\u001b[0;31m \u001b[0mclf\u001b[0m\u001b[0;34m.\u001b[0m\u001b[0mpredict\u001b[0m\u001b[0;34m(\u001b[0m\u001b[0mZ\u001b[0m\u001b[0;34m)\u001b[0m\u001b[0;34m\u001b[0m\u001b[0m\n\u001b[0m",
      "\u001b[0;32m/usr/local/lib/python2.7/site-packages/sklearn/svm/base.pyc\u001b[0m in \u001b[0;36mpredict\u001b[0;34m(self, X)\u001b[0m\n\u001b[1;32m    308\u001b[0m         \u001b[0my_pred\u001b[0m \u001b[0;34m:\u001b[0m \u001b[0marray\u001b[0m\u001b[0;34m,\u001b[0m \u001b[0mshape\u001b[0m \u001b[0;34m(\u001b[0m\u001b[0mn_samples\u001b[0m\u001b[0;34m,\u001b[0m\u001b[0;34m)\u001b[0m\u001b[0;34m\u001b[0m\u001b[0m\n\u001b[1;32m    309\u001b[0m         \"\"\"\n\u001b[0;32m--> 310\u001b[0;31m         \u001b[0mX\u001b[0m \u001b[0;34m=\u001b[0m \u001b[0mself\u001b[0m\u001b[0;34m.\u001b[0m\u001b[0m_validate_for_predict\u001b[0m\u001b[0;34m(\u001b[0m\u001b[0mX\u001b[0m\u001b[0;34m)\u001b[0m\u001b[0;34m\u001b[0m\u001b[0m\n\u001b[0m\u001b[1;32m    311\u001b[0m         \u001b[0mpredict\u001b[0m \u001b[0;34m=\u001b[0m \u001b[0mself\u001b[0m\u001b[0;34m.\u001b[0m\u001b[0m_sparse_predict\u001b[0m \u001b[0;32mif\u001b[0m \u001b[0mself\u001b[0m\u001b[0;34m.\u001b[0m\u001b[0m_sparse\u001b[0m \u001b[0;32melse\u001b[0m \u001b[0mself\u001b[0m\u001b[0;34m.\u001b[0m\u001b[0m_dense_predict\u001b[0m\u001b[0;34m\u001b[0m\u001b[0m\n\u001b[1;32m    312\u001b[0m         \u001b[0;32mreturn\u001b[0m \u001b[0mpredict\u001b[0m\u001b[0;34m(\u001b[0m\u001b[0mX\u001b[0m\u001b[0;34m)\u001b[0m\u001b[0;34m\u001b[0m\u001b[0m\n",
      "\u001b[0;32m/usr/local/lib/python2.7/site-packages/sklearn/svm/base.pyc\u001b[0m in \u001b[0;36m_validate_for_predict\u001b[0;34m(self, X)\u001b[0m\n\u001b[1;32m    455\u001b[0m \u001b[0;34m\u001b[0m\u001b[0m\n\u001b[1;32m    456\u001b[0m     \u001b[0;32mdef\u001b[0m \u001b[0m_validate_for_predict\u001b[0m\u001b[0;34m(\u001b[0m\u001b[0mself\u001b[0m\u001b[0;34m,\u001b[0m \u001b[0mX\u001b[0m\u001b[0;34m)\u001b[0m\u001b[0;34m:\u001b[0m\u001b[0;34m\u001b[0m\u001b[0m\n\u001b[0;32m--> 457\u001b[0;31m         \u001b[0mcheck_is_fitted\u001b[0m\u001b[0;34m(\u001b[0m\u001b[0mself\u001b[0m\u001b[0;34m,\u001b[0m \u001b[0;34m'support_'\u001b[0m\u001b[0;34m)\u001b[0m\u001b[0;34m\u001b[0m\u001b[0m\n\u001b[0m\u001b[1;32m    458\u001b[0m \u001b[0;34m\u001b[0m\u001b[0m\n\u001b[1;32m    459\u001b[0m         \u001b[0mX\u001b[0m \u001b[0;34m=\u001b[0m \u001b[0mcheck_array\u001b[0m\u001b[0;34m(\u001b[0m\u001b[0mX\u001b[0m\u001b[0;34m,\u001b[0m \u001b[0maccept_sparse\u001b[0m\u001b[0;34m=\u001b[0m\u001b[0;34m'csr'\u001b[0m\u001b[0;34m,\u001b[0m \u001b[0mdtype\u001b[0m\u001b[0;34m=\u001b[0m\u001b[0mnp\u001b[0m\u001b[0;34m.\u001b[0m\u001b[0mfloat64\u001b[0m\u001b[0;34m,\u001b[0m \u001b[0morder\u001b[0m\u001b[0;34m=\u001b[0m\u001b[0;34m\"C\"\u001b[0m\u001b[0;34m)\u001b[0m\u001b[0;34m\u001b[0m\u001b[0m\n",
      "\u001b[0;32m/usr/local/lib/python2.7/site-packages/sklearn/utils/validation.pyc\u001b[0m in \u001b[0;36mcheck_is_fitted\u001b[0;34m(estimator, attributes, msg, all_or_any)\u001b[0m\n\u001b[1;32m    688\u001b[0m     \u001b[0;32mif\u001b[0m \u001b[0;32mnot\u001b[0m \u001b[0mall_or_any\u001b[0m\u001b[0;34m(\u001b[0m\u001b[0;34m[\u001b[0m\u001b[0mhasattr\u001b[0m\u001b[0;34m(\u001b[0m\u001b[0mestimator\u001b[0m\u001b[0;34m,\u001b[0m \u001b[0mattr\u001b[0m\u001b[0;34m)\u001b[0m \u001b[0;32mfor\u001b[0m \u001b[0mattr\u001b[0m \u001b[0;32min\u001b[0m \u001b[0mattributes\u001b[0m\u001b[0;34m]\u001b[0m\u001b[0;34m)\u001b[0m\u001b[0;34m:\u001b[0m\u001b[0;34m\u001b[0m\u001b[0m\n\u001b[1;32m    689\u001b[0m         \u001b[0;31m# FIXME NotFittedError_ --> NotFittedError in 0.19\u001b[0m\u001b[0;34m\u001b[0m\u001b[0;34m\u001b[0m\u001b[0m\n\u001b[0;32m--> 690\u001b[0;31m         \u001b[0;32mraise\u001b[0m \u001b[0m_NotFittedError\u001b[0m\u001b[0;34m(\u001b[0m\u001b[0mmsg\u001b[0m \u001b[0;34m%\u001b[0m \u001b[0;34m{\u001b[0m\u001b[0;34m'name'\u001b[0m\u001b[0;34m:\u001b[0m \u001b[0mtype\u001b[0m\u001b[0;34m(\u001b[0m\u001b[0mestimator\u001b[0m\u001b[0;34m)\u001b[0m\u001b[0;34m.\u001b[0m\u001b[0m__name__\u001b[0m\u001b[0;34m}\u001b[0m\u001b[0;34m)\u001b[0m\u001b[0;34m\u001b[0m\u001b[0m\n\u001b[0m\u001b[1;32m    691\u001b[0m \u001b[0;34m\u001b[0m\u001b[0m\n\u001b[1;32m    692\u001b[0m \u001b[0;34m\u001b[0m\u001b[0m\n",
      "\u001b[0;31mNotFittedError\u001b[0m: This SVR instance is not fitted yet. Call 'fit' with appropriate arguments before using this method."
     ]
    }
   ],
   "source": [
    "clf.predict(Z)\n"
   ]
  },
  {
   "cell_type": "code",
   "execution_count": null,
   "metadata": {
    "collapsed": true
   },
   "outputs": [],
   "source": []
  },
  {
   "cell_type": "code",
   "execution_count": null,
   "metadata": {
    "collapsed": true
   },
   "outputs": [],
   "source": []
  },
  {
   "cell_type": "code",
   "execution_count": null,
   "metadata": {
    "collapsed": true
   },
   "outputs": [],
   "source": []
  },
  {
   "cell_type": "code",
   "execution_count": null,
   "metadata": {
    "collapsed": true
   },
   "outputs": [],
   "source": []
  },
  {
   "cell_type": "code",
   "execution_count": null,
   "metadata": {
    "collapsed": true
   },
   "outputs": [],
   "source": []
  }
 ],
 "metadata": {
  "kernelspec": {
   "display_name": "Python 2",
   "language": "python",
   "name": "python2"
  },
  "language_info": {
   "codemirror_mode": {
    "name": "ipython",
    "version": 2
   },
   "file_extension": ".py",
   "mimetype": "text/x-python",
   "name": "python",
   "nbconvert_exporter": "python",
   "pygments_lexer": "ipython2",
   "version": "2.7.12"
  }
 },
 "nbformat": 4,
 "nbformat_minor": 0
}
